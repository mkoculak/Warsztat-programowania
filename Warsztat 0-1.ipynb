{
 "cells": [
  {
   "cell_type": "markdown",
   "metadata": {
    "collapsed": true
   },
   "source": [
    "# Instalacja oprogramowania"
   ]
  },
  {
   "cell_type": "markdown",
   "metadata": {},
   "source": [
    " "
   ]
  },
  {
   "cell_type": "markdown",
   "metadata": {},
   "source": [
    " "
   ]
  },
  {
   "cell_type": "markdown",
   "metadata": {},
   "source": [
    "## Pakiet Anaconda"
   ]
  },
  {
   "cell_type": "markdown",
   "metadata": {},
   "source": [
    "Pierwszym krokiem będzie zainstalowanie pakietu Anaconda, który jest sprofilowany specjalnie pod naukowców pracujących z Pythonem.<br>\n",
    "Najnowszą wersję pakietu znajdziemy na <a src=\"https://www.continuum.io/downloads\">stronie domowej projektu</a>."
   ]
  },
  {
   "cell_type": "markdown",
   "metadata": {},
   "source": [
    "<img src=\"https://www.continuum.io/sites/all/themes/continuum_foundation/images/logos/logo-anaconda.svg\" style=\"width: 30%; height: auto\" />"
   ]
  },
  {
   "cell_type": "markdown",
   "metadata": {},
   "source": [
    "Na samym początku możemy wybrać, która wersja Pythona będzie naszą podstawową.<br>\n",
    "Poniższy warsztat przygotowany jest w oparciu o **Pythona 2.7** (ponieważ duża ilość bibliotek ciągle dostosowana jest tylko do tej wersji, choć nie jest ona rozwijana), jednak większość kodu powinna działać także w **Pythonie 3.5** (który w niedalekiej przyszłości stanie się jedyną wykorzystywaną wersją). Różnice między Pythonem 2 a 3 nie są dramatyczne a dokładnie opisy można znaleźć np. <a src=\"https://wiki.python.org/moin/Python2orPython3\">tutaj</a> albo <a src=\"http://sebastianraschka.com/Articles/2014_python_2_3_key_diff.html\">tutaj</a>.<br>\n",
    "Ostatecznie jednak to Ty musisz podjąć decyzję."
   ]
  },
  {
   "cell_type": "markdown",
   "metadata": {},
   "source": [
    "Po wyborze odpowiedniego pliku instalacyjnego ściągamy go i instalujemy z zachowaniem domyślnych ustawień.<br>\n",
    "W *Menu Start* powinien Wam się pojawić folder Anaconda2 a w nim kilka ikon, m.in.:\n",
    "- <span>*Anaconda Cloud* - odsyła nas do serwisu umożliwiającego przechowywanie notatników w chmurze</span>\n",
    "- <span>*Anaconda Prompt* - wiersz poleceń wraz ze specjalną nakładką *conda*</span>\n",
    "- <span>*Jupyter Notebook* - program do interaktywnego programowania w Pythonie (ale również innych językach)</span>\n",
    "- <span>*Jupyter QTconsole* - Jupyter w wersji konsolowej (bez środowiska graficznego)</span>\n",
    "- <span>*Spyder* - środowisko do programowania w Pythonie w klasycznym stylu</span>"
   ]
  },
  {
   "cell_type": "markdown",
   "metadata": {},
   "source": [
    "Pierwsze, co zrobimy po instalacji, to upewnimy się, że mamy zainstalowaną najnowszą wersję wszystkich istotnych programów.<br>\n",
    "W tym celu wykorzystamy *condę* - zatem uruchamiany *Anaconda Prompt* i w linii poleceń wpisujemy następujące komendy:"
   ]
  },
  {
   "cell_type": "raw",
   "metadata": {},
   "source": [
    "conda update conda"
   ]
  },
  {
   "cell_type": "markdown",
   "metadata": {},
   "source": [
    "Conda sprawdzi czy jest na serwerze jej nowsza wersja i jeśli tak faktycznie będzie, wypisze ona pakiety niezbędne do ściągnięcia i zapyta nas, czy chcemy je zainstalować. Wybieramy [y] i czekamy na koniec instalacji."
   ]
  },
  {
   "cell_type": "markdown",
   "metadata": {},
   "source": [
    "Następnie możemy przejść do zainstalowania nowszych wydań pozostałych pakietów. W tym celu wpisujemy w konsolę:"
   ]
  },
  {
   "cell_type": "raw",
   "metadata": {},
   "source": [
    "conda update --all"
   ]
  },
  {
   "cell_type": "markdown",
   "metadata": {},
   "source": [
    "Conda znowu sprawdzi dostępność aktualizacji i zapyta o pozwolenie. Jeśli zainstalowaliśmy starszą wersję Anacondy lub od długiego czasu nie aktualizowaliśmy paczek, cały proces może potrwać dłuższą chwilę (wpływa też na to szybkość łącza internetowego). Dlatego pozwólmy Condzie spokojnie wszystko zainstalować."
   ]
  },
  {
   "cell_type": "markdown",
   "metadata": {},
   "source": [
    "Teraz już jesteśmy gotowi, by zacząć pracę z Pythonem!<br>\n",
    "Chyba, że chcemy oprócz wybranej wersji Pythona mieć także tę drugą i/lub inne środowiska programistyczne. W takim przypadku musimy jeszcze trochę popracować poza Jupyterem."
   ]
  },
  {
   "cell_type": "markdown",
   "metadata": {},
   "source": [
    " "
   ]
  },
  {
   "cell_type": "markdown",
   "metadata": {},
   "source": [
    " "
   ]
  },
  {
   "cell_type": "markdown",
   "metadata": {},
   "source": [
    "## Dodawanie drugiego środowiska Pythona"
   ]
  },
  {
   "cell_type": "markdown",
   "metadata": {},
   "source": [
    "Załóżmy, że zainstalowaliśmy jako domyślną wersję 2.7 Pythona. Chcemy jednak mieć pod ręką także Pythona 3, żeby w po opanowaniu podstaw zawsze mieć możliwość przesiadki na nowszą wersję tego języka. Anaconda i Jupyter pozwalają nie tylko na bezproblemową koegzystencję Pythona 2 i 3, ale możliwe byłoby posiadaniu kilku wersji np. Pythona 2, każde z własnymi odrębnymi bibliotekami i paczkami.<br>\n",
    "Takie rozwiązanie nie będzie przydatne podczas tego warsztatu, dlatego tutaj skupimy się tylko na dorzuceniu Pythona 3."
   ]
  },
  {
   "cell_type": "markdown",
   "metadata": {},
   "source": [
    "Ponownie otwieramy *Anaconda Prompt* i wpisujemy poniższe komendy:"
   ]
  },
  {
   "cell_type": "raw",
   "metadata": {},
   "source": [
    "conda create -n py35 python=3.5"
   ]
  },
  {
   "cell_type": "markdown",
   "metadata": {},
   "source": [
    "Powyższe polecenie nakazuje Condzie stworzenie nowego \"środowiska\" o nazwie py35, w którym ma zainstalować Pythona w wersji 3.5 (w chwili tworzenia tego warsztatu to była najnowsza wersja Pythona, jednak na pewno ulegnie to zmianie, wtedy należy wpisać numer najnowszej wersji).<br>\n",
    "Conda wypisze konieczne do ściągnięcia pakiety i zapyta o zgodę. Wciskamy [y] i czekamy na koniec instalacji."
   ]
  },
  {
   "cell_type": "markdown",
   "metadata": {},
   "source": [
    "Natępnie musimy \"wejść\" do nowo utworzonego środowiska, żeby zainstalować niezbędne komponenty. Wykonajmy w konsoli następujące komendy:"
   ]
  },
  {
   "cell_type": "raw",
   "metadata": {},
   "source": [
    "activate py35\n",
    "conda install notebook ipykernel\n",
    "ipython kernel install\n",
    "deactivate py35"
   ]
  },
  {
   "cell_type": "markdown",
   "metadata": {},
   "source": [
    "Powyższe polecenia instalują w Pythonie 3 powłokę do interaktynej pracy (IPythona) oraz tworzą nowy kernel, który pozwoli korzystać z tej wersji Pythona w Jupyterze. Następnie opuszczamy wersję 3 i wracamy do standardowego środowiska Condy (w naszym przypadku Pythona2).<br>\n",
    "Teraz możemy już zamknąć Prompt Anacondy."
   ]
  },
  {
   "cell_type": "code",
   "execution_count": null,
   "metadata": {
    "collapsed": true
   },
   "outputs": [],
   "source": []
  },
  {
   "cell_type": "code",
   "execution_count": null,
   "metadata": {
    "collapsed": true
   },
   "outputs": [],
   "source": []
  },
  {
   "cell_type": "code",
   "execution_count": null,
   "metadata": {
    "collapsed": true
   },
   "outputs": [],
   "source": []
  },
  {
   "cell_type": "code",
   "execution_count": 1,
   "metadata": {
    "collapsed": false
   },
   "outputs": [
    {
     "data": {
      "text/html": [
       "<style>\n",
       "@import url(http://fonts.googleapis.com/css?family=Titillium+Web:400,700,800,400italic&subset=latin-ext,latin);\n",
       "@import url(http://fonts.googleapis.com/css?family=Anonymous+Pro:400,700,800,400italic&subset=latin-ext,latin);\n",
       "\n",
       ".filename {\n",
       "    font-family: Titillium Web;\n",
       "    font-variant: small-caps;\n",
       "    letter-spacing: 0.1em;\n",
       "}\n",
       "\n",
       "b {\n",
       "    color: #cc0000;\n",
       "}\n",
       "\n",
       "em {\n",
       "    color:#0000cc;\n",
       "}\n",
       "\n",
       "ul {\n",
       "\tlist-style-type: square !important;\n",
       "}\n",
       "\n",
       ".rendered_html ul li {\n",
       "\tfont-size: 8px;\n",
       "}\n",
       "\n",
       "li span {\n",
       "\tfont-size: 14px;\n",
       "}\n",
       "\n",
       "/* tekst w markdown */\n",
       ".rendered_html {\n",
       "    font-family: Titillium Web, serif;\n",
       "    }\n",
       "\n",
       ".rendered_html p {\n",
       "    font-size: 16px;\n",
       "    text-align: justify;\n",
       "    text-decoration: none;\n",
       "    }\n",
       "\n",
       ".rendered_html :link {\n",
       "    text-decoration: none;\n",
       "    }\n",
       "\n",
       ".rendered_html :visited {\n",
       "    text-decoration: none;\n",
       "    }\n",
       "    \n",
       "/* tekst w code cell */\n",
       ".code_cell {\n",
       "    font-family: Anonymous Pro, monospace;\n",
       "    font-size: 14px;\n",
       "    }\n",
       "\n",
       "code, pre, .CodeMirror {\n",
       "    font-family: Anonymous Pro, monospace;\n",
       "    font-size: 14px;\n",
       "}\n",
       "\n",
       "</style>"
      ],
      "text/plain": [
       "<IPython.core.display.HTML object>"
      ]
     },
     "execution_count": 1,
     "metadata": {},
     "output_type": "execute_result"
    }
   ],
   "source": [
    "from IPython.core.display import HTML\n",
    "import urllib\n",
    "HTML(urllib.urlopen(\"https://raw.githubusercontent.com/mkoculak/hello_world/nowa/ipython.css\").read())"
   ]
  }
 ],
 "metadata": {
  "kernelspec": {
   "display_name": "Python 2",
   "language": "python",
   "name": "python2"
  },
  "language_info": {
   "codemirror_mode": {
    "name": "ipython",
    "version": 2
   },
   "file_extension": ".py",
   "mimetype": "text/x-python",
   "name": "python",
   "nbconvert_exporter": "python",
   "pygments_lexer": "ipython2",
   "version": "2.7.11"
  }
 },
 "nbformat": 4,
 "nbformat_minor": 0
}

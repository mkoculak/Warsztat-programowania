{
 "cells": [
  {
   "cell_type": "markdown",
   "metadata": {},
   "source": [
    "# Warsztat 3 - flow control i pętle<a id=top></a>"
   ]
  },
  {
   "cell_type": "markdown",
   "metadata": {},
   "source": [
    "<font size=2>Przed pracą z notatnikiem polecam wykonać kod w ostatniej komórce (zawiera html i css), dzięki czemu całość będzie bardziej estetyczna :)</font>"
   ]
  },
  {
   "cell_type": "markdown",
   "metadata": {},
   "source": [
    " "
   ]
  },
  {
   "cell_type": "markdown",
   "metadata": {},
   "source": [
    "<a href='#Warsztat-3---flow-control-i-pętle'>Warsztat 3</a>\n",
    "<ul>\n",
    "<li><a href='#\"Flow-control\"'><span>Flow control</span></a></li>\n",
    "<li><a href='#Pętle'><span>Pętle</span></a></li>\n",
    "<li><a href='#List-comprehensions'><span>List comprehensions</span></a></li>\n",
    "</ul> "
   ]
  },
  {
   "cell_type": "markdown",
   "metadata": {},
   "source": [
    " "
   ]
  },
  {
   "cell_type": "markdown",
   "metadata": {},
   "source": [
    "Jednym z centralnych aspektów programowania jest dostosowywanie wykonywanych przekształceń do różnych i zmieniających się warunków. Dla przykładu, chcielibyśmy wybrać do dalszej analizy tylko próby z określonym bodźcem, zatem program musi wybrać odpowiednie elementy, ignorując pozostałe.<br>\n",
    "Do ustalenia konieczności wykonania kodu wykorzystuje się operatory logiczne, które ustalają czy warunek wymagany w danym momencie jest spełniony (True) i należy kod wykonać, czy niespełniony (False) i kod należy pominąć. Poprawne sformułowanie <b>warunku logicznego</b> pozwoli na precyzyjne zachowanie naszego programu. "
   ]
  },
  {
   "cell_type": "markdown",
   "metadata": {},
   "source": [
    "**Operatory logiczne do porównań:**\n",
    "\n",
    "| Symbol | Znaczenie |\n",
    "|:-:|:-:|\n",
    "| == | True, jeśli są równe |\n",
    "| != | True, jeśli nie są równe |\n",
    "| < | True, jeśli mniejsze niż |\n",
    "| > | True, jeśli większe niż |\n",
    "| <= | True, jeśli mniejsze niż bądź równe |\n",
    "| >= | True, jeśli większe niż bądź równe |\n",
    "| <> | True, jeśli mniejsze lub większe niż |"
   ]
  },
  {
   "cell_type": "markdown",
   "metadata": {},
   "source": [
    " "
   ]
  },
  {
   "cell_type": "markdown",
   "metadata": {},
   "source": [
    " "
   ]
  },
  {
   "cell_type": "markdown",
   "metadata": {},
   "source": [
    "## \"Flow control\""
   ]
  },
  {
   "cell_type": "markdown",
   "metadata": {},
   "source": [
    "\"Kontrola przepływu\" dotyczy ustawiania warunków koniecznych do tego, żeby dana partia kodu została wykonana.<br><br>\n",
    "Najbardziej podstawowym kontrolerem jest <b>if</b>, który wykonuje kod w przypadku, gdy warunek logiczny jest spełniony.<br>\n",
    "\n",
    "```python\n",
    "if warunek logiczny:\n",
    "    kod do warunkowego wykonania```\n",
    "    \n",
    "Niezbędnym elementem if'a jest umieszczanie kodu do wykonania <b>we wcięciu</b>, ponieważ to ono wskazuje interpreterowi pythona, który kod znajduje się wewnątrz if'a, a który na zewnątrz.<br>\n",
    "To samo będzie dotyczyć pozostałych kontrolerów: elif, else, for, while etc. Jupyter automatycznie wykona wcięcie, jeśli składnia if'a będzie poprawna (czyli pojawi się nazwa 'if' oraz dwukropek na końcu linijki - on też jest konieczny do działania całości)."
   ]
  },
  {
   "cell_type": "code",
   "execution_count": null,
   "metadata": {
    "collapsed": false
   },
   "outputs": [],
   "source": [
    "x=0\n",
    "\n",
    "if x>5:\n",
    "    print \"Hello world\""
   ]
  },
  {
   "cell_type": "markdown",
   "metadata": {},
   "source": [
    "Jeśli chcemy, żeby w przypadku niespełnienia warunku logicznego został wykonany jakiś inny kod, używamy dodatkowego kontrolera <b>else</b>.<br>\n",
    "\n",
    "```python\n",
    "if warunek logiczny:\n",
    "    kod do warunkowego wykonania\n",
    "else:\n",
    "    alternatywny kod do wykonania```"
   ]
  },
  {
   "cell_type": "code",
   "execution_count": null,
   "metadata": {
    "collapsed": false
   },
   "outputs": [],
   "source": [
    "x='10'\n",
    "\n",
    "if x==10:\n",
    "    print \"Hello world\"\n",
    "else:\n",
    "    print \"Goodbye Lenin\""
   ]
  },
  {
   "cell_type": "markdown",
   "metadata": {},
   "source": [
    "Możliwe, że będziemy chcieli zaprogramować więcej niż dwie czynności w zależności od np. wartości zmiennej. Wtedy zamiast tworzyć kilka osobnych instancji if, można dodawać kolejne warunki logiczne za pomocą kontrolera <b>elif</b>.<br>\n",
    "\n",
    "```python\n",
    "if warunek logiczny:\n",
    "    kod do warunkowego wykonania\n",
    "elif warunek logiczny:\n",
    "    kod do warunkowego wykonania\n",
    "else:\n",
    "    alternatywny kod do wykonania```"
   ]
  },
  {
   "cell_type": "code",
   "execution_count": null,
   "metadata": {
    "collapsed": false
   },
   "outputs": [],
   "source": [
    "x=0\n",
    "\n",
    "if x>10:\n",
    "    print \"Liczba większa od 10!\"\n",
    "elif x<10:\n",
    "    print \"Liczba mniejsza od 10!\"\n",
    "else:\n",
    "    print \"To musi być 10!\""
   ]
  },
  {
   "cell_type": "markdown",
   "metadata": {},
   "source": [
    "Chcąc wykonać kilka testów logicznych, możliwe jest zagnieżdżenie jednego kontrolera if w innym, dzięki czemu rozbudowywana będzie skala możliwości kontrolowania wykonania skryptu."
   ]
  },
  {
   "cell_type": "code",
   "execution_count": null,
   "metadata": {
    "collapsed": false
   },
   "outputs": [],
   "source": [
    "x=-10\n",
    "\n",
    "if x>0:\n",
    "    print \"Liczba większa od 0!\"\n",
    "    \n",
    "    if x<32:\n",
    "        print \"To może być dzień miesiąca!\"\n",
    "    else:\n",
    "        print \"To nie może być dzień miesiąca!\"\n",
    "\n",
    "else:\n",
    "    print \"To nie może być element daty!\""
   ]
  },
  {
   "cell_type": "markdown",
   "metadata": {},
   "source": [
    "Jeśli chcemy kontrolować przebieg programu na podstawie wielu warunków, możemy je łączyć za pomocą operatorów logicznych (ang. biwise operators).<br><br>\n",
    "\n",
    "| Symbol | Znaczenie |\n",
    "|:-:|:-:|\n",
    "| &  | Logiczny And |\n",
    "| l  | Logiczny OR |\n",
    "| ^  | XOR |\n",
    "| ~  | Negacja |\n",
    "| >>  | Przesunięcie w prawo |\n",
    "| <<  | Przesunięcie w lewo |"
   ]
  },
  {
   "cell_type": "code",
   "execution_count": null,
   "metadata": {
    "collapsed": false
   },
   "outputs": [],
   "source": [
    "x=10\n",
    "y=False\n",
    "z=\"nie\"\n",
    "\n",
    "if (x==10) & y:\n",
    "    print \"Hello world\"\n",
    "else:\n",
    "    print \"Goodbye Lenin\"\n",
    "    \n",
    "if y | (z=='tak'):\n",
    "    print \"coś mi mówi, że tak\"\n",
    "elif z=='nie':\n",
    "    print \"a nie, jednak nie\""
   ]
  },
  {
   "cell_type": "markdown",
   "metadata": {},
   "source": [
    "Zwróćmy uwagę, że wykonywane porównania logiczne zamknięte są w nawiasy. Wynika to z faktu, że operatory logiczne wymagają dwóch elementów (po jednym z lewej i prawej strony), dlatego gdybyśmy pozbyli się nawiasów:\n",
    "```python \n",
    "if x==10 & y:\n",
    "    kod do wykonania```\n",
    "operator wziąłby pod uwagę jedynie 10 oraz y, co nie byłoby zgodne z naszymi zamiarami. Dlatego w sytuacji, kiedy if nie wykonuje oczekiwanych przekształceń, warto sprawdzić czy przypadkiem nie wynika to ze złego sformatowania warunku logicznego."
   ]
  },
  {
   "cell_type": "markdown",
   "metadata": {},
   "source": [
    "<a href='#top' style='float: right; font-size: 13px;'>Do początku</a>   "
   ]
  },
  {
   "cell_type": "markdown",
   "metadata": {},
   "source": [
    " "
   ]
  },
  {
   "cell_type": "markdown",
   "metadata": {},
   "source": [
    "### Ćwiczenia z flow control"
   ]
  },
  {
   "cell_type": "markdown",
   "metadata": {},
   "source": [
    "Stworzymy uproszczoną wersję gry papier - nożyce - kamień.<br>\n",
    "Stwórz listę zawierającą wszystkie dostępne \"figury\" - rock, scissors i paper.<br>\n",
    "W zmiennej 'ja' będzie przechowywany wybór Twojej figury, zmienna 'komputer' będzie przechowywać wybór Twojego przeciwnika<br> (wykorzystaj zaimportowaną funkcję <b>randint</b>, która generuje losową liczbę całkowitą z podanego zakresu).<br>\n",
    "Stwórz szkielet programu tak, żeby porównywał obie wybrane figury i podawał wynik w postaci:<br>\n",
    "\"Wybrałeś: /twoja figura/, komputer wybrał: /figura komputera/. Wygrywa /gracz lub komputer/.<br>\n",
    "Uwzględnij sytuację remisu i odpowiednio zmodyfikuj drugie zdanie wypisywane na konsoli."
   ]
  },
  {
   "cell_type": "code",
   "execution_count": null,
   "metadata": {
    "collapsed": false
   },
   "outputs": [],
   "source": [
    "from random import randint\n",
    "randint(0,2)"
   ]
  },
  {
   "cell_type": "markdown",
   "metadata": {},
   "source": [
    "Wylosuj dwie liczby z przedziału od 1 do 40.<br>\n",
    "Jeśli obie są podzielne przez 2, dodaj je do siebie. Jeśli conajmniej jedna jest przez 3, pomnóż przez siebie i wynik podziel przez 3.<br>\n",
    "Jeśli jest inaczej, odejmij większą z nich od mniejszej.<br>\n",
    "W każdym wypadku wypisz wynik na konsoli."
   ]
  },
  {
   "cell_type": "code",
   "execution_count": null,
   "metadata": {
    "collapsed": true
   },
   "outputs": [],
   "source": []
  },
  {
   "cell_type": "markdown",
   "metadata": {},
   "source": [
    " "
   ]
  },
  {
   "cell_type": "markdown",
   "metadata": {},
   "source": [
    " "
   ]
  },
  {
   "cell_type": "markdown",
   "metadata": {},
   "source": [
    " "
   ]
  },
  {
   "cell_type": "markdown",
   "metadata": {},
   "source": [
    "## Pętle"
   ]
  },
  {
   "cell_type": "markdown",
   "metadata": {},
   "source": [
    "### For"
   ]
  },
  {
   "cell_type": "markdown",
   "metadata": {},
   "source": [
    "Pętle pozwalają na wielokrotne wykonanie danego fragmentu kodu.<br>\n",
    "Podstawową konstrukcją w pythonie jest pętla <b>for</b>, która posiada poniższą składnię:\n",
    "```python\n",
    "for zmienna in zestaw do iteracji:\n",
    "    kod do wielokrotnego wykonania```"
   ]
  },
  {
   "cell_type": "code",
   "execution_count": null,
   "metadata": {
    "collapsed": false
   },
   "outputs": [],
   "source": [
    "for zmienna in range(5):\n",
    "    print zmienna"
   ]
  },
  {
   "cell_type": "markdown",
   "metadata": {},
   "source": [
    "Jak możemy zauważyć, for wykorzystuje do działania listę: bierze pierwszy element, przypisuje go do zmiennej, wykonuje kod zawarty wewnątrz pętli, przypisuje do zmiennej kolejny element listy, wykonuje kod, itd.<br>\n",
    "Dzięki temu, do wykorzystywanej zmiennej może być przypisany dowolny element, który umieścimy w liście (pamiętajmy, że stringi to też listy)."
   ]
  },
  {
   "cell_type": "code",
   "execution_count": null,
   "metadata": {
    "collapsed": false
   },
   "outputs": [],
   "source": [
    "for zmienna in [True, 1, 'dwa', ['trzy',3]]:\n",
    "    print zmienna, '\\t', type(zmienna)"
   ]
  },
  {
   "cell_type": "code",
   "execution_count": null,
   "metadata": {
    "collapsed": false
   },
   "outputs": [],
   "source": [
    "for zmienna in 'lista':\n",
    "    print zmienna.upper() #.upper() to metoda służąca do kapitalizowania stringów, więcej o metodach można znaleźć trochę niżej"
   ]
  },
  {
   "cell_type": "markdown",
   "metadata": {},
   "source": [
    "Możemy zagnieżdżać pętle, dzięki czemu więcej wygenerowane zostaną wszystkie kobinacje zmiennych, po których dokonuje się iteracja."
   ]
  },
  {
   "cell_type": "code",
   "execution_count": null,
   "metadata": {
    "collapsed": false
   },
   "outputs": [],
   "source": [
    "for zmienna1 in range(3):\n",
    "    for zmienna2 in range(3,6):\n",
    "        print \"Oto zmienna1: %i oraz zmienna2: %i\" % (zmienna1, zmienna2)"
   ]
  },
  {
   "cell_type": "markdown",
   "metadata": {},
   "source": [
    "Pętle to bardzo potężne konstrukcje, jednak zwykle są bardzo zasobożerne, szczególnie kiedy dochodzi do ich zagnieżdżenia. Dlatego zaleca się używanie innych konstrukcji, których realizacja prawie zawsze będzie szybsza i nie będzie wymagała tyle pamięci operacyjnej."
   ]
  },
  {
   "cell_type": "markdown",
   "metadata": {},
   "source": [
    "<a href='#top' style='float: right; font-size: 13px;'>Do początku</a>   "
   ]
  },
  {
   "cell_type": "markdown",
   "metadata": {},
   "source": [
    " "
   ]
  },
  {
   "cell_type": "markdown",
   "metadata": {},
   "source": [
    "### While"
   ]
  },
  {
   "cell_type": "markdown",
   "metadata": {},
   "source": [
    "Drugim operatorem tworzącym pętle jest <b>while</b>, który wykonuje wskazany fragment kodu tak długo, jak wybrany warunek logiczny będzie prawdziwy:\n",
    "```python\n",
    "while warunek logiczny:\n",
    "    kod do wykonania```"
   ]
  },
  {
   "cell_type": "code",
   "execution_count": null,
   "metadata": {
    "collapsed": false
   },
   "outputs": [],
   "source": [
    "zmienna = 1\n",
    "while zmienna < 10:\n",
    "    zmienna+=1\n",
    "    print zmienna,\n",
    "print \"koniec\""
   ]
  },
  {
   "cell_type": "markdown",
   "metadata": {},
   "source": [
    " "
   ]
  },
  {
   "cell_type": "markdown",
   "metadata": {},
   "source": [
    " "
   ]
  },
  {
   "cell_type": "markdown",
   "metadata": {},
   "source": [
    "### Break"
   ]
  },
  {
   "cell_type": "markdown",
   "metadata": {},
   "source": [
    "Jak sama nazwa wskazuje, jest to polecenie służące do <b>przerwania</b> wykonywania danej pętli. Możemy go użyć, kiedy dany warunek osiągnie określoną wartość."
   ]
  },
  {
   "cell_type": "code",
   "execution_count": null,
   "metadata": {
    "collapsed": false
   },
   "outputs": [],
   "source": [
    "for zmienna in range(20):\n",
    "    print zmienna,\n",
    "    if zmienna==20:\n",
    "        print \"Wystarczy!\"\n",
    "        break"
   ]
  },
  {
   "cell_type": "markdown",
   "metadata": {},
   "source": [
    "### Continue"
   ]
  },
  {
   "cell_type": "markdown",
   "metadata": {},
   "source": [
    "Polecenie to nie przerywa pętli, ale skłania interpreter pythona do <b>zignorowania</b> wszystkiego, co znajduje się dalej w danej iteracji pętli."
   ]
  },
  {
   "cell_type": "code",
   "execution_count": null,
   "metadata": {
    "collapsed": false
   },
   "outputs": [],
   "source": [
    "for zmienna in range(10):\n",
    "    if zmienna==7:\n",
    "        print \"Wystarczy!\",\n",
    "        continue\n",
    "    print zmienna,"
   ]
  },
  {
   "cell_type": "markdown",
   "metadata": {},
   "source": [
    "<a href='#top' style='float: right; font-size: 13px;'>Do początku</a>   "
   ]
  },
  {
   "cell_type": "markdown",
   "metadata": {},
   "source": [
    " "
   ]
  },
  {
   "cell_type": "markdown",
   "metadata": {},
   "source": [
    "## List comprehensions"
   ]
  },
  {
   "cell_type": "markdown",
   "metadata": {},
   "source": [
    "\"Wyrażenia listowe\" to wygodny sposób na tworzenie list poprzez wykorzystanie pętli.<br>\n",
    "Żeby utworzyćw ten sposób listę, można posłużyć się następującą składnią:\n",
    "```python\n",
    "[ operacja na zmiennej for zmienna in zestaw do iteracji ]```\n",
    "Zobaczmy zatem, jak może wyglądać przykładowe wyrażenie:"
   ]
  },
  {
   "cell_type": "code",
   "execution_count": null,
   "metadata": {
    "collapsed": true
   },
   "outputs": [],
   "source": [
    "for zmienna in range(10):\n",
    "    zmienna*2"
   ]
  },
  {
   "cell_type": "code",
   "execution_count": null,
   "metadata": {
    "collapsed": false
   },
   "outputs": [],
   "source": [
    "[zmienna*2 for zmienna in range(10)]"
   ]
  },
  {
   "cell_type": "markdown",
   "metadata": {},
   "source": [
    "Powyższe wyrażenie genruje listę 10 pierwszych dodatnich liczb parzystych.<br>\n",
    "Nie musimy jednak ograniczać się tylko do jednej pętli for, w wyrażeniach możemy użyć zagnieżdżonych pętli oraz operatorów kontrolujących przebieg programu."
   ]
  },
  {
   "cell_type": "code",
   "execution_count": null,
   "metadata": {
    "collapsed": false
   },
   "outputs": [],
   "source": [
    "[zmienna*2 for zmienna in range(10) if zmienna%3==0]"
   ]
  },
  {
   "cell_type": "markdown",
   "metadata": {},
   "source": [
    "Znaczącą różnicą pomiędzy wyrażeniami a normalnymi konstrukcjami uwzględniającymi for czy if jest uproszczona składnia np. brak dwukropka. Dzięki temu łatwiej jest zmieścić wszystko w jednej linii, ale ogranicza to też różnorodność danych na wyjściu."
   ]
  },
  {
   "cell_type": "code",
   "execution_count": null,
   "metadata": {
    "collapsed": false
   },
   "outputs": [],
   "source": [
    "%%time\n",
    "for i in range(1,101):\n",
    "    nie_pierwsze=[]\n",
    "    for liczba in range(2,51):\n",
    "        for druga in range(2,51):\n",
    "            if liczba*druga<101:\n",
    "                nie_pierwsze.append(liczba*druga)\n",
    "            else:\n",
    "                break\n",
    "\n",
    "    pierwsze=[]\n",
    "    for pierwsza in range(1,101):\n",
    "        if pierwsza not in nie_pierwsze:\n",
    "            pierwsze.append(pierwsza)\n",
    "\n",
    "print pierwsze"
   ]
  },
  {
   "cell_type": "code",
   "execution_count": null,
   "metadata": {
    "collapsed": false
   },
   "outputs": [],
   "source": [
    "%%time\n",
    "\n",
    "for i in range(1,101):\n",
    "    nie_pierwsze = [liczba*druga for liczba in range(2,51) for druga in range(2,51)]\n",
    "    pierwsze=[]\n",
    "    for pierwsza in range(1,101):\n",
    "        if pierwsza not in nie_pierwsze:\n",
    "            pierwsze.append(pierwsza)\n",
    "\n",
    "print pierwsze"
   ]
  },
  {
   "cell_type": "code",
   "execution_count": null,
   "metadata": {
    "collapsed": false
   },
   "outputs": [],
   "source": [
    "%%time\n",
    "for i in range(1,101):\n",
    "    pierwsze = [pierwsza for pierwsza in range(1,101) if pierwsza not in [liczba*druga for liczba in range(2,51) for druga in range(2,51) if liczba*druga<101]]\n",
    "print pierwsze"
   ]
  },
  {
   "cell_type": "markdown",
   "metadata": {},
   "source": [
    "Jak możemy zobaczyć powyżej, przesadne nagromadzenie pętli i warunków w jednym wyrażeniu sprawia, że staje się ono mocno nieczytelne. Cierpi również wydajność ponieważ mamy 3 pętle for zagnieżdżone w sobie, przez co cały kod wykonuje się prawie 100 razy wolniej niż jego bardziej rozbudowana wersja."
   ]
  },
  {
   "cell_type": "markdown",
   "metadata": {},
   "source": [
    "<a href='#top' style='float: right; font-size: 13px;'>Do początku</a>   "
   ]
  },
  {
   "cell_type": "markdown",
   "metadata": {},
   "source": [
    " "
   ]
  },
  {
   "cell_type": "markdown",
   "metadata": {},
   "source": [
    " "
   ]
  },
  {
   "cell_type": "markdown",
   "metadata": {},
   "source": [
    "### Ćwiczenia z pętli"
   ]
  },
  {
   "cell_type": "markdown",
   "metadata": {},
   "source": [
    "Za pomocą pętli wypisz na konsoli kolejne potęgi liczb od 1 do 10.<br>\n",
    "Spróbuj użyć zarówno for, while jak i list comprehension."
   ]
  },
  {
   "cell_type": "code",
   "execution_count": null,
   "metadata": {
    "collapsed": true
   },
   "outputs": [],
   "source": []
  },
  {
   "cell_type": "markdown",
   "metadata": {},
   "source": [
    "Następnie wypisz kolejne trzecie potęgi ($x^3$) dla liczb od 1 do 20, ale tylko tych, które są parzyste.<br>\n",
    "Spróbuj użyć zarówno for, while jak i list comprehension."
   ]
  },
  {
   "cell_type": "code",
   "execution_count": null,
   "metadata": {
    "collapsed": true
   },
   "outputs": [],
   "source": []
  },
  {
   "cell_type": "markdown",
   "metadata": {},
   "source": [
    "W zmiennej imiona zapisz 10 imion męskich i żeńskich.<br>\n",
    "Wypisz w kolejności alfabetycznej komunikat analogiczny do przykładowego \"Stefan to imię męskie, składa się z 7 liter.\"<br>\n",
    "Podpowiedź: metoda .endswith( x ) zwraca True, jeśli dany string kończy się na x."
   ]
  },
  {
   "cell_type": "code",
   "execution_count": 6,
   "metadata": {
    "collapsed": false
   },
   "outputs": [],
   "source": [
    "imiona = ['Stefan', 'Eugenia', 'Marta', 'Zbigniew', 'Mirosław', \"Józef\", \n",
    "          \"Aniela\", \"Eustachy\", \"Tomasz\", \"Julia\"]"
   ]
  },
  {
   "cell_type": "markdown",
   "metadata": {},
   "source": [
    " "
   ]
  },
  {
   "cell_type": "markdown",
   "metadata": {},
   "source": [
    " "
   ]
  },
  {
   "cell_type": "markdown",
   "metadata": {},
   "source": [
    " "
   ]
  },
  {
   "cell_type": "code",
   "execution_count": 1,
   "metadata": {
    "collapsed": false
   },
   "outputs": [
    {
     "data": {
      "text/html": [
       "<style>\n",
       "@import url(http://fonts.googleapis.com/css?family=Titillium+Web:400,700,800,400italic&subset=latin-ext,latin);\n",
       "@import url(http://fonts.googleapis.com/css?family=Anonymous+Pro:400,700,800,400italic&subset=latin-ext,latin);\n",
       "\n",
       ".filename {\n",
       "    font-family: Titillium Web;\n",
       "    font-variant: small-caps;\n",
       "    letter-spacing: 0.1em;\n",
       "}\n",
       "\n",
       "b {\n",
       "    color: #cc0000;\n",
       "}\n",
       "\n",
       "em {\n",
       "    color:#0000cc;\n",
       "}\n",
       "\n",
       "/* tekst w markdown */\n",
       ".rendered_html {\n",
       "    font-family: Titillium Web, serif;\n",
       "    }\n",
       "\n",
       ".rendered_html p {\n",
       "    font-size: 16px;\n",
       "    text-align: justify;\n",
       "    text-decoration: none;\n",
       "    }\n",
       "\n",
       ".rendered_html :link {\n",
       "    text-decoration: none;\n",
       "    }\n",
       "\n",
       ".rendered_html :visited {\n",
       "    text-decoration: none;\n",
       "    }\n",
       "    \n",
       "/* tekst w code cell */\n",
       ".code_cell {\n",
       "    font-family: Anonymous Pro, monospace;\n",
       "    font-size: 14px;\n",
       "    }\n",
       "\n",
       "code, pre, .CodeMirror {\n",
       "    font-family: Anonymous Pro, monospace;\n",
       "    font-size: 14px;\n",
       "}\n",
       "\n",
       "</style>"
      ],
      "text/plain": [
       "<IPython.core.display.HTML object>"
      ]
     },
     "execution_count": 1,
     "metadata": {},
     "output_type": "execute_result"
    }
   ],
   "source": [
    "from IPython.core.display import HTML\n",
    "import urllib\n",
    "HTML(urllib.urlopen(\"https://raw.githubusercontent.com/mkoculak/hello_world/nowa/ipython.css\").read())"
   ]
  }
 ],
 "metadata": {
  "kernelspec": {
   "display_name": "Python 2",
   "language": "python",
   "name": "python2"
  },
  "language_info": {
   "codemirror_mode": {
    "name": "ipython",
    "version": 2
   },
   "file_extension": ".py",
   "mimetype": "text/x-python",
   "name": "python",
   "nbconvert_exporter": "python",
   "pygments_lexer": "ipython2",
   "version": "2.7.10"
  }
 },
 "nbformat": 4,
 "nbformat_minor": 0
}

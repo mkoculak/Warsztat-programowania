{
 "cells": [
  {
   "cell_type": "markdown",
   "metadata": {},
   "source": [
    "# Warsztat 8 - NumPy - operacje na tablicach <a id=top></a>"
   ]
  },
  {
   "cell_type": "markdown",
   "metadata": {},
   "source": [
    "<font size=2>Przed pracą z notatnikiem polecam wykonać kod w ostatniej komórce (zawiera html i css), dzięki czemu całość będzie bardziej estetyczna :)</font>"
   ]
  },
  {
   "cell_type": "markdown",
   "metadata": {},
   "source": [
    " "
   ]
  },
  {
   "cell_type": "markdown",
   "metadata": {},
   "source": [
    "<a href='#Warsztat-8---operacje-na-tablicach'>Warsztat 8</a>\n",
    "<ul>\n",
    "<li><a href='#Podstawowe-operacje'><span>Podstawowe operacje</span></a></li>\n",
    "<li><a href='#Redukowanie-tablic'><span>Redukowanie tablic</span></a></li>\n",
    "<li><a href='#\"Transmisja\"'><span>\"Transmisja\"</span></a></li>\n",
    "<li><a href='#Polecane-źródła:'><span>Polecane źródła</span></a></li>\n",
    "<li><a href='#Praca-z-plikami-tekstowymi'><span>Praca z plikami tekstowymi</span></a></li>\n",
    "</ul> "
   ]
  },
  {
   "cell_type": "markdown",
   "metadata": {},
   "source": [
    "Wszystko, o czym będziemy mówić na dzisiejszym warsztacie, pojawia się w tym filmiku i do tego w bardziej skondensowanej formie.<br> Warto zajrzeć w formie przypomnienia treści lub zapoznawania się z nimi samemu w domu."
   ]
  },
  {
   "cell_type": "code",
   "execution_count": null,
   "metadata": {
    "collapsed": false
   },
   "outputs": [],
   "source": [
    "from IPython.display import YouTubeVideo\n",
    "YouTubeVideo(\"EEUXKG97YRw\",width=800, height=400, )"
   ]
  },
  {
   "cell_type": "markdown",
   "metadata": {},
   "source": [
    " "
   ]
  },
  {
   "cell_type": "markdown",
   "metadata": {},
   "source": [
    "## Przekształcenia"
   ]
  },
  {
   "cell_type": "markdown",
   "metadata": {},
   "source": [
    "#### Podstawowe operacje"
   ]
  },
  {
   "cell_type": "markdown",
   "metadata": {},
   "source": [
    "Tablice są obiektami, na których można wykonywać operacje arytmetyczne - zarówno te podstawowe, znajdujące się w rdzeniu Pythona, jak i te bardziej zaawansowane z modułu NumPy i innych. Podstawową cechą tych operacji jest wykonywanie ich <b>według elementów (ang. element-wise)</b>, co oznacza, że dane działanie zostanie zaaplikowane do każdego elementu tablicy."
   ]
  },
  {
   "cell_type": "code",
   "execution_count": null,
   "metadata": {
    "collapsed": true
   },
   "outputs": [],
   "source": [
    "# -*- coding: utf-8 -*-\n",
    "import numpy as np\n",
    "from matplotlib import pyplot as plt\n",
    "%matplotlib inline"
   ]
  },
  {
   "cell_type": "code",
   "execution_count": null,
   "metadata": {
    "collapsed": false
   },
   "outputs": [],
   "source": [
    "tablica = np.arange(1,17)\n",
    "tablica = tablica.reshape(4,4)\n",
    "tablica"
   ]
  },
  {
   "cell_type": "code",
   "execution_count": null,
   "metadata": {
    "collapsed": false
   },
   "outputs": [],
   "source": [
    "tablica+2"
   ]
  },
  {
   "cell_type": "code",
   "execution_count": null,
   "metadata": {
    "collapsed": false
   },
   "outputs": [],
   "source": [
    "tablica*3"
   ]
  },
  {
   "cell_type": "code",
   "execution_count": null,
   "metadata": {
    "collapsed": false
   },
   "outputs": [],
   "source": [
    "(tablica**2)//5"
   ]
  },
  {
   "cell_type": "markdown",
   "metadata": {},
   "source": [
    "Działania według elementu oznaczają, że wykorzystanie obiektów o większej ilości części (np. listy) zostaną zaaplikowane do swoich odpowiedników w tablicy. Wymaga to jednak zgodności wymiarów (o czym szerzej powiemy sobie później)."
   ]
  },
  {
   "cell_type": "code",
   "execution_count": null,
   "metadata": {
    "collapsed": false
   },
   "outputs": [],
   "source": [
    "tablica * [1,2,3,4]"
   ]
  },
  {
   "cell_type": "code",
   "execution_count": null,
   "metadata": {
    "collapsed": false
   },
   "outputs": [],
   "source": [
    "tablica / tablica"
   ]
  },
  {
   "cell_type": "markdown",
   "metadata": {},
   "source": [
    "#### Porównania"
   ]
  },
  {
   "cell_type": "markdown",
   "metadata": {},
   "source": [
    "Tablice mogą być również przedmiotem porównań (ciągle w duchu operacji element-wise)."
   ]
  },
  {
   "cell_type": "code",
   "execution_count": null,
   "metadata": {
    "collapsed": false
   },
   "outputs": [],
   "source": [
    "taba = np.array([1,2,3,4])\n",
    "tabb = np.array([1,3,3,2])\n",
    "taba == tabb"
   ]
  },
  {
   "cell_type": "code",
   "execution_count": null,
   "metadata": {
    "collapsed": false
   },
   "outputs": [],
   "source": [
    "taba >= tabb"
   ]
  },
  {
   "cell_type": "markdown",
   "metadata": {},
   "source": [
    "#### Operacje logiczne"
   ]
  },
  {
   "cell_type": "markdown",
   "metadata": {},
   "source": [
    "Można na nich wykonywać operacje logiczne, o ile przechowują zmienne typu boolowskiego."
   ]
  },
  {
   "cell_type": "code",
   "execution_count": null,
   "metadata": {
    "collapsed": false
   },
   "outputs": [],
   "source": [
    "x = (taba==tabb)\n",
    "y = (taba>=tabb)\n",
    "print np.logical_or(x,y)\n",
    "print np.logical_and(x,y)"
   ]
  },
  {
   "cell_type": "markdown",
   "metadata": {},
   "source": [
    "#### Funkcje matematyczne"
   ]
  },
  {
   "cell_type": "markdown",
   "metadata": {},
   "source": [
    "Możemy wykorzystać również szereg bardziej zaawansowanych funkcji, takich jak funkcje trygonometryczne."
   ]
  },
  {
   "cell_type": "code",
   "execution_count": null,
   "metadata": {
    "collapsed": false,
    "scrolled": true
   },
   "outputs": [],
   "source": [
    "np.sin(taba)"
   ]
  },
  {
   "cell_type": "markdown",
   "metadata": {},
   "source": [
    "Pozwala to w bardzo prosty sposób tworzyć wizualizacje wykonywanych przekształceń. Możemy np. umieścić na jednym wykresie funkcje trygonometryczne sinus i cosinus, tak jak na wykresie poniżej."
   ]
  },
  {
   "cell_type": "code",
   "execution_count": null,
   "metadata": {
    "collapsed": false,
    "scrolled": true
   },
   "outputs": [],
   "source": [
    "import matplotlib.pyplot as plt\n",
    "%matplotlib inline\n",
    "okres = np.linspace(0,np.pi*5,1000)\n",
    "plt.plot(okres,np.sin(okres))\n",
    "plt.plot(okres,np.cos(okres))"
   ]
  },
  {
   "cell_type": "markdown",
   "metadata": {},
   "source": [
    "#### Konflikt niedopasowania"
   ]
  },
  {
   "cell_type": "markdown",
   "metadata": {},
   "source": [
    "Operacje wykorzystujące zasadę element-wise mają jedno powazne ograniczenie - wszystkie sładniki przekształceń muszą mieć odpowiadającą sobie liczbę elementów. Inaczej możemy natknąć się na błąd **'transmisji'**."
   ]
  },
  {
   "cell_type": "code",
   "execution_count": null,
   "metadata": {
    "collapsed": false
   },
   "outputs": [],
   "source": [
    "a = np.arange(10)\n",
    "a + np.array([1, 2, 3, 4])"
   ]
  },
  {
   "cell_type": "markdown",
   "metadata": {},
   "source": [
    "#### Operacje array-wise"
   ]
  },
  {
   "cell_type": "markdown",
   "metadata": {},
   "source": [
    "Oczywiście możliwe są przekształcenia, które będą uwzględniać tablicę jako całość a nie działać na poszczególne elementy. Dla przykładu, możliwe jest porównywanie całych tablic zamiast elementów o poszczególnych indeksach. Sporo funkcji posiada obie realizacje, warto wtedy skorzystać z dokumentacji NumPy'a, żeby znaleźć interesującą nas operację."
   ]
  },
  {
   "cell_type": "code",
   "execution_count": null,
   "metadata": {
    "collapsed": false
   },
   "outputs": [],
   "source": [
    "taba = np.array([1,2,3,4])\n",
    "tabb = np.array([1,3,3,2])\n",
    "np.array_equal(taba, tabb)"
   ]
  },
  {
   "cell_type": "markdown",
   "metadata": {},
   "source": [
    "<a href='#top' style='float: right; font-size: 13px;'>Do początku</a>    "
   ]
  },
  {
   "cell_type": "markdown",
   "metadata": {},
   "source": [
    " "
   ]
  },
  {
   "cell_type": "markdown",
   "metadata": {},
   "source": [
    "## Redukowanie tablic"
   ]
  },
  {
   "cell_type": "markdown",
   "metadata": {},
   "source": [
    "Przez redukowanie będziemy rozumieć operacje, które będą działać na elementach według jednego wymiaru i sprowadzać je do pojedynczego elementu (przez co liczba wymiarów tablicy zostanie **zredukowana**).<br>\n",
    "Przykładem takiej operacji jest suma, która zamienia nam ciąg liczb na jedną."
   ]
  },
  {
   "cell_type": "code",
   "execution_count": null,
   "metadata": {
    "collapsed": false
   },
   "outputs": [],
   "source": [
    "tablica = np.arange(16)\n",
    "np.sum(tablica)"
   ]
  },
  {
   "cell_type": "markdown",
   "metadata": {},
   "source": [
    "Rezultatem działania funkcji <b>sum( )</b> jest suma wszystkich elementów tablicy. Niezależnie od jej kształtu, domyślne ustawienie funkcji każe jej zwrócić pojedynczą wartość. Jeśli chcielibyśmy wyłącznie zsumować elementy znajdujące się w tym samym rzędzie, musimy wprowadzić dodatkowy parametr <b>axis = </b>, w którym wskażemy, który wymiar nas interesuje."
   ]
  },
  {
   "cell_type": "code",
   "execution_count": null,
   "metadata": {
    "collapsed": false
   },
   "outputs": [],
   "source": [
    "tablica2d = tablica.reshape(4,4)\n",
    "print tablica2d\n",
    "np.sum(tablica2d)"
   ]
  },
  {
   "cell_type": "code",
   "execution_count": null,
   "metadata": {
    "collapsed": false
   },
   "outputs": [],
   "source": [
    "tablica2d = tablica.reshape(4,4)\n",
    "np.sum(tablica2d, axis=1)"
   ]
  },
  {
   "cell_type": "markdown",
   "metadata": {},
   "source": [
    "Ustwienie **axis = 1** sumuje względem wymiaru kolumn (czyli ten sam rząd, różne kolumny). Ustawienie parametru na 0 zsumowałoby liczby w poszczególnych kolumnach. Wskazanie innego wymiaru dałoby błąd - nasza  tablica posiada bowiem wyłącznie 2 wymiary."
   ]
  },
  {
   "cell_type": "markdown",
   "metadata": {},
   "source": [
    "Dostępne mamy również inne statystyczne przekształcenia."
   ]
  },
  {
   "cell_type": "code",
   "execution_count": null,
   "metadata": {
    "collapsed": false
   },
   "outputs": [],
   "source": [
    "np.mean(tablica)"
   ]
  },
  {
   "cell_type": "code",
   "execution_count": null,
   "metadata": {
    "collapsed": false
   },
   "outputs": [],
   "source": [
    "np.std(tablica)"
   ]
  },
  {
   "cell_type": "code",
   "execution_count": null,
   "metadata": {
    "collapsed": false
   },
   "outputs": [],
   "source": [
    "np.median(tablica2d, axis=1)"
   ]
  },
  {
   "cell_type": "markdown",
   "metadata": {},
   "source": [
    "Wskazanie największego i najmniejszego elementu w tablicy możemy wywołać komendami odpowiednio <b>.max()</b> oraz <b>.min()</b>.<br>\n",
    "Jeśli jednak chcemy otrzymać indeks komórki zawierającej taką wartość, użyjemy <b>.argmax()</b> i <b>.argmin()</b> (jeśli jednak nie wskażemy, według którego wymiaru wykonać operację, metoda \"spłąszczy\" tablicę do postaci jednowymiarowej i zwróci indeks największego elementu w postaci jednej liczby)."
   ]
  },
  {
   "cell_type": "code",
   "execution_count": null,
   "metadata": {
    "collapsed": false
   },
   "outputs": [],
   "source": [
    "tablica.max()"
   ]
  },
  {
   "cell_type": "code",
   "execution_count": null,
   "metadata": {
    "collapsed": false,
    "scrolled": true
   },
   "outputs": [],
   "source": [
    "tablica2d.argmax(axis=0)"
   ]
  },
  {
   "cell_type": "markdown",
   "metadata": {},
   "source": [
    "#### Reduktory logiczne"
   ]
  },
  {
   "cell_type": "markdown",
   "metadata": {},
   "source": [
    "Istnieją również reduktory sprowadzające tablicę do określonych wartości logicznych. Dwa podstawowe to <b>any( )</b>, sprawdzające czy w danej tablicy znajduje się wartość spełniająca podany warunek, oraz <b>all( )</b> testujące czy wszystkie elementy spełniają warunek."
   ]
  },
  {
   "cell_type": "code",
   "execution_count": null,
   "metadata": {
    "collapsed": false
   },
   "outputs": [],
   "source": [
    "a = np.arange(10)\n",
    "print np.any(a<7)\n",
    "print np.all(a<9)"
   ]
  },
  {
   "cell_type": "markdown",
   "metadata": {},
   "source": [
    "<a href='#top' style='float: right; font-size: 13px;'>Do początku</a>    "
   ]
  },
  {
   "cell_type": "markdown",
   "metadata": {},
   "source": [
    " "
   ]
  },
  {
   "cell_type": "markdown",
   "metadata": {},
   "source": [
    "#### Ćwiczenie "
   ]
  },
  {
   "cell_type": "markdown",
   "metadata": {},
   "source": [
    "Biorąc przykład z istnienia reduktora **sum()**, jakich jeszcze można by się spodziewać w pakiecie NumPy?"
   ]
  },
  {
   "cell_type": "code",
   "execution_count": null,
   "metadata": {
    "collapsed": false
   },
   "outputs": [],
   "source": [
    "tablica = np.arange(24).reshape(4,6)\n",
    "tablica"
   ]
  },
  {
   "cell_type": "markdown",
   "metadata": {},
   "source": [
    " "
   ]
  },
  {
   "cell_type": "markdown",
   "metadata": {},
   "source": [
    "### Pożyczony przykład ekologiczny"
   ]
  },
  {
   "cell_type": "code",
   "execution_count": null,
   "metadata": {
    "collapsed": false
   },
   "outputs": [],
   "source": [
    "data = np.loadtxt('populations.txt')\n",
    "year, hares, lynxes, carrots = data.T"
   ]
  },
  {
   "cell_type": "code",
   "execution_count": null,
   "metadata": {
    "collapsed": false
   },
   "outputs": [],
   "source": [
    "data"
   ]
  },
  {
   "cell_type": "code",
   "execution_count": null,
   "metadata": {
    "collapsed": false
   },
   "outputs": [],
   "source": [
    "plt.axes([0.2, 0.1, 0.5, 0.8]) \n",
    "plt.plot(year, hares, year, lynxes, year, carrots) \n",
    "plt.legend(('Hare', 'Lynx', 'Carrot'), loc=(1.05, 0.5)) "
   ]
  },
  {
   "cell_type": "code",
   "execution_count": null,
   "metadata": {
    "collapsed": false
   },
   "outputs": [],
   "source": [
    "populations = data[:, 1:]\n",
    "populations.mean(axis=0)"
   ]
  },
  {
   "cell_type": "code",
   "execution_count": null,
   "metadata": {
    "collapsed": false
   },
   "outputs": [],
   "source": [
    "populations.std(axis=0)"
   ]
  },
  {
   "cell_type": "code",
   "execution_count": null,
   "metadata": {
    "collapsed": false
   },
   "outputs": [],
   "source": [
    "np.argmax(populations, axis=1)"
   ]
  },
  {
   "cell_type": "markdown",
   "metadata": {},
   "source": [
    "<a href='#top' style='float: right; font-size: 13px;'>Do początku</a>    "
   ]
  },
  {
   "cell_type": "markdown",
   "metadata": {},
   "source": [
    " "
   ]
  },
  {
   "cell_type": "markdown",
   "metadata": {},
   "source": [
    "## \"Transmisja\""
   ]
  },
  {
   "cell_type": "markdown",
   "metadata": {},
   "source": [
    "Pod tym pojęciem kryje się specyficzna cecha tablic NumPy.<br>\n",
    "Wspominaliśmy sobie, że interakcje między tablicami mogą zachodzić jedynie, jeśli są one tego samego rozmiaru. W rzeczywistości, dopuszczalna jest niezgodność maksymalnie w jednym wymiarze. Jeśli taka sytuacja nastąpi, NumPy \"rozciągnie\" poprzez powielenie mniejszą tablicę do rozmiaru większej i wykona odpowiednią operację.<br>\n",
    "**Uwaga:** tutaj jednak też musimy pamiętać, że wielkość niedopasowanego wymiaru musi dać się dopasować mnożeniem do wielkości analogicznego wymiaru w drugiej tablicy. Poniższy rysunek pokazuje ogólną zasadę działania transmisji."
   ]
  },
  {
   "cell_type": "markdown",
   "metadata": {},
   "source": [
    "<img src='numpy_broadcasting.png' style=\"width: 50%; heigth: auto;\"/>"
   ]
  },
  {
   "cell_type": "markdown",
   "metadata": {},
   "source": [
    "Spróbumy zobaczyć to na przykładzie."
   ]
  },
  {
   "cell_type": "code",
   "execution_count": null,
   "metadata": {
    "collapsed": false
   },
   "outputs": [],
   "source": [
    "a = np.tile(np.arange(0, 40, 10), (3, 1)).T\n",
    "a"
   ]
  },
  {
   "cell_type": "code",
   "execution_count": null,
   "metadata": {
    "collapsed": false
   },
   "outputs": [],
   "source": [
    "b = np.arange(4)*np.arange(3).reshape(3,1)\n",
    "b"
   ]
  },
  {
   "cell_type": "markdown",
   "metadata": {},
   "source": [
    "Wykorzystując ten mechanizm, możemy w łatwy sposób dodać nowy wymiar do naszej tablicy."
   ]
  },
  {
   "cell_type": "code",
   "execution_count": null,
   "metadata": {
    "collapsed": false
   },
   "outputs": [],
   "source": [
    "a = np.arange(0, 40, 10)\n",
    "print a\n",
    "a.shape"
   ]
  },
  {
   "cell_type": "code",
   "execution_count": null,
   "metadata": {
    "collapsed": false
   },
   "outputs": [],
   "source": [
    "a = a[:, np.newaxis]\n",
    "print a\n",
    "a.shape"
   ]
  },
  {
   "cell_type": "markdown",
   "metadata": {},
   "source": [
    " "
   ]
  },
  {
   "cell_type": "markdown",
   "metadata": {},
   "source": [
    "#### Sortowanie"
   ]
  },
  {
   "cell_type": "markdown",
   "metadata": {},
   "source": [
    "Sortowanie odbywa się za pomocą funkcji <b>sort( )</b>, gdzie argumentem jest tablica."
   ]
  },
  {
   "cell_type": "code",
   "execution_count": null,
   "metadata": {
    "collapsed": false
   },
   "outputs": [],
   "source": [
    "tablica = np.array([[1,4,3,5],[6,1,8,0],[7,7,1,1]])\n",
    "tablica"
   ]
  },
  {
   "cell_type": "code",
   "execution_count": null,
   "metadata": {
    "collapsed": false
   },
   "outputs": [],
   "source": [
    "np.sort(tablica)"
   ]
  },
  {
   "cell_type": "markdown",
   "metadata": {},
   "source": [
    "Jako drugi argument funkcji możemy podać numer wymiaru, po którym sortowanie ma się odbyć, poprzez dodanie **axis=**."
   ]
  },
  {
   "cell_type": "code",
   "execution_count": null,
   "metadata": {
    "collapsed": false
   },
   "outputs": [],
   "source": [
    "print np.sort(tablica, axis=0)\n",
    "print np.sort(tablica, axis=1)"
   ]
  },
  {
   "cell_type": "markdown",
   "metadata": {},
   "source": [
    "Podobnie jak 'wymyślne' indeksowanie, możliwe jest sortowanie w tym stylu."
   ]
  },
  {
   "cell_type": "code",
   "execution_count": null,
   "metadata": {
    "collapsed": false
   },
   "outputs": [],
   "source": [
    "a = [2,1,3,0]\n",
    "tablica[:,a]"
   ]
  },
  {
   "cell_type": "markdown",
   "metadata": {},
   "source": [
    "Za pomocą komendy **argsort( )** możemy zdobyć listę indeksów, które potem pozwolą nam uporządkować wybraną listę."
   ]
  },
  {
   "cell_type": "code",
   "execution_count": null,
   "metadata": {
    "collapsed": false
   },
   "outputs": [],
   "source": [
    "a = np.array([4, 3, 1, 2])\n",
    "j = np.argsort(a)\n",
    "j"
   ]
  },
  {
   "cell_type": "code",
   "execution_count": null,
   "metadata": {
    "collapsed": false
   },
   "outputs": [],
   "source": [
    "a[j]"
   ]
  },
  {
   "cell_type": "markdown",
   "metadata": {},
   "source": [
    "<a href='#top' style='float: right; font-size: 13px;'>Do początku</a>    "
   ]
  },
  {
   "cell_type": "markdown",
   "metadata": {},
   "source": [
    " "
   ]
  },
  {
   "cell_type": "markdown",
   "metadata": {},
   "source": [
    "### Praca z plikami tekstowymi "
   ]
  },
  {
   "cell_type": "markdown",
   "metadata": {},
   "source": [
    "NumPy posiada własne funkcje służące wczytywaniu danych z plików tekstowych.  \n",
    "Najpopularniejszym rozszerzeniem tego typu plików jest **.csv** (comma-separated values), ale dodanie rozszerzenia **.txt** czy **.dat** nie będzie miało wpływu na możliwość odczytania danych.  \n",
    "Interesująca nas funkcja to <b>genfromtxt( )</b>."
   ]
  },
  {
   "cell_type": "code",
   "execution_count": null,
   "metadata": {
    "collapsed": false
   },
   "outputs": [],
   "source": [
    "data = np.genfromtxt(\"nhtemp.csv\", delimiter=',')"
   ]
  },
  {
   "cell_type": "code",
   "execution_count": null,
   "metadata": {
    "collapsed": false
   },
   "outputs": [],
   "source": [
    "print data"
   ]
  },
  {
   "cell_type": "code",
   "execution_count": null,
   "metadata": {
    "collapsed": false,
    "scrolled": true
   },
   "outputs": [],
   "source": [
    "fig, ax = plt.subplots(figsize=(14,4))\n",
    "ax.plot(data[:,1], data[:,2])\n",
    "ax.axis('tight')\n",
    "ax.set_title('Mean tempeatures in New Haven')\n",
    "ax.set_xlabel('Year')\n",
    "ax.set_ylabel('Temperature ('u'\\xb0''F)');"
   ]
  },
  {
   "cell_type": "markdown",
   "metadata": {},
   "source": [
    "Należy pamiętać, że **genfromtxt()** domyślnie jest ustawiony na dane oddzielone tabulacją, jeśli nasz plik ma inny separator, należy to wskazać w parametrze **delimiter=**."
   ]
  },
  {
   "cell_type": "markdown",
   "metadata": {},
   "source": [
    "Podobnie proste jest zapisywanie danych do pliku. Interesuje nas tym razem funkcja <b>savetxt( )</b>"
   ]
  },
  {
   "cell_type": "code",
   "execution_count": null,
   "metadata": {
    "collapsed": false
   },
   "outputs": [],
   "source": [
    "do_zapisu = np.linspace(1,2,10)\n",
    "do_zapisu = do_zapisu.reshape(5,2)\n",
    "do_zapisu"
   ]
  },
  {
   "cell_type": "code",
   "execution_count": null,
   "metadata": {
    "collapsed": false
   },
   "outputs": [],
   "source": [
    "np.savetxt('plik_do_zapisu.txt', do_zapisu)\n",
    "\n",
    "!type plik_do_zapisu.txt\n",
    "# dla Linuksa i Maca zamiast type użyj funkcji cat"
   ]
  },
  {
   "cell_type": "markdown",
   "metadata": {},
   "source": [
    "Możemy modyfikować sposób zapisu tabeli poprzez wybór separatora, ale również poprzez np. określenie ilości liczb w rozwinięciu dziesiętnym poszczególnych pozycji."
   ]
  },
  {
   "cell_type": "code",
   "execution_count": null,
   "metadata": {
    "collapsed": false
   },
   "outputs": [],
   "source": [
    "np.savetxt('plik_do_zapisu.csv', do_zapisu, delimiter=';', fmt='%.4f')\n",
    "!type plik_do_zapisu.csv"
   ]
  },
  {
   "cell_type": "markdown",
   "metadata": {},
   "source": [
    " "
   ]
  },
  {
   "cell_type": "markdown",
   "metadata": {},
   "source": [
    " "
   ]
  },
  {
   "cell_type": "markdown",
   "metadata": {},
   "source": [
    "### Polecane źródła:"
   ]
  },
  {
   "cell_type": "markdown",
   "metadata": {},
   "source": [
    "Bardzi dobry tutorial z konferencji SciPy 2013 na YouTube (w oparciu o niego powstał ten fragment warsztatu).  \n",
    "<a href=\"https://www.youtube.com/watch?v=UWmZAAfXds4\">Część 1.</a> \n",
    "<a href=\"https://www.youtube.com/watch?v=lSfkIle93hQ\">Część 2.</a><br>\n",
    "<a href=\"https://github.com/esc/scipy2013-tutorial-numpy-ipython\">Tutaj można znaleźć materiały, z których korzysta autor (przede wszystkim notatniki Jupytera).</a>"
   ]
  },
  {
   "cell_type": "markdown",
   "metadata": {},
   "source": [
    " "
   ]
  },
  {
   "cell_type": "markdown",
   "metadata": {},
   "source": [
    "Kolejny tutorial, tym razem z SciPy 2015, jednak bez wykorzystania Jupytera.  \n",
    "<a href=\"https://www.youtube.com/watch?v=1zmV8lZsHF4\">Całość.</a>  \n",
    "<a href=\"https://github.com/enthought/Numpy-Tutorial-SciPyConf-2015\">Oraz materiały, z których korzysta autor.</a>"
   ]
  },
  {
   "cell_type": "markdown",
   "metadata": {},
   "source": [
    " "
   ]
  },
  {
   "cell_type": "markdown",
   "metadata": {},
   "source": [
    "Całkiem rozbudowany <a href=\"http://nbviewer.jupyter.org/github/jrjohansson/scientific-python-lectures/blob/master/Lecture-2-Numpy.ipynb\">notatnik z przeglądem funkcji NumPy</a>, pochodzący z tutorialu J.R. Johanssona."
   ]
  },
  {
   "cell_type": "markdown",
   "metadata": {},
   "source": [
    " "
   ]
  },
  {
   "cell_type": "markdown",
   "metadata": {},
   "source": [
    " "
   ]
  },
  {
   "cell_type": "code",
   "execution_count": 59,
   "metadata": {
    "collapsed": false
   },
   "outputs": [
    {
     "data": {
      "text/html": [
       "<style>\n",
       "@import url(http://fonts.googleapis.com/css?family=Titillium+Web:400,700,800,400italic&subset=latin-ext,latin);\n",
       "@import url(http://fonts.googleapis.com/css?family=Anonymous+Pro:400,700,800,400italic&subset=latin-ext,latin);\n",
       "\n",
       ".filename {\n",
       "    font-family: Titillium Web;\n",
       "    font-variant: small-caps;\n",
       "    letter-spacing: 0.1em;\n",
       "}\n",
       "\n",
       "b {\n",
       "    color: #cc0000;\n",
       "}\n",
       "\n",
       "em {\n",
       "    color:#0000cc;\n",
       "}\n",
       "\n",
       "ul {\n",
       "\tlist-style-type: square !important;\n",
       "}\n",
       "\n",
       ".rendered_html ul li {\n",
       "\tfont-size: 8px;\n",
       "}\n",
       "\n",
       "li span {\n",
       "\tfont-size: 14px;\n",
       "}\n",
       "\n",
       "/* tekst w markdown */\n",
       ".rendered_html {\n",
       "    font-family: Titillium Web, serif;\n",
       "    }\n",
       "\n",
       ".rendered_html p {\n",
       "    font-size: 16px;\n",
       "    text-align: justify;\n",
       "    text-decoration: none;\n",
       "    }\n",
       "\n",
       ".rendered_html :link {\n",
       "    text-decoration: none;\n",
       "    }\n",
       "\n",
       ".rendered_html :visited {\n",
       "    text-decoration: none;\n",
       "    }\n",
       "    \n",
       "/* tekst w code cell */\n",
       ".code_cell {\n",
       "    font-family: Anonymous Pro, monospace;\n",
       "    font-size: 14px;\n",
       "    }\n",
       "\n",
       "code, pre, .CodeMirror {\n",
       "    font-family: Anonymous Pro, monospace;\n",
       "    font-size: 14px;\n",
       "}\n",
       "\n",
       "</style>"
      ],
      "text/plain": [
       "<IPython.core.display.HTML object>"
      ]
     },
     "execution_count": 59,
     "metadata": {},
     "output_type": "execute_result"
    }
   ],
   "source": [
    "from IPython.core.display import HTML\n",
    "import urllib\n",
    "HTML(open(\"ipython.css\").read())"
   ]
  }
 ],
 "metadata": {
  "kernelspec": {
   "display_name": "Python 2",
   "language": "python",
   "name": "python2"
  },
  "language_info": {
   "codemirror_mode": {
    "name": "ipython",
    "version": 2
   },
   "file_extension": ".py",
   "mimetype": "text/x-python",
   "name": "python",
   "nbconvert_exporter": "python",
   "pygments_lexer": "ipython2",
   "version": "2.7.11"
  }
 },
 "nbformat": 4,
 "nbformat_minor": 0
}

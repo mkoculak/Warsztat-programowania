{
 "cells": [
  {
   "cell_type": "markdown",
   "metadata": {},
   "source": [
    "# Warsztat 1 – podstawy programowania<a id=top></a>"
   ]
  },
  {
   "cell_type": "markdown",
   "metadata": {},
   "source": [
    " "
   ]
  },
  {
   "cell_type": "markdown",
   "metadata": {},
   "source": [
    " "
   ]
  },
  {
   "cell_type": "markdown",
   "metadata": {},
   "source": [
    "### <a href='#Warsztat-1---podstawy-programowania'>Spis treści</a>\n",
    "<ul>\n",
    "<li><a href='#Hello-world'><span>Hello world</span></a></li>\n",
    "<li><a href='#Kalkulator'><span>Kalkulator</span></a></li>\n",
    "<li><a href='#Zmienne'><span>Zmienne</span></a></li>\n",
    "<li><a href='#Komentowanie'><span>Komentowanie</span></a></li>\n",
    "<li><a href='#Instrukcja-import'><span>Instrukcja import</span></a></li>\n",
    "</ul>"
   ]
  },
  {
   "cell_type": "markdown",
   "metadata": {},
   "source": [
    " "
   ]
  },
  {
   "cell_type": "markdown",
   "metadata": {},
   "source": [
    "Zanim rozpoczniemy przegląd podstawowych elementów składowych <b>Pythona</b>, warto rzucić okiem na dobre praktyki programistyczne, zebrane w formie wiersza i schowane wewnątrz samego języka.  \n",
    "Żeby dotrzeć do tej poezji, należy zaimportować specjalną bibliotekę."
   ]
  },
  {
   "cell_type": "code",
   "execution_count": 1,
   "metadata": {},
   "outputs": [
    {
     "name": "stdout",
     "output_type": "stream",
     "text": [
      "The Zen of Python, by Tim Peters\n",
      "\n",
      "Beautiful is better than ugly.\n",
      "Explicit is better than implicit.\n",
      "Simple is better than complex.\n",
      "Complex is better than complicated.\n",
      "Flat is better than nested.\n",
      "Sparse is better than dense.\n",
      "Readability counts.\n",
      "Special cases aren't special enough to break the rules.\n",
      "Although practicality beats purity.\n",
      "Errors should never pass silently.\n",
      "Unless explicitly silenced.\n",
      "In the face of ambiguity, refuse the temptation to guess.\n",
      "There should be one-- and preferably only one --obvious way to do it.\n",
      "Although that way may not be obvious at first unless you're Dutch.\n",
      "Now is better than never.\n",
      "Although never is often better than *right* now.\n",
      "If the implementation is hard to explain, it's a bad idea.\n",
      "If the implementation is easy to explain, it may be a good idea.\n",
      "Namespaces are one honking great idea -- let's do more of those!\n"
     ]
    }
   ],
   "source": [
    "import this"
   ]
  },
  {
   "cell_type": "markdown",
   "metadata": {},
   "source": [
    " "
   ]
  },
  {
   "cell_type": "markdown",
   "metadata": {},
   "source": [
    " "
   ]
  },
  {
   "cell_type": "markdown",
   "metadata": {},
   "source": [
    " "
   ]
  },
  {
   "cell_type": "markdown",
   "metadata": {},
   "source": [
    "W tym momencie ten wierszyk nie ma dla Ciebie zbyt wiele sensu, ale warto będzie do niego wrócić po przejściu całego warsztatu."
   ]
  },
  {
   "cell_type": "markdown",
   "metadata": {},
   "source": [
    " "
   ]
  },
  {
   "cell_type": "markdown",
   "metadata": {},
   "source": [
    "Python jest uznawany za język programowania o bardzo łatwej do zrozumienia składni a przy tym o bardzo dużych możliwościach (co przyciąga rzesze ludzi do nauki tego właśnie języka).  \n",
    "Zostało to całkiem zabawne podsumowane przez słynny komiks <b>xkcd</b>, któzy też został schowany wewnątrz Pythona w formie żartu. Można go wywołać poprzez wykonanie poniżej komendy:"
   ]
  },
  {
   "cell_type": "code",
   "execution_count": 2,
   "metadata": {},
   "outputs": [],
   "source": [
    "import antigravity"
   ]
  },
  {
   "cell_type": "markdown",
   "metadata": {},
   "source": [
    " "
   ]
  },
  {
   "cell_type": "markdown",
   "metadata": {},
   "source": [
    " "
   ]
  },
  {
   "cell_type": "markdown",
   "metadata": {},
   "source": [
    "## Hello world"
   ]
  },
  {
   "cell_type": "markdown",
   "metadata": {},
   "source": [
    "Tradycyjnie, naukę dowolnego języka programowania zaczyna się od pokazania adeptowi jak wypisać na konsoli komunikat \"Hello world\". Podtrzymując tę tradycję, za chwilę zobaczymy jak to zrobić w Pythonie.  \n",
    "Najpierw jednak przywołamy kolejny dowcip zaszyty w samym języku, który właśnie do wypisywania tego komunikatu ma oddzielną funkcję."
   ]
  },
  {
   "cell_type": "code",
   "execution_count": 3,
   "metadata": {},
   "outputs": [
    {
     "name": "stdout",
     "output_type": "stream",
     "text": [
      "Hello world!\n"
     ]
    }
   ],
   "source": [
    "import __hello__"
   ]
  },
  {
   "cell_type": "markdown",
   "metadata": {},
   "source": [
    "Co ciekawe, działa to wyłącznie raz, żeby uzyskać ten efekt ponownie, trzeba zrestartować silnik Pythona (tzw. kernel).<br><br>\n",
    "Poniżej natomiast możemy zobaczyć, w jaki sposób wypisać na konsoli dowolny tekst (w tym też oczywiście \"Hello world\")."
   ]
  },
  {
   "cell_type": "code",
   "execution_count": 4,
   "metadata": {},
   "outputs": [
    {
     "name": "stdout",
     "output_type": "stream",
     "text": [
      "Hello world\n"
     ]
    }
   ],
   "source": [
    "print(\"Hello world\")"
   ]
  },
  {
   "cell_type": "markdown",
   "metadata": {},
   "source": [
    "Zauważmy, że po wciśnięciu klawisza cudzysłowia \" Jupyter dopowiada drugi taki sam znak a kursor ustawia między nimi. To samo dzieje się dla apostrofu ' i nawiasów &nbsp; ( &nbsp; { &nbsp; \\[ &nbsp;. Sprawia to, że wystarczy użyć dany klaswisz raz i można wprowadzić od razu poprawnie sformatowany element.  \n",
    "Jeśli zdarzy nam się wcisnąć ten klawisz również na zakończenie (pomimo tego, że już znajduje się w tekście), Jupyter zastąpi stary znak nowym, dzięki czemu w dokumencie ciągle będzie odpowiednia ilość cudzysłowiów i innych znaków specjalnych."
   ]
  },
  {
   "cell_type": "markdown",
   "metadata": {},
   "source": [
    "<a href='#top' style='float: right; font-size: 13px;'>Do początku</a>  "
   ]
  },
  {
   "cell_type": "markdown",
   "metadata": {},
   "source": [
    " "
   ]
  },
  {
   "cell_type": "markdown",
   "metadata": {},
   "source": [
    " "
   ]
  },
  {
   "cell_type": "markdown",
   "metadata": {},
   "source": [
    "## Kalkulator"
   ]
  },
  {
   "cell_type": "markdown",
   "metadata": {},
   "source": [
    "Najprostszym zadaniem, jakie możemy wykonać za pomocą interpretera Pythona jest ewaluacja równań matematycznych wprowadzanych bezpośrednio do konsoli.<br>\n",
    "Python będzie zachowywał się identycznie do każdego zwykłego kalkulatora. Jest on również wyczulony na kolejność działań (zgodną z międzynarodowymi standardami w matematyce), dlatego należy pamiętać o wykorzystywaniu nawiasów do wskazywania kolejności obliczeń, która nie wynika z zastosowanych operacji."
   ]
  },
  {
   "cell_type": "code",
   "execution_count": 5,
   "metadata": {},
   "outputs": [
    {
     "data": {
      "text/plain": [
       "4"
      ]
     },
     "execution_count": 5,
     "metadata": {},
     "output_type": "execute_result"
    }
   ],
   "source": [
    "2+2"
   ]
  },
  {
   "cell_type": "code",
   "execution_count": 6,
   "metadata": {},
   "outputs": [
    {
     "data": {
      "text/plain": [
       "-2181"
      ]
     },
     "execution_count": 6,
     "metadata": {},
     "output_type": "execute_result"
    }
   ],
   "source": [
    "4563-6744"
   ]
  },
  {
   "cell_type": "code",
   "execution_count": 7,
   "metadata": {},
   "outputs": [
    {
     "data": {
      "text/plain": [
       "-5248"
      ]
     },
     "execution_count": 7,
     "metadata": {},
     "output_type": "execute_result"
    }
   ],
   "source": [
    "346-(3452+5463)-345+3666"
   ]
  },
  {
   "cell_type": "markdown",
   "metadata": {},
   "source": [
    " "
   ]
  },
  {
   "cell_type": "markdown",
   "metadata": {},
   "source": [
    " "
   ]
  },
  {
   "cell_type": "markdown",
   "metadata": {},
   "source": [
    " "
   ]
  },
  {
   "cell_type": "markdown",
   "metadata": {},
   "source": [
    "Dostępne mamy wszystkie podstawowe działania matematyczne (bardziej zaawansowane będą wymagały dodatkowych bibliotek):<br><br>\n",
    "\n",
    "| Działanie | Operator |\n",
    "| :---: | :---: |\n",
    "| Dodawanie | + |\n",
    "| Odejmowanie | - |\n",
    "| Mnożenie | * |\n",
    "| Dzielenie | / |\n",
    "| Modulo (pot. reszta z dzielenia) | % |\n",
    "| Potęgowanie | \\** |\n",
    "| Dzielenie \"podłogowe\" (ang. floor division) | // |\n"
   ]
  },
  {
   "cell_type": "code",
   "execution_count": 8,
   "metadata": {},
   "outputs": [
    {
     "data": {
      "text/plain": [
       "43"
      ]
     },
     "execution_count": 8,
     "metadata": {},
     "output_type": "execute_result"
    }
   ],
   "source": [
    "21+22"
   ]
  },
  {
   "cell_type": "code",
   "execution_count": 9,
   "metadata": {},
   "outputs": [
    {
     "data": {
      "text/plain": [
       "43"
      ]
     },
     "execution_count": 9,
     "metadata": {},
     "output_type": "execute_result"
    }
   ],
   "source": [
    "78-35"
   ]
  },
  {
   "cell_type": "code",
   "execution_count": 10,
   "metadata": {},
   "outputs": [
    {
     "data": {
      "text/plain": [
       "43"
      ]
     },
     "execution_count": 10,
     "metadata": {},
     "output_type": "execute_result"
    }
   ],
   "source": [
    "43*1"
   ]
  },
  {
   "cell_type": "code",
   "execution_count": 11,
   "metadata": {},
   "outputs": [
    {
     "data": {
      "text/plain": [
       "43.0"
      ]
     },
     "execution_count": 11,
     "metadata": {},
     "output_type": "execute_result"
    }
   ],
   "source": [
    "387/9 "
   ]
  },
  {
   "cell_type": "markdown",
   "metadata": {},
   "source": [
    "Modulo oznacza dokładnie resztę z dzielenia, którą można odnaleźć we wzorze choćby <a href=\"https://pl.wikipedia.org/wiki/Twierdzenie_o_dzieleniu_z_reszt%C4%85#Twierdzenie\">tutaj</a>."
   ]
  },
  {
   "cell_type": "code",
   "execution_count": 12,
   "metadata": {},
   "outputs": [
    {
     "data": {
      "text/plain": [
       "43"
      ]
     },
     "execution_count": 12,
     "metadata": {},
     "output_type": "execute_result"
    }
   ],
   "source": [
    "435%56"
   ]
  },
  {
   "cell_type": "markdown",
   "metadata": {},
   "source": [
    "Dzielenie podłogowe polega na wykonaniu normalnego dzielenia, ale zwrócenia wyłącznie części całkowitej takiego obliczenia.<br>\n",
    "Dlatego niezależnie od tego czy wynik dzielenia wynosi 2, 2.5 czy 2.95, dzielenie podłogowe zwróci nam zawsze 2."
   ]
  },
  {
   "cell_type": "code",
   "execution_count": 13,
   "metadata": {},
   "outputs": [
    {
     "data": {
      "text/plain": [
       "43"
      ]
     },
     "execution_count": 13,
     "metadata": {},
     "output_type": "execute_result"
    }
   ],
   "source": [
    "395//9"
   ]
  },
  {
   "cell_type": "markdown",
   "metadata": {},
   "source": [
    "Dzięki czemu możemy zauważyć, że modulo i dzielenie podłogowe są ze sobą powiązane.<br>\n",
    "a // b = c<br>\n",
    "a % b = d<br>\n",
    "zatem:<br>\n",
    "a = b * c + d"
   ]
  },
  {
   "cell_type": "markdown",
   "metadata": {},
   "source": [
    "<a href='#top' style='float: right; font-size: 13px;'>Do początku</a>  "
   ]
  },
  {
   "cell_type": "markdown",
   "metadata": {},
   "source": [
    " "
   ]
  },
  {
   "cell_type": "markdown",
   "metadata": {},
   "source": [
    "### Ćwiczenia:"
   ]
  },
  {
   "cell_type": "markdown",
   "metadata": {},
   "source": [
    "#### Oblicz pole powierzchni trójkąta o podstawie $a=14$ i wysokości $h=10$. Wzór na pole trójąta: $S=\\frac{a \\cdot h}{2}$"
   ]
  },
  {
   "cell_type": "code",
   "execution_count": null,
   "metadata": {},
   "outputs": [],
   "source": []
  },
  {
   "cell_type": "markdown",
   "metadata": {},
   "source": [
    "#### Ustal czy liczba 123456 jest podzielna przez 24."
   ]
  },
  {
   "cell_type": "code",
   "execution_count": null,
   "metadata": {},
   "outputs": [],
   "source": []
  },
  {
   "cell_type": "markdown",
   "metadata": {},
   "source": [
    "#### Wylicz ile pełnych pint piwa można nalać ze 150 litrowego kega. (wskazówka: pinta = 568ml)"
   ]
  },
  {
   "cell_type": "code",
   "execution_count": null,
   "metadata": {},
   "outputs": [],
   "source": []
  },
  {
   "cell_type": "markdown",
   "metadata": {},
   "source": [
    " "
   ]
  },
  {
   "cell_type": "markdown",
   "metadata": {},
   "source": [
    " "
   ]
  },
  {
   "cell_type": "markdown",
   "metadata": {},
   "source": [
    " "
   ]
  },
  {
   "cell_type": "markdown",
   "metadata": {},
   "source": [
    "## Zmienne"
   ]
  },
  {
   "cell_type": "markdown",
   "metadata": {},
   "source": [
    "Podstawową jednostką budującą każdy język programowania są zmienne.  \n",
    "Zadaniem zmiennej jest przechowywanie konkretnej informacji w taki sposób, żeby była ona łatwo dostępna poprzez wpisanie nazwy tej zmiennej do konsoli.\n",
    "\n",
    "Ogólna zasada składniowa jest taka:<br>\n",
    "<center>**zmienna = wartość zmiennej (informacja)**</center>\n",
    "\n",
    "Zmienna może przechowywać różne rodzaje informacji:"
   ]
  },
  {
   "cell_type": "markdown",
   "metadata": {},
   "source": [
    "Litery, słowa i zdania przechowywane są w zmiennych typu tekstowego. W pythonie ten typ nazywany jest stringiem."
   ]
  },
  {
   "cell_type": "code",
   "execution_count": 14,
   "metadata": {},
   "outputs": [],
   "source": [
    "a = \"napis w zmiennej a\" #zmienna typu tekstowego (string)"
   ]
  },
  {
   "cell_type": "code",
   "execution_count": 15,
   "metadata": {},
   "outputs": [
    {
     "data": {
      "text/plain": [
       "'napis w zmiennej a'"
      ]
     },
     "execution_count": 15,
     "metadata": {},
     "output_type": "execute_result"
    }
   ],
   "source": [
    "a"
   ]
  },
  {
   "cell_type": "markdown",
   "metadata": {},
   "source": [
    " "
   ]
  },
  {
   "cell_type": "markdown",
   "metadata": {},
   "source": [
    "Zmienną tekstową można stworzyć za pomocą zaróno cudzysłowu &nbsp; \" &nbsp; jak i apostrofu &nbsp; ' &nbsp; . Nie ma obostrzeń w używaniu konkretnego typu, warto jednak trzymać się jednego sposobu, żeby utrzymać czystość i zrozumiałość kodu."
   ]
  },
  {
   "cell_type": "code",
   "execution_count": 16,
   "metadata": {},
   "outputs": [
    {
     "data": {
      "text/plain": [
       "'napis w zmiennej a2'"
      ]
     },
     "execution_count": 16,
     "metadata": {},
     "output_type": "execute_result"
    }
   ],
   "source": [
    "a2 = 'napis w zmiennej a2'\n",
    "a2"
   ]
  },
  {
   "cell_type": "markdown",
   "metadata": {},
   "source": [
    " "
   ]
  },
  {
   "cell_type": "markdown",
   "metadata": {},
   "source": [
    "Każdy język programowania bardzo mocno korzysta ze zmiennych będących liczbami i możliwości wykonywania na nich wszelakich obliczeń.<br>\n",
    "Python posiada kilka typów zmiennych liczbowych. Najbardziej podstawowym jest typ całkowity (ang. integer), przechowujący liczby całkowite (dodatnie oraz ujemne)."
   ]
  },
  {
   "cell_type": "code",
   "execution_count": 17,
   "metadata": {},
   "outputs": [],
   "source": [
    "b = 43 #zmienna typu liczbowego (integer)"
   ]
  },
  {
   "cell_type": "code",
   "execution_count": 18,
   "metadata": {},
   "outputs": [
    {
     "data": {
      "text/plain": [
       "43"
      ]
     },
     "execution_count": 18,
     "metadata": {},
     "output_type": "execute_result"
    }
   ],
   "source": [
    "b"
   ]
  },
  {
   "cell_type": "markdown",
   "metadata": {},
   "source": [
    " "
   ]
  },
  {
   "cell_type": "markdown",
   "metadata": {},
   "source": [
    "Zmiennej nie musimy przypisać poprzez bezpośrednie wpisanie wartości, ale do zmiennej można przypisać rezultat dowolnej operacji na danych.  \n",
    "Kolejność działania Pythona polega najpierw na ewaluacji prawej strony tego \"równania\" a dopiero następnie przypisanie wyniku do konkretnej zmiennej. "
   ]
  },
  {
   "cell_type": "code",
   "execution_count": 19,
   "metadata": {},
   "outputs": [],
   "source": [
    "c = (11**2-10)*6"
   ]
  },
  {
   "cell_type": "code",
   "execution_count": 20,
   "metadata": {},
   "outputs": [
    {
     "data": {
      "text/plain": [
       "666"
      ]
     },
     "execution_count": 20,
     "metadata": {},
     "output_type": "execute_result"
    }
   ],
   "source": [
    "c"
   ]
  },
  {
   "cell_type": "markdown",
   "metadata": {},
   "source": [
    " "
   ]
  },
  {
   "cell_type": "markdown",
   "metadata": {},
   "source": [
    "Tutaj mamy przykład przypisania do zmiennej wyniku działania na dwóch innych zmiennych:"
   ]
  },
  {
   "cell_type": "code",
   "execution_count": 21,
   "metadata": {},
   "outputs": [],
   "source": [
    "d=5\n",
    "e=3\n",
    "f=d/e"
   ]
  },
  {
   "cell_type": "code",
   "execution_count": 22,
   "metadata": {},
   "outputs": [
    {
     "data": {
      "text/plain": [
       "1.6666666666666667"
      ]
     },
     "execution_count": 22,
     "metadata": {},
     "output_type": "execute_result"
    }
   ],
   "source": [
    "f"
   ]
  },
  {
   "cell_type": "markdown",
   "metadata": {},
   "source": [
    " "
   ]
  },
  {
   "cell_type": "markdown",
   "metadata": {},
   "source": [
    "Nazwa 'zmienna' wskazuje na możliwość modyfikacji informacji, jaka będzie do niej przypisana w programie.<br>\n",
    "Przykładowo, bardzo popularnym zabiegiem jest tworzenie zmiennej w charakterze licznika, która ma za zadanie zliczać np. ilość zanalizowanych plików. Do tego celu najpierw deklaruje się zmienną o wartości 0, a następnie zwiększa jej wartość po analizie każdego pliku."
   ]
  },
  {
   "cell_type": "code",
   "execution_count": 23,
   "metadata": {},
   "outputs": [],
   "source": [
    "licznik = 0"
   ]
  },
  {
   "cell_type": "code",
   "execution_count": 24,
   "metadata": {},
   "outputs": [],
   "source": [
    "licznik = licznik + 1 #przy każdym wykonaniu kodu z tej komórki, wartość zmiennej licznik wzrośnie o 1"
   ]
  },
  {
   "cell_type": "code",
   "execution_count": 25,
   "metadata": {},
   "outputs": [],
   "source": [
    "licznik +=2"
   ]
  },
  {
   "cell_type": "markdown",
   "metadata": {},
   "source": [
    "Dzięki wspomnianej wcześniej kolejności interpretacji kodu (najpierw prawa strona równania, potem lewa), możliwe jest wzięcie obecnej wartości licznika, dodanie do niej 1 a następnie przypisanie nowej wartości do zmiennej.<br>\n",
    "Konstrukcje podobne do powyższej są tak częste, że wiele języków programowania przewiduje ich skrócone wersje. Nie inaczej jest z Pythonem."
   ]
  },
  {
   "cell_type": "markdown",
   "metadata": {},
   "source": [
    "| Wersja pełna | Wersja skrócona |\n",
    "| :-: | :-: |\n",
    "| licznik = licznik + 2 | licznik += 2 |\n",
    "| licznik = licznik - 2 | licznik -= 2 |\n",
    "| licznik = licznik * 2 | licznik \\*= 2 |\n",
    "| licznik = licznik / 2 | licznik /= 2 |"
   ]
  },
  {
   "cell_type": "markdown",
   "metadata": {},
   "source": [
    "Po pewnym czasie nie sposób zauważyć, że modyfikacja zmiennej, tak naprawdę polega na wykonaniu jakiejś operacji na starej zmiennej i przypisaniu nowej wartości pod tę samą zmienną. Dlatego modyfikacja zmiennej jest raczej skrótem myślowym.  \n",
    "Jest to istotne przede wszystkim w momencie posiadania zmiennych o podobnej nazwie. Jeśli bowiem wywołamy zmienną po raz drugi, tylko z inną wartością, pierwsza wartość zostanie utracona - bardzo łatwo jest w ten sposób nadpisać sobie zmienną i spowodować niewłaściwe działanie programu."
   ]
  },
  {
   "cell_type": "code",
   "execution_count": 26,
   "metadata": {},
   "outputs": [
    {
     "name": "stdout",
     "output_type": "stream",
     "text": [
      "42\n"
     ]
    }
   ],
   "source": [
    "moja_zmienna = \"chcę tu mieć napis\"\n",
    "moja_zmienna = 42\n",
    "\n",
    "print(moja_zmienna)"
   ]
  },
  {
   "cell_type": "markdown",
   "metadata": {},
   "source": [
    "Widzimy, że po napisie pierwotnie przypisanym do zmiennej nie pozostał żaden ślad. Dlatego należy bardzo uważnie tworzyć nazwy dla zmiennych. W bardziej rozbudowanych programach pewną pomocą są zmienne lokalne i globalne, którym przyjrzymy się dokładnie podczas warsztatu poświęconego funkcjom."
   ]
  },
  {
   "cell_type": "markdown",
   "metadata": {},
   "source": [
    "#### Dozwolone nazwy"
   ]
  },
  {
   "cell_type": "markdown",
   "metadata": {},
   "source": [
    "Python pozwala na prawie nieograniczoną dowolność w dobieraniu nazw dla wszystkich obiektów dostępnych w języku. Istnieje jednak kilka drobnych ograniczeń.<br>\n",
    "Po pierwsze, każda nazwa musi zaczynać się od litery albo od podkreślnika _ (zatem odpadają cyfry i znaki specjalne).<br>\n",
    "Po drugie, istnieje grupa nazw powiązana z samą konstrukcją języka i jako takie, są to nazwy zastrzeżone. Poniżej możemy zobaczyć ich listę."
   ]
  },
  {
   "cell_type": "code",
   "execution_count": 27,
   "metadata": {},
   "outputs": [
    {
     "name": "stdout",
     "output_type": "stream",
     "text": [
      "['ArithmeticError', 'AssertionError', 'AttributeError', 'BaseException', 'BlockingIOError', 'BrokenPipeError', 'BufferError', 'BytesWarning', 'ChildProcessError', 'ConnectionAbortedError', 'ConnectionError', 'ConnectionRefusedError', 'ConnectionResetError', 'DeprecationWarning', 'EOFError', 'Ellipsis', 'EnvironmentError', 'Exception', 'False', 'FileExistsError', 'FileNotFoundError', 'FloatingPointError', 'FutureWarning', 'GeneratorExit', 'IOError', 'ImportError', 'ImportWarning', 'IndentationError', 'IndexError', 'InterruptedError', 'IsADirectoryError', 'KeyError', 'KeyboardInterrupt', 'LookupError', 'MemoryError', 'ModuleNotFoundError', 'NameError', 'None', 'NotADirectoryError', 'NotImplemented', 'NotImplementedError', 'OSError', 'OverflowError', 'PendingDeprecationWarning', 'PermissionError', 'ProcessLookupError', 'RecursionError', 'ReferenceError', 'ResourceWarning', 'RuntimeError', 'RuntimeWarning', 'StopAsyncIteration', 'StopIteration', 'SyntaxError', 'SyntaxWarning', 'SystemError', 'SystemExit', 'TabError', 'TimeoutError', 'True', 'TypeError', 'UnboundLocalError', 'UnicodeDecodeError', 'UnicodeEncodeError', 'UnicodeError', 'UnicodeTranslateError', 'UnicodeWarning', 'UserWarning', 'ValueError', 'Warning', 'WindowsError', 'ZeroDivisionError', '__IPYTHON__', '__build_class__', '__debug__', '__doc__', '__import__', '__loader__', '__name__', '__package__', '__spec__', 'abs', 'all', 'any', 'ascii', 'bin', 'bool', 'bytearray', 'bytes', 'callable', 'chr', 'classmethod', 'compile', 'complex', 'copyright', 'credits', 'delattr', 'dict', 'dir', 'display', 'divmod', 'enumerate', 'eval', 'exec', 'filter', 'float', 'format', 'frozenset', 'get_ipython', 'getattr', 'globals', 'hasattr', 'hash', 'help', 'hex', 'id', 'input', 'int', 'isinstance', 'issubclass', 'iter', 'len', 'license', 'list', 'locals', 'map', 'max', 'memoryview', 'min', 'next', 'object', 'oct', 'open', 'ord', 'pow', 'print', 'property', 'range', 'repr', 'reversed', 'round', 'set', 'setattr', 'slice', 'sorted', 'staticmethod', 'str', 'sum', 'super', 'tuple', 'type', 'vars', 'zip']\n",
      "['False', 'None', 'True', 'and', 'as', 'assert', 'break', 'class', 'continue', 'def', 'del', 'elif', 'else', 'except', 'finally', 'for', 'from', 'global', 'if', 'import', 'in', 'is', 'lambda', 'nonlocal', 'not', 'or', 'pass', 'raise', 'return', 'try', 'while', 'with', 'yield']\n"
     ]
    }
   ],
   "source": [
    "import keyword\n",
    "import builtins\n",
    "\n",
    "print(dir(builtins))\n",
    "print(keyword.kwlist)"
   ]
  },
  {
   "cell_type": "markdown",
   "metadata": {},
   "source": [
    "Rozszerzeniem punktu drugiego jest unikanie nazw, które mogą być elementami modułów przez nas używanych. Dla przykładu, jeśli będziemy wykorzystywali bibliotekę **math** warto unikać nazw typowych dla działań matematycznych, np. sin, cos czy tan. W innym wypadku może dojść do konfliktu i niepoprawnego działania programu."
   ]
  },
  {
   "cell_type": "markdown",
   "metadata": {},
   "source": [
    "<a href='#top' style='float: right; font-size: 13px;'>Do początku</a>  "
   ]
  },
  {
   "cell_type": "markdown",
   "metadata": {},
   "source": [
    " "
   ]
  },
  {
   "cell_type": "markdown",
   "metadata": {},
   "source": [
    " "
   ]
  },
  {
   "cell_type": "markdown",
   "metadata": {},
   "source": [
    "## Komentowanie"
   ]
  },
  {
   "cell_type": "markdown",
   "metadata": {},
   "source": [
    "W kilku miejscach tego warsztatu pojawiły się fragmenty tekstu oddzielone od reszty programu, które nie wywoływały żadnej akcji Pythona.  \n",
    "Są to komentarze, czyli fragmenty kodu, które mają być ignorowane przez Pythona i służą wyłącznie dokumentowaniu zawartości programu oraz informowaniu innych ludzi (np. koleżankę-programistkę), do czego służy konkretny fragment kodu."
   ]
  },
  {
   "cell_type": "markdown",
   "metadata": {},
   "source": [
    "Python pozwala na dwa podstawowe sposoby wprowadzania komentarzy.<br>\n",
    "Jednolinijkowe komentarze tworzone są za pomocą znaku <b>#</b>, który mówi Pythonowi, że wszystko, co znajduje się w tej linijce kodu za tym znakiem, należy zignorować."
   ]
  },
  {
   "cell_type": "code",
   "execution_count": 28,
   "metadata": {},
   "outputs": [],
   "source": [
    "zmienna = 'ta część kodu jest wykonywana' #natomiast wszystko po # jest ignorowane (Jupyter nawet zmienia kolor takiego kodu)"
   ]
  },
  {
   "cell_type": "markdown",
   "metadata": {},
   "source": [
    "Drugą możliwością są komentarze wielolinijkowe, które tworzy się poprzez zamknięcie komentarza wewnątrz potrójnych apostrofów."
   ]
  },
  {
   "cell_type": "code",
   "execution_count": 29,
   "metadata": {},
   "outputs": [
    {
     "name": "stdout",
     "output_type": "stream",
     "text": [
      "przypisuję informację\n"
     ]
    }
   ],
   "source": [
    "zmienna = 'przypisuję informację'\n",
    "\n",
    "'''Tutaj znajdzie się wszelka informacja,\n",
    "jaką chcielibyście przekazać kolejnym pokoleniom programistów,\n",
    "którzy odkopią kod po wielkiej apokalipsie atomowej'''\n",
    "\n",
    "print(zmienna)"
   ]
  },
  {
   "cell_type": "markdown",
   "metadata": {},
   "source": [
    "Na samym początku trudno dostrzec niezbędność opatrywania komentarzem swojego kodu, ale powinno się to stać jaśniejsze, kiedy będziemy omawiać funkcje czy obiekty oraz tworzyć dłuższe i bardziej skomplikowane programy.<br>\n",
    "Bardzo często zdarza się też, że wracając po pewnym czasie do własnego programu potrzebujemy sporej ilości czasu, żeby przypomnieć sobie jego szczegóły. Dobra dokumentacja pozwala zaoszczędzić mnóstwo czasu oraz frustracji podczas programowania."
   ]
  },
  {
   "cell_type": "markdown",
   "metadata": {},
   "source": [
    "<b>Ciekawostka:</b> Tak rozbudowane komentarze można wykorzystać do drukowania wielolinijkowego na konsoli."
   ]
  },
  {
   "cell_type": "code",
   "execution_count": 30,
   "metadata": {},
   "outputs": [
    {
     "name": "stdout",
     "output_type": "stream",
     "text": [
      "Tutaj znajdzie się wszelka informacja,\n",
      "jaką chcielibyście przekazać kolejnym pokoleniom programistów,\n",
      "którzy odkopią kod po wielkiej apokalipsie atomowej\n"
     ]
    }
   ],
   "source": [
    "print('''Tutaj znajdzie się wszelka informacja,\n",
    "jaką chcielibyście przekazać kolejnym pokoleniom programistów,\n",
    "którzy odkopią kod po wielkiej apokalipsie atomowej''')"
   ]
  },
  {
   "cell_type": "markdown",
   "metadata": {},
   "source": [
    "<a href='#top' style='float: right; font-size: 13px;'>Do początku</a>"
   ]
  },
  {
   "cell_type": "markdown",
   "metadata": {},
   "source": [
    " "
   ]
  },
  {
   "cell_type": "markdown",
   "metadata": {},
   "source": [
    "## Instrukcja <b>import</b>"
   ]
  },
  {
   "cell_type": "markdown",
   "metadata": {},
   "source": [
    "Na samym początku tego warsztatu importowaliśmy kilka bibliotek, więc na koniec omówmy sobie po co istnieje taki mechanizm w Pythonie.<br>\n",
    "Podobnie jak wiele (jeśli nie wszystkie) współczesne języki programowania, kod Pythona możemy podzielić na <b>rdzeń</b> (ang. core) oraz <b>elementy dodatkowe</b> (moduły, biblioteki). Podczas uruchomienia \"czystego\" Pythona, zostają załadowane postawowe funkcje i obiekty tego języka, które od razu mogą zostać użyte przez programistę.<br>\n",
    "Funkcja print, operacje artymetyczne, podstawowe typy zmiennych - to tylko niektóre z wielu elementów rdzenia Pythona, których użycie nie wymaga żadnego dodatkowego kodu. Siłą tego języka jest to, że z tych podstawowych elementów można budować większe i bardziej skomplikowane struktury.<br>\n",
    "Żeby ułatwić tworzenie, wykorzystywanie, zarządzanie i dzielenie się nimi, wprowadzono do Pythona modułowość, która pozwala tworzyć własne biblioteki, które wzbogacają dostępny repertuar funkcji, obiektów i mozłiwości przekształcania danych."
   ]
  },
  {
   "cell_type": "markdown",
   "metadata": {},
   "source": [
    "Instalator Anacondy, oprócz zainstalowania Pythona oraz Jupytera - interaktywnej powłoki, umieścił na komputerze pewnej ilości dodatkowych bibliotek i modułów wybranych pod kątem przydatności dla naukowców.<br>\n",
    "Przyjrzymy się teraz różnym sposobym importowania bibliotek i wykorzystywania funkcji w nich zawartych."
   ]
  },
  {
   "cell_type": "markdown",
   "metadata": {},
   "source": [
    " "
   ]
  },
  {
   "cell_type": "markdown",
   "metadata": {},
   "source": [
    "### Włączenie całej biblioteki"
   ]
  },
  {
   "cell_type": "markdown",
   "metadata": {},
   "source": [
    "Najprostszym sposobem jest po prostu włączenie całej biblioteki poprzez komendę:\n",
    "```python\n",
    "import <nazwa biblioteki>```"
   ]
  },
  {
   "cell_type": "code",
   "execution_count": 31,
   "metadata": {},
   "outputs": [
    {
     "name": "stdout",
     "output_type": "stream",
     "text": [
      "4.0\n",
      "49\n"
     ]
    }
   ],
   "source": [
    "import numpy\n",
    "\n",
    "print(numpy.sqrt(16))\n",
    "print(numpy.square(7))"
   ]
  },
  {
   "cell_type": "markdown",
   "metadata": {},
   "source": [
    "Możemy wtedy korzystać ze wszystkich funkcji i obiektów zawartych w takim module, musimy jednak przed ich nazwą dodać nazwę modułu z jakiego pochodzą. W naszym przypadku, przed funkcjami pierwiastkowania i potęgowania dodajemy nazwę 'numpy'."
   ]
  },
  {
   "cell_type": "markdown",
   "metadata": {},
   "source": [
    "Często jednak moduły będą miały długie albo niewiele znaczące nazwy. Możemy je zastąpić własną nazwą. W przypadku numpy, przyjęło się skracać nazwę modułu do 'np'."
   ]
  },
  {
   "cell_type": "code",
   "execution_count": 32,
   "metadata": {},
   "outputs": [
    {
     "name": "stdout",
     "output_type": "stream",
     "text": [
      "4.0\n",
      "49\n"
     ]
    }
   ],
   "source": [
    "import numpy as np\n",
    "\n",
    "print(np.sqrt(16))\n",
    "print(np.square(7))"
   ]
  },
  {
   "cell_type": "markdown",
   "metadata": {},
   "source": [
    " "
   ]
  },
  {
   "cell_type": "markdown",
   "metadata": {},
   "source": [
    "### Import wybranych elementów"
   ]
  },
  {
   "cell_type": "markdown",
   "metadata": {},
   "source": [
    "Możliwe jest również załadowanie pojedynczych fukcji czy klas z całego modułu. Jest to rozwiązanie korzystne zwłaszcza w momencie, kiedy zamierzamy wykorzystać tylko jeden/kilka elementów. Skróci to czas ładowania biblioteki oraz ograniczy ilość elementów w przestrzeni roboczej Pythona."
   ]
  },
  {
   "cell_type": "code",
   "execution_count": 33,
   "metadata": {},
   "outputs": [
    {
     "name": "stdout",
     "output_type": "stream",
     "text": [
      "4.0\n",
      "49\n"
     ]
    }
   ],
   "source": [
    "from numpy import sqrt, square\n",
    "\n",
    "print(sqrt(16))\n",
    "print(square(7))"
   ]
  },
  {
   "cell_type": "markdown",
   "metadata": {},
   "source": [
    "Drugą korzyścią takiego rozwiązania jest możliwość korzystania z funkcji bez potrzeby dodawania przedrostka z nazwą modułu. Należy jednak zachować czujność, ponieważ może dojść do konfliktu nazw (np. stworzyliśmy wcześniej własną funkcję o takiej samej nazwie), co spowoduje błędne działanie programu.<br>\n",
    "Dlatego też nie poleca się wczytywać w ten sposób całych modułów (choć jest to oczywiście możliwe za pomocą poniższej składni)."
   ]
  },
  {
   "cell_type": "code",
   "execution_count": 34,
   "metadata": {},
   "outputs": [
    {
     "name": "stdout",
     "output_type": "stream",
     "text": [
      "4.0\n"
     ]
    }
   ],
   "source": [
    "from numpy import *\n",
    "\n",
    "print(sqrt(16))"
   ]
  },
  {
   "cell_type": "markdown",
   "metadata": {},
   "source": [
    "Nie jesteśmy jednak zdani wyłącznie na inwencję twórców danego modułu. Nawet wczytując pojedynczą funkcję, możemy nadać własną nazwę."
   ]
  },
  {
   "cell_type": "code",
   "execution_count": 35,
   "metadata": {},
   "outputs": [
    {
     "name": "stdout",
     "output_type": "stream",
     "text": [
      "2.0\n"
     ]
    }
   ],
   "source": [
    "from numpy import sqrt as pierwiastek\n",
    "\n",
    "print(pierwiastek(4))"
   ]
  },
  {
   "cell_type": "markdown",
   "metadata": {},
   "source": [
    "<a href='#top' style='float: right; font-size: 13px;'>Do początku</a>  "
   ]
  },
  {
   "cell_type": "markdown",
   "metadata": {},
   "source": [
    " "
   ]
  },
  {
   "cell_type": "markdown",
   "metadata": {},
   "source": [
    "### Ćwiczenia:"
   ]
  },
  {
   "cell_type": "markdown",
   "metadata": {},
   "source": [
    "#### Przypisz poniższe wyrażenia do samodzielnie nazwanych zmiennych:\n",
    "<ul style=\"list-style-type: square;\">\n",
    "<li><span>Ilość tygodni w roku, jeśli demokratycznie wykluczylibyśmy poniedziałek jako dzień tygodnia.</span></li>\n",
    "<li><span>Wynik dzielenia swojego roku urodzenia przez różnicę dnia i miesiąca urodzenia.</span></li>\n",
    "<li><span>Ilość maratończyków potrzebną do przebiegnięcia dystansu od Ziemi do Słońca (przyjmijmy umownie 150 mln km).</span></li>\n",
    "<li><span>Wynik działania $2^{3^4}$</span></li>\n",
    "<li><span>Równanie wynoszące dokładnie 117, jedynie przy użyciu cyfr 2, 6 i 9.</span></li>\n",
    "</ul>"
   ]
  },
  {
   "cell_type": "code",
   "execution_count": null,
   "metadata": {},
   "outputs": [],
   "source": []
  },
  {
   "cell_type": "markdown",
   "metadata": {},
   "source": [
    "#### Za pomocą wyszukiwarki znajdź w module numpy funkcję do wyliczania logarytmu dziesiętnego z podanej liczby. Zaimportuj ją jako 'logartym10' i użyj na zmiennych z poprzedniego ćwiczenia. "
   ]
  },
  {
   "cell_type": "code",
   "execution_count": null,
   "metadata": {},
   "outputs": [],
   "source": []
  },
  {
   "cell_type": "markdown",
   "metadata": {},
   "source": [
    " "
   ]
  },
  {
   "cell_type": "markdown",
   "metadata": {},
   "source": [
    " "
   ]
  },
  {
   "cell_type": "markdown",
   "metadata": {},
   "source": [
    " "
   ]
  }
 ],
 "metadata": {
  "anaconda-cloud": {},
  "kernelspec": {
   "display_name": "Python 3",
   "language": "python",
   "name": "python3"
  },
  "language_info": {
   "codemirror_mode": {
    "name": "ipython",
    "version": 3
   },
   "file_extension": ".py",
   "mimetype": "text/x-python",
   "name": "python",
   "nbconvert_exporter": "python",
   "pygments_lexer": "ipython3",
   "version": "3.6.6"
  }
 },
 "nbformat": 4,
 "nbformat_minor": 2
}

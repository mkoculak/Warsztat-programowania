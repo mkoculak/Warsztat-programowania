{
 "cells": [
  {
   "cell_type": "markdown",
   "metadata": {},
   "source": [
    "# Warsztat 5 - obiekty i metody"
   ]
  },
  {
   "cell_type": "markdown",
   "metadata": {},
   "source": [
    "<font size=2>Przed pracą z notatnikiem polecam wykonać kod w ostatniej komórce (zawiera html i css), dzięki czemu całość będzie bardziej estetyczna :)</font>"
   ]
  },
  {
   "cell_type": "markdown",
   "metadata": {},
   "source": [
    " "
   ]
  },
  {
   "cell_type": "markdown",
   "metadata": {},
   "source": [
    " "
   ]
  },
  {
   "cell_type": "markdown",
   "metadata": {},
   "source": [
    "## Ćwiczenia powtórkowe z warsztatu 2"
   ]
  },
  {
   "cell_type": "markdown",
   "metadata": {},
   "source": [
    "#### Listy, słowniki:"
   ]
  },
  {
   "cell_type": "markdown",
   "metadata": {
    "collapsed": false
   },
   "source": [
    "Stwórz słownik \"trasa\" z 5 pozycjami np. \"Kraków - Tarnów\": 60<br>\n",
    "Stwórz listę \"przebieg\", póki co pustą"
   ]
  },
  {
   "cell_type": "code",
   "execution_count": 17,
   "metadata": {
    "collapsed": false
   },
   "outputs": [
    {
     "name": "stdout",
     "output_type": "stream",
     "text": [
      "{'Krk-Waw': 250, 'Krk-Prg': 500, 'Krk-Ktw': 80, 'Krk-Trn': 60, 'Krk-Kln': 770} []\n"
     ]
    }
   ],
   "source": [
    "trasy = {\"Krk-Trn\": 60, \"Krk-Waw\": 250, \"Krk-Kln\": 770, \"Krk-Ktw\": 80, \"Krk-Prg\":500}\n",
    "przebieg = []\n",
    "print trasy, przebieg"
   ]
  },
  {
   "cell_type": "markdown",
   "metadata": {},
   "source": [
    "#### Kontrola przepływu, funkcje:"
   ]
  },
  {
   "cell_type": "markdown",
   "metadata": {
    "collapsed": false
   },
   "source": [
    "Funkcja \"podroz\", która bierze 2 arg. (poczatek, koniec):\n",
    "- wyszukać trasę w słowniku\n",
    "- dodać przejechane kilometry do listy 'przebieg'\n",
    "- pomnożyć długośćtrasy ze zmienną 'spalanie' i odjąć wynik od zmiennej 'bak'"
   ]
  },
  {
   "cell_type": "code",
   "execution_count": 20,
   "metadata": {
    "collapsed": false
   },
   "outputs": [],
   "source": [
    "def podroz(poczatek,koniec):\n",
    "    trasa=\"%s-%s\" % (poczatek,koniec)\n",
    "    if trasa in trasy.keys():\n",
    "        droga=trasy[trasa]\n",
    "    else:\n",
    "        print \"zła trasa\"\n",
    "    przebieg.append(droga)\n",
    "    bak=bak-(droga*spalanie)"
   ]
  },
  {
   "cell_type": "code",
   "execution_count": 21,
   "metadata": {
    "collapsed": false
   },
   "outputs": [
    {
     "name": "stdout",
     "output_type": "stream",
     "text": [
      "250\n"
     ]
    }
   ],
   "source": [
    "podroz(\"Krk\",\"Waw\")"
   ]
  },
  {
   "cell_type": "markdown",
   "metadata": {},
   "source": [
    " "
   ]
  },
  {
   "cell_type": "markdown",
   "metadata": {},
   "source": [
    " "
   ]
  },
  {
   "cell_type": "markdown",
   "metadata": {},
   "source": [
    " "
   ]
  },
  {
   "cell_type": "markdown",
   "metadata": {},
   "source": [
    "## Obiekty"
   ]
  },
  {
   "cell_type": "markdown",
   "metadata": {},
   "source": [
    "Wszystko, z czym do tej pory mieliśmy kontakt podczas warsztatów (a więc zmienne, listy, słowniki itd.), jest obiektem języka python. Żeby lepiej rozumieć działanie samego pythona oraz poszczególnych jego elementów, przyjrzymy się dokładnie czym jest obiekt oraz podejmiemy próbę stworzenia nowych obiektów."
   ]
  },
  {
   "cell_type": "markdown",
   "metadata": {},
   "source": [
    "Zamiast jednak ładować się teraz w teorię programowania obiektowego, przejdziemy od razu do tworzenia nowego obiektu.<br>\n",
    "Poniżej możemy zobaczyć składnię do tego potrzebną:\n",
    "```python\n",
    "class NazwaKlasyObiektow:\n",
    "    pass```"
   ]
  },
  {
   "cell_type": "code",
   "execution_count": 22,
   "metadata": {
    "collapsed": true
   },
   "outputs": [],
   "source": [
    "class Samochod:\n",
    "    pass"
   ]
  },
  {
   "cell_type": "markdown",
   "metadata": {},
   "source": [
    "Operatorem wykorzystywanym do stworzenia obiektu jest słowo <b>class</b>, po którym podajemy nazwę nowo-utworzonej klasy obiektów.<br>\n",
    "Komenda <b>pass</b> mówi interpreterowi tylko tyle, że nie musi wykonywać żadnej czynności. "
   ]
  },
  {
   "cell_type": "markdown",
   "metadata": {},
   "source": [
    "Wymyślmy teraz jakiś obiekt należący do tej klasy, nazwiemy go \"przedmiot\". Przynależność do danej klasy sprawia, że obiekt posiada wszystkie charakterystyki jak wybrana klasa. Żeby dołączyć ten obiekt do klasy, wystarczy postawić znak '=' pomiędzy instancją (naszym \"przedmiotem\") a klasą obiektów:"
   ]
  },
  {
   "cell_type": "code",
   "execution_count": 23,
   "metadata": {
    "collapsed": true
   },
   "outputs": [],
   "source": [
    "micra = Samochod()"
   ]
  },
  {
   "cell_type": "code",
   "execution_count": 24,
   "metadata": {
    "collapsed": false
   },
   "outputs": [
    {
     "data": {
      "text/plain": [
       "instance"
      ]
     },
     "execution_count": 24,
     "metadata": {},
     "output_type": "execute_result"
    }
   ],
   "source": [
    "type(micra)"
   ]
  },
  {
   "cell_type": "code",
   "execution_count": 25,
   "metadata": {
    "collapsed": false
   },
   "outputs": [
    {
     "data": {
      "text/plain": [
       "classobj"
      ]
     },
     "execution_count": 25,
     "metadata": {},
     "output_type": "execute_result"
    }
   ],
   "source": [
    "type(Samochod)"
   ]
  },
  {
   "cell_type": "markdown",
   "metadata": {},
   "source": [
    " "
   ]
  },
  {
   "cell_type": "markdown",
   "metadata": {},
   "source": [
    "Czas dodać do naszej klasy obiektów jakieś funkcjonalności, dzięki czemu klasa będzie lepiej zdefiniowana (i użyteczna).<br>\n",
    "Wszelkie funkcje, jakie będą przypisane do danej klasy nazywane są jej <b>metodami</b> a ich wywołanie będzie przebiegać inaczej niż w przypadku funkcji, które definiowaliśmy podczas poprzedniego warsztatu.<br><br>\n",
    "Najbardziej podstawową funkcją klasy jest <b>\\_\\_init\\_\\_</b>, która inicjalizuje poszczególne obiekty tworzone w ramach klasy. Ta specjalna funkcja nazywana jest też **funkcją magiczną** albo **konstruktorem**. Oznacza to, że za jej pomocą tworzone są wszystkie zmienne lub uruchamiane są wszystkie algorytmy, z których potem będą mogły korzystać pozostałe metody (funkcja w klasie = **metoda**, zmienna w klasie = **atrybut**)."
   ]
  },
  {
   "cell_type": "markdown",
   "metadata": {},
   "source": [
    "Stwórzmy zatem funkcję inicjującą obiektyw naszej klasie: "
   ]
  },
  {
   "cell_type": "code",
   "execution_count": 26,
   "metadata": {
    "collapsed": false
   },
   "outputs": [],
   "source": [
    " class Samochod:\n",
    "    def __init__(self, spalanie, kolor):\n",
    "        self.kolor = kolor\n",
    "        self.spalanie = spalanie"
   ]
  },
  {
   "cell_type": "markdown",
   "metadata": {},
   "source": [
    "Wewnątrz funkcji inicjującej zostały podane trzy zmienne (self, nazwa i znak). Znaczenie elementu <b>self</b> pojawi się trochę później. Natomiast 'nazwa' oraz 'znak' pozwolą nam na ustanowienie dwóch atrybutów stworzonego obiektu. Żeby całość zadziałała poprawnie, musimy podać te wartości podczas tworzenia instancji."
   ]
  },
  {
   "cell_type": "code",
   "execution_count": 27,
   "metadata": {
    "collapsed": true
   },
   "outputs": [],
   "source": [
    "micra = Samochod(7,'żółty')\n",
    "corsa = Samochod(5,'czerwona')"
   ]
  },
  {
   "cell_type": "markdown",
   "metadata": {},
   "source": [
    "Żeby przekonać się czy całość została poprawnie przypisana, możemy \"podejrzeć\" atrybuty wewnątrz obiektu za pomocą składni:\n",
    "```python\n",
    "<nazwa_obiektu>.<nazwa_atrybutu>```"
   ]
  },
  {
   "cell_type": "code",
   "execution_count": 28,
   "metadata": {
    "collapsed": false
   },
   "outputs": [
    {
     "name": "stdout",
     "output_type": "stream",
     "text": [
      "7 żółty\n",
      "5 czerwona\n"
     ]
    }
   ],
   "source": [
    "print micra.spalanie, micra.kolor\n",
    "print corsa.spalanie, corsa.kolor"
   ]
  },
  {
   "cell_type": "markdown",
   "metadata": {},
   "source": [
    "Za pomocą funkcji <b>dir( )</b> możemy łatwo zajrzeć do wnętrza klasy i sprawdzić, co tam się znajduje."
   ]
  },
  {
   "cell_type": "code",
   "execution_count": 31,
   "metadata": {
    "collapsed": false
   },
   "outputs": [
    {
     "data": {
      "text/plain": [
       "['__call__',\n",
       " '__class__',\n",
       " '__cmp__',\n",
       " '__delattr__',\n",
       " '__doc__',\n",
       " '__format__',\n",
       " '__func__',\n",
       " '__get__',\n",
       " '__getattribute__',\n",
       " '__hash__',\n",
       " '__init__',\n",
       " '__new__',\n",
       " '__reduce__',\n",
       " '__reduce_ex__',\n",
       " '__repr__',\n",
       " '__self__',\n",
       " '__setattr__',\n",
       " '__sizeof__',\n",
       " '__str__',\n",
       " '__subclasshook__',\n",
       " 'im_class',\n",
       " 'im_func',\n",
       " 'im_self']"
      ]
     },
     "execution_count": 31,
     "metadata": {},
     "output_type": "execute_result"
    }
   ],
   "source": [
    "dir(Samochod.__init__)"
   ]
  },
  {
   "cell_type": "markdown",
   "metadata": {},
   "source": [
    "Podobnie możemy zajrzeć do poszczególnych instancji utworzonych w ramach danej klasy:"
   ]
  },
  {
   "cell_type": "code",
   "execution_count": 33,
   "metadata": {
    "collapsed": false
   },
   "outputs": [
    {
     "data": {
      "text/plain": [
       "['__doc__', '__init__', '__module__', 'kolor', 'spalanie']"
      ]
     },
     "execution_count": 33,
     "metadata": {},
     "output_type": "execute_result"
    }
   ],
   "source": [
    "dir(micra.__init__.__self__)"
   ]
  },
  {
   "cell_type": "markdown",
   "metadata": {},
   "source": [
    "Wracając do atrybutu self. Jak mogliśmy zauważyć, definicja naszej klasy wygląda tak \n",
    "<br>```__init__(self, nazwa, znak).```<br><br>\n",
    "Jednak podczas wywołania instancji tej klasy, wprowadziliśmy jedynie dwa elementy \n",
    "<br>```przedmiot = MojObiekt('jeden',1)```.<br>\n",
    "Self pozostaje niedefiniowalne przez użytkownika, ale służy klasie do powiązania atrybutów z daną instancją. Self służy jako atrybut przechowujący sam obiekt - dzięki czemu możemy go i jego własności przekazywać do pozostałych funkcji wewnątrz klasy."
   ]
  },
  {
   "cell_type": "markdown",
   "metadata": {},
   "source": [
    "Tak naprawdę, nie musimy wcale używa słowa 'self'. Każda poprawnie zbudowana w pythonie nazwa może być użyta w miejscu self, aby wskazać elementy podpięte pod instancję klasy. Musi być jednak używana systematycznie wewnątrz definicji klasy. Self jest powszechną konwencją programistyczną i jeśli nie ma powodu, zapewne lepiej się jej trzymać.<br>\n",
    "Niemniej zobaczmy, jak potencjalnie można skonstruować klasę:"
   ]
  },
  {
   "cell_type": "code",
   "execution_count": 34,
   "metadata": {
    "collapsed": true
   },
   "outputs": [],
   "source": [
    "class MojaRzecz:\n",
    "    def __init__(cokolwiek, dlugosc, szerokosc):\n",
    "        cokolwiek.dlugosc = dlugosc\n",
    "        cokolwiek.szerokosc = szerokosc"
   ]
  },
  {
   "cell_type": "code",
   "execution_count": 35,
   "metadata": {
    "collapsed": false
   },
   "outputs": [
    {
     "name": "stdout",
     "output_type": "stream",
     "text": [
      "100 70\n"
     ]
    }
   ],
   "source": [
    "stol = MojaRzecz(100,70)\n",
    "print stol.dlugosc, stol.szerokosc"
   ]
  },
  {
   "cell_type": "markdown",
   "metadata": {},
   "source": [
    " "
   ]
  },
  {
   "cell_type": "markdown",
   "metadata": {},
   "source": [
    "Poszczególne obiekty nie są ograniczone wyłącznie atrybutami znajdującymi się wewnątrz ich klasy. Podobnie do zmiennych lokalnych i globalnych, także tutaj mamy podział istniejących atrybutów.<br>\n",
    "**Globalne = atrybuty klasy** - mają je wszystkie instancje klasy<br>\n",
    "**Lokalne - aktrybuty instancji** - ma je tylko ta konkretna instancja klasy"
   ]
  },
  {
   "cell_type": "code",
   "execution_count": 36,
   "metadata": {
    "collapsed": false
   },
   "outputs": [
    {
     "ename": "TypeError",
     "evalue": "__init__() takes exactly 3 arguments (2 given)",
     "output_type": "error",
     "traceback": [
      "\u001b[1;31m---------------------------------------------------------------------------\u001b[0m",
      "\u001b[1;31mTypeError\u001b[0m                                 Traceback (most recent call last)",
      "\u001b[1;32m<ipython-input-36-1605207715f2>\u001b[0m in \u001b[0;36m<module>\u001b[1;34m()\u001b[0m\n\u001b[1;32m----> 1\u001b[1;33m \u001b[0mpanda\u001b[0m \u001b[1;33m=\u001b[0m \u001b[0mSamochod\u001b[0m\u001b[1;33m(\u001b[0m\u001b[1;36m8\u001b[0m\u001b[1;33m)\u001b[0m\u001b[1;33m\u001b[0m\u001b[0m\n\u001b[0m",
      "\u001b[1;31mTypeError\u001b[0m: __init__() takes exactly 3 arguments (2 given)"
     ]
    }
   ],
   "source": [
    "panda = Samochod(8)"
   ]
  },
  {
   "cell_type": "code",
   "execution_count": 37,
   "metadata": {
    "collapsed": true
   },
   "outputs": [],
   "source": [
    "micra.kolo_zapasowe = True"
   ]
  },
  {
   "cell_type": "code",
   "execution_count": 38,
   "metadata": {
    "collapsed": false
   },
   "outputs": [
    {
     "name": "stdout",
     "output_type": "stream",
     "text": [
      "['__doc__', '__init__', '__module__', 'kolo_zapasowe', 'kolor', 'spalanie']\n",
      "True\n"
     ]
    }
   ],
   "source": [
    "print dir(micra)\n",
    "print micra.kolo_zapasowe"
   ]
  },
  {
   "cell_type": "markdown",
   "metadata": {},
   "source": [
    " "
   ]
  },
  {
   "cell_type": "markdown",
   "metadata": {},
   "source": [
    "Czas wzbogacić naszą klasę o <b>metody</b> (czyt. funkcje wewnątrz klasy), dzięki którym będziemy mogli wykonywać na obiektach dowolne przekształcenia."
   ]
  },
  {
   "cell_type": "code",
   "execution_count": 51,
   "metadata": {
    "collapsed": true
   },
   "outputs": [],
   "source": [
    "class Samochod:\n",
    "    def __init__(self, spalanie, kolor, kolo_zapasowe):\n",
    "        self.spalanie = spalanie\n",
    "        self.kolor = kolor\n",
    "        self.kolo_zapasowe = kolo_zapasowe\n",
    "        self.przebieg = []\n",
    "        self.bak = 0\n",
    "        \n",
    "    def podroz(self, poczatek,koniec):\n",
    "        trasa=\"%s-%s\" % (poczatek,koniec)\n",
    "        if trasa in trasy.keys():\n",
    "            droga=trasy[trasa]\n",
    "        else:\n",
    "            print \"zła trasa\"\n",
    "        self.przebieg.append(droga)\n",
    "        self.bak=self.bak-((droga/100.0)*self.spalanie)\n",
    "        \n",
    "    def tankowanie(self, ilosc=40):\n",
    "        self.bak=self.bak+ilosc\n",
    "        if self.bak>40:\n",
    "            self.bak=40"
   ]
  },
  {
   "cell_type": "code",
   "execution_count": 52,
   "metadata": {
    "collapsed": true
   },
   "outputs": [],
   "source": [
    "micra = Samochod(7,'żółty',True)"
   ]
  },
  {
   "cell_type": "code",
   "execution_count": 53,
   "metadata": {
    "collapsed": false
   },
   "outputs": [
    {
     "name": "stdout",
     "output_type": "stream",
     "text": [
      "0\n"
     ]
    }
   ],
   "source": [
    "print micra.bak"
   ]
  },
  {
   "cell_type": "code",
   "execution_count": 54,
   "metadata": {
    "collapsed": false
   },
   "outputs": [
    {
     "name": "stdout",
     "output_type": "stream",
     "text": [
      "40\n"
     ]
    }
   ],
   "source": [
    "micra.tankowanie(50)\n",
    "print micra.bak"
   ]
  },
  {
   "cell_type": "code",
   "execution_count": 55,
   "metadata": {
    "collapsed": false
   },
   "outputs": [
    {
     "name": "stdout",
     "output_type": "stream",
     "text": [
      "[80]\n",
      "34.4\n"
     ]
    }
   ],
   "source": [
    "micra.podroz(\"Krk\",\"Ktw\")\n",
    "print micra.przebieg\n",
    "print micra.bak"
   ]
  },
  {
   "cell_type": "code",
   "execution_count": null,
   "metadata": {
    "collapsed": true
   },
   "outputs": [],
   "source": [
    "class MojaRzecz:\n",
    "    '''Definicja klasy - czy da się ją zobaczyć za pomocą funkcji help?'''\n",
    "\n",
    "    def __init__(self, dlugosc, szerokosc, wysokosc):\n",
    "        self.dlugosc = dlugosc\n",
    "        self.szerokosc = szerokosc\n",
    "        self.wysokosc = wysokosc\n",
    "        \n",
    "    def powierzchnia(self):\n",
    "        return (self.dlugosc * self.szerokosc)/10000.0\n",
    "    \n",
    "    def objetosc(self):\n",
    "        return (self.dlugosc * self.szerokosc * self.wysokosc)/1000000.0\n",
    "    \n",
    "    def udzwig(self, kg):\n",
    "        if kg >= (((self.dlugosc * self.szerokosc)/10000.0)*17.5):\n",
    "            return \"Zbyt duży ciężar.\"\n",
    "        else:\n",
    "            return \"Udźwignie się.\""
   ]
  },
  {
   "cell_type": "code",
   "execution_count": null,
   "metadata": {
    "collapsed": true
   },
   "outputs": [],
   "source": [
    "stol = MojaRzecz(100,70,85)"
   ]
  },
  {
   "cell_type": "code",
   "execution_count": null,
   "metadata": {
    "collapsed": false
   },
   "outputs": [],
   "source": [
    "print stol.powierzchnia()\n",
    "print stol.objetosc()"
   ]
  },
  {
   "cell_type": "code",
   "execution_count": null,
   "metadata": {
    "collapsed": false
   },
   "outputs": [],
   "source": [
    "print stol.udzwig(15)"
   ]
  },
  {
   "cell_type": "markdown",
   "metadata": {},
   "source": [
    "Inny sposób wywołania tej samej funkcji:"
   ]
  },
  {
   "cell_type": "code",
   "execution_count": null,
   "metadata": {
    "collapsed": false
   },
   "outputs": [],
   "source": [
    "print MojaRzecz.udzwig(stol,15)"
   ]
  },
  {
   "cell_type": "markdown",
   "metadata": {},
   "source": [
    " "
   ]
  },
  {
   "cell_type": "markdown",
   "metadata": {},
   "source": [
    " "
   ]
  },
  {
   "cell_type": "markdown",
   "metadata": {},
   "source": [
    "### Dziedziczenie "
   ]
  },
  {
   "cell_type": "markdown",
   "metadata": {},
   "source": [
    "Pomyślmy o sytuacji, w której chcemy stworzyć nową klasę obiektów, która będzie doszczegółowieniem jakiejś istniejącej już klasy. Chcielibyśmy, żeby nowa klasa miała wszystkie własności tej starej plus klika nowych, zarezerwowanych wyłącznie dla niej. Zamiast przepisywać \"wnętrze\" klasy na nowo, możemy utworzyć klasę \"dziecko\", która będzie <b>dziedziczyć</b> po klasie rodzicu.<br>\n",
    "Stwórzmy zatem klasę książki, będącą dzieckiem \"MojejRzeczy\"."
   ]
  },
  {
   "cell_type": "code",
   "execution_count": 66,
   "metadata": {
    "collapsed": false
   },
   "outputs": [],
   "source": [
    "class MojaMicra(Samochod):\n",
    "    def __init__(self, spalanie, kolor,kolo_zapasowe):\n",
    "        self.spalanie = spalanie\n",
    "        self.kolor = kolor\n",
    "        self.kolo_zapasowe = kolo_zapasowe\n",
    "        self.przebieg = []\n",
    "        self.bak = 0\n",
    "        \n",
    "    def muzyka(self,nastroj):\n",
    "        if nastroj == \"wesoly\":\n",
    "            print \"Gram Fasolki\"\n",
    "        elif nastroj == \"smutny\":\n",
    "            print \"Gram symfonię Bacha\"\n",
    "        else:\n",
    "            print \"Nie mam dla Ciebie dobrej muzyki.\""
   ]
  },
  {
   "cell_type": "code",
   "execution_count": 67,
   "metadata": {
    "collapsed": false
   },
   "outputs": [],
   "source": [
    "mi_cra = MojaMicra(7, 'żółty', True)"
   ]
  },
  {
   "cell_type": "code",
   "execution_count": 69,
   "metadata": {
    "collapsed": false
   },
   "outputs": [
    {
     "ename": "AttributeError",
     "evalue": "Samochod instance has no attribute 'muzyka'",
     "output_type": "error",
     "traceback": [
      "\u001b[1;31m---------------------------------------------------------------------------\u001b[0m",
      "\u001b[1;31mAttributeError\u001b[0m                            Traceback (most recent call last)",
      "\u001b[1;32m<ipython-input-69-149987a6f87a>\u001b[0m in \u001b[0;36m<module>\u001b[1;34m()\u001b[0m\n\u001b[1;32m----> 1\u001b[1;33m \u001b[0mmicra\u001b[0m\u001b[1;33m.\u001b[0m\u001b[0mmuzyka\u001b[0m\u001b[1;33m(\u001b[0m\u001b[1;34m\"wesoly\"\u001b[0m\u001b[1;33m)\u001b[0m\u001b[1;33m\u001b[0m\u001b[0m\n\u001b[0m",
      "\u001b[1;31mAttributeError\u001b[0m: Samochod instance has no attribute 'muzyka'"
     ]
    }
   ],
   "source": [
    "micra.muzyka(\"wesoly\")"
   ]
  },
  {
   "cell_type": "code",
   "execution_count": null,
   "metadata": {
    "collapsed": false
   },
   "outputs": [],
   "source": [
    "class Ksiazki(MojaRzecz,):\n",
    "    def __init__(self, dlugosc, szerokosc, wysokosc, strony):\n",
    "        self.dlugosc = dlugosc\n",
    "        self.szerokosc = szerokosc\n",
    "        self.wysokosc = wysokosc\n",
    "        self.strony = strony\n",
    "    def udzwig(self,kg):\n",
    "        return \"Książka nie jest stołem!\"\n",
    "    def ciezar(self):\n",
    "        if self.strony>500:\n",
    "            return \"Ciężka sprawa.\"\n",
    "        else:\n",
    "            return \"Do tramwaju.\""
   ]
  },
  {
   "cell_type": "code",
   "execution_count": null,
   "metadata": {
    "collapsed": false
   },
   "outputs": [],
   "source": [
    "nicze = Ksiazki(25,20,5,650)"
   ]
  },
  {
   "cell_type": "code",
   "execution_count": null,
   "metadata": {
    "collapsed": false
   },
   "outputs": [],
   "source": [
    "print nicze.powierzchnia()\n",
    "print nicze.udzwig(10)"
   ]
  },
  {
   "cell_type": "code",
   "execution_count": null,
   "metadata": {
    "collapsed": false
   },
   "outputs": [],
   "source": [
    "print nicze.ciezar()\n",
    "print stol.ciezar()"
   ]
  },
  {
   "cell_type": "markdown",
   "metadata": {},
   "source": [
    "Podobnie jak z funkcjami, przy klasach obiektów również mamy możliwość sprawdzenia ich zawartości poprzez funkcję <b>help( )</b>."
   ]
  },
  {
   "cell_type": "code",
   "execution_count": null,
   "metadata": {
    "collapsed": false
   },
   "outputs": [],
   "source": [
    "help(MojaRzecz)"
   ]
  },
  {
   "cell_type": "markdown",
   "metadata": {},
   "source": [
    " "
   ]
  },
  {
   "cell_type": "markdown",
   "metadata": {},
   "source": [
    " "
   ]
  },
  {
   "cell_type": "markdown",
   "metadata": {},
   "source": [
    " "
   ]
  },
  {
   "cell_type": "markdown",
   "metadata": {},
   "source": [
    " "
   ]
  },
  {
   "cell_type": "markdown",
   "metadata": {},
   "source": [
    " "
   ]
  },
  {
   "cell_type": "markdown",
   "metadata": {},
   "source": [
    " "
   ]
  },
  {
   "cell_type": "markdown",
   "metadata": {},
   "source": [
    "### Ćwiczenia z obiektów"
   ]
  },
  {
   "cell_type": "markdown",
   "metadata": {},
   "source": []
  },
  {
   "cell_type": "code",
   "execution_count": null,
   "metadata": {
    "collapsed": true
   },
   "outputs": [],
   "source": []
  },
  {
   "cell_type": "markdown",
   "metadata": {},
   "source": []
  },
  {
   "cell_type": "code",
   "execution_count": null,
   "metadata": {
    "collapsed": true
   },
   "outputs": [],
   "source": []
  },
  {
   "cell_type": "markdown",
   "metadata": {},
   "source": [
    " "
   ]
  },
  {
   "cell_type": "markdown",
   "metadata": {},
   "source": [
    " "
   ]
  },
  {
   "cell_type": "markdown",
   "metadata": {},
   "source": [
    " "
   ]
  },
  {
   "cell_type": "markdown",
   "metadata": {},
   "source": [
    "## Metody"
   ]
  },
  {
   "cell_type": "markdown",
   "metadata": {},
   "source": []
  },
  {
   "cell_type": "markdown",
   "metadata": {},
   "source": [
    " "
   ]
  },
  {
   "cell_type": "markdown",
   "metadata": {},
   "source": [
    " "
   ]
  },
  {
   "cell_type": "markdown",
   "metadata": {},
   "source": [
    "### Ćwiczenia z metod"
   ]
  },
  {
   "cell_type": "markdown",
   "metadata": {},
   "source": []
  },
  {
   "cell_type": "markdown",
   "metadata": {},
   "source": [
    " "
   ]
  },
  {
   "cell_type": "markdown",
   "metadata": {},
   "source": [
    " "
   ]
  },
  {
   "cell_type": "markdown",
   "metadata": {},
   "source": [
    " "
   ]
  },
  {
   "cell_type": "code",
   "execution_count": 1,
   "metadata": {
    "collapsed": false
   },
   "outputs": [
    {
     "data": {
      "text/html": [
       "<style>\n",
       "@import url(http://fonts.googleapis.com/css?family=Titillium+Web:400,700,800,400italic&subset=latin-ext,latin);\n",
       "@import url(http://fonts.googleapis.com/css?family=Anonymous+Pro:400,700,800,400italic&subset=latin-ext,latin);\n",
       "\n",
       ".filename {\n",
       "    font-family: Titillium Web;\n",
       "    font-variant: small-caps;\n",
       "    letter-spacing: 0.1em;\n",
       "}\n",
       "\n",
       "b {\n",
       "    color: #cc0000;\n",
       "}\n",
       "\n",
       "em {\n",
       "    color:#0000cc;\n",
       "}\n",
       "\n",
       "/* tekst w markdown */\n",
       ".rendered_html {\n",
       "    font-family: Titillium Web, serif;\n",
       "    }\n",
       "\n",
       ".rendered_html p {\n",
       "    font-size: 16px;\n",
       "    text-align: justify;\n",
       "    text-decoration: none;\n",
       "    }\n",
       "\n",
       ".rendered_html :link {\n",
       "    text-decoration: none;\n",
       "    }\n",
       "\n",
       ".rendered_html :visited {\n",
       "    text-decoration: none;\n",
       "    }\n",
       "    \n",
       "/* tekst w code cell */\n",
       ".code_cell {\n",
       "    font-family: Anonymous Pro, monospace;\n",
       "    font-size: 14px;\n",
       "    }\n",
       "\n",
       "code, pre, .CodeMirror {\n",
       "    font-family: Anonymous Pro, monospace;\n",
       "    font-size: 14px;\n",
       "}\n",
       "\n",
       "</style>"
      ],
      "text/plain": [
       "<IPython.core.display.HTML object>"
      ]
     },
     "execution_count": 1,
     "metadata": {},
     "output_type": "execute_result"
    }
   ],
   "source": [
    "from IPython.core.display import HTML\n",
    "import urllib\n",
    "HTML(urllib.urlopen(\"https://raw.githubusercontent.com/mkoculak/hello_world/nowa/ipython.css\").read())"
   ]
  }
 ],
 "metadata": {
  "kernelspec": {
   "display_name": "Python 2",
   "language": "python",
   "name": "python2"
  },
  "language_info": {
   "codemirror_mode": {
    "name": "ipython",
    "version": 2
   },
   "file_extension": ".py",
   "mimetype": "text/x-python",
   "name": "python",
   "nbconvert_exporter": "python",
   "pygments_lexer": "ipython2",
   "version": "2.7.10"
  }
 },
 "nbformat": 4,
 "nbformat_minor": 0
}

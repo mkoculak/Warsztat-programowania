{
 "cells": [
  {
   "cell_type": "markdown",
   "metadata": {},
   "source": [
    "## Warsztat 1"
   ]
  },
  {
   "cell_type": "markdown",
   "metadata": {},
   "source": [
    " "
   ]
  },
  {
   "cell_type": "markdown",
   "metadata": {},
   "source": [
    "#### Hello World"
   ]
  },
  {
   "cell_type": "markdown",
   "metadata": {},
   "source": [
    "Wypisz na konsoli poniższy tekst zachowując jego strukturę:  \n",
    "Błyszniało – szlisgich hopuch świr  \n",
    "&emsp;&emsp;Tęczując w kałdach świtrzem wre,  \n",
    "&emsp;&emsp;Mizgłupny był borolągw hyr,  \n",
    "&emsp;&emsp;Chrząszczury wlizły młe.  \n",
    "&emsp;&emsp;&emsp;&emsp;(Żabrołak, tłum. Janusz Korwin-Mikke)\n"
   ]
  },
  {
   "cell_type": "code",
   "execution_count": 22,
   "metadata": {
    "collapsed": false
   },
   "outputs": [
    {
     "name": "stdout",
     "output_type": "stream",
     "text": [
      "Błyszniało – szlisgich hopuch świr\n",
      "  Tęczując w kałdach świtrzem wre,\n",
      "  Mizgłupny był borolągw hyr,\n",
      "  Chrząszczury wlizły młe.\n",
      "    (Żabrołak, tłum. Janusz Korwin-Mikke)\n"
     ]
    }
   ],
   "source": [
    "print(\n",
    "'''Błyszniało – szlisgich hopuch świr\n",
    "  Tęczując w kałdach świtrzem wre,\n",
    "  Mizgłupny był borolągw hyr,\n",
    "  Chrząszczury wlizły młe.\n",
    "    (Żabrołak, tłum. Janusz Korwin-Mikke)''')"
   ]
  },
  {
   "cell_type": "markdown",
   "metadata": {},
   "source": [
    " "
   ]
  },
  {
   "cell_type": "markdown",
   "metadata": {},
   "source": [
    "Wypisz na konsoli wersję pythona, z której aktualnie korzystasz. (istnieje specjalna komenda -> google search)"
   ]
  },
  {
   "cell_type": "code",
   "execution_count": 21,
   "metadata": {
    "collapsed": false
   },
   "outputs": [
    {
     "name": "stdout",
     "output_type": "stream",
     "text": [
      "3.5.2 |Continuum Analytics, Inc.| (default, Jul  5 2016, 11:41:13) [MSC v.1900 64 bit (AMD64)]\n"
     ]
    }
   ],
   "source": [
    "import sys\n",
    "print(sys.version)"
   ]
  },
  {
   "cell_type": "markdown",
   "metadata": {},
   "source": [
    " "
   ]
  },
  {
   "cell_type": "markdown",
   "metadata": {},
   "source": [
    " "
   ]
  },
  {
   "cell_type": "markdown",
   "metadata": {
    "collapsed": true
   },
   "source": [
    "#### Kalkulator"
   ]
  },
  {
   "cell_type": "markdown",
   "metadata": {
    "collapsed": true
   },
   "source": [
    "Wisła Kraków otrzymała 32784 orzeszki ziemne w prezencie od brazylijskiego potentata. Zarząd postanowił obdzielić nimi po równo 22 piłkarzy i 9-osobowy skład trenerski. Resztę orzeszków otrzymają klubowe świnki morskie, przy czym każda może otrzymać jedynie 2 sztuki.  \n",
    "Ile świnek morskich otrzyma orzeszki w prezencie?"
   ]
  },
  {
   "cell_type": "code",
   "execution_count": 25,
   "metadata": {
    "collapsed": false
   },
   "outputs": [
    {
     "name": "stdout",
     "output_type": "stream",
     "text": [
      "8\n"
     ]
    }
   ],
   "source": [
    "orzeszki = 32784\n",
    "zawodnicy = 22\n",
    "trenerzy = 9\n",
    "\n",
    "reszta = orzeszki % (zawodnicy + trenerzy)\n",
    "liczba_swinek = reszta // 2\n",
    "\n",
    "print(liczba_swinek)"
   ]
  },
  {
   "cell_type": "markdown",
   "metadata": {},
   "source": [
    " "
   ]
  },
  {
   "cell_type": "markdown",
   "metadata": {},
   "source": [
    "Napisz program, który przyjmuje promień koła i wypisuje jego powierzchnię.  \n",
    "*Przykładowe rozwiązanie:*  \n",
    "r = 5.0  \n",
    "pole = 78.53981633974483"
   ]
  },
  {
   "cell_type": "code",
   "execution_count": 28,
   "metadata": {
    "collapsed": false
   },
   "outputs": [
    {
     "name": "stdout",
     "output_type": "stream",
     "text": [
      "78.53981633974483\n"
     ]
    }
   ],
   "source": [
    "from numpy import pi\n",
    "\n",
    "r = 5\n",
    "pole = pi * r**2\n",
    "\n",
    "print(pole)"
   ]
  },
  {
   "cell_type": "markdown",
   "metadata": {},
   "source": [
    " "
   ]
  },
  {
   "cell_type": "markdown",
   "metadata": {},
   "source": [
    "Niech <b>n</b> będzie dowolną cyfrą większą od 0. Napisz program, który po podaniu n wypisze wynik następującego działania n+nn+nnn.  \n",
    "*Przykładowy wynik dla n=6:* 738\n"
   ]
  },
  {
   "cell_type": "code",
   "execution_count": 29,
   "metadata": {
    "collapsed": false
   },
   "outputs": [
    {
     "name": "stdout",
     "output_type": "stream",
     "text": [
      "738\n"
     ]
    }
   ],
   "source": [
    "n = 6\n",
    "wynik = n * 123\n",
    "\n",
    "print(wynik)"
   ]
  },
  {
   "cell_type": "markdown",
   "metadata": {},
   "source": [
    " "
   ]
  },
  {
   "cell_type": "markdown",
   "metadata": {},
   "source": [
    "Napisz program, który przyjmuje dowolną liczbę całkowitą i liczy jej odległość od liczby 23.  \n",
    "*Podpowiedź: interesuje nas wartość **absolutna** *"
   ]
  },
  {
   "cell_type": "code",
   "execution_count": 31,
   "metadata": {
    "collapsed": false
   },
   "outputs": [
    {
     "name": "stdout",
     "output_type": "stream",
     "text": [
      "688\n"
     ]
    }
   ],
   "source": [
    "liczba = -665\n",
    "odległosc = abs(liczba - 23)\n",
    "\n",
    "print(odległosc)"
   ]
  },
  {
   "cell_type": "markdown",
   "metadata": {},
   "source": [
    " "
   ]
  },
  {
   "cell_type": "markdown",
   "metadata": {},
   "source": [
    " "
   ]
  },
  {
   "cell_type": "markdown",
   "metadata": {
    "collapsed": true
   },
   "source": [
    "#### Zmienne"
   ]
  },
  {
   "cell_type": "markdown",
   "metadata": {
    "collapsed": true
   },
   "source": [
    "Stwórz tekstową zmienną 'nazwa', do której przypisz imię swojego trójkąta (może być Przemek, ale nie musi).  \n",
    "Następnie utwórz trzy zmienne liczbowe 'a' , 'b' oraz 'c', do których przypisz wartości całkowite charakteryzujące długość boków tego trójkąta.  \n",
    "Wypisz na konsoli zdanie: Mój trójkąt nazywa się /####/, jego wymiary to ## - ## - ##.  \n",
    "Utwórz zmienną logiczną 'pit', która przyjmie wartość True, jeśli trójkąt jest prostokątny."
   ]
  },
  {
   "cell_type": "code",
   "execution_count": 32,
   "metadata": {
    "collapsed": false
   },
   "outputs": [
    {
     "name": "stdout",
     "output_type": "stream",
     "text": [
      "Mój trókąt nazywa się Denis, jego wymiary to 3 - 4 - 5.\n"
     ]
    }
   ],
   "source": [
    "nazwa = \"Denis\"\n",
    "a = 3\n",
    "b = 4\n",
    "c = 5\n",
    "\n",
    "print(\"Mój trókąt nazywa się Denis, jego wymiary to 3 - 4 - 5.\")\n",
    "\n",
    "pit = True"
   ]
  },
  {
   "cell_type": "markdown",
   "metadata": {},
   "source": [
    "Poniżej rozwiązanie bardziej zaawansowane, gdzie wykorzystujemy formatowanie zmiennych tekstowych, tzn. za pomocą specjalnej składni wstawimy nazwy zmiennej do tesktu bez ręcznego wpisywania. Jeśli wawrtość zmiennej ulegnie zmianie, to nasza zmienna tekstowa to uwzględni.  \n",
    "Jest na to kilka sposobów, najbardziej użyteczny jest chyba ten z metodą format.  \n",
    "Przykład:"
   ]
  },
  {
   "cell_type": "code",
   "execution_count": 34,
   "metadata": {
    "collapsed": false
   },
   "outputs": [
    {
     "name": "stdout",
     "output_type": "stream",
     "text": [
      "Nasza liczba to 15\n",
      "Nasza liczba to 22\n"
     ]
    }
   ],
   "source": [
    "a = 15\n",
    "print(\"Nasza liczba to {}\".format(a))\n",
    "\n",
    "a = 22\n",
    "print(\"Nasza liczba to {}\".format(a))"
   ]
  },
  {
   "cell_type": "code",
   "execution_count": 35,
   "metadata": {
    "collapsed": false
   },
   "outputs": [
    {
     "name": "stdout",
     "output_type": "stream",
     "text": [
      "Mój trókąt nazywa się Denis, jego wymiary to 3 - 4 - 5.\n"
     ]
    }
   ],
   "source": [
    "nazwa = \"Denis\"\n",
    "a = 3\n",
    "b = 4\n",
    "c = 5\n",
    "\n",
    "print(\"Mój trókąt nazywa się {}, jego wymiary to {} - {} - {}.\".format(nazwa, a, b, c))"
   ]
  },
  {
   "cell_type": "markdown",
   "metadata": {},
   "source": [
    "Ważna jest kolejność zmiennych w nawiasie metody format - w takiej samej kolejności zajmą miejsca pustych nawiasów klamrowych."
   ]
  },
  {
   "cell_type": "markdown",
   "metadata": {},
   "source": [
    " "
   ]
  },
  {
   "cell_type": "markdown",
   "metadata": {},
   "source": [
    "Zadeklaruj dwie zmienne, a i b, przypisując im dowolną cyfrę. Następnie modyfikuj ich wartość tak, żeby obie równały się 37."
   ]
  },
  {
   "cell_type": "code",
   "execution_count": 37,
   "metadata": {
    "collapsed": false
   },
   "outputs": [
    {
     "name": "stdout",
     "output_type": "stream",
     "text": [
      "37.0 37.0\n"
     ]
    }
   ],
   "source": [
    "a = 20\n",
    "b = 44\n",
    "\n",
    "a = 40-((a*6)/40)\n",
    "b = b+(7*(-b/b))\n",
    "\n",
    "print(a,b)"
   ]
  },
  {
   "cell_type": "markdown",
   "metadata": {},
   "source": [
    " "
   ]
  },
  {
   "cell_type": "markdown",
   "metadata": {},
   "source": [
    "d Cohena to popularna miara wielkości efektu obserwowanego w ekperymentach. W zależności od schematu badawczego liczy się je w inny sposób.  \n",
    "Wyobraźmy sobie, że interesuje nas obliczenie d dla testu t w manipulacji wewnątrzgrupowej. Wiedząc, że wzór na d wygląda następująco:\n",
    "\n",
    "$$ d_{s}=t\\sqrt[]{\\frac{1}{n_{1}}+\\frac{1}{n_{2}}} $$\n",
    "\n",
    "Wykorzystaj dane zawarte poniżej i policz d."
   ]
  },
  {
   "cell_type": "code",
   "execution_count": 38,
   "metadata": {
    "collapsed": false
   },
   "outputs": [
    {
     "name": "stdout",
     "output_type": "stream",
     "text": [
      "1.3154674247\n"
     ]
    }
   ],
   "source": [
    "t = 4.5\n",
    "n1 = 22\n",
    "n2 = 25\n",
    "\n",
    "from numpy import sqrt\n",
    "\n",
    "ds = t*sqrt((1/n1)+(1/n2))\n",
    "\n",
    "print(ds)"
   ]
  },
  {
   "cell_type": "markdown",
   "metadata": {},
   "source": [
    " "
   ]
  },
  {
   "cell_type": "markdown",
   "metadata": {},
   "source": [
    " "
   ]
  },
  {
   "cell_type": "markdown",
   "metadata": {},
   "source": [
    "#### Komentowanie"
   ]
  },
  {
   "cell_type": "markdown",
   "metadata": {},
   "source": [
    "Stwórz trzy zmienne odpowiadające wymiarom prostopadłościanu oraz czwartą, będącą objętością figury.  \n",
    "Każdą operację opatrz komentarzem w tej samej linijce kodu."
   ]
  },
  {
   "cell_type": "code",
   "execution_count": 39,
   "metadata": {
    "collapsed": false
   },
   "outputs": [
    {
     "name": "stdout",
     "output_type": "stream",
     "text": [
      "192\n"
     ]
    }
   ],
   "source": [
    "a = 6 #pierwszy wymiar prostopadłościanu\n",
    "b = 4 #drugi wymiar prostopadłościanu\n",
    "c = 8 #trzeci wymiar prostopadłościanu\n",
    "\n",
    "objetosc = a * b * c #objętość prostopadłościanu\n",
    "\n",
    "print(objetosc) #wypisz na konsoli objętość"
   ]
  },
  {
   "cell_type": "markdown",
   "metadata": {},
   "source": [
    " "
   ]
  },
  {
   "cell_type": "markdown",
   "metadata": {},
   "source": [
    "Do kodu z powyższego zadania dopisz wstępny opis działania całego kodu używając komentarza wielolinijkowoego."
   ]
  },
  {
   "cell_type": "code",
   "execution_count": 40,
   "metadata": {
    "collapsed": false
   },
   "outputs": [
    {
     "name": "stdout",
     "output_type": "stream",
     "text": [
      "192\n"
     ]
    }
   ],
   "source": [
    "'''Poniższy kod przyjmuje trzy wymiary \n",
    "prostopadłościanu i wypisuje na kosoli jego objętość'''\n",
    "\n",
    "a = 6 #pierwszy wymiar prostopadłościanu\n",
    "b = 4 #drugi wymiar prostopadłościanu\n",
    "c = 8 #trzeci wymiar prostopadłościanu\n",
    "\n",
    "objetosc = a * b * c #objętość prostopadłościanu\n",
    "\n",
    "print(objetosc) #wypisz na konsoli objętość"
   ]
  },
  {
   "cell_type": "markdown",
   "metadata": {},
   "source": [
    " "
   ]
  },
  {
   "cell_type": "markdown",
   "metadata": {},
   "source": [
    " "
   ]
  },
  {
   "cell_type": "markdown",
   "metadata": {},
   "source": [
    "#### Import"
   ]
  },
  {
   "cell_type": "markdown",
   "metadata": {},
   "source": [
    "Wypisz na konsoli miesięczny kalendarz wskazanego miesiąca.<br>\n",
    "*Podpowiedź:* wykorzystaj moduł 'calendar'"
   ]
  },
  {
   "cell_type": "code",
   "execution_count": 41,
   "metadata": {
    "collapsed": false
   },
   "outputs": [
    {
     "name": "stdout",
     "output_type": "stream",
     "text": [
      "   November 2016\n",
      "Mo Tu We Th Fr Sa Su\n",
      "    1  2  3  4  5  6\n",
      " 7  8  9 10 11 12 13\n",
      "14 15 16 17 18 19 20\n",
      "21 22 23 24 25 26 27\n",
      "28 29 30\n",
      "\n"
     ]
    }
   ],
   "source": [
    "import calendar\n",
    "\n",
    "miesiac = 11\n",
    "rok = 2016\n",
    "\n",
    "print(calendar.month(rok, miesiac))"
   ]
  },
  {
   "cell_type": "markdown",
   "metadata": {},
   "source": [
    " "
   ]
  },
  {
   "cell_type": "markdown",
   "metadata": {},
   "source": [
    "Zaimportuj moduł matematyczny na co najmniej 2 sposoby i wypisz na konsolę wartość stałej *e*."
   ]
  },
  {
   "cell_type": "code",
   "execution_count": 42,
   "metadata": {
    "collapsed": false
   },
   "outputs": [
    {
     "name": "stdout",
     "output_type": "stream",
     "text": [
      "2.718281828459045\n",
      "2.718281828459045\n"
     ]
    }
   ],
   "source": [
    "import math\n",
    "from math import e\n",
    "\n",
    "print(math.e)\n",
    "print(e)"
   ]
  },
  {
   "cell_type": "markdown",
   "metadata": {},
   "source": [
    " "
   ]
  },
  {
   "cell_type": "markdown",
   "metadata": {},
   "source": [
    " "
   ]
  },
  {
   "cell_type": "markdown",
   "metadata": {},
   "source": [
    "### Ćwiczenia z notatnika warsztatu 1 "
   ]
  },
  {
   "cell_type": "markdown",
   "metadata": {},
   "source": [
    "#### Przypisz poniższe wyrażenia do samodzielnie nazwanych zmiennych:\n",
    "<ul style=\"list-style-type: square;\">\n",
    "<li><span>Ilość tygodni w roku, jeśli demokratycznie wykluczylibyśmy poniedziałek jako dzień tygodnia.</span></li>\n",
    "<li><span>Wynik dzielenia swojego roku urodzenia przez różnicę dnia i miesiąca urodzenia.</span></li>\n",
    "<li><span>Ilość maratończyków potrzebną do przebiegnięcia dystansu od Ziemi do Słońca (przyjmijmy umownie 150 mln km).</span></li>\n",
    "<li><span>Wynik działania $2^{3^4}$</span></li>\n",
    "<li><span>Równanie wynoszące dokładnie 117, jedynie przy użyciu cyfr 2, 6 i 9.</span></li>\n",
    "</ul> "
   ]
  },
  {
   "cell_type": "code",
   "execution_count": 43,
   "metadata": {
    "collapsed": false
   },
   "outputs": [
    {
     "name": "stdout",
     "output_type": "stream",
     "text": [
      "60 124.25 3558718.0 2417851639229258349412352 117\n"
     ]
    }
   ],
   "source": [
    "nowy_tydzien = 365 // 6\n",
    "lata = 1988 / (20-4)\n",
    "maraton = 150000000 // 42.150\n",
    "dzialanie = 2 ** (3 ** 4)\n",
    "rownanie = 6*9*2 + 9\n",
    "\n",
    "print(nowy_tydzien, lata, maraton, dzialanie, rownanie)"
   ]
  },
  {
   "cell_type": "markdown",
   "metadata": {},
   "source": [
    "#### Za pomocą wyszukiwarki znajdź w module numpy funkcję do wyliczania logarytmu dziesiętnego z podanej liczby. Zaimportuj ją jako 'logartym10' i użyj na zmiennych z poprzedniego ćwiczenia.  "
   ]
  },
  {
   "cell_type": "code",
   "execution_count": 46,
   "metadata": {
    "collapsed": false
   },
   "outputs": [
    {
     "name": "stdout",
     "output_type": "stream",
     "text": [
      "1.77815125038\n",
      "2.09429639741\n",
      "6.551293575\n",
      "2.06818586175\n"
     ]
    }
   ],
   "source": [
    "from numpy import log10 as logarytm10\n",
    "\n",
    "print(logarytm10(nowy_tydzien))\n",
    "print(logarytm10(lata))\n",
    "print(logarytm10(maraton))\n",
    "#print(logarytm10(dzialanie)) wygląda, że to zbyt duża liczba, żeby ją łatwo zlogarytmizować\n",
    "print(logarytm10(rownanie))"
   ]
  },
  {
   "cell_type": "markdown",
   "metadata": {},
   "source": [
    " "
   ]
  },
  {
   "cell_type": "markdown",
   "metadata": {},
   "source": [
    " "
   ]
  },
  {
   "cell_type": "markdown",
   "metadata": {},
   "source": [
    " "
   ]
  },
  {
   "cell_type": "markdown",
   "metadata": {},
   "source": [
    "## Warsztat 2 "
   ]
  },
  {
   "cell_type": "markdown",
   "metadata": {},
   "source": [
    "#### Zmienne tekstowe "
   ]
  },
  {
   "cell_type": "markdown",
   "metadata": {},
   "source": [
    "Stwórz dwie dowolne zmienne tekstowe. Następnie stwórz trzecią zmienną, która będzie sumą podwojonej pierwszej zmiennej oraz drugiej. Następnie podziel tę zmienną na mniejsze części względem litery a. "
   ]
  },
  {
   "cell_type": "code",
   "execution_count": 53,
   "metadata": {
    "collapsed": false
   },
   "outputs": [
    {
     "name": "stdout",
     "output_type": "stream",
     "text": [
      "['Zd', 'nie rozpoczyn', 'jące z', 'd', 'nie.Zd', 'nie rozpoczyn', 'jące z', 'd', 'nie.Zd', 'nie kończące z', 'd', 'nie, n', 'reszcie.']\n"
     ]
    }
   ],
   "source": [
    "zmienna1 = 'Zdanie rozpoczynające zadanie.'\n",
    "zmienna2 = 'Zdanie kończące zadanie, nareszcie.'\n",
    "\n",
    "zmienna3 = zmienna1*2 + zmienna2\n",
    "\n",
    "print(zmienna3.split('a'))"
   ]
  },
  {
   "cell_type": "markdown",
   "metadata": {},
   "source": [
    " "
   ]
  },
  {
   "cell_type": "markdown",
   "metadata": {},
   "source": [
    "Zakoduj dowolny wyraz (ciąg znaków) w wybranym, niełacińskim alfabecie. Następnie wypisz je na konsoli.  "
   ]
  },
  {
   "cell_type": "code",
   "execution_count": 56,
   "metadata": {
    "collapsed": false
   },
   "outputs": [
    {
     "name": "stdout",
     "output_type": "stream",
     "text": [
      "الْعَرَبيّة\n"
     ]
    }
   ],
   "source": [
    "dowolny_wyraz = 'الْعَرَبيّة'\n",
    "print(dowolny_wyraz)"
   ]
  },
  {
   "cell_type": "markdown",
   "metadata": {},
   "source": [
    " "
   ]
  },
  {
   "cell_type": "markdown",
   "metadata": {},
   "source": [
    "#### Zmienne całkowite "
   ]
  },
  {
   "cell_type": "markdown",
   "metadata": {},
   "source": [
    "Za pomocą funkcji range wypisz wszystkie liczby podzielne przez 7 z przedziału od 0 do 100.  "
   ]
  },
  {
   "cell_type": "code",
   "execution_count": 60,
   "metadata": {
    "collapsed": false
   },
   "outputs": [
    {
     "name": "stdout",
     "output_type": "stream",
     "text": [
      "[0, 7, 14, 21, 28, 35, 42, 49, 56, 63, 70, 77, 84, 91, 98]\n"
     ]
    }
   ],
   "source": [
    "siedem = range(0,100,7)\n",
    "print(list(siedem))"
   ]
  },
  {
   "cell_type": "markdown",
   "metadata": {},
   "source": [
    " "
   ]
  },
  {
   "cell_type": "markdown",
   "metadata": {},
   "source": [
    "#### Zmienne zmiennoprzecinkowe "
   ]
  },
  {
   "cell_type": "markdown",
   "metadata": {},
   "source": [
    "Wymyśl lub znajdź w internecie sposób, żeby zamienić liczbę całkowitą na zmiennoprzecinkową i na odwrót.  "
   ]
  },
  {
   "cell_type": "code",
   "execution_count": 7,
   "metadata": {
    "collapsed": false
   },
   "outputs": [
    {
     "name": "stdout",
     "output_type": "stream",
     "text": [
      "5.0 <class 'float'>\n",
      "5 <class 'int'>\n"
     ]
    }
   ],
   "source": [
    "i = 5\n",
    "f = float(i)\n",
    "i2 = int(f)\n",
    "\n",
    "print(f, type(f))\n",
    "print(i2, type(i2))"
   ]
  },
  {
   "cell_type": "markdown",
   "metadata": {},
   "source": [
    " "
   ]
  },
  {
   "cell_type": "markdown",
   "metadata": {},
   "source": [
    "#### Zmienne logiczne"
   ]
  },
  {
   "cell_type": "markdown",
   "metadata": {},
   "source": [
    "W poniższym wyrażeniu zmień jeden element tak, żeby całość równała się True. "
   ]
  },
  {
   "cell_type": "code",
   "execution_count": 8,
   "metadata": {
    "collapsed": false
   },
   "outputs": [
    {
     "name": "stdout",
     "output_type": "stream",
     "text": [
      "False True\n"
     ]
    }
   ],
   "source": [
    "zmienna1 = ((not True and True) or (False or True)) and not (not False or False)\n",
    "zmienna2 = ((not True and True) or (False or True)) or not (not False or False)\n",
    "print(zmienna1, zmienna2) "
   ]
  },
  {
   "cell_type": "markdown",
   "metadata": {},
   "source": [
    " "
   ]
  },
  {
   "cell_type": "markdown",
   "metadata": {},
   "source": [
    " "
   ]
  },
  {
   "cell_type": "markdown",
   "metadata": {},
   "source": [
    "#### Listy"
   ]
  },
  {
   "cell_type": "markdown",
   "metadata": {},
   "source": [
    "Stwórz listę zawierającą wyłącznie wielokrotności 17 w przedziale od 0 do 250.  "
   ]
  },
  {
   "cell_type": "code",
   "execution_count": 9,
   "metadata": {
    "collapsed": false
   },
   "outputs": [
    {
     "name": "stdout",
     "output_type": "stream",
     "text": [
      "[17, 34, 51, 68, 85, 102, 119, 136, 153, 170, 187, 204, 221, 238]\n"
     ]
    }
   ],
   "source": [
    "lista_17 = list(range(17,250,17))\n",
    "\n",
    "print(lista_17)"
   ]
  },
  {
   "cell_type": "markdown",
   "metadata": {},
   "source": [
    "albo "
   ]
  },
  {
   "cell_type": "code",
   "execution_count": 10,
   "metadata": {
    "collapsed": false,
    "scrolled": true
   },
   "outputs": [
    {
     "name": "stdout",
     "output_type": "stream",
     "text": [
      "[17, 34, 51, 68, 85, 102, 119, 136, 153, 170, 187, 204, 221, 238]\n"
     ]
    }
   ],
   "source": [
    "lista_250 = list(range(17,250))\n",
    "lista_17 = lista_250[::17]\n",
    "\n",
    "print(lista_17)"
   ]
  },
  {
   "cell_type": "markdown",
   "metadata": {},
   "source": [
    " "
   ]
  },
  {
   "cell_type": "markdown",
   "metadata": {},
   "source": [
    "Utwórz listę sześciu dowolnych zmiennych tekstowych. Posortuj ją po długości, ale w odwrotnej kolejności. Następnie usuń 4 wyraz od końca.  "
   ]
  },
  {
   "cell_type": "code",
   "execution_count": 14,
   "metadata": {
    "collapsed": false
   },
   "outputs": [
    {
     "name": "stdout",
     "output_type": "stream",
     "text": [
      "['pierwszy', 'kaloryfer', 'powidła', 'koparka', 'spryskiwacz', 'salceson']\n",
      "['spryskiwacz', 'kaloryfer', 'pierwszy', 'salceson', 'powidła', 'koparka']\n",
      "['spryskiwacz', 'kaloryfer', 'salceson', 'powidła', 'koparka']\n"
     ]
    }
   ],
   "source": [
    "one = 'pierwszy'\n",
    "two = 'kaloryfer'\n",
    "three = 'powidła'\n",
    "four = 'koparka'\n",
    "\n",
    "lista = [one, two, three, four, 'spryskiwacz', 'salceson']\n",
    "\n",
    "print(lista)\n",
    "\n",
    "lista.sort(key=len, reverse=True)\n",
    "print(lista)\n",
    "\n",
    "lista.pop(-4)\n",
    "print(lista)"
   ]
  },
  {
   "cell_type": "markdown",
   "metadata": {},
   "source": [
    " "
   ]
  },
  {
   "cell_type": "markdown",
   "metadata": {},
   "source": [
    " "
   ]
  },
  {
   "cell_type": "markdown",
   "metadata": {},
   "source": [
    "#### Słowniki "
   ]
  },
  {
   "cell_type": "markdown",
   "metadata": {},
   "source": [
    "Utwórz słownik \"lektury szkolne\" i dodaj co najmniej trzy pozycje, gdzie kluczem jest autor a wartościami tytuły książek.  "
   ]
  },
  {
   "cell_type": "code",
   "execution_count": 15,
   "metadata": {
    "collapsed": false
   },
   "outputs": [
    {
     "name": "stdout",
     "output_type": "stream",
     "text": [
      "{'Henryk Sienkiewicz': ['Potop', 'Krzyżacy'], 'J.R.R. Tolkien': 'Hobbit', 'Bolesław Prus': 'Lalka'}\n"
     ]
    }
   ],
   "source": [
    "lektury_szkolne = {}\n",
    "\n",
    "lektury_szkolne['Bolesław Prus'] = 'Lalka'\n",
    "lektury_szkolne['Henryk Sienkiewicz'] = ['Potop', 'Krzyżacy']\n",
    "lektury_szkolne['J.R.R. Tolkien'] = 'Hobbit'\n",
    "\n",
    "print(lektury_szkolne)"
   ]
  },
  {
   "cell_type": "markdown",
   "metadata": {},
   "source": [
    " "
   ]
  },
  {
   "cell_type": "markdown",
   "metadata": {},
   "source": [
    "Poniższy słownik zawiera fragment wyników z eksperymentu behawioralnego. Mamy dwie osoby badane, każda testowana w dwóch warunkach po 5 czasów reakcji. Wybierz dowolną osobę i dowolny warunek, policz różnicę między najdłuższym a najkrótszym czasem reakcji.  "
   ]
  },
  {
   "cell_type": "code",
   "execution_count": 18,
   "metadata": {
    "collapsed": false
   },
   "outputs": [
    {
     "name": "stdout",
     "output_type": "stream",
     "text": [
      "477\n"
     ]
    }
   ],
   "source": [
    "wyniki = {\n",
    "    'Basia': {'manipulacja': [374, 653, 388, 853, 559], 'kontrola': [578, 812, 629, 335, 789]},\n",
    "    'Andrzej': {'manipulacja': [665, 498, 671, 887, 456], 'kontrola': [645, 922, 587, 739, 582]}\n",
    "}\n",
    "\n",
    "roznica_RT = max(wyniki['Basia']['kontrola']) - min(wyniki['Basia']['kontrola'])\n",
    "print(roznica_RT)"
   ]
  },
  {
   "cell_type": "markdown",
   "metadata": {},
   "source": [
    " "
   ]
  },
  {
   "cell_type": "markdown",
   "metadata": {},
   "source": [
    " "
   ]
  },
  {
   "cell_type": "markdown",
   "metadata": {},
   "source": [
    "### Ćwiczenia z notatnika warsztatu 1  "
   ]
  },
  {
   "cell_type": "markdown",
   "metadata": {},
   "source": [
    "Stwórz pustą listę \"walizka\". Do walizki włóż koszulę, skarpety, poster, liczbę 43 oraz prawdopobieństwo równe 0.01.<br>\n",
    "Dodaj jeszcze przedział ufności 0.95 oraz Prawdę.<br>\n",
    "Stwórz pustą listę \"bagaznik\".<br>\n",
    "Do bagażnika włóż walizkę, buty trekkingowe, styropian i śledzie.<br>\n",
    "Upewnij się, że bagażnik znajduje się w samochodzie. We wnętrzu samochodu powinien być również promotor, teściowa i Puszek. Idąc za głosem rozsądku podmień Puszka na transporter, w którym znajduje się Puszek, karma oraz pluszowy szczur. Upewnij się, że wnętrze trasportera jest uporządkowane.<br>\n",
    "Rozmyśl się i wyrzuć w walizki trzeci przedmiot. Za to w bagażniku jako drugi element ustaw walizkę promotora. Niech ma.<br>\n",
    "Dodaj do wnętrza samochodu płytę z największymi przebojami Krzysztofa Krawczyka. Następnie wydrukuj na konsoli widok całego pojazdu.<br>\n",
    "Dopiero teraz zauważ, że Ciebie tam nie ma. "
   ]
  },
  {
   "cell_type": "code",
   "execution_count": 29,
   "metadata": {
    "collapsed": false
   },
   "outputs": [
    {
     "name": "stdout",
     "output_type": "stream",
     "text": [
      "[[['koszula', 'skarpety', 43, 0.01, 0.95, True], 'walizka promotora', 'styropian', 'śledzie'], 'promotor', 'teściowa', ['Puszek', 'karma', 'pluszowy szczur'], 'Krzysztof Krawczyk - największe przeboje']\n"
     ]
    }
   ],
   "source": [
    "walizka = []\n",
    "walizka.extend(['koszula', 'skarpety', 'poster', 43, 0.01])\n",
    "walizka.extend([0.95, True])\n",
    "\n",
    "bagaznik = []\n",
    "bagaznik.extend([walizka, 'buty trekingowe', 'styropian', 'śledzie'])\n",
    "\n",
    "samochod = [bagaznik, 'promotor', 'teściowa', 'Puszek']\n",
    "\n",
    "samochod[3] = ['Puszek', 'karma', 'pluszowy szczur']\n",
    "samochod[3].sort()\n",
    "\n",
    "walizka.pop(2)\n",
    "\n",
    "bagaznik[1] = 'walizka promotora'\n",
    "\n",
    "samochod.append('Krzysztof Krawczyk - największe przeboje')\n",
    "\n",
    "print(samochod)"
   ]
  },
  {
   "cell_type": "markdown",
   "metadata": {},
   "source": [
    " "
   ]
  },
  {
   "cell_type": "markdown",
   "metadata": {},
   "source": [
    "Za pomocą funkcji range( ), utwórz listę pierwszych 100 liczb całkowitych i przypisz ją do zmiennej 'liczby'.<br>\n",
    "Wypisz na konsolę siódmy element tej listy oraz trzynasty element od końca.<br>\n",
    "Z listy 'liczby' wybierz tylko te elementy, które dzielą się przez 3 i zapisz je w zmiennej 'liczby3'.<br>\n",
    "Z listy 'liczby' wybierz tylko te elementy, które dzielą się przez 7 i zapisz je w zmiennej 'liczby7'.<br>\n",
    "Wypisz na konsolę najmniejszy element 'liczby3' i największy 'liczby7'.<br>\n",
    "Wypisz na konsolę różnicę pomiędzy ilością liczb podzielnych przez 3 i 7.<br><br>\n",
    "\n",
    "Nadpisz zmienną 'liczby7' jej odwrotnością. Następnie odjemij od 3 elementu tej listy 5 element listy 'liczby3' i wypisz wynik na konsoli.<br>\n",
    "Teraz połącz obie listy, zapisując je pod zmienną 'liczby37'. Nowoutworzoną listę posortuj. "
   ]
  },
  {
   "cell_type": "code",
   "execution_count": 38,
   "metadata": {
    "collapsed": false
   },
   "outputs": [
    {
     "name": "stdout",
     "output_type": "stream",
     "text": [
      "6 87\n",
      "3 98\n",
      "19\n",
      "[3, 6, 7, 9, 12, 14, 15, 18, 21, 21, 24, 27, 28, 30, 33, 35, 36, 39, 42, 42, 45, 48, 49, 51, 54, 56, 57, 60, 63, 63, 66, 69, 69, 70, 72, 75, 77, 78, 81, 84, 87, 90, 91, 93, 96, 98, 99]\n"
     ]
    }
   ],
   "source": [
    "liczby = list(range(100))\n",
    "print(liczby[6], liczby[-13])\n",
    "\n",
    "liczby3 = liczby[3::3]\n",
    "liczby7 = liczby[7::7]\n",
    "print(min(liczby3), max(liczby7))\n",
    "\n",
    "roznica = len(liczby3)-len(liczby7)\n",
    "print(roznica)\n",
    "\n",
    "liczby7.reverse()\n",
    "liczby7[2] = liczby7[2] - liczby3[4]\n",
    "\n",
    "liczby37 = liczby3 + liczby7\n",
    "liczby37.sort()\n",
    "print(liczby37)"
   ]
  },
  {
   "cell_type": "markdown",
   "metadata": {},
   "source": [
    " "
   ]
  },
  {
   "cell_type": "markdown",
   "metadata": {},
   "source": [
    " "
   ]
  },
  {
   "cell_type": "markdown",
   "metadata": {},
   "source": [
    " "
   ]
  },
  {
   "cell_type": "markdown",
   "metadata": {},
   "source": [
    " "
   ]
  },
  {
   "cell_type": "markdown",
   "metadata": {},
   "source": [
    " "
   ]
  },
  {
   "cell_type": "markdown",
   "metadata": {
    "collapsed": true
   },
   "source": [
    "Ciąg dalszy nastapi..."
   ]
  },
  {
   "cell_type": "markdown",
   "metadata": {},
   "source": [
    " "
   ]
  },
  {
   "cell_type": "markdown",
   "metadata": {},
   "source": [
    " "
   ]
  },
  {
   "cell_type": "code",
   "execution_count": 1,
   "metadata": {
    "collapsed": false
   },
   "outputs": [
    {
     "data": {
      "text/html": [
       "<style>\n",
       "@import url(http://fonts.googleapis.com/css?family=Titillium+Web:400,700,800,400italic&subset=latin-ext,latin);\n",
       "@import url(http://fonts.googleapis.com/css?family=Anonymous+Pro:400,700,800,400italic&subset=latin-ext,latin);\n",
       "\n",
       ".filename {\n",
       "    font-family: Titillium Web;\n",
       "    font-variant: small-caps;\n",
       "    letter-spacing: 0.1em;\n",
       "}\n",
       "\n",
       "b {\n",
       "    color: #cc0000;\n",
       "}\n",
       "\n",
       "em {\n",
       "    color:#0000cc;\n",
       "}\n",
       "\n",
       "ul {\n",
       "\tlist-style-type: square !important;\n",
       "}\n",
       "\n",
       ".rendered_html ul li {\n",
       "\tfont-size: 8px;\n",
       "}\n",
       "\n",
       "li span {\n",
       "\tfont-size: 14px;\n",
       "}\n",
       "\n",
       "/* tekst w markdown */\n",
       ".rendered_html {\n",
       "    font-family: Titillium Web, serif;\n",
       "    }\n",
       "\n",
       ".rendered_html p {\n",
       "    font-size: 16px;\n",
       "    text-align: justify;\n",
       "    text-decoration: none;\n",
       "    }\n",
       "\n",
       ".rendered_html :link {\n",
       "    text-decoration: none;\n",
       "    }\n",
       "\n",
       ".rendered_html :visited {\n",
       "    text-decoration: none;\n",
       "    }\n",
       "    \n",
       "/* tekst w code cell */\n",
       ".code_cell {\n",
       "    font-family: Anonymous Pro, monospace;\n",
       "    font-size: 14px;\n",
       "    }\n",
       "\n",
       "code, pre, .CodeMirror {\n",
       "    font-family: Anonymous Pro, monospace;\n",
       "    font-size: 14px;\n",
       "}\n",
       "\n",
       "</style>"
      ],
      "text/plain": [
       "<IPython.core.display.HTML object>"
      ]
     },
     "execution_count": 1,
     "metadata": {},
     "output_type": "execute_result"
    }
   ],
   "source": [
    "from IPython.core.display import HTML\n",
    "from urllib.request import urlopen\n",
    "HTML(urlopen(\"https://raw.githubusercontent.com/mkoculak/hello_world/nowa/ipython.css\").read().decode(\"utf-8\"))"
   ]
  }
 ],
 "metadata": {
  "anaconda-cloud": {},
  "kernelspec": {
   "display_name": "Python [conda root]",
   "language": "python",
   "name": "conda-root-py"
  },
  "language_info": {
   "codemirror_mode": {
    "name": "ipython",
    "version": 3
   },
   "file_extension": ".py",
   "mimetype": "text/x-python",
   "name": "python",
   "nbconvert_exporter": "python",
   "pygments_lexer": "ipython3",
   "version": "3.5.2"
  }
 },
 "nbformat": 4,
 "nbformat_minor": 0
}

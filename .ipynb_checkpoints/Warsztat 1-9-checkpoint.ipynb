{
 "cells": [
  {
   "cell_type": "markdown",
   "metadata": {},
   "source": [
    "# Warsztat 9 – Pandas - wprowadzenie<a id=top></a>"
   ]
  },
  {
   "cell_type": "markdown",
   "metadata": {},
   "source": [
    "<font size=2>Przed pracą z notatnikiem polecam wykonać kod w ostatniej komórce (zawiera html i css), dzięki czemu całość będzie bardziej estetyczna :)</font>"
   ]
  },
  {
   "cell_type": "markdown",
   "metadata": {},
   "source": [
    "<a href='#Warsztat-9---Pandas---wprowadzenie'>Warsztat 9</a>\n",
    "<ul>\n",
    "<li><a href='#Wczytywanie-danych'><span>Wczytywanie danych</span></a></li>\n",
    "<li><a href='#Inspekcja-danych'><span>Inspekcja danych</span></a></li>\n",
    "<li><a href='#Czyszczenie-danych'><span>Czyszczenie danych</span></a></li>\n",
    "<li><a href='#Własne-funkcje'><span>Własne funkcje</span></a></li>\n",
    "</ul>"
   ]
  },
  {
   "cell_type": "markdown",
   "metadata": {},
   "source": [
    " "
   ]
  },
  {
   "cell_type": "markdown",
   "metadata": {},
   "source": [
    "<img src=\"http://pandas.pydata.org/_static/pandas_logo.png\" width=40% height=40%>"
   ]
  },
  {
   "cell_type": "markdown",
   "metadata": {},
   "source": [
    "## Pakiet Pandas"
   ]
  },
  {
   "cell_type": "code",
   "execution_count": null,
   "metadata": {},
   "outputs": [],
   "source": [
    "import pandas as pd\n",
    "import numpy as np\n",
    "import matplotlib.pyplot as plt\n",
    "%matplotlib inline"
   ]
  },
  {
   "cell_type": "markdown",
   "metadata": {},
   "source": [
    " "
   ]
  },
  {
   "cell_type": "markdown",
   "metadata": {},
   "source": [
    "### Wczytywanie danych"
   ]
  },
  {
   "cell_type": "markdown",
   "metadata": {},
   "source": [
    "Najczęściej będziemy posługiwać się plikami **.csv** oraz **.xlsx**, z których będziemy wczytywać uprzednio wydobyte dane oraz do których będziemy zapisywać wyniki naszej pracy. Do pandas można wczytać bez problemu wiele różnych typów plików. Można jest znaleźć po nazwie zaczynającej się od <b>read_</b>."
   ]
  },
  {
   "cell_type": "code",
   "execution_count": null,
   "metadata": {},
   "outputs": [],
   "source": [
    "#pd.read_<TAB>"
   ]
  },
  {
   "cell_type": "code",
   "execution_count": null,
   "metadata": {},
   "outputs": [],
   "source": [
    "pd.read_table?"
   ]
  },
  {
   "cell_type": "markdown",
   "metadata": {},
   "source": [
    "My będziemy najczęściej używać funkcji <b>read_csv( )</b> oraz <b>read_excel( )</b>."
   ]
  },
  {
   "cell_type": "code",
   "execution_count": null,
   "metadata": {},
   "outputs": [],
   "source": [
    "dane = pd.read_csv('./wzrost.csv')"
   ]
  },
  {
   "cell_type": "markdown",
   "metadata": {},
   "source": [
    "Najwygodniejszym sposobem podglądu danych będzie użycie metod <b>.head( )</b> i <b>.tail( )</b>, które pokażą nam odpowiednio początek i koniec naszej ramki."
   ]
  },
  {
   "cell_type": "code",
   "execution_count": null,
   "metadata": {},
   "outputs": [],
   "source": [
    "dane.head()"
   ]
  },
  {
   "cell_type": "code",
   "execution_count": null,
   "metadata": {},
   "outputs": [],
   "source": [
    "dane.tail(3)"
   ]
  },
  {
   "cell_type": "markdown",
   "metadata": {},
   "source": [
    "Dane wczytały się bez problemu, jednak w tej chwili wszystkie dane z wiersza zbite są w jeden element.  \n",
    "Funkcja wczytująca dane potrzebuje informacji o tym, jaki znak wskazuje na podział między kolumnami.  \n",
    "Domyślnie jest to przecinek, jednak nasze dane oddzielone są średnikami. Dlatego musimy nadpisać tę opcję podając wprost jaki jest symbol podziału."
   ]
  },
  {
   "cell_type": "code",
   "execution_count": null,
   "metadata": {},
   "outputs": [],
   "source": [
    "dane = pd.read_csv('./wzrost.csv', sep=';')\n",
    "dane.head(3)"
   ]
  },
  {
   "cell_type": "markdown",
   "metadata": {},
   "source": [
    "Drugi problem to pierwsza kolumna zawierająca numery porządkowe wierszy. Możemy łatwo wskazać programowi, aby użył tej kolumny do numeracji własnych indeksów używając komendy <b>index_col=</b> i wskazując numer kolumny, w której zapisane są indeksy wierszy."
   ]
  },
  {
   "cell_type": "code",
   "execution_count": null,
   "metadata": {},
   "outputs": [],
   "source": [
    "dane = pd.read_csv('./wzrost.csv', sep=';', index_col=0)\n",
    "dane.head(3)"
   ]
  },
  {
   "cell_type": "markdown",
   "metadata": {},
   "source": [
    "Możemy również wykluczyć daną kolumnę z bycia wczytaną do naszej zmiennej z danymi. Wystarczy przekazać parametr z listą kolumn do wczytania."
   ]
  },
  {
   "cell_type": "code",
   "execution_count": null,
   "metadata": {},
   "outputs": [],
   "source": [
    "dane = pd.read_csv('./wzrost.csv', sep=';', usecols=[1,2])\n",
    "dane.head(3)"
   ]
  },
  {
   "cell_type": "markdown",
   "metadata": {},
   "source": [
    "Więcej informacji i przykładów użycia różnych funkcji wczytujących dane możecie znaleźć w bardzo dobrej dokumentacji pakietu pandas - <a href=\"http://pandas.pydata.org/pandas-docs/stable/io.html\">tutaj</a>."
   ]
  },
  {
   "cell_type": "markdown",
   "metadata": {},
   "source": [
    "<a href='#top' style='float: right; font-size: 13px;'>Do początku</a>"
   ]
  },
  {
   "cell_type": "markdown",
   "metadata": {},
   "source": [
    " "
   ]
  },
  {
   "cell_type": "markdown",
   "metadata": {},
   "source": [
    "### Inspekcja danych "
   ]
  },
  {
   "cell_type": "markdown",
   "metadata": {},
   "source": [
    "Po wczytaniu danych, naszym pierwszym krokiem powinno być przyjrzenie się strukturze naszych danych. Jeśli zbiór danych jest nieduży, możemy go po prostu wyświetlić w tabeli."
   ]
  },
  {
   "cell_type": "code",
   "execution_count": null,
   "metadata": {
    "scrolled": true
   },
   "outputs": [],
   "source": [
    "dane"
   ]
  },
  {
   "cell_type": "markdown",
   "metadata": {},
   "source": [
    "Podstawową informacją o zbiorze to to, jakie dane zawiera. Pomoże nam się o tym dowiedziec metoda <b>.info()</b>."
   ]
  },
  {
   "cell_type": "code",
   "execution_count": null,
   "metadata": {},
   "outputs": [],
   "source": [
    "dane.info()"
   ]
  },
  {
   "cell_type": "markdown",
   "metadata": {},
   "source": [
    "Pierwsze, co dobrze byłoby zrobić, to nadać sens naszym danym, np. poprzez zmianę nazw kolumn.  \n",
    "Użycie metody <b>.columns</b> pokaże nam listę zawierającą nazwy kolumn. Możemy bezpośrednio do niej przypisać nowe wartości."
   ]
  },
  {
   "cell_type": "code",
   "execution_count": null,
   "metadata": {},
   "outputs": [],
   "source": [
    "dane.columns = ['Mężczyźni','Kobiety']\n",
    "dane.head(3)"
   ]
  },
  {
   "cell_type": "markdown",
   "metadata": {},
   "source": [
    "Podobne informacje możemy uzyskać o indeksach dla każdego wiersza."
   ]
  },
  {
   "cell_type": "code",
   "execution_count": null,
   "metadata": {},
   "outputs": [],
   "source": [
    "dane.index"
   ]
  },
  {
   "cell_type": "markdown",
   "metadata": {
    "collapsed": true
   },
   "source": [
    "Bardziej uniwersalnym podejściem niż podglądanie całości jest jednak wykorzystanie **.head()** i **.tail()** żeby podejrzeć surowe dane. Pozostałe informacje będziemy zdobywać  z prostych statystyk opisowych oraz poglądowych wykresów. Zacznijmy od dowiedzenia się jak duży jest ten zbiór danych."
   ]
  },
  {
   "cell_type": "code",
   "execution_count": null,
   "metadata": {},
   "outputs": [],
   "source": [
    "dane.shape"
   ]
  },
  {
   "cell_type": "markdown",
   "metadata": {},
   "source": [
    "Nasz zbiór ma 34 wiersze i 2 kolumny. Obie kolumny zawierają liczby, możemy je zatem scharakteryzować za pomocą np. miar tendencji centralnej. Podstawowego opisu dostarczy nam polecenie <b>.describe( )</b>."
   ]
  },
  {
   "cell_type": "code",
   "execution_count": null,
   "metadata": {},
   "outputs": [],
   "source": [
    "dane.describe()"
   ]
  },
  {
   "cell_type": "markdown",
   "metadata": {
    "collapsed": true
   },
   "source": [
    "Już tutaj możemy zauważyć pewne problemy.  \n",
    "Po pierwsze - pierwszy wiersz podaje nam mniej elementów niż posiadamy wierszy. Oznacza to najpewniej brakujące dane.  \n",
    "Po drugie - wartości **min** i **max** posiadają niepokojące wartości, niepasujące zbytnio do wzrostu człowieka.  \n",
    "\n",
    "Zanim jednak zaczniemy je naprawiać, wykorzystajmy proste wykresy do dalszej inspekcji. Bardzo wygodnym narzędziem może być histogram."
   ]
  },
  {
   "cell_type": "code",
   "execution_count": null,
   "metadata": {},
   "outputs": [],
   "source": [
    "dane.hist(grid='off')"
   ]
  },
  {
   "cell_type": "markdown",
   "metadata": {},
   "source": [
    "Pandas ułatwia nam życie poprzez wbudowanie funkcji rysujących podstawowe wykresy. Tak naprawdę, wizualizacje wykonywane są przez pakiet Matplotlib, jeśli jednak nie potrzebujemy całkowitej kontroli nad wykresem, można posłużyć się tymi wbudowanymi metodami, żeby szybko uzyskać odpowiedzi na posiadane pytania."
   ]
  },
  {
   "cell_type": "markdown",
   "metadata": {},
   "source": [
    "Histogram pokazuje nam ciekawą sytuację, większość danych znajduje się bardzo blisko siebie, tylko kilka wartości wystaje czy to lewo czy na prawo od głównego zgrupowania. Histogram ma zbyt mało przedziałów, by powiedzieć nam coś więcej, spróbujmy wymusić na nim podział danych na więcej koszyków."
   ]
  },
  {
   "cell_type": "code",
   "execution_count": null,
   "metadata": {},
   "outputs": [],
   "source": [
    "dane.hist(grid='off', bins=50);"
   ]
  },
  {
   "cell_type": "markdown",
   "metadata": {},
   "source": [
    "Teraz widzimy już więcej i możemy z większą pewnością stwierdzić, że mamy w danych podejrzane wartości skrajne, po 3 dla każdej kolumny.  \n",
    "Innym sposobem zobrazowania zawartości zbioru jest użycie wykresu pudełkowego."
   ]
  },
  {
   "cell_type": "code",
   "execution_count": null,
   "metadata": {},
   "outputs": [],
   "source": [
    "dane.boxplot(grid='off');"
   ]
  },
  {
   "cell_type": "markdown",
   "metadata": {},
   "source": [
    "Ten wykres potwierdza nasze wątpliwości - dane zawierają tzw. outlierów. W tym przypadku możemy być pewni, że to błędy w danych. Nie zawsze jednak jest to takie oczywiste. Dlatego my po prostu usuniemy te wartości z danych, każda taka sytuacja wymaga jednak indywidualnego traktowania."
   ]
  },
  {
   "cell_type": "markdown",
   "metadata": {},
   "source": [
    "<a href='#top' style='float: right; font-size: 13px;'>Do początku</a>  "
   ]
  },
  {
   "cell_type": "markdown",
   "metadata": {},
   "source": [
    " "
   ]
  },
  {
   "cell_type": "markdown",
   "metadata": {},
   "source": [
    "### Czyszczenie danych"
   ]
  },
  {
   "cell_type": "markdown",
   "metadata": {},
   "source": [
    "Zajmijmy się najpierw wartościami skrajnymi.  \n",
    "Zestaw danych dotyczy najpopularniejszych aktorów i aktorek, z których nikt nie ma nietypowego wzrostu. Dla uproszczenia przyjmiemy, że wzrost pomiędzy 145 a 220 cm zawiera wszystkie prawdopodobne wyniki. Dlatego będziemy chcieli usunąć wartości nienależące do tego zakresu. Wykorzystamy do tego operatory boolowskie."
   ]
  },
  {
   "cell_type": "markdown",
   "metadata": {},
   "source": [
    "Zacznijmy od znalezienia wartości poniżej 145 cm."
   ]
  },
  {
   "cell_type": "code",
   "execution_count": null,
   "metadata": {
    "scrolled": true
   },
   "outputs": [],
   "source": [
    "dane < 145"
   ]
  },
  {
   "cell_type": "markdown",
   "metadata": {},
   "source": [
    "Otrzymujemy tabelę tego samego rozmiaru co oryginalna, w komórkach zamiast wartości liczbowych mamy wartości logiczne, **False** dla danych większych niż 145 i **True** dla mniejszych. Połączmy to z drugim warunkiem."
   ]
  },
  {
   "cell_type": "code",
   "execution_count": null,
   "metadata": {
    "scrolled": true
   },
   "outputs": [],
   "source": [
    "(dane < 145) | (dane > 220)"
   ]
  },
  {
   "cell_type": "markdown",
   "metadata": {},
   "source": [
    "Wykorzystamy powyższą tabelę jako maskę, którą nałożymy na oryginalne dane i wybierzemy tylko te dane, które pasują do naszego zbioru."
   ]
  },
  {
   "cell_type": "code",
   "execution_count": null,
   "metadata": {},
   "outputs": [],
   "source": [
    "dane[(dane < 145) | (dane > 220)].dropna(how='all')"
   ]
  },
  {
   "cell_type": "markdown",
   "metadata": {},
   "source": [
    "Metoda <b>.dropna(how='all')</b> usuwa z podglądu te wiersze, gdzie mamy braki w całym wierszu (czyli wiersze z dobrymi wartościami).  \n",
    "Zamienimy te niepożądane wartości na NaN (czyli Not a Number), co oznacza brak w danych. Dzięki temu usuniemy te pola razem z innymi brakami, które mamy w zbiorze."
   ]
  },
  {
   "cell_type": "code",
   "execution_count": null,
   "metadata": {
    "scrolled": true
   },
   "outputs": [],
   "source": [
    "dane[(dane < 145) | (dane > 220)]=np.NaN\n",
    "dane"
   ]
  },
  {
   "cell_type": "markdown",
   "metadata": {},
   "source": [
    "Teraz chcielibyśmy wyrzucić wszystkie NaNy i pozostawić wyłącznie dobre wartości. Zazwyczaj robi się to usuwając całe wiersze (bo jeden wiersz, to jedna obserwacja, więc jest nieprzydatna, jeśli posiada braki).  \n",
    "W naszym przypadku wiersze są tylko porządkowe a kolumny dotyczą innych osób badanych. Posortujemy je zatem i usuniemy te wiersze, które zawierają braki."
   ]
  },
  {
   "cell_type": "code",
   "execution_count": null,
   "metadata": {
    "scrolled": true
   },
   "outputs": [],
   "source": [
    "dane = dane.apply(np.sort, axis=0)\n",
    "dane.tail(5)"
   ]
  },
  {
   "cell_type": "markdown",
   "metadata": {},
   "source": [
    "Widzimy, że ostatnie 4 wiersze mają braki danych. Usuniemy je zatem i uznamy dane za wyczyszczone."
   ]
  },
  {
   "cell_type": "code",
   "execution_count": null,
   "metadata": {},
   "outputs": [],
   "source": [
    "dane = dane.dropna()\n",
    "dane.shape"
   ]
  },
  {
   "cell_type": "markdown",
   "metadata": {},
   "source": [
    "<a href='#top' style='float: right; font-size: 13px;'>Do początku</a>  "
   ]
  },
  {
   "cell_type": "markdown",
   "metadata": {},
   "source": [
    " "
   ]
  },
  {
   "cell_type": "markdown",
   "metadata": {},
   "source": [
    "### Statystyki opisowe"
   ]
  },
  {
   "cell_type": "markdown",
   "metadata": {},
   "source": [
    "Nasze dane są wyczyszczone, dzięki czemu statystyki opisowe będą dla nas teraz dużo bardziej informatywne."
   ]
  },
  {
   "cell_type": "code",
   "execution_count": null,
   "metadata": {},
   "outputs": [],
   "source": [
    "dane.describe()"
   ]
  },
  {
   "cell_type": "markdown",
   "metadata": {},
   "source": [
    "Teraz całość wygląda bardziej spójnie. Spróbujmy jeszcze zobaczyć to samo na wykresie pudełkowym."
   ]
  },
  {
   "cell_type": "code",
   "execution_count": null,
   "metadata": {},
   "outputs": [],
   "source": [
    "dane.boxplot(grid='off');"
   ]
  },
  {
   "cell_type": "markdown",
   "metadata": {},
   "source": [
    "Interesujący może być też widok na dystrybucję. Powtórzmy więc rysowanie histogramu, tym razem na jednym wykresie."
   ]
  },
  {
   "cell_type": "code",
   "execution_count": null,
   "metadata": {},
   "outputs": [],
   "source": [
    "dane.plot(kind='hist', bins=9, alpha=0.7);"
   ]
  },
  {
   "cell_type": "markdown",
   "metadata": {},
   "source": [
    "Innym sposobem jest wyrysowanie tzw. <a href=\"https://pl.wikipedia.org/wiki/Estymator_j%C4%85drowy_g%C4%99sto%C5%9Bci\">estymatora jądrowego gęstości</a>, co pozwoli nam przybliżyć rozkład naszych zmiennych."
   ]
  },
  {
   "cell_type": "code",
   "execution_count": null,
   "metadata": {},
   "outputs": [],
   "source": [
    "dane.plot.kde();"
   ]
  },
  {
   "cell_type": "markdown",
   "metadata": {},
   "source": [
    "Skoro mamy rozkład, to porównajmy sobie ich skośność oraz kurtozę."
   ]
  },
  {
   "cell_type": "code",
   "execution_count": null,
   "metadata": {},
   "outputs": [],
   "source": [
    "dane.skew()"
   ]
  },
  {
   "cell_type": "code",
   "execution_count": null,
   "metadata": {},
   "outputs": [],
   "source": [
    "dane.kurtosis()"
   ]
  },
  {
   "cell_type": "markdown",
   "metadata": {},
   "source": [
    "Innym interesującym aspektem może być korelacja pomiędzy zmiennymi. Współczynniki korelacji uzyskamy za pomocą metody <b>.corr()</b>."
   ]
  },
  {
   "cell_type": "code",
   "execution_count": null,
   "metadata": {},
   "outputs": [],
   "source": [
    "dane.corr()"
   ]
  },
  {
   "cell_type": "markdown",
   "metadata": {},
   "source": [
    "Przydatnym narzędziem do inspekcji zależności pomiędzy zmiennymi jest matryca rozrzutu."
   ]
  },
  {
   "cell_type": "code",
   "execution_count": null,
   "metadata": {},
   "outputs": [],
   "source": [
    "pd.tools.plotting.scatter_matrix(dane, diagonal='kde');"
   ]
  },
  {
   "cell_type": "markdown",
   "metadata": {},
   "source": [
    "Dane w naszym zbiorze pochodzą z rozkładu normalnego, siłą reczy będą ze sobą maksymalnie skorelowane (szczególnie po sortowaniu)."
   ]
  },
  {
   "cell_type": "markdown",
   "metadata": {},
   "source": [
    "<a href='#top' style='float: right; font-size: 13px;'>Do początku</a>  "
   ]
  },
  {
   "cell_type": "markdown",
   "metadata": {},
   "source": [
    " "
   ]
  },
  {
   "cell_type": "markdown",
   "metadata": {},
   "source": [
    "### Własne funckcje"
   ]
  },
  {
   "cell_type": "markdown",
   "metadata": {},
   "source": [
    "Pandas pozwala na wykorzystanie własnych funkcji na danych. Widzieliśmy to przy okazji sortowania elementów dla każdej kolumny.  \n",
    "Spróbujemy teraz napisać kilka własnych funkcji i dostosować je do użycia z pakietem pandas."
   ]
  },
  {
   "cell_type": "markdown",
   "metadata": {},
   "source": [
    "Zacznijmy od czegoś prostego, np. mediany. Pierwszym krokiem jest napisanie i przetestowanie odpowiedniej funkcji.  \n",
    "Najpierw wzakodujmy wersję dla parzystej liczby elementów."
   ]
  },
  {
   "cell_type": "code",
   "execution_count": null,
   "metadata": {},
   "outputs": [],
   "source": [
    "def mediana(dane):\n",
    "    dane = np.sort(dane)\n",
    "    if len(dane)%2==0:\n",
    "        middle = int(len(dane)/2)\n",
    "        return (dane[middle-1]+dane[middle])/2"
   ]
  },
  {
   "cell_type": "code",
   "execution_count": null,
   "metadata": {},
   "outputs": [],
   "source": [
    "zbior = [1,2,3,4,5,6,7,8]\n",
    "len(zbior)"
   ]
  },
  {
   "cell_type": "code",
   "execution_count": null,
   "metadata": {},
   "outputs": [],
   "source": [
    "mediana(zbior)"
   ]
  },
  {
   "cell_type": "markdown",
   "metadata": {},
   "source": [
    "Dodajmy teraz drugą część funkcji."
   ]
  },
  {
   "cell_type": "code",
   "execution_count": null,
   "metadata": {},
   "outputs": [],
   "source": [
    "def mediana(dane):\n",
    "    dane = np.sort(dane)\n",
    "    if len(dane)%2==0:\n",
    "        middle = int(len(dane)/2)\n",
    "        return (dane[middle-1]+dane[middle])/2\n",
    "    else:\n",
    "        middle = len(dane)//2\n",
    "        return dane[middle]"
   ]
  },
  {
   "cell_type": "code",
   "execution_count": null,
   "metadata": {
    "scrolled": true
   },
   "outputs": [],
   "source": [
    "zbior2 = [1,2,3,4,5,6,7,8,9]\n",
    "len(zbior2)"
   ]
  },
  {
   "cell_type": "code",
   "execution_count": null,
   "metadata": {},
   "outputs": [],
   "source": [
    "mediana(zbior2)"
   ]
  },
  {
   "cell_type": "markdown",
   "metadata": {},
   "source": [
    " "
   ]
  },
  {
   "cell_type": "markdown",
   "metadata": {},
   "source": [
    "Możemy teraz użyć naszej zindywidualizowanej funkcji na zbiorze danych."
   ]
  },
  {
   "cell_type": "code",
   "execution_count": null,
   "metadata": {},
   "outputs": [],
   "source": [
    "dane.apply(mediana, axis=0)"
   ]
  },
  {
   "cell_type": "markdown",
   "metadata": {},
   "source": [
    "Wyniki wyglądają na pierwszy rzut oka poprawnie. Skonfrontujmy to z wbudowaną funkcją."
   ]
  },
  {
   "cell_type": "code",
   "execution_count": null,
   "metadata": {},
   "outputs": [],
   "source": [
    "dane.median()"
   ]
  },
  {
   "cell_type": "markdown",
   "metadata": {},
   "source": [
    "Wyniki są dokładnie takie same, mamy zatem pewność, że nasza funkcja działa dobrze i została użyta przez pandas poprawnie."
   ]
  },
  {
   "cell_type": "markdown",
   "metadata": {},
   "source": [
    "W taki sam sposób możemy tworzyć dowolne funkcje działające na obiekty wieloementowe (jak nasze kolumny z danymi).  \n",
    "Możliwe jest również wykorzystanie analogicznej metody do wykonania przekształceń na każdym elemencie z osobna.  \n",
    "Służy do tego metoda <b>.applymap( )</b>."
   ]
  },
  {
   "cell_type": "code",
   "execution_count": null,
   "metadata": {},
   "outputs": [],
   "source": [
    "def nowa_funkcja(dane):\n",
    "    if dane < 170:\n",
    "        return 'niski wzrost'\n",
    "    else:\n",
    "        return 'wysoki wzrost'"
   ]
  },
  {
   "cell_type": "code",
   "execution_count": null,
   "metadata": {
    "scrolled": true
   },
   "outputs": [],
   "source": [
    "dane.applymap(nowa_funkcja)"
   ]
  },
  {
   "cell_type": "markdown",
   "metadata": {},
   "source": [
    "<a href='#top' style='float: right; font-size: 13px;'>Do początku</a>  "
   ]
  },
  {
   "cell_type": "markdown",
   "metadata": {},
   "source": [
    " "
   ]
  },
  {
   "cell_type": "markdown",
   "metadata": {},
   "source": [
    "### Ćwiczenia"
   ]
  },
  {
   "cell_type": "markdown",
   "metadata": {},
   "source": [
    "Wypróbujemy teraz wszystkie dotychczasowe informacje na nowym pliku z danymi.  \n",
    "Ten będzie zawierał <a href='https://en.wikipedia.org/wiki/Iris_flower_data_set'>klasyczny zestaw dotyczący irysów</a> opublikowany przez Ronalda Fishera."
   ]
  },
  {
   "cell_type": "code",
   "execution_count": null,
   "metadata": {},
   "outputs": [],
   "source": [
    "iris = pd.read_table('./iris.data', sep=',')"
   ]
  },
  {
   "cell_type": "code",
   "execution_count": null,
   "metadata": {},
   "outputs": [],
   "source": []
  },
  {
   "cell_type": "code",
   "execution_count": null,
   "metadata": {},
   "outputs": [],
   "source": []
  },
  {
   "cell_type": "code",
   "execution_count": null,
   "metadata": {},
   "outputs": [],
   "source": []
  },
  {
   "cell_type": "code",
   "execution_count": null,
   "metadata": {},
   "outputs": [],
   "source": []
  },
  {
   "cell_type": "markdown",
   "metadata": {},
   "source": [
    "<a href='#top' style='float: right; font-size: 13px;'>Do początku</a>  "
   ]
  },
  {
   "cell_type": "markdown",
   "metadata": {},
   "source": [
    " "
   ]
  },
  {
   "cell_type": "code",
   "execution_count": 2,
   "metadata": {},
   "outputs": [
    {
     "data": {
      "text/html": [
       "<style>\r\n",
       "@import url(http://fonts.googleapis.com/css?family=Titillium+Web:400,700,800,400italic&subset=latin-ext,latin);\r\n",
       "@import url(http://fonts.googleapis.com/css?family=Anonymous+Pro:400,700,800,400italic&subset=latin-ext,latin);\r\n",
       "\r\n",
       ".filename {\r\n",
       "    font-family: Titillium Web;\r\n",
       "    font-variant: small-caps;\r\n",
       "    letter-spacing: 0.1em;\r\n",
       "}\r\n",
       "\r\n",
       "b {\r\n",
       "    color: #cc0000;\r\n",
       "}\r\n",
       "\r\n",
       "em {\r\n",
       "    color:#0000cc;\r\n",
       "}\r\n",
       "\r\n",
       "ul {\r\n",
       "\tlist-style-type: square !important;\r\n",
       "}\r\n",
       "\r\n",
       ".rendered_html ul li {\r\n",
       "\tfont-size: 8px;\r\n",
       "}\r\n",
       "\r\n",
       "li span {\r\n",
       "\tfont-size: 14px;\r\n",
       "}\r\n",
       "\r\n",
       "/* tekst w markdown */\r\n",
       ".rendered_html {\r\n",
       "    font-family: Titillium Web, serif;\r\n",
       "    }\r\n",
       "\r\n",
       ".rendered_html p {\r\n",
       "    font-size: 16px;\r\n",
       "    text-align: justify;\r\n",
       "    text-decoration: none;\r\n",
       "    }\r\n",
       "\r\n",
       ".rendered_html :link {\r\n",
       "    text-decoration: none;\r\n",
       "    }\r\n",
       "\r\n",
       ".rendered_html :visited {\r\n",
       "    text-decoration: none;\r\n",
       "    }\r\n",
       "    \r\n",
       "/* tekst w code cell */\r\n",
       ".code_cell {\r\n",
       "    font-family: Anonymous Pro, monospace;\r\n",
       "    font-size: 14px;\r\n",
       "    }\r\n",
       "\r\n",
       "code, pre, .CodeMirror {\r\n",
       "    font-family: Anonymous Pro, monospace;\r\n",
       "    font-size: 14px;\r\n",
       "}\r\n",
       "\r\n",
       "</style>"
      ],
      "text/plain": [
       "<IPython.core.display.HTML object>"
      ]
     },
     "execution_count": 2,
     "metadata": {},
     "output_type": "execute_result"
    }
   ],
   "source": [
    "from IPython.core.display import HTML\n",
    "from urllib.request import urlopen\n",
    "HTML(urlopen(\"https://raw.githubusercontent.com/mkoculak/Warsztat-programowania/master/ipython.css\").read().decode(\"utf-8\"))"
   ]
  }
 ],
 "metadata": {
  "anaconda-cloud": {},
  "kernelspec": {
   "display_name": "Python 3",
   "language": "python",
   "name": "python3"
  },
  "language_info": {
   "codemirror_mode": {
    "name": "ipython",
    "version": 3
   },
   "file_extension": ".py",
   "mimetype": "text/x-python",
   "name": "python",
   "nbconvert_exporter": "python",
   "pygments_lexer": "ipython3",
   "version": "3.6.3"
  },
  "latex_envs": {
   "bibliofile": "biblio.bib",
   "cite_by": "apalike",
   "current_citInitial": 1,
   "eqLabelWithNumbers": true,
   "eqNumInitial": 0
  }
 },
 "nbformat": 4,
 "nbformat_minor": 1
}

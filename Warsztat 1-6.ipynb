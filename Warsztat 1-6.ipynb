{
 "cells": [
  {
   "cell_type": "markdown",
   "metadata": {},
   "source": [
    "# Warsztat 6 - operacje na plikach<a id=top></a>"
   ]
  },
  {
   "cell_type": "markdown",
   "metadata": {},
   "source": [
    "<font size=2>Przed pracą z notatnikiem polecam wykonać kod w ostatniej komórce (zawiera html i css), dzięki czemu całość będzie bardziej estetyczna :)</font>"
   ]
  },
  {
   "cell_type": "markdown",
   "metadata": {},
   "source": [
    " "
   ]
  },
  {
   "cell_type": "markdown",
   "metadata": {},
   "source": [
    "<a href='#Warsztat-6---operacje-na-plikach'>Warsztat 6</a>\n",
    "<ul>\n",
    "<li><a href='#Wczytywanie-pliku'><span>Wczytywanie pliku</span></a></li>\n",
    "<li><a href='#Otwieranie-plików-url'><span>Otwieranie plików url</span></a></li>\n",
    "<li><a href='#Rozbudowana-składnia'><span>Rozbudowana składnia</span></a></li>\n",
    "<li><a href='#Zapisywanie-pliku'><span>Zapisywanie pliku</span></a></li>\n",
    "\n",
    "</ul> "
   ]
  },
  {
   "cell_type": "markdown",
   "metadata": {},
   "source": [
    " "
   ]
  },
  {
   "cell_type": "markdown",
   "metadata": {},
   "source": [
    "Możliwość korzystania z systemu plikowego i przechowywanych w nim informacji jest kluczowa, jeśli chcemy przekazywać do programu dane bez konieczności modyfikacji kodu czy wprowadzania wszystkiego przez konsolę. Poszerzenie funkcjonalności o zapis informacji do pliku pozwoli nam z kolei przechowywać rezultaty pracy programu oraz dzielić się nimi z innymi."
   ]
  },
  {
   "cell_type": "markdown",
   "metadata": {},
   "source": [
    " "
   ]
  },
  {
   "cell_type": "markdown",
   "metadata": {},
   "source": [
    "## Wczytywanie pliku "
   ]
  },
  {
   "cell_type": "markdown",
   "metadata": {},
   "source": [
    "Podczas tego kursu zobaczymy jeszcze conajmniej kilka sposobów wczytywania danych do pamięci Pythona, ale większość z nich będzie sprofilowana pod konkretne rozszerzenia i typy danych. My zaczniemy jednak od najprostszej konstrukcji, która nie wymaga żadnych dodatkowych modułów czy bardzo złożonej składni."
   ]
  },
  {
   "cell_type": "markdown",
   "metadata": {},
   "source": [
    "Pierwszym istotnym poleceniem będzie funkcja <b>open( )</b>, która tworzy obiekt w pythonie powiązany z interesującymi nas danymi, dzięki czemu możemy 'dostać się' do informacji znajdującej się wewnątrz.<br>\n",
    "Spróbujemy zatem otworzyć plik *trasy.txt* i przyporządkować mu adekwatną nazwę."
   ]
  },
  {
   "cell_type": "code",
   "execution_count": 48,
   "metadata": {
    "collapsed": false
   },
   "outputs": [],
   "source": [
    "plik = open('trasy.txt')"
   ]
  },
  {
   "cell_type": "markdown",
   "metadata": {},
   "source": [
    "Teraz mamy już bezpośredni dostęp do tego, co znajduje się wewnątrz wskazanego pliku. Ważne jest, żeby plik znajdował się w tym samym folderze co ten notatnik (a potem program). W innym przypadku należy podać pełną ścieżkę dostępu, np. 'C:\\users\\kasia\\moje dokumenty\\trasy.txt'."
   ]
  },
  {
   "cell_type": "markdown",
   "metadata": {},
   "source": [
    "Spróbujmy zatem wydrukować na konsoli to, co znajduje się wewnątrz naszego pliku. Wykorzystamy metodę <b>.read( )</b>, która służy wczytaniu zawartości pliku."
   ]
  },
  {
   "cell_type": "code",
   "execution_count": null,
   "metadata": {
    "collapsed": false
   },
   "outputs": [],
   "source": [
    "print plik.read()"
   ]
  },
  {
   "cell_type": "markdown",
   "metadata": {},
   "source": [
    "Jeśli spróbujemy wywołać tę metodę drugi raz, zamiast ponownego wyświetlenia zawartości zobaczymy tylko pusty string (spróbujcie sami). Wynika to z tego, że metoda .read() wczytując treść pliku usuwa go z bufora stworzonego przez funkcję open(). Dlatego wyświetlane jest tam to, co pozostało - pustka. Żeby ponownie wykorzystać dane z pliku, muszą być one ponownie wczytane.<br>\n",
    "Żeby uniknąć tego problemu, wczytamy treść pliku do innej zmiennej."
   ]
  },
  {
   "cell_type": "code",
   "execution_count": null,
   "metadata": {
    "collapsed": false
   },
   "outputs": [],
   "source": [
    "plik = open('trasy.txt')\n",
    "tekst = plik.read()"
   ]
  },
  {
   "cell_type": "code",
   "execution_count": null,
   "metadata": {
    "collapsed": false
   },
   "outputs": [],
   "source": [
    "print tekst\n",
    "print type(tekst)"
   ]
  },
  {
   "cell_type": "markdown",
   "metadata": {},
   "source": [
    "Udało nam się wczytać cały plik w postaci ciągłego tekstu, sformatowanego jedynie w taki sam sposób jak oryginalny plik. Naszą intencją najczęściej jednak nie będzie przechowywanie danych z pliku w jednej zmiennej tekstowej, ale przechowanie informacji w bardziej przyjaznej formie, np. słownika.<br>\n",
    "Spróbujemy teraz ładować dane po kawałku i przekształcać je w sensowne elementy słownika."
   ]
  },
  {
   "cell_type": "markdown",
   "metadata": {},
   "source": [
    "Pierwszym sposobem będzie użycie komendy <b>.readline( )</b>, która zamiast wczytać od razu cały tekst, pobieże tylko pierwszą jego linię (czyli wszystko do znaku nowej linii - \\n).<br> To polecenie również usuwa z obiektu wczytany tekst, dlatego kolejne wywołania metody będą wczytywać kolejne linie pliku."
   ]
  },
  {
   "cell_type": "code",
   "execution_count": null,
   "metadata": {
    "collapsed": false
   },
   "outputs": [],
   "source": [
    "plik = open('trasy.txt')\n",
    "for i in range(1,19):\n",
    "    print i, plik.readline()[:-1]"
   ]
  },
  {
   "cell_type": "markdown",
   "metadata": {},
   "source": [
    "Warto pamiętać, że znak nowej linii jest włączany do stringu przy tej metodzie, dlatego powyżej się go pozbywamy za pomocą slicingu - dzięki temu całość jest lepiej widoczna.<br>\n",
    "Wykorzystanie .readline() jest problematyczne - żeby wgrać całość musimy znać długość pliku (liczoną w liniach), ewentualnie sprawdzać po każdej wczytanej linii czy nie jest przypadkiem pusta."
   ]
  },
  {
   "cell_type": "code",
   "execution_count": null,
   "metadata": {
    "collapsed": false
   },
   "outputs": [],
   "source": [
    "plik = open('trasy.txt')\n",
    "for i in range(1,21):\n",
    "    print i, plik.readline()==''"
   ]
  },
  {
   "cell_type": "markdown",
   "metadata": {},
   "source": [
    "Python posiada także bardzo podobną metodę <b>.readlines( )</b>, która zamiast jedenj linijki, generuje listę, w której każdy element przechowuje pojedynczą linię wczytywanego dokumentu. Nie musimy zatem znać długości pliku, możemy po prostu przeiterować po każdym elemencie listy."
   ]
  },
  {
   "cell_type": "code",
   "execution_count": null,
   "metadata": {
    "collapsed": false,
    "scrolled": true
   },
   "outputs": [],
   "source": [
    "plik = open('trasy.txt')\n",
    "for linia in plik.readlines():\n",
    "    print linia[:-1]"
   ]
  },
  {
   "cell_type": "markdown",
   "metadata": {},
   "source": [
    "Co więcej, możemy w ogóle zrezygnować z .readlines() i wykorzystać sam obiekt tworzony przez otwarcie naszego pliku."
   ]
  },
  {
   "cell_type": "code",
   "execution_count": null,
   "metadata": {
    "collapsed": false
   },
   "outputs": [],
   "source": [
    "for linia in open('trasy.txt'):\n",
    "    print linia[:-1]"
   ]
  },
  {
   "cell_type": "markdown",
   "metadata": {},
   "source": [
    "Świetnie, działa zgodnie z naszymi oczekiwaniami. Zobaczmy jeszcze jeden sposób, który bardzo przypomina powyższy, ale wykorzystuje trochę odmienną składnię.<br>\n",
    "Pojawia się tam komenda <b>with</b>, którą wykorzystujemy w kombinacji z klasyczną pętlą for:"
   ]
  },
  {
   "cell_type": "code",
   "execution_count": null,
   "metadata": {
    "collapsed": false
   },
   "outputs": [],
   "source": [
    "with open('trasy.txt') as plik:\n",
    "    for linia in plik:\n",
    "        print linia[:-1]"
   ]
  },
  {
   "cell_type": "markdown",
   "metadata": {},
   "source": [
    "Choć nie jest to całkowicie niezbędne, dobrą praktyką jest zamykanie plików, jeśli nie będą nam już potrzebne. Inaczej nie będzie można ich edytować ani usunąć ponieważ będzie z nich korzystał Python.<br>\n",
    "Żeby zamknąć plik (nie jest to tożsame z zapisaniem w nim czegokolwiek), należy użyć metody <b>close( )</b>."
   ]
  },
  {
   "cell_type": "code",
   "execution_count": null,
   "metadata": {
    "collapsed": false
   },
   "outputs": [],
   "source": [
    "plik.close()"
   ]
  },
  {
   "cell_type": "markdown",
   "metadata": {},
   "source": [
    "<a href='#top' style='float: right; font-size: 13px;'>Do początku</a>    "
   ]
  },
  {
   "cell_type": "markdown",
   "metadata": {},
   "source": [
    " "
   ]
  },
  {
   "cell_type": "markdown",
   "metadata": {},
   "source": [
    "#### Małe ćwiczenie: "
   ]
  },
  {
   "cell_type": "markdown",
   "metadata": {},
   "source": [
    "Wykorzystując wszystkie poznane sposoby (oraz wujka google) zamienić dane z pliku trasy na zmienną trasy, która będzie słownikiem. Kluczem niech będą nazwy odcinków (autostrad i dróg ekspresowych), wartości powinny być w postaci listy [miasto, miasto, odległość].<br>\n",
    "Następnie dodać jedną kombinację klucz - wartość o treści dowolnej, ale zgodnej z duchem całego słownika."
   ]
  },
  {
   "cell_type": "code",
   "execution_count": 52,
   "metadata": {
    "collapsed": true
   },
   "outputs": [],
   "source": [
    "trasy={}\n",
    "for linia in open('trasy.txt'):\n",
    "    dane=linia.split()\n",
    "    trasy[dane[0]]=[dane[1],dane[2],dane[3]]\n",
    "trasy['A33']=['Koszalin','Krakow',777]"
   ]
  },
  {
   "cell_type": "markdown",
   "metadata": {},
   "source": [
    " "
   ]
  },
  {
   "cell_type": "markdown",
   "metadata": {},
   "source": [
    "## Otwieranie plików url "
   ]
  },
  {
   "cell_type": "markdown",
   "metadata": {},
   "source": [
    "Praca z plikami nie musi ograniczać się wyłącznie do tych, znajdujących się na naszym dysku. Internet zawiera dziesiątki milionów dostępnych plików, z których możemy wydobywać informacje. Zanim jednak będziemy ściągać bazy filmwebu w celu wydobycia listy filmów, w których Sean Bean nie został uśmiercony, zobaczmy jak w prosty sposób możemy pobierać pliki z internetu i wykorzystywać je w naszym programie."
   ]
  },
  {
   "cell_type": "markdown",
   "metadata": {},
   "source": [
    "Konieczne tu będzie zaimportowanie biblioteki <b>urllib</b>, która pozwala na podstawową komunikację Pythona z internetem. Składnia samej funkcji pobierającej plik jest bliźniaczo podobna to tej, którą wykorzystujemy w przypadku plików na dysku."
   ]
  },
  {
   "cell_type": "code",
   "execution_count": null,
   "metadata": {
    "collapsed": false
   },
   "outputs": [],
   "source": [
    "import urllib\n",
    "for linia in urllib.urlopen('https://raw.githubusercontent.com/mkoculak/hello_world/nowa/trasy.txt'):\n",
    "    print linia[:-1]"
   ]
  },
  {
   "cell_type": "markdown",
   "metadata": {},
   "source": [
    "<a href='#top' style='float: right; font-size: 13px;'>Do początku</a>    "
   ]
  },
  {
   "cell_type": "markdown",
   "metadata": {},
   "source": [
    " "
   ]
  },
  {
   "cell_type": "markdown",
   "metadata": {},
   "source": [
    "## Rozbudowana składnia "
   ]
  },
  {
   "cell_type": "markdown",
   "metadata": {},
   "source": [
    "Podczas używania polecenia **open()** wyłącznie z jednym argumentem (nazwą pliku), jedyne co możemy zrobić to odczytać zawartość. Żeby wykonać dodatkowe operacje lub zmodyfikować działanie tego polecenia, możemy przekazać funkcji dodatkowe argumenty. Pełna składnia jest następująca:\n",
    "```python\n",
    "nazwa_obiektu = open(nazwa_pliku, tryb, buforowanie)```\n",
    "Ostatnia opcja - buforowanie - nie będzie nas teraz interesować. Za to możliwość zmiany trybu otwarcia będzie kluczowy dla możliwości edycji plików. Poniższa tabela zawiera możliwe do przekazania argumenty."
   ]
  },
  {
   "cell_type": "markdown",
   "metadata": {},
   "source": [
    "Argument | Tryb | Działanie\n",
    ":---: | :---: | :---:\n",
    "r | Otwiera plik w trybie 'tylko do odczytu'. | 'Kursor' ustawiony jest na początku pliku. Ustawienie domyślne.\n",
    "r+ | Otwiera plik do odczytu i zapisu. | 'Kursor' ustawiony jest na początku pliku.\n",
    "w | Otwiera plik tylko do zapisu. | Nadpisuje istniejący plik. Jeśli plik nie istnieje, tworzy go.\n",
    "w+ | Otwiera plik do odczytu i zapisu. | Nadpisuje istniejący plik. Jeśli plik nie istnieje, tworzy go.\n",
    "a | Otwiera plik w trybie 'dodawanie treści'. | Jeśli plik istnieje, ustawia kursor na końcu. Jeśli plik nie istnieje, tworzy go.\n",
    "a+ |  Otwiera plik do odczytu i dodawania. | Jeśli plik istnieje, ustawia kursor na końcu. Jeśli plik nie istnieje, tworzy go.\n",
    "b | Sufiks, zmieniający typ pliku z tekstowego na binarny. | Możliwe kombinacje: rb, rb+, wb, wb+, ab, ab+."
   ]
  },
  {
   "cell_type": "markdown",
   "metadata": {},
   "source": [
    "Jak widać, stworzenie nowego pliku czy otwarcie istniejącego do edycji wymaga zmiany argumentu podczas wywoływania funkcji open()."
   ]
  },
  {
   "cell_type": "markdown",
   "metadata": {},
   "source": [
    "<a href='#top' style='float: right; font-size: 13px;'>Do początku</a>    "
   ]
  },
  {
   "cell_type": "markdown",
   "metadata": {},
   "source": [
    " "
   ]
  },
  {
   "cell_type": "markdown",
   "metadata": {},
   "source": [
    "## Zapisywanie pliku"
   ]
  },
  {
   "cell_type": "markdown",
   "metadata": {},
   "source": [
    " Spróbujmy zatem teraz stworzyć nowy plik i zapisać do niego naszą nową bazę danych stworzoną w ćwiczeniu chwilę wcześniej<br>\n",
    " Użyjemy funkcji open() z argumentem 'w', który stworzy potrzebny nam plik.<br>\n",
    " Żeby dokonać zapisu, wykorzystujemy metodę analogizną do .read() - <b>.write()</b>."
   ]
  },
  {
   "cell_type": "code",
   "execution_count": 72,
   "metadata": {
    "collapsed": false
   },
   "outputs": [],
   "source": [
    "nowe_trasy = open ('nowe_trasy.txt','w')"
   ]
  },
  {
   "cell_type": "code",
   "execution_count": 84,
   "metadata": {
    "collapsed": false
   },
   "outputs": [],
   "source": [
    "for wpis in trasy:\n",
    "    linia = \"%s %s %s %s\\n\" % (wpis, trasy[wpis][0], trasy[wpis][1], trasy[wpis][2])\n",
    "    nowe_trasy.write(linia)"
   ]
  },
  {
   "cell_type": "code",
   "execution_count": 85,
   "metadata": {
    "collapsed": true
   },
   "outputs": [],
   "source": [
    "nowe_trasy.close()"
   ]
  },
  {
   "cell_type": "markdown",
   "metadata": {},
   "source": [
    " "
   ]
  },
  {
   "cell_type": "markdown",
   "metadata": {},
   "source": [
    " "
   ]
  },
  {
   "cell_type": "markdown",
   "metadata": {},
   "source": [
    " "
   ]
  },
  {
   "cell_type": "markdown",
   "metadata": {},
   "source": [
    " "
   ]
  },
  {
   "cell_type": "code",
   "execution_count": 46,
   "metadata": {
    "collapsed": false
   },
   "outputs": [
    {
     "data": {
      "text/html": [
       "<style>\n",
       "@import url(http://fonts.googleapis.com/css?family=Titillium+Web:400,700,800,400italic&subset=latin-ext,latin);\n",
       "@import url(http://fonts.googleapis.com/css?family=Anonymous+Pro:400,700,800,400italic&subset=latin-ext,latin);\n",
       "\n",
       ".filename {\n",
       "    font-family: Titillium Web;\n",
       "    font-variant: small-caps;\n",
       "    letter-spacing: 0.1em;\n",
       "}\n",
       "\n",
       "b {\n",
       "    color: #cc0000;\n",
       "}\n",
       "\n",
       "em {\n",
       "    color:#0000cc;\n",
       "}\n",
       "\n",
       "/* tekst w markdown */\n",
       ".rendered_html {\n",
       "    font-family: Titillium Web, serif;\n",
       "    }\n",
       "\n",
       ".rendered_html p {\n",
       "    font-size: 16px;\n",
       "    text-align: justify;\n",
       "    text-decoration: none;\n",
       "    }\n",
       "\n",
       ".rendered_html :link {\n",
       "    text-decoration: none;\n",
       "    }\n",
       "\n",
       ".rendered_html :visited {\n",
       "    text-decoration: none;\n",
       "    }\n",
       "    \n",
       "/* tekst w code cell */\n",
       ".code_cell {\n",
       "    font-family: Anonymous Pro, monospace;\n",
       "    font-size: 14px;\n",
       "    }\n",
       "\n",
       "code, pre, .CodeMirror {\n",
       "    font-family: Anonymous Pro, monospace;\n",
       "    font-size: 14px;\n",
       "}\n",
       "\n",
       "</style>"
      ],
      "text/plain": [
       "<IPython.core.display.HTML object>"
      ]
     },
     "execution_count": 46,
     "metadata": {},
     "output_type": "execute_result"
    }
   ],
   "source": [
    "from IPython.core.display import HTML\n",
    "import urllib\n",
    "HTML(urllib.urlopen(\"https://raw.githubusercontent.com/mkoculak/hello_world/nowa/ipython.css\").read())"
   ]
  }
 ],
 "metadata": {
  "kernelspec": {
   "display_name": "Python 2",
   "language": "python",
   "name": "python2"
  },
  "language_info": {
   "codemirror_mode": {
    "name": "ipython",
    "version": 2
   },
   "file_extension": ".py",
   "mimetype": "text/x-python",
   "name": "python",
   "nbconvert_exporter": "python",
   "pygments_lexer": "ipython2",
   "version": "2.7.10"
  }
 },
 "nbformat": 4,
 "nbformat_minor": 0
}

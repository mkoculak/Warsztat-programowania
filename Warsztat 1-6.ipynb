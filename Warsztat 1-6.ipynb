{
 "cells": [
  {
   "cell_type": "markdown",
   "metadata": {},
   "source": [
    "# Warsztat 6 - operacje na plikach<a id=top></a>"
   ]
  },
  {
   "cell_type": "markdown",
   "metadata": {},
   "source": [
    "<font size=2>Przed pracą z notatnikiem polecam wykonać kod w ostatniej komórce (zawiera html i css), dzięki czemu całość będzie bardziej estetyczna :)</font>"
   ]
  },
  {
   "cell_type": "markdown",
   "metadata": {},
   "source": [
    " "
   ]
  },
  {
   "cell_type": "markdown",
   "metadata": {},
   "source": [
    "<a href='#Warsztat-6---operacje-na-plikach'>Warsztat 6</a>\n",
    "<ul>\n",
    "<li><a href='#Wczytywanie-pliku'><span>Wczytywanie pliku</span></a></li>\n",
    "<li><a href='#Otwieranie-plików-url'><span>Otwieranie plików url</span></a></li>\n",
    "<li><a href='#Rozbudowana-składnia'><span>Rozbudowana składnia</span></a></li>\n",
    "<li><a href='#Zapisywanie-pliku'><span>Zapisywanie pliku</span></a></li>\n",
    "\n",
    "</ul> "
   ]
  },
  {
   "cell_type": "markdown",
   "metadata": {},
   "source": [
    " "
   ]
  },
  {
   "cell_type": "markdown",
   "metadata": {},
   "source": [
    "Możliwość korzystania z systemu plikowego i przechowywanych w nim informacji jest kluczowa, jeśli chcemy przekazywać do programu dane bez konieczności modyfikacji kodu czy wprowadzania wszystkiego przez konsolę. Poszerzenie funkcjonalności o zapis informacji do pliku pozwoli nam z kolei przechowywać rezultaty pracy programu oraz dzielić się nimi z innymi."
   ]
  },
  {
   "cell_type": "markdown",
   "metadata": {},
   "source": [
    " "
   ]
  },
  {
   "cell_type": "markdown",
   "metadata": {},
   "source": [
    "## Wczytywanie pliku "
   ]
  },
  {
   "cell_type": "markdown",
   "metadata": {},
   "source": [
    "Podczas tego kursu zobaczymy jeszcze conajmniej kilka sposobów wczytywania danych do pamięci Pythona, ale większość z nich będzie sprofilowana pod konkretne rozszerzenia i typy danych. My zaczniemy jednak od najprostszej konstrukcji, która nie wymaga żadnych dodatkowych modułów czy bardzo złożonej składni."
   ]
  },
  {
   "cell_type": "markdown",
   "metadata": {},
   "source": [
    "Pierwszym istotnym poleceniem będzie funkcja <b>open( )</b>, która tworzy obiekt w pythonie powiązany z interesującymi nas danymi, dzięki czemu możemy 'dostać się' do informacji znajdującej się wewnątrz.<br>\n",
    "Spróbujemy zatem otworzyć plik *filmy.txt* i przyporządkować mu adekwatną nazwę."
   ]
  },
  {
   "cell_type": "code",
   "execution_count": 19,
   "metadata": {
    "collapsed": false
   },
   "outputs": [],
   "source": [
    "plik = open('filmy.txt')"
   ]
  },
  {
   "cell_type": "markdown",
   "metadata": {},
   "source": [
    "Teraz mamy już bezpośredni dostęp do tego, co znajduje się wewnątrz wskazanego pliku. Ważne jest, żeby plik znajdował się w tym samym folderze co ten notatnik (a potem program). W innym przypadku należy podać pełną ścieżkę dostępu, np. 'C:\\users\\kasia\\moje dokumenty\\filmy.txt'."
   ]
  },
  {
   "cell_type": "markdown",
   "metadata": {},
   "source": [
    "Spróbujmy zatem wydrukować na konsoli to, co znajduje się wewnątrz naszego pliku. Wykorzystamy metodę <b>.read( )</b>, która służy wczytaniu zawartości pliku."
   ]
  },
  {
   "cell_type": "code",
   "execution_count": 20,
   "metadata": {
    "collapsed": false,
    "scrolled": true
   },
   "outputs": [
    {
     "name": "stdout",
     "output_type": "stream",
     "text": [
      "Avatar\t2,787,965,087\t\t\t\t\t\n",
      "Titanic\t2,186,772,302\t\t\t\t\t\n",
      "Star Wars: The Force Awakens\t2,068,223,624\t\t\t\t\t\n",
      "Jurassic World\t1,670,400,637\t\t\t\t\t\n",
      "The Avengers\t1,518,812,988\t\t\t\t\t\n",
      "Furious 7\t1,516,045,911\t\t\t\t\t\n",
      "Avengers: Age of Ultron\t1,405,413,868\t\t\t\t\t\n",
      "Harry Potter and the Deathly Hallows ? Part 2\t1,341,511,219\t\t\t\t\t\n",
      "Frozen\t1,287,000,000\t\t\t\t\t\n",
      "Iron Man 3\t1,214,811,252\t\t\t\t\t\n",
      "Minions\t1,159,398,397\t\t\t\t\t\n",
      "Captain America: Civil War\t1,153,304,495\t\t\t\t\t\n",
      "Transformers: Dark of the Moon\t1,123,794,079\t\t\t\t\t\n",
      "The Lord of the Rings: The Return of the King\t1,119,929,521\t\t\t\t\t\n",
      "Skyfall\t1,108,561,013\t\t\t\t\t\n",
      "Transformers: Age of Extinction\t1,104,054,072\t\t\t\t\t\n",
      "The Dark Knight Rises\t1,084,939,099\t\t\t\t\t\n",
      "Toy Story 3\t1,066,969,703\t\t\t\t\t\n",
      "Pirates of the Caribbean: Dead Man's Chest\t1,066,179,725\t\t\t\t\t\n",
      "Pirates of the Caribbean: On Stranger Tides\t1,045,713,802\t\t\t\t\t\n",
      "\t\t\t\t\t\t\n",
      "\n"
     ]
    }
   ],
   "source": [
    "print(plik.read())"
   ]
  },
  {
   "cell_type": "markdown",
   "metadata": {},
   "source": [
    "Jeśli spróbujemy wywołać tę metodę drugi raz, zamiast ponownego wyświetlenia zawartości zobaczymy tylko pusty string (spróbujcie sami). Wynika to z tego, że metoda .read() wczytując treść pliku usuwa go z bufora stworzonego przez funkcję open(). Dlatego wyświetlane jest tam to, co pozostało - pustka. Żeby ponownie wykorzystać dane z pliku, muszą być one ponownie wczytane.<br>\n",
    "Żeby uniknąć tego problemu, wczytamy treść pliku do innej zmiennej."
   ]
  },
  {
   "cell_type": "code",
   "execution_count": 21,
   "metadata": {
    "collapsed": false
   },
   "outputs": [],
   "source": [
    "plik = open('filmy.txt')\n",
    "tekst = plik.read()"
   ]
  },
  {
   "cell_type": "code",
   "execution_count": 22,
   "metadata": {
    "collapsed": false,
    "scrolled": true
   },
   "outputs": [
    {
     "name": "stdout",
     "output_type": "stream",
     "text": [
      "Avatar\t2,787,965,087\t\t\t\t\t\n",
      "Titanic\t2,186,772,302\t\t\t\t\t\n",
      "Star Wars: The Force Awakens\t2,068,223,624\t\t\t\t\t\n",
      "Jurassic World\t1,670,400,637\t\t\t\t\t\n",
      "The Avengers\t1,518,812,988\t\t\t\t\t\n",
      "Furious 7\t1,516,045,911\t\t\t\t\t\n",
      "Avengers: Age of Ultron\t1,405,413,868\t\t\t\t\t\n",
      "Harry Potter and the Deathly Hallows ? Part 2\t1,341,511,219\t\t\t\t\t\n",
      "Frozen\t1,287,000,000\t\t\t\t\t\n",
      "Iron Man 3\t1,214,811,252\t\t\t\t\t\n",
      "Minions\t1,159,398,397\t\t\t\t\t\n",
      "Captain America: Civil War\t1,153,304,495\t\t\t\t\t\n",
      "Transformers: Dark of the Moon\t1,123,794,079\t\t\t\t\t\n",
      "The Lord of the Rings: The Return of the King\t1,119,929,521\t\t\t\t\t\n",
      "Skyfall\t1,108,561,013\t\t\t\t\t\n",
      "Transformers: Age of Extinction\t1,104,054,072\t\t\t\t\t\n",
      "The Dark Knight Rises\t1,084,939,099\t\t\t\t\t\n",
      "Toy Story 3\t1,066,969,703\t\t\t\t\t\n",
      "Pirates of the Caribbean: Dead Man's Chest\t1,066,179,725\t\t\t\t\t\n",
      "Pirates of the Caribbean: On Stranger Tides\t1,045,713,802\t\t\t\t\t\n",
      "\t\t\t\t\t\t\n",
      "\n",
      "<class 'str'>\n"
     ]
    }
   ],
   "source": [
    "print(tekst)\n",
    "print(type(tekst))"
   ]
  },
  {
   "cell_type": "markdown",
   "metadata": {},
   "source": [
    "Udało nam się wczytać cały plik w postaci ciągłego tekstu, sformatowanego jedynie w taki sam sposób jak oryginalny plik. Naszą intencją najczęściej jednak nie będzie przechowywanie danych z pliku w jednej zmiennej tekstowej, ale przechowanie informacji w bardziej przyjaznej formie, np. słownika.<br>\n",
    "Spróbujemy teraz ładować dane po kawałku i przekształcać je w sensowne elementy słownika."
   ]
  },
  {
   "cell_type": "markdown",
   "metadata": {},
   "source": [
    "Pierwszym sposobem będzie użycie komendy <b>.readline( )</b>, która zamiast wczytać od razu cały tekst, pobieże tylko pierwszą jego linię (czyli wszystko do znaku nowej linii - \\n).<br> To polecenie również usuwa z obiektu wczytany tekst, dlatego kolejne wywołania metody będą wczytywać kolejne linie pliku."
   ]
  },
  {
   "cell_type": "code",
   "execution_count": 25,
   "metadata": {
    "collapsed": false
   },
   "outputs": [
    {
     "name": "stdout",
     "output_type": "stream",
     "text": [
      "1 Avatar\t2,787,965,087\t\t\t\t\t\n",
      "2 Titanic\t2,186,772,302\t\t\t\t\t\n",
      "3 Star Wars: The Force Awakens\t2,068,223,624\t\t\t\t\t\n",
      "4 Jurassic World\t1,670,400,637\t\t\t\t\t\n",
      "5 The Avengers\t1,518,812,988\t\t\t\t\t\n",
      "6 Furious 7\t1,516,045,911\t\t\t\t\t\n",
      "7 Avengers: Age of Ultron\t1,405,413,868\t\t\t\t\t\n",
      "8 Harry Potter and the Deathly Hallows ? Part 2\t1,341,511,219\t\t\t\t\t\n",
      "9 Frozen\t1,287,000,000\t\t\t\t\t\n",
      "10 Iron Man 3\t1,214,811,252\t\t\t\t\t\n",
      "11 Minions\t1,159,398,397\t\t\t\t\t\n",
      "12 Captain America: Civil War\t1,153,304,495\t\t\t\t\t\n",
      "13 Transformers: Dark of the Moon\t1,123,794,079\t\t\t\t\t\n",
      "14 The Lord of the Rings: The Return of the King\t1,119,929,521\t\t\t\t\t\n",
      "15 Skyfall\t1,108,561,013\t\t\t\t\t\n",
      "16 Transformers: Age of Extinction\t1,104,054,072\t\t\t\t\t\n",
      "17 The Dark Knight Rises\t1,084,939,099\t\t\t\t\t\n",
      "18 Toy Story 3\t1,066,969,703\t\t\t\t\t\n",
      "19 Pirates of the Caribbean: Dead Man's Chest\t1,066,179,725\t\t\t\t\t\n",
      "20 Pirates of the Caribbean: On Stranger Tides\t1,045,713,802\t\t\t\t\t\n"
     ]
    }
   ],
   "source": [
    "plik = open('filmy.txt')\n",
    "for i in range(1,21):\n",
    "    print(i, plik.readline()[:-1])"
   ]
  },
  {
   "cell_type": "markdown",
   "metadata": {},
   "source": [
    "Warto pamiętać, że znak nowej linii jest włączany do stringu przy tej metodzie, dlatego powyżej się go pozbywamy za pomocą slicingu - dzięki temu całość jest lepiej widoczna.<br>\n",
    "Wykorzystanie .readline() jest problematyczne - żeby wgrać całość musimy znać długość pliku (liczoną w liniach), ewentualnie sprawdzać po każdej wczytanej linii czy nie jest przypadkiem pusta."
   ]
  },
  {
   "cell_type": "code",
   "execution_count": 29,
   "metadata": {
    "collapsed": false
   },
   "outputs": [
    {
     "name": "stdout",
     "output_type": "stream",
     "text": [
      "1 False\n",
      "2 False\n",
      "3 False\n",
      "4 False\n",
      "5 False\n",
      "6 False\n",
      "7 False\n",
      "8 False\n",
      "9 False\n",
      "10 False\n",
      "11 False\n",
      "12 False\n",
      "13 False\n",
      "14 False\n",
      "15 False\n",
      "16 False\n",
      "17 False\n",
      "18 False\n",
      "19 False\n",
      "20 False\n",
      "21 True\n",
      "22 True\n",
      "23 True\n",
      "24 True\n"
     ]
    }
   ],
   "source": [
    "plik = open('filmy.txt')\n",
    "for i in range(1,25):\n",
    "    print(i, plik.readline()=='')"
   ]
  },
  {
   "cell_type": "markdown",
   "metadata": {},
   "source": [
    "Python posiada także bardzo podobną metodę <b>.readlines( )</b>, która zamiast jedenj linijki, generuje listę, w której każdy element przechowuje pojedynczą linię wczytywanego dokumentu. Nie musimy zatem znać długości pliku, możemy po prostu przeiterować po każdym elemencie listy."
   ]
  },
  {
   "cell_type": "code",
   "execution_count": 30,
   "metadata": {
    "collapsed": false,
    "scrolled": true
   },
   "outputs": [
    {
     "name": "stdout",
     "output_type": "stream",
     "text": [
      "Avatar\t2,787,965,087\n",
      "Titanic\t2,186,772,302\n",
      "Star Wars: The Force Awakens\t2,068,223,624\n",
      "Jurassic World\t1,670,400,637\n",
      "The Avengers\t1,518,812,988\n",
      "Furious 7\t1,516,045,911\n",
      "Avengers: Age of Ultron\t1,405,413,868\n",
      "Harry Potter and the Deathly Hallows ? Part 2\t1,341,511,219\n",
      "Frozen\t1,287,000,000\n",
      "Iron Man 3\t1,214,811,252\n",
      "Minions\t1,159,398,397\n",
      "Captain America: Civil War\t1,153,304,495\n",
      "Transformers: Dark of the Moon\t1,123,794,079\n",
      "The Lord of the Rings: The Return of the King\t1,119,929,521\n",
      "Skyfall\t1,108,561,013\n",
      "Transformers: Age of Extinction\t1,104,054,072\n",
      "The Dark Knight Rises\t1,084,939,099\n",
      "Toy Story 3\t1,066,969,703\n",
      "Pirates of the Caribbean: Dead Man's Chest\t1,066,179,725\n",
      "Pirates of the Caribbean: On Stranger Tides\t1,045,713,80\n"
     ]
    }
   ],
   "source": [
    "plik = open('filmy.txt')\n",
    "for linia in plik.readlines():\n",
    "    print(linia[:-1])"
   ]
  },
  {
   "cell_type": "markdown",
   "metadata": {},
   "source": [
    "Co więcej, możemy w ogóle zrezygnować z .readlines() i wykorzystać sam obiekt tworzony przez otwarcie naszego pliku."
   ]
  },
  {
   "cell_type": "code",
   "execution_count": 31,
   "metadata": {
    "collapsed": false
   },
   "outputs": [
    {
     "name": "stdout",
     "output_type": "stream",
     "text": [
      "Avatar\t2,787,965,087\n",
      "Titanic\t2,186,772,302\n",
      "Star Wars: The Force Awakens\t2,068,223,624\n",
      "Jurassic World\t1,670,400,637\n",
      "The Avengers\t1,518,812,988\n",
      "Furious 7\t1,516,045,911\n",
      "Avengers: Age of Ultron\t1,405,413,868\n",
      "Harry Potter and the Deathly Hallows ? Part 2\t1,341,511,219\n",
      "Frozen\t1,287,000,000\n",
      "Iron Man 3\t1,214,811,252\n",
      "Minions\t1,159,398,397\n",
      "Captain America: Civil War\t1,153,304,495\n",
      "Transformers: Dark of the Moon\t1,123,794,079\n",
      "The Lord of the Rings: The Return of the King\t1,119,929,521\n",
      "Skyfall\t1,108,561,013\n",
      "Transformers: Age of Extinction\t1,104,054,072\n",
      "The Dark Knight Rises\t1,084,939,099\n",
      "Toy Story 3\t1,066,969,703\n",
      "Pirates of the Caribbean: Dead Man's Chest\t1,066,179,725\n",
      "Pirates of the Caribbean: On Stranger Tides\t1,045,713,80\n"
     ]
    }
   ],
   "source": [
    "for linia in open('filmy.txt'):\n",
    "    print(linia[:-1])"
   ]
  },
  {
   "cell_type": "markdown",
   "metadata": {},
   "source": [
    "Świetnie, działa zgodnie z naszymi oczekiwaniami. Zobaczmy jeszcze jeden sposób, który bardzo przypomina powyższy, ale wykorzystuje trochę odmienną składnię.<br>\n",
    "Pojawia się tam komenda <b>with</b>, którą wykorzystujemy w kombinacji z klasyczną pętlą for:"
   ]
  },
  {
   "cell_type": "code",
   "execution_count": 32,
   "metadata": {
    "collapsed": false
   },
   "outputs": [
    {
     "name": "stdout",
     "output_type": "stream",
     "text": [
      "Avatar\t2,787,965,087\n",
      "Titanic\t2,186,772,302\n",
      "Star Wars: The Force Awakens\t2,068,223,624\n",
      "Jurassic World\t1,670,400,637\n",
      "The Avengers\t1,518,812,988\n",
      "Furious 7\t1,516,045,911\n",
      "Avengers: Age of Ultron\t1,405,413,868\n",
      "Harry Potter and the Deathly Hallows ? Part 2\t1,341,511,219\n",
      "Frozen\t1,287,000,000\n",
      "Iron Man 3\t1,214,811,252\n",
      "Minions\t1,159,398,397\n",
      "Captain America: Civil War\t1,153,304,495\n",
      "Transformers: Dark of the Moon\t1,123,794,079\n",
      "The Lord of the Rings: The Return of the King\t1,119,929,521\n",
      "Skyfall\t1,108,561,013\n",
      "Transformers: Age of Extinction\t1,104,054,072\n",
      "The Dark Knight Rises\t1,084,939,099\n",
      "Toy Story 3\t1,066,969,703\n",
      "Pirates of the Caribbean: Dead Man's Chest\t1,066,179,725\n",
      "Pirates of the Caribbean: On Stranger Tides\t1,045,713,80\n"
     ]
    }
   ],
   "source": [
    "with open('filmy.txt') as plik:\n",
    "    for linia in plik:\n",
    "        print(linia[:-1])"
   ]
  },
  {
   "cell_type": "markdown",
   "metadata": {},
   "source": [
    "Choć nie jest to całkowicie niezbędne, dobrą praktyką jest zamykanie plików, jeśli nie będą nam już potrzebne. Inaczej nie będzie można ich edytować ani usunąć ponieważ będzie z nich korzystał Python.<br>\n",
    "Żeby zamknąć plik (nie jest to tożsame z zapisaniem w nim czegokolwiek), należy użyć metody <b>close( )</b>."
   ]
  },
  {
   "cell_type": "code",
   "execution_count": 33,
   "metadata": {
    "collapsed": false
   },
   "outputs": [],
   "source": [
    "plik.close()"
   ]
  },
  {
   "cell_type": "markdown",
   "metadata": {},
   "source": [
    "<a href='#top' style='float: right; font-size: 13px;'>Do początku</a>    "
   ]
  },
  {
   "cell_type": "markdown",
   "metadata": {},
   "source": [
    " "
   ]
  },
  {
   "cell_type": "markdown",
   "metadata": {},
   "source": [
    "#### Małe ćwiczenie: "
   ]
  },
  {
   "cell_type": "markdown",
   "metadata": {},
   "source": [
    "Wykorzystując wszystkie poznane sposoby (oraz wujka google) zamienić dane z pliku filmy na zmienną filmy, która będzie słownikiem. Kluczem niech będą nazwy filmów, wartością całkowity dochód filmu.  \n",
    "Następnie dodać jedną kombinację klucz - wartość o treści dowolnej, ale zgodnej z duchem całego słownika."
   ]
  },
  {
   "cell_type": "code",
   "execution_count": 52,
   "metadata": {
    "collapsed": true
   },
   "outputs": [],
   "source": [
    "filmy = {}\n"
   ]
  },
  {
   "cell_type": "markdown",
   "metadata": {},
   "source": [
    " "
   ]
  },
  {
   "cell_type": "markdown",
   "metadata": {},
   "source": [
    "## Otwieranie plików url "
   ]
  },
  {
   "cell_type": "markdown",
   "metadata": {},
   "source": [
    "Praca z plikami nie musi ograniczać się wyłącznie do tych, znajdujących się na naszym dysku. Internet zawiera dziesiątki milionów dostępnych plików, z których możemy wydobywać informacje. Zanim jednak będziemy ściągać bazy filmwebu w celu wydobycia listy filmów, w których Sean Bean nie został uśmiercony, zobaczmy jak w prosty sposób możemy pobierać pliki z internetu i wykorzystywać je w naszym programie."
   ]
  },
  {
   "cell_type": "markdown",
   "metadata": {},
   "source": [
    "Konieczne tu będzie zaimportowanie biblioteki <b>urllib</b>, która pozwala na podstawową komunikację Pythona z internetem. Składnia samej funkcji pobierającej plik jest bliźniaczo podobna to tej, którą wykorzystujemy w przypadku plików na dysku."
   ]
  },
  {
   "cell_type": "code",
   "execution_count": 68,
   "metadata": {
    "collapsed": false
   },
   "outputs": [
    {
     "name": "stdout",
     "output_type": "stream",
     "text": [
      "cokolwiek chcę\n",
      "to wpisuję\n",
      "do tego pliku\n",
      "w kilku liniach\n",
      "conajmniej\n"
     ]
    }
   ],
   "source": [
    "from urllib.request import urlopen\n",
    "for linia in urlopen('https://raw.githubusercontent.com/mkoculak/warsztaty/master/nowy_plik.txt'):\n",
    "    if linia.decode('iso-8859-2')[-1]=='\\n':\n",
    "        print(linia.decode('iso-8859-2')[:-1])\n",
    "    else:\n",
    "        print(linia.decode('iso-8859-2'))"
   ]
  },
  {
   "cell_type": "markdown",
   "metadata": {},
   "source": [
    "<a href='#top' style='float: right; font-size: 13px;'>Do początku</a>    "
   ]
  },
  {
   "cell_type": "markdown",
   "metadata": {},
   "source": [
    " "
   ]
  },
  {
   "cell_type": "markdown",
   "metadata": {},
   "source": [
    "## Rozbudowana składnia "
   ]
  },
  {
   "cell_type": "markdown",
   "metadata": {},
   "source": [
    "Podczas używania polecenia **open()** wyłącznie z jednym argumentem (nazwą pliku), jedyne co możemy zrobić to odczytać zawartość. Żeby wykonać dodatkowe operacje lub zmodyfikować działanie tego polecenia, możemy przekazać funkcji dodatkowe argumenty. Pełna składnia jest następująca:\n",
    "```python\n",
    "nazwa_obiektu = open(nazwa_pliku, tryb, buforowanie)```\n",
    "Ostatnia opcja - buforowanie - nie będzie nas teraz interesować. Za to możliwość zmiany trybu otwarcia będzie kluczowy dla możliwości edycji plików. Poniższa tabela zawiera możliwe do przekazania argumenty."
   ]
  },
  {
   "cell_type": "markdown",
   "metadata": {},
   "source": [
    "Argument | Tryb | Działanie\n",
    ":---: | :---: | :---:\n",
    "r | Otwiera plik w trybie 'tylko do odczytu'. | 'Kursor' ustawiony jest na początku pliku. Ustawienie domyślne.\n",
    "r+ | Otwiera plik do odczytu i zapisu. | 'Kursor' ustawiony jest na początku pliku.\n",
    "w | Otwiera plik tylko do zapisu. | Nadpisuje istniejący plik. Jeśli plik nie istnieje, tworzy go.\n",
    "w+ | Otwiera plik do odczytu i zapisu. | Nadpisuje istniejący plik. Jeśli plik nie istnieje, tworzy go.\n",
    "a | Otwiera plik w trybie 'dodawanie treści'. | Jeśli plik istnieje, ustawia kursor na końcu. Jeśli plik nie istnieje, tworzy go.\n",
    "a+ |  Otwiera plik do odczytu i dodawania. | Jeśli plik istnieje, ustawia kursor na końcu. Jeśli plik nie istnieje, tworzy go.\n",
    "b | Sufiks, zmieniający typ pliku z tekstowego na binarny. | Możliwe kombinacje: rb, rb+, wb, wb+, ab, ab+."
   ]
  },
  {
   "cell_type": "markdown",
   "metadata": {},
   "source": [
    "Jak widać, stworzenie nowego pliku czy otwarcie istniejącego do edycji wymaga zmiany argumentu podczas wywoływania funkcji open()."
   ]
  },
  {
   "cell_type": "markdown",
   "metadata": {},
   "source": [
    "<a href='#top' style='float: right; font-size: 13px;'>Do początku</a>    "
   ]
  },
  {
   "cell_type": "markdown",
   "metadata": {},
   "source": [
    " "
   ]
  },
  {
   "cell_type": "markdown",
   "metadata": {},
   "source": [
    "## Zapisywanie pliku"
   ]
  },
  {
   "cell_type": "markdown",
   "metadata": {},
   "source": [
    " Spróbujmy zatem teraz stworzyć nowy plik i zapisać do niego naszą nową bazę danych stworzoną w ćwiczeniu chwilę wcześniej<br>\n",
    " Użyjemy funkcji open() z argumentem 'w', który stworzy potrzebny nam plik.<br>\n",
    " Żeby dokonać zapisu, wykorzystujemy metodę analogizną do .read() - <b>.write()</b>."
   ]
  },
  {
   "cell_type": "code",
   "execution_count": 37,
   "metadata": {
    "collapsed": false
   },
   "outputs": [
    {
     "name": "stdout",
     "output_type": "stream",
     "text": [
      "{'Skyfall': '1,108,561,013', 'Captain America: Civil War': '1,153,304,495', 'Furious 7': '1,516,045,911', 'Pirates of the Caribbean: On Stranger Tides': '1,045,713,80', 'Transformers: Age of Extinction': '1,104,054,072', 'Iron Man 3': '1,214,811,252', 'The Dark Knight Rises': '1,084,939,099', 'Avengers: Age of Ultron': '1,405,413,868', 'Jurassic World': '1,670,400,637', 'Harry Potter and the Deathly Hallows ? Part 2': '1,341,511,219', 'Transformers: Dark of the Moon': '1,123,794,079', 'Frozen': '1,287,000,000', \"Pirates of the Caribbean: Dead Man's Chest\": '1,066,179,725', 'The Avengers': '1,518,812,988', 'The Lord of the Rings: The Return of the King': '1,119,929,521', 'Toy Story 3': '1,066,969,703', 'Titanic': '2,186,772,302', 'Avatar': '2,787,965,087', 'Star Wars: The Force Awakens': '2,068,223,624', 'Minions': '1,159,398,397'}\n"
     ]
    }
   ],
   "source": [
    "filmy = {}\n",
    "\n",
    "for linia in open('filmy.txt'):\n",
    "    tmp = linia[:-1].split('\\t')\n",
    "    filmy[tmp[0]]=tmp[1]\n",
    "print(filmy)"
   ]
  },
  {
   "cell_type": "code",
   "execution_count": 42,
   "metadata": {
    "collapsed": false
   },
   "outputs": [],
   "source": [
    "nowe_filmy = open ('nowe_filmy.txt','w')"
   ]
  },
  {
   "cell_type": "code",
   "execution_count": 43,
   "metadata": {
    "collapsed": false
   },
   "outputs": [],
   "source": [
    "for wpis in filmy:\n",
    "    linia = \"{};{}\".format(wpis,filmy[wpis])\n",
    "    nowe_filmy.write(linia+'\\n')"
   ]
  },
  {
   "cell_type": "code",
   "execution_count": 44,
   "metadata": {
    "collapsed": true
   },
   "outputs": [],
   "source": [
    "nowe_filmy.close()"
   ]
  },
  {
   "cell_type": "code",
   "execution_count": null,
   "metadata": {
    "collapsed": true
   },
   "outputs": [],
   "source": [
    "filmy = []"
   ]
  },
  {
   "cell_type": "markdown",
   "metadata": {},
   "source": [
    " "
   ]
  },
  {
   "cell_type": "markdown",
   "metadata": {},
   "source": [
    " "
   ]
  },
  {
   "cell_type": "markdown",
   "metadata": {},
   "source": [
    " "
   ]
  },
  {
   "cell_type": "markdown",
   "metadata": {},
   "source": [
    " "
   ]
  },
  {
   "cell_type": "code",
   "execution_count": 18,
   "metadata": {
    "collapsed": false
   },
   "outputs": [
    {
     "data": {
      "text/html": [
       "<style>\n",
       "@import url(http://fonts.googleapis.com/css?family=Titillium+Web:400,700,800,400italic&subset=latin-ext,latin);\n",
       "@import url(http://fonts.googleapis.com/css?family=Anonymous+Pro:400,700,800,400italic&subset=latin-ext,latin);\n",
       "\n",
       ".filename {\n",
       "    font-family: Titillium Web;\n",
       "    font-variant: small-caps;\n",
       "    letter-spacing: 0.1em;\n",
       "}\n",
       "\n",
       "b {\n",
       "    color: #cc0000;\n",
       "}\n",
       "\n",
       "em {\n",
       "    color:#0000cc;\n",
       "}\n",
       "\n",
       "ul {\n",
       "\tlist-style-type: square !important;\n",
       "}\n",
       "\n",
       ".rendered_html ul li {\n",
       "\tfont-size: 8px;\n",
       "}\n",
       "\n",
       "li span {\n",
       "\tfont-size: 14px;\n",
       "}\n",
       "\n",
       "/* tekst w markdown */\n",
       ".rendered_html {\n",
       "    font-family: Titillium Web, serif;\n",
       "    }\n",
       "\n",
       ".rendered_html p {\n",
       "    font-size: 16px;\n",
       "    text-align: justify;\n",
       "    text-decoration: none;\n",
       "    }\n",
       "\n",
       ".rendered_html :link {\n",
       "    text-decoration: none;\n",
       "    }\n",
       "\n",
       ".rendered_html :visited {\n",
       "    text-decoration: none;\n",
       "    }\n",
       "    \n",
       "/* tekst w code cell */\n",
       ".code_cell {\n",
       "    font-family: Anonymous Pro, monospace;\n",
       "    font-size: 14px;\n",
       "    }\n",
       "\n",
       "code, pre, .CodeMirror {\n",
       "    font-family: Anonymous Pro, monospace;\n",
       "    font-size: 14px;\n",
       "}\n",
       "\n",
       "</style>"
      ],
      "text/plain": [
       "<IPython.core.display.HTML object>"
      ]
     },
     "execution_count": 18,
     "metadata": {},
     "output_type": "execute_result"
    }
   ],
   "source": [
    "from IPython.core.display import HTML\n",
    "from urllib.request import urlopen\n",
    "HTML(urlopen(\"https://raw.githubusercontent.com/mkoculak/hello_world/nowa/ipython.css\").read().decode(\"utf-8\"))"
   ]
  }
 ],
 "metadata": {
  "anaconda-cloud": {},
  "kernelspec": {
   "display_name": "Python [conda root]",
   "language": "python",
   "name": "conda-root-py"
  },
  "language_info": {
   "codemirror_mode": {
    "name": "ipython",
    "version": 3
   },
   "file_extension": ".py",
   "mimetype": "text/x-python",
   "name": "python",
   "nbconvert_exporter": "python",
   "pygments_lexer": "ipython3",
   "version": "3.5.2"
  }
 },
 "nbformat": 4,
 "nbformat_minor": 0
}

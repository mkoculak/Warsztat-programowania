{
 "cells": [
  {
   "cell_type": "markdown",
   "metadata": {
    "deletable": true,
    "editable": true
   },
   "source": [
    "# Instalacja oprogramowania"
   ]
  },
  {
   "cell_type": "markdown",
   "metadata": {
    "deletable": true,
    "editable": true
   },
   "source": [
    "Do rozpoczęcia przygody z programowaniem potrzebujemy dwóch rzeczy: instalacji Pythona oraz miejsca, w którym będziemy mogli pisać kod.  \n",
    "Poniższe rozwiązanie załatwia obie te rzeczy na raz."
   ]
  },
  {
   "cell_type": "markdown",
   "metadata": {
    "deletable": true,
    "editable": true
   },
   "source": [
    " "
   ]
  },
  {
   "cell_type": "markdown",
   "metadata": {
    "deletable": true,
    "editable": true
   },
   "source": [
    "## Pakiet Anaconda"
   ]
  },
  {
   "cell_type": "markdown",
   "metadata": {
    "deletable": true,
    "editable": true
   },
   "source": [
    "Pierwszym krokiem będzie zainstalowanie pakietu Anaconda, który jest sprofilowany specjalnie pod naukowców pracujących z Pythonem.<br>\n",
    "Najnowszą wersję pakietu znajdziemy na <a href=\"https://www.continuum.io/downloads\">stronie domowej projektu</a>."
   ]
  },
  {
   "cell_type": "markdown",
   "metadata": {
    "deletable": true,
    "editable": true
   },
   "source": [
    "<img src=\"./files/anaconda logo.png\"/>"
   ]
  },
  {
   "cell_type": "markdown",
   "metadata": {
    "deletable": true,
    "editable": true
   },
   "source": [
    "Na samym początku możemy wybrać, która wersja Pythona będzie naszą podstawową.<br>\n",
    "Poniższy warsztat przygotowany jest w oparciu o **Pythona 3.6**. Python 3 stał się obecnie standardem i nie jest zalecane korzystanie z wcześniejszych wersji. Może się jednak zdarzyć, że traficie na kod napisany w Pythonie 2.  \n",
    "Różnice między Pythonem 2 a 3 nie są dramatyczne a dokładnie opisy można znaleźć np. <a href=\"https://wiki.python.org/moin/Python2orPython3\">tutaj</a> albo <a href=\"http://sebastianraschka.com/Articles/2014_python_2_3_key_diff.html\">tutaj</a>.<br>"
   ]
  },
  {
   "cell_type": "markdown",
   "metadata": {
    "deletable": true,
    "editable": true
   },
   "source": [
    "Ściągamy zatem najnowszą dostępną wersje w postaci pliku instalacyjnego i pozwalamy mu się zainstalować na domyślnych ustawieniach.<br>\n",
    "W *Menu Start* powinien Wam się pojawić folder Anaconda2 a w nim kilka ikon, m.in.:\n",
    "- <span>*Anaconda Prompt* - wiersz poleceń wraz ze specjalną nakładką *conda*</span>\n",
    "- <span>*Anaconda Navigator* - graficzny interfejs do zarządzania naszymi instalacjami Pythona</span>\n",
    "- <span>*Jupyter Notebook* - program do interaktywnego programowania w Pythonie (ale również innych językach)</span>\n",
    "- <span>*Spyder* - środowisko do programowania w Pythonie w klasycznym stylu</span>"
   ]
  },
  {
   "cell_type": "markdown",
   "metadata": {
    "editable": true
   },
   "source": [
    " "
   ]
  },
  {
   "cell_type": "markdown",
   "metadata": {
    "editable": true
   },
   "source": [
    " "
   ]
  },
  {
   "cell_type": "markdown",
   "metadata": {
    "deletable": true,
    "editable": true
   },
   "source": [
    "Pierwsze, co zrobimy po instalacji, to upewnimy się, że mamy zainstalowaną najnowszą wersję wszystkich istotnych programów.<br>\n",
    "W tym celu wykorzystamy *condę* - zatem uruchamiany *Anaconda Prompt* i w linii poleceń wpisujemy następujące komendy:"
   ]
  },
  {
   "cell_type": "raw",
   "metadata": {
    "deletable": true,
    "editable": true
   },
   "source": [
    "conda update conda"
   ]
  },
  {
   "cell_type": "markdown",
   "metadata": {
    "deletable": true,
    "editable": true
   },
   "source": [
    "Conda sprawdzi czy jest na serwerze jej nowsza wersja i jeśli tak faktycznie będzie, wypisze ona pakiety niezbędne do ściągnięcia i zapyta nas, czy chcemy je zainstalować. Wybieramy [y] i czekamy na koniec instalacji."
   ]
  },
  {
   "cell_type": "markdown",
   "metadata": {
    "deletable": true,
    "editable": true
   },
   "source": [
    "Następnie możemy przejść do zainstalowania nowszych wydań pozostałych pakietów. W tym celu wpisujemy w konsolę:"
   ]
  },
  {
   "cell_type": "raw",
   "metadata": {
    "deletable": true,
    "editable": true
   },
   "source": [
    "conda update --all"
   ]
  },
  {
   "cell_type": "markdown",
   "metadata": {
    "deletable": true,
    "editable": true
   },
   "source": [
    "Conda znowu sprawdzi dostępność aktualizacji i zapyta o pozwolenie. Jeśli zainstalowaliśmy starszą wersję Anacondy lub od długiego czasu nie aktualizowaliśmy paczek, cały proces może potrwać dłuższą chwilę (wpływa też na to szybkość łącza internetowego). Dlatego pozwólmy Condzie spokojnie wszystko zainstalować."
   ]
  },
  {
   "cell_type": "markdown",
   "metadata": {
    "deletable": true,
    "editable": true
   },
   "source": [
    "Teraz już jesteśmy gotowi, by zacząć pracę z Pythonem!<br>\n",
    "Chyba, że chcemy oprócz wybranej wersji Pythona mieć także tę drugą i/lub inne środowiska programistyczne. W takim przypadku musimy jeszcze trochę popracować poza Jupyterem."
   ]
  },
  {
   "cell_type": "markdown",
   "metadata": {
    "deletable": true,
    "editable": true
   },
   "source": [
    " "
   ]
  },
  {
   "cell_type": "markdown",
   "metadata": {
    "deletable": true,
    "editable": true
   },
   "source": [
    " "
   ]
  },
  {
   "cell_type": "markdown",
   "metadata": {
    "deletable": true,
    "editable": true
   },
   "source": [
    "## Dodawanie drugiego środowiska Pythona"
   ]
  },
  {
   "cell_type": "markdown",
   "metadata": {},
   "source": [
    "Conda jest nie tylko menadżerem różnych bibliotek, ale również pozwala tworzyć wiele odrębnych środowisk Pythona.  \n",
    "Można zadać sobie pytanie, po co nam więcej niż jedna instalacja Pythona. Na samym początku nauki programowania wystarczy nam jedna wersja, ale wraz z nabywaniem doświadczenia, może okazać się, że będziemy potrzebowali narzędzi, które wymagają np. innej wersji Pythona (3.5 i 3.7). Tworząc odrębne środowiska, będziemy mogli łatwo z nich korzystać, nie martwiąc się o konflikty między bibliotekami."
   ]
  },
  {
   "cell_type": "markdown",
   "metadata": {
    "editable": true
   },
   "source": [
    " "
   ]
  },
  {
   "cell_type": "markdown",
   "metadata": {},
   "source": [
    "Możemy wybrać dwie strategie - użycie interfejsu graficznego lub wiersza poleceń."
   ]
  },
  {
   "cell_type": "markdown",
   "metadata": {},
   "source": [
    "### Nowe środowisko przez Navigatora"
   ]
  },
  {
   "cell_type": "markdown",
   "metadata": {},
   "source": [
    "Wybierając z menu Start program *Anaconda Navigator*, otworzymy nowe okno, które ma kilka zakładek po lewej stronie. Klikamy na *Environments* i powinniśmy zobaczyć listę, gdzie znajduje się tylko jedno środowisko (nazwane *base*). Klikamy na przycisk na dole z napisem *Create*:"
   ]
  },
  {
   "cell_type": "markdown",
   "metadata": {
    "editable": true
   },
   "source": [
    "<img src=\"./files/navigator_new_env.png\"/>"
   ]
  },
  {
   "cell_type": "markdown",
   "metadata": {},
   "source": [
    "W nowym małym oknie musimy wpisać nazwę naszego nowego środowiska oraz wskazać wersję języka programowania do zainstalowania (na chwilę obecną mamy kilka wersji Pythona oraz najnowszą wersję R).\n",
    "My wybierzemy Pythona 3.7, ponieważ nasza bazowa instalacja jest oparta o wersję 3.6."
   ]
  },
  {
   "cell_type": "markdown",
   "metadata": {
    "editable": true
   },
   "source": [
    "<img src=\"./files/navigator_create.png\"/>"
   ]
  },
  {
   "cell_type": "markdown",
   "metadata": {},
   "source": [
    "Potem wystarczy kliknąć *Create* i poczekać aż Navigator zainstaluje to środowisko. Trzeba jednak pamiętać, że będzie to tylko podstawowa instalacja i wszystkie dodatkowe biblioteki będziemy musieli zainstalować ręcznie (można to zrobić również z poziomu Navigatora)."
   ]
  },
  {
   "cell_type": "markdown",
   "metadata": {
    "editable": true
   },
   "source": [
    " "
   ]
  },
  {
   "cell_type": "markdown",
   "metadata": {
    "editable": true
   },
   "source": [
    " "
   ]
  },
  {
   "cell_type": "markdown",
   "metadata": {
    "deletable": true,
    "editable": true
   },
   "source": [
    "### Nowe środowisko przez wiersz poleceń"
   ]
  },
  {
   "cell_type": "markdown",
   "metadata": {
    "editable": true
   },
   "source": [
    "Otwieramy *Anaconda Prompt* i wpisujemy poniższe komendy:"
   ]
  },
  {
   "cell_type": "raw",
   "metadata": {
    "deletable": true,
    "editable": true
   },
   "source": [
    "conda create -n Python3.7 python=3.7"
   ]
  },
  {
   "cell_type": "markdown",
   "metadata": {
    "deletable": true,
    "editable": true
   },
   "source": [
    "Powyższe polecenie nakazuje Condzie stworzenie nowego \"środowiska\" o nazwie Python3.7, w którym ma zainstalować Pythona w wersji 3.7.<br>\n",
    "Conda wypisze konieczne do ściągnięcia pakiety i zapyta o zgodę. Wciskamy [y] i czekamy na koniec instalacji."
   ]
  },
  {
   "cell_type": "markdown",
   "metadata": {
    "deletable": true,
    "editable": true
   },
   "source": [
    "Natępnie możemy \"wejść\" do nowo utworzonego środowiska, żeby zainstalować niezbędne komponenty. Wykonajmy w konsoli następujące komendy:"
   ]
  },
  {
   "cell_type": "raw",
   "metadata": {
    "deletable": true,
    "editable": true
   },
   "source": [
    "activate Python3.7"
   ]
  },
  {
   "cell_type": "markdown",
   "metadata": {
    "editable": true
   },
   "source": [
    " "
   ]
  },
  {
   "cell_type": "markdown",
   "metadata": {
    "editable": true
   },
   "source": [
    " "
   ]
  },
  {
   "cell_type": "markdown",
   "metadata": {
    "editable": true
   },
   "source": [
    "### Nowe środowisko z pliku konfiguracyjnego"
   ]
  },
  {
   "cell_type": "markdown",
   "metadata": {
    "editable": true
   },
   "source": [
    "To bardzo wygodna opcja, która pozwala stworzyć specjalny plik konfiguracyjny ze spisem niezbędnych bibliotek. Dzięki plikowi za pomocą jednego kliknięcia stworzymy nowe środowisko i zainstalujemy wszystkie wymienione w nim biblioteki.  \n",
    "Zobaczymy jak to wygląda na przykładzie pliku pochodzącego od twórców biblioteki MNE-python, służącej do analizy danych M/EEG (jego obsługa będzie tematem innego warsztatu)."
   ]
  },
  {
   "cell_type": "markdown",
   "metadata": {
    "editable": true
   },
   "source": [
    "Zaczniemy od zdobycia pliku konfiguracyjnego. Znajduje się on pod poniższym adresem (można go przekleić do paska przeglądarki a następnie zapisać na dysku, upewniając się, że plik ma ciągle rozszerzenie .yml).  "
   ]
  },
  {
   "cell_type": "raw",
   "metadata": {},
   "source": [
    "https://raw.githubusercontent.com/mne-tools/mne-python/master/environment.yml"
   ]
  },
  {
   "cell_type": "markdown",
   "metadata": {
    "editable": true
   },
   "source": [
    "Kiedy będziemy mieć plik, możemy wykorzystać Navigatora albo wiersz poleceń."
   ]
  },
  {
   "cell_type": "markdown",
   "metadata": {
    "editable": true
   },
   "source": [
    "#### Navigator\n",
    "\n",
    "Zaczynamy identycznie jak przy tworzeniu nowego środowiska, tym razem tylko klikamy *Import*. W małym oknie wystarczy, że klikniemy ikonę folderu i wybierzemy nasz plik konfiguracyjny. Następnie klikamy *Import* i Navigator zrobi resztę za nas."
   ]
  },
  {
   "cell_type": "markdown",
   "metadata": {
    "editable": true
   },
   "source": [
    "#### Wiersz poleceń\n",
    "\n",
    "Będziemy potrzebowali specjalnej komendy, która zainstaluje nam środowisko z pliku. Poniższy przykład działa dla tego konkretnego pliku o nazwie *environment.yml*, który zostanie ściągnięty prosto z konta Github projektu MNE."
   ]
  },
  {
   "cell_type": "raw",
   "metadata": {},
   "source": [
    "curl -O https://raw.githubusercontent.com/mne-tools/mne-python/master/environment.yml\n",
    "conda env create -f environment.yml"
   ]
  },
  {
   "cell_type": "markdown",
   "metadata": {
    "editable": true
   },
   "source": [
    " "
   ]
  },
  {
   "cell_type": "markdown",
   "metadata": {
    "editable": true
   },
   "source": [
    " "
   ]
  },
  {
   "cell_type": "markdown",
   "metadata": {
    "editable": true
   },
   "source": [
    "Niezależnie od sposobu utworzenia nowego środowiska, musimy wykonać jeszcze jeden krok, żeby było możliwe swobodne przełączanie się między poszczególnymi środowiskami.  \n",
    "Pierwsze, co musimy zrobić, to zainstalować w każdym nowym środowisku bibliotekę *ipykernel*. Z poziomu wiersza poleceń robimy to tak:"
   ]
  },
  {
   "cell_type": "raw",
   "metadata": {
    "editable": true
   },
   "source": [
    "activate Python3.7\n",
    "conda install notebook ipykernel"
   ]
  },
  {
   "cell_type": "markdown",
   "metadata": {
    "editable": true
   },
   "source": [
    "Następnym krokiem będzie upewnienie się, że Jupyter (interfejs naszego programu do pisania kodu) będzie widział każde środowisko. Żeby to osiągnąć wpisujemy komendę:"
   ]
  },
  {
   "cell_type": "raw",
   "metadata": {
    "editable": true
   },
   "source": [
    "python -m ipykernel install --name Python3.7 --display-name \"Python 3.7\""
   ]
  },
  {
   "cell_type": "markdown",
   "metadata": {
    "editable": true
   },
   "source": [
    "Kluczowe są tu dwa elementy. Przy słowie --name musimy wpisać dokładną nazwę naszego nowego środowiska. Z kolei przy --display-name taką nazwę, jaką chcielibyśmy zobaczyć w naszym interfejsie graficznym.  \n",
    "Mój wybór padł na nazwę zawierającą spację, dlatego całość jest zamknięta w cudzysłów.\n",
    "\n",
    "Teraz możemy już zamknąć Prompt Anacondy."
   ]
  },
  {
   "cell_type": "markdown",
   "metadata": {},
   "source": [
    "## Pierwsze uruchomienie - Jupyter Notebook czy Jupyter Lab"
   ]
  }
 ],
 "metadata": {
  "anaconda-cloud": {},
  "kernelspec": {
   "display_name": "Python 3",
   "language": "python",
   "name": "python3"
  },
  "language_info": {
   "codemirror_mode": {
    "name": "ipython",
    "version": 3
   },
   "file_extension": ".py",
   "mimetype": "text/x-python",
   "name": "python",
   "nbconvert_exporter": "python",
   "pygments_lexer": "ipython3",
   "version": "3.6.6"
  }
 },
 "nbformat": 4,
 "nbformat_minor": 2
}

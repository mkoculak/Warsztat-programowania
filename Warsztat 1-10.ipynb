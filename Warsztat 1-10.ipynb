{
 "cells": [
  {
   "cell_type": "markdown",
   "metadata": {},
   "source": [
    "# Warsztat 10 – Pandas - analiza statystyczna i wizualizacja<a id=top></a>"
   ]
  },
  {
   "cell_type": "markdown",
   "metadata": {},
   "source": [
    "<font size=2>Przed pracą z notatnikiem polecam wykonać kod w ostatniej komórce (zawiera html i css), dzięki czemu całość będzie bardziej estetyczna :)</font>"
   ]
  },
  {
   "cell_type": "markdown",
   "metadata": {},
   "source": [
    "<a href='#Warsztat-10-–-Pandas---analiza-statystyczna-i-wizualizacja'>Warsztat 10</a>\n",
    "<ul>\n",
    "<li><a href='#Indeksowanie-i-filtrowanie'><span>Indeksowanie i filtrowanie</span></a></li>\n",
    "<li><a href='#Grupowanie-danych'><span>Grupowanie danych</span></a></li>\n",
    "<li><a href='#Podstawowe-analizy'><span>Podstawowe analizy</span></a></li>\n",
    "<li><a href='#'><span></span></a></li>\n",
    "<li><a href='#Materiały-do-dalszej-nauki'><span>Materiały do dalszej nauki</span></a></li>\n",
    "</ul>"
   ]
  },
  {
   "cell_type": "markdown",
   "metadata": {},
   "source": [
    " "
   ]
  },
  {
   "cell_type": "markdown",
   "metadata": {},
   "source": [
    "Poprzedni notatnik zawierał podstawowe informacje o tym, jak wczytać dane, dokonać inspekcji surowych danych (zarówno wartości zmiennych oraz ich prostej wizualizacji) oraz wyczyścić z niepotrzebnych wartości (przede wszystkim braków danych).  \n",
    "Teraz wprowadzimy bardziej zaawansowane funkcje pakietu pandas, które pozwolą na filtrowanie, grupowanie i przekształcanie danych.  \n",
    "Następnie przeprowadzimy kilka analiz statystycznych w samym pythonie oraz zobaczymy w jaki sposób włączyć do procesu analizy w R."
   ]
  },
  {
   "cell_type": "code",
   "execution_count": 1,
   "metadata": {
    "collapsed": true
   },
   "outputs": [],
   "source": [
    "import pandas as pd\n",
    "import numpy as np\n",
    "import matplotlib.pyplot as plt\n",
    "%matplotlib inline"
   ]
  },
  {
   "cell_type": "markdown",
   "metadata": {},
   "source": [
    "Będzie nam potrzebny bardziej złożony zbiór danych, więc rozbudujemy przykład ze wzrostem."
   ]
  },
  {
   "cell_type": "code",
   "execution_count": 2,
   "metadata": {
    "collapsed": false
   },
   "outputs": [
    {
     "data": {
      "text/html": [
       "<div>\n",
       "<table border=\"1\" class=\"dataframe\">\n",
       "  <thead>\n",
       "    <tr style=\"text-align: right;\">\n",
       "      <th></th>\n",
       "      <th>Płeć</th>\n",
       "      <th>Pochodzenie</th>\n",
       "      <th>Wzrost</th>\n",
       "    </tr>\n",
       "  </thead>\n",
       "  <tbody>\n",
       "    <tr>\n",
       "      <th>0</th>\n",
       "      <td>Mężczyzna</td>\n",
       "      <td>Hollywood</td>\n",
       "      <td>174</td>\n",
       "    </tr>\n",
       "    <tr>\n",
       "      <th>1</th>\n",
       "      <td>Mężczyzna</td>\n",
       "      <td>Hollywood</td>\n",
       "      <td>170</td>\n",
       "    </tr>\n",
       "    <tr>\n",
       "      <th>2</th>\n",
       "      <td>Mężczyzna</td>\n",
       "      <td>Hollywood</td>\n",
       "      <td>177</td>\n",
       "    </tr>\n",
       "    <tr>\n",
       "      <th>3</th>\n",
       "      <td>Mężczyzna</td>\n",
       "      <td>Hollywood</td>\n",
       "      <td>177</td>\n",
       "    </tr>\n",
       "    <tr>\n",
       "      <th>4</th>\n",
       "      <td>Mężczyzna</td>\n",
       "      <td>Hollywood</td>\n",
       "      <td>178</td>\n",
       "    </tr>\n",
       "  </tbody>\n",
       "</table>\n",
       "</div>"
      ],
      "text/plain": [
       "        Płeć Pochodzenie  Wzrost\n",
       "0  Mężczyzna   Hollywood     174\n",
       "1  Mężczyzna   Hollywood     170\n",
       "2  Mężczyzna   Hollywood     177\n",
       "3  Mężczyzna   Hollywood     177\n",
       "4  Mężczyzna   Hollywood     178"
      ]
     },
     "execution_count": 2,
     "metadata": {},
     "output_type": "execute_result"
    }
   ],
   "source": [
    "dane = pd.read_excel(\"./wzrost_multi.xlsx\", parse_cols=[1,2,3])\n",
    "dane.head()"
   ]
  },
  {
   "cell_type": "markdown",
   "metadata": {},
   "source": [
    "Nasza ramka z danymi ma trzy kolumny: płeć ankietowanego, pochodzenie - miejsce zamieszkania, wzrost wyrażony w centymetrach.  \n",
    "Spójrzmy, jakie wartości w naszym zbiorze przyjmują zmienne kategorialne."
   ]
  },
  {
   "cell_type": "code",
   "execution_count": 3,
   "metadata": {
    "collapsed": false
   },
   "outputs": [
    {
     "data": {
      "text/plain": [
       "Kobieta      60\n",
       "Mężczyzna    60\n",
       "Name: Płeć, dtype: int64"
      ]
     },
     "execution_count": 3,
     "metadata": {},
     "output_type": "execute_result"
    }
   ],
   "source": [
    "dane.Płeć.value_counts()"
   ]
  },
  {
   "cell_type": "code",
   "execution_count": 4,
   "metadata": {
    "collapsed": false
   },
   "outputs": [
    {
     "data": {
      "text/plain": [
       "Hollywood    60\n",
       "Polska       60\n",
       "Name: Pochodzenie, dtype: int64"
      ]
     },
     "execution_count": 4,
     "metadata": {},
     "output_type": "execute_result"
    }
   ],
   "source": [
    "dane.Pochodzenie.value_counts()"
   ]
  },
  {
   "cell_type": "markdown",
   "metadata": {},
   "source": [
    "Do danych liczbowych lepiej użyć metody describe(), która poda nam znacznie więcej szczegółów."
   ]
  },
  {
   "cell_type": "code",
   "execution_count": 5,
   "metadata": {
    "collapsed": false
   },
   "outputs": [
    {
     "data": {
      "text/plain": [
       "count    120.000000\n",
       "mean     173.691667\n",
       "std       10.220918\n",
       "min      148.000000\n",
       "25%      167.000000\n",
       "50%      174.000000\n",
       "75%      180.000000\n",
       "max      206.000000\n",
       "Name: Wzrost, dtype: float64"
      ]
     },
     "execution_count": 5,
     "metadata": {},
     "output_type": "execute_result"
    }
   ],
   "source": [
    "dane.Wzrost.describe()"
   ]
  },
  {
   "cell_type": "markdown",
   "metadata": {},
   "source": [
    "Mamy teraz podstawową wiedzę o zawartości naszych danych, jednak te dane wydają się zbyt ogólne. W końcu nie interesują nas tak bardzo informacje na temat zbioru całej naszej próby, ale raczej poszczególnych podgrup, np. kobiet z Hollywood. Musimy zatem pogrupować nasze dane tak, by te informacje wydobyć."
   ]
  },
  {
   "cell_type": "markdown",
   "metadata": {},
   "source": [
    "<a href='#top' style='float: right; font-size: 13px;'>Do początku</a>"
   ]
  },
  {
   "cell_type": "markdown",
   "metadata": {},
   "source": [
    " "
   ]
  },
  {
   "cell_type": "markdown",
   "metadata": {},
   "source": [
    " "
   ]
  },
  {
   "cell_type": "markdown",
   "metadata": {},
   "source": [
    "## Indeksowanie i filtrowanie"
   ]
  },
  {
   "cell_type": "markdown",
   "metadata": {},
   "source": [
    "Nie zawsze interesuje nas cały zbiór danych, tylko jakaś jedna jego część. Pandas oferuje szeroki wachlarz sposobów do wyboru podzbiorów."
   ]
  },
  {
   "cell_type": "markdown",
   "metadata": {},
   "source": [
    "Bardzo dobrym podejściem do analizy danych jest utrzymywanie **\"uporządkowanych\" zbiorów danych** (ang. tidy data). Oznacza to, że każda kolumna zawiera inną zmienną, natomiast każdy wiersz zawiera pojedynczą obserwację.  \n",
    "Nasze dane spełniają ten warunek. Dzięki temu, możemy swobodnie wybierać z nich tylko niektóre kolumny przy ciągłym zachowaniu spójności. Możemy to zrobić na kilka sposobów. Pierwszy polega na użyciu nawiasów kwadratowych, w które wpiszemy po prostu nazwy interesujących nas zmiennych."
   ]
  },
  {
   "cell_type": "code",
   "execution_count": 7,
   "metadata": {
    "collapsed": false
   },
   "outputs": [
    {
     "data": {
      "text/plain": [
       "0    174\n",
       "1    170\n",
       "2    177\n",
       "3    177\n",
       "4    178\n",
       "Name: Wzrost, dtype: int64"
      ]
     },
     "execution_count": 7,
     "metadata": {},
     "output_type": "execute_result"
    }
   ],
   "source": [
    "dane['Wzrost'].head()"
   ]
  },
  {
   "cell_type": "markdown",
   "metadata": {},
   "source": [
    "Wybierając tylko jedną kolumnę zawsze otrzymamy **serię**, czyli jednowymiarowy typ danych pandas (w odróżnieniu od ramki z danymi, która jest dwuwymiarowa). Ramkę tworzy wiele takich serii.  \n",
    "Jeśli chcemy tą metodą wybrać więcej kolumn, musimy przekazać ich listę."
   ]
  },
  {
   "cell_type": "code",
   "execution_count": 12,
   "metadata": {
    "collapsed": false
   },
   "outputs": [
    {
     "data": {
      "text/html": [
       "<div>\n",
       "<table border=\"1\" class=\"dataframe\">\n",
       "  <thead>\n",
       "    <tr style=\"text-align: right;\">\n",
       "      <th></th>\n",
       "      <th>Pochodzenie</th>\n",
       "      <th>Płeć</th>\n",
       "    </tr>\n",
       "  </thead>\n",
       "  <tbody>\n",
       "    <tr>\n",
       "      <th>0</th>\n",
       "      <td>Hollywood</td>\n",
       "      <td>Mężczyzna</td>\n",
       "    </tr>\n",
       "    <tr>\n",
       "      <th>1</th>\n",
       "      <td>Hollywood</td>\n",
       "      <td>Mężczyzna</td>\n",
       "    </tr>\n",
       "    <tr>\n",
       "      <th>2</th>\n",
       "      <td>Hollywood</td>\n",
       "      <td>Mężczyzna</td>\n",
       "    </tr>\n",
       "    <tr>\n",
       "      <th>3</th>\n",
       "      <td>Hollywood</td>\n",
       "      <td>Mężczyzna</td>\n",
       "    </tr>\n",
       "    <tr>\n",
       "      <th>4</th>\n",
       "      <td>Hollywood</td>\n",
       "      <td>Mężczyzna</td>\n",
       "    </tr>\n",
       "  </tbody>\n",
       "</table>\n",
       "</div>"
      ],
      "text/plain": [
       "  Pochodzenie       Płeć\n",
       "0   Hollywood  Mężczyzna\n",
       "1   Hollywood  Mężczyzna\n",
       "2   Hollywood  Mężczyzna\n",
       "3   Hollywood  Mężczyzna\n",
       "4   Hollywood  Mężczyzna"
      ]
     },
     "execution_count": 12,
     "metadata": {},
     "output_type": "execute_result"
    }
   ],
   "source": [
    "dane[['Pochodzenie','Płeć']].head()"
   ]
  },
  {
   "cell_type": "markdown",
   "metadata": {},
   "source": [
    "Innym sposobem wybrania pojedynczej kolumny może być użycie jej nazwy jako metody samego zbioru.  \n",
    "Choć on nie będzie działał we wszystkich przypadkach (np. kiedy nazwa kolumny posiada spację lub inny znak specjalny)."
   ]
  },
  {
   "cell_type": "code",
   "execution_count": 14,
   "metadata": {
    "collapsed": false
   },
   "outputs": [
    {
     "data": {
      "text/plain": [
       "0    174\n",
       "1    170\n",
       "2    177\n",
       "3    177\n",
       "4    178\n",
       "Name: Wzrost, dtype: int64"
      ]
     },
     "execution_count": 14,
     "metadata": {},
     "output_type": "execute_result"
    }
   ],
   "source": [
    "dane.Wzrost.head()"
   ]
  },
  {
   "cell_type": "markdown",
   "metadata": {},
   "source": [
    "Bardziej ogólnym i uniwersalnym sposobem wyboru kolumn jest użycie metody <b>.loc[ , ]</b>.  \n",
    "Do nawiasu kwadratowego zawsze podajemy dwie wartości, pierwsza oznacza wiersz (lub zakres wierszy), które chcemy wybrać. Druga oznacza to samo dla kolumn. Jeśli chcemy wybrać wszystkie elementy, możemy użyć znaku **dwukropka**.\n",
    "\n",
    "Spróbujmy najpierw odtworzyć wybór kolumn z wcześniej."
   ]
  },
  {
   "cell_type": "code",
   "execution_count": 18,
   "metadata": {
    "collapsed": false
   },
   "outputs": [
    {
     "data": {
      "text/plain": [
       "0    174\n",
       "1    170\n",
       "2    177\n",
       "3    177\n",
       "4    178\n",
       "Name: Wzrost, dtype: int64"
      ]
     },
     "execution_count": 18,
     "metadata": {},
     "output_type": "execute_result"
    }
   ],
   "source": [
    "dane.loc[:,'Wzrost'].head()"
   ]
  },
  {
   "cell_type": "code",
   "execution_count": 19,
   "metadata": {
    "collapsed": false
   },
   "outputs": [
    {
     "data": {
      "text/html": [
       "<div>\n",
       "<table border=\"1\" class=\"dataframe\">\n",
       "  <thead>\n",
       "    <tr style=\"text-align: right;\">\n",
       "      <th></th>\n",
       "      <th>Pochodzenie</th>\n",
       "      <th>Płeć</th>\n",
       "    </tr>\n",
       "  </thead>\n",
       "  <tbody>\n",
       "    <tr>\n",
       "      <th>0</th>\n",
       "      <td>Hollywood</td>\n",
       "      <td>Mężczyzna</td>\n",
       "    </tr>\n",
       "    <tr>\n",
       "      <th>1</th>\n",
       "      <td>Hollywood</td>\n",
       "      <td>Mężczyzna</td>\n",
       "    </tr>\n",
       "    <tr>\n",
       "      <th>2</th>\n",
       "      <td>Hollywood</td>\n",
       "      <td>Mężczyzna</td>\n",
       "    </tr>\n",
       "    <tr>\n",
       "      <th>3</th>\n",
       "      <td>Hollywood</td>\n",
       "      <td>Mężczyzna</td>\n",
       "    </tr>\n",
       "    <tr>\n",
       "      <th>4</th>\n",
       "      <td>Hollywood</td>\n",
       "      <td>Mężczyzna</td>\n",
       "    </tr>\n",
       "  </tbody>\n",
       "</table>\n",
       "</div>"
      ],
      "text/plain": [
       "  Pochodzenie       Płeć\n",
       "0   Hollywood  Mężczyzna\n",
       "1   Hollywood  Mężczyzna\n",
       "2   Hollywood  Mężczyzna\n",
       "3   Hollywood  Mężczyzna\n",
       "4   Hollywood  Mężczyzna"
      ]
     },
     "execution_count": 19,
     "metadata": {},
     "output_type": "execute_result"
    }
   ],
   "source": [
    "dane.loc[:,['Pochodzenie', 'Płeć']].head()"
   ]
  },
  {
   "cell_type": "markdown",
   "metadata": {},
   "source": [
    "Teraz spróbujmy wybrać kilka różnych wierszy."
   ]
  },
  {
   "cell_type": "code",
   "execution_count": 20,
   "metadata": {
    "collapsed": false
   },
   "outputs": [
    {
     "data": {
      "text/plain": [
       "Płeć           Mężczyzna\n",
       "Pochodzenie    Hollywood\n",
       "Wzrost               189\n",
       "Name: 5, dtype: object"
      ]
     },
     "execution_count": 20,
     "metadata": {},
     "output_type": "execute_result"
    }
   ],
   "source": [
    "dane.loc[5,:]"
   ]
  },
  {
   "cell_type": "code",
   "execution_count": 21,
   "metadata": {
    "collapsed": false
   },
   "outputs": [
    {
     "data": {
      "text/html": [
       "<div>\n",
       "<table border=\"1\" class=\"dataframe\">\n",
       "  <thead>\n",
       "    <tr style=\"text-align: right;\">\n",
       "      <th></th>\n",
       "      <th>Płeć</th>\n",
       "      <th>Pochodzenie</th>\n",
       "      <th>Wzrost</th>\n",
       "    </tr>\n",
       "  </thead>\n",
       "  <tbody>\n",
       "    <tr>\n",
       "      <th>5</th>\n",
       "      <td>Mężczyzna</td>\n",
       "      <td>Hollywood</td>\n",
       "      <td>189</td>\n",
       "    </tr>\n",
       "    <tr>\n",
       "      <th>6</th>\n",
       "      <td>Mężczyzna</td>\n",
       "      <td>Hollywood</td>\n",
       "      <td>183</td>\n",
       "    </tr>\n",
       "    <tr>\n",
       "      <th>7</th>\n",
       "      <td>Mężczyzna</td>\n",
       "      <td>Hollywood</td>\n",
       "      <td>183</td>\n",
       "    </tr>\n",
       "    <tr>\n",
       "      <th>8</th>\n",
       "      <td>Mężczyzna</td>\n",
       "      <td>Hollywood</td>\n",
       "      <td>193</td>\n",
       "    </tr>\n",
       "    <tr>\n",
       "      <th>9</th>\n",
       "      <td>Mężczyzna</td>\n",
       "      <td>Hollywood</td>\n",
       "      <td>182</td>\n",
       "    </tr>\n",
       "    <tr>\n",
       "      <th>10</th>\n",
       "      <td>Mężczyzna</td>\n",
       "      <td>Hollywood</td>\n",
       "      <td>185</td>\n",
       "    </tr>\n",
       "  </tbody>\n",
       "</table>\n",
       "</div>"
      ],
      "text/plain": [
       "         Płeć Pochodzenie  Wzrost\n",
       "5   Mężczyzna   Hollywood     189\n",
       "6   Mężczyzna   Hollywood     183\n",
       "7   Mężczyzna   Hollywood     183\n",
       "8   Mężczyzna   Hollywood     193\n",
       "9   Mężczyzna   Hollywood     182\n",
       "10  Mężczyzna   Hollywood     185"
      ]
     },
     "execution_count": 21,
     "metadata": {},
     "output_type": "execute_result"
    }
   ],
   "source": [
    "dane.loc[5:10,:]"
   ]
  },
  {
   "cell_type": "markdown",
   "metadata": {},
   "source": [
    "**Ważne**: Metoda loc operuje na <b>nazwach</b> zarówno indeksów wierszy jak i nazw kolumn. Nasze dane mają nazwy indeksów w formie numerów, dlatego może to powodować lekką konfuzję. Metoda loc traktuje te numery jako nazwy wierszy a nie ich liczbę porządkową.\n",
    "\n",
    "Teraz jeszcze jeden przykład z kombinacją indeksów i nazw kolumn. Warto zwrócić uwagę, że kolejność wpisanych kolumn jest dowolna i możemy je tym sposobem przestawiać."
   ]
  },
  {
   "cell_type": "code",
   "execution_count": 23,
   "metadata": {
    "collapsed": false
   },
   "outputs": [
    {
     "data": {
      "text/html": [
       "<div>\n",
       "<table border=\"1\" class=\"dataframe\">\n",
       "  <thead>\n",
       "    <tr style=\"text-align: right;\">\n",
       "      <th></th>\n",
       "      <th>Wzrost</th>\n",
       "      <th>Pochodzenie</th>\n",
       "    </tr>\n",
       "  </thead>\n",
       "  <tbody>\n",
       "    <tr>\n",
       "      <th>7</th>\n",
       "      <td>183</td>\n",
       "      <td>Hollywood</td>\n",
       "    </tr>\n",
       "    <tr>\n",
       "      <th>8</th>\n",
       "      <td>193</td>\n",
       "      <td>Hollywood</td>\n",
       "    </tr>\n",
       "    <tr>\n",
       "      <th>9</th>\n",
       "      <td>182</td>\n",
       "      <td>Hollywood</td>\n",
       "    </tr>\n",
       "    <tr>\n",
       "      <th>10</th>\n",
       "      <td>185</td>\n",
       "      <td>Hollywood</td>\n",
       "    </tr>\n",
       "    <tr>\n",
       "      <th>11</th>\n",
       "      <td>175</td>\n",
       "      <td>Hollywood</td>\n",
       "    </tr>\n",
       "    <tr>\n",
       "      <th>12</th>\n",
       "      <td>183</td>\n",
       "      <td>Hollywood</td>\n",
       "    </tr>\n",
       "    <tr>\n",
       "      <th>13</th>\n",
       "      <td>178</td>\n",
       "      <td>Hollywood</td>\n",
       "    </tr>\n",
       "  </tbody>\n",
       "</table>\n",
       "</div>"
      ],
      "text/plain": [
       "    Wzrost Pochodzenie\n",
       "7      183   Hollywood\n",
       "8      193   Hollywood\n",
       "9      182   Hollywood\n",
       "10     185   Hollywood\n",
       "11     175   Hollywood\n",
       "12     183   Hollywood\n",
       "13     178   Hollywood"
      ]
     },
     "execution_count": 23,
     "metadata": {},
     "output_type": "execute_result"
    }
   ],
   "source": [
    "dane.loc[7:13,['Wzrost','Pochodzenie']]"
   ]
  },
  {
   "cell_type": "markdown",
   "metadata": {},
   "source": [
    " "
   ]
  },
  {
   "cell_type": "markdown",
   "metadata": {},
   "source": [
    "Pandas udostępnia też możliwość wykorzystania indeksowania numerycznego - czyli wskazania numerów wierszy i kolumn, które chcemy wybrać do podzbioru bezpośrednio. Służy do tego metoda <b>.iloc[ , ]</b>. Jej działanie jest identyczne do loc, z tym wyjątkiem, że posługujemy się numerami a nie nazwami."
   ]
  },
  {
   "cell_type": "code",
   "execution_count": 25,
   "metadata": {
    "collapsed": false
   },
   "outputs": [
    {
     "data": {
      "text/plain": [
       "6    Mężczyzna\n",
       "7    Mężczyzna\n",
       "8    Mężczyzna\n",
       "9    Mężczyzna\n",
       "Name: Płeć, dtype: object"
      ]
     },
     "execution_count": 25,
     "metadata": {},
     "output_type": "execute_result"
    }
   ],
   "source": [
    "dane.iloc[6:10,0]"
   ]
  },
  {
   "cell_type": "code",
   "execution_count": 27,
   "metadata": {
    "collapsed": false
   },
   "outputs": [
    {
     "data": {
      "text/html": [
       "<div>\n",
       "<table border=\"1\" class=\"dataframe\">\n",
       "  <thead>\n",
       "    <tr style=\"text-align: right;\">\n",
       "      <th></th>\n",
       "      <th>Pochodzenie</th>\n",
       "      <th>Wzrost</th>\n",
       "    </tr>\n",
       "  </thead>\n",
       "  <tbody>\n",
       "    <tr>\n",
       "      <th>6</th>\n",
       "      <td>Hollywood</td>\n",
       "      <td>183</td>\n",
       "    </tr>\n",
       "    <tr>\n",
       "      <th>7</th>\n",
       "      <td>Hollywood</td>\n",
       "      <td>183</td>\n",
       "    </tr>\n",
       "    <tr>\n",
       "      <th>8</th>\n",
       "      <td>Hollywood</td>\n",
       "      <td>193</td>\n",
       "    </tr>\n",
       "    <tr>\n",
       "      <th>9</th>\n",
       "      <td>Hollywood</td>\n",
       "      <td>182</td>\n",
       "    </tr>\n",
       "  </tbody>\n",
       "</table>\n",
       "</div>"
      ],
      "text/plain": [
       "  Pochodzenie  Wzrost\n",
       "6   Hollywood     183\n",
       "7   Hollywood     183\n",
       "8   Hollywood     193\n",
       "9   Hollywood     182"
      ]
     },
     "execution_count": 27,
     "metadata": {},
     "output_type": "execute_result"
    }
   ],
   "source": [
    "dane.iloc[6:10,1:3]"
   ]
  },
  {
   "cell_type": "markdown",
   "metadata": {},
   "source": [
    "Działa tutaj ten sam system wskazywania zakresów liczbowych jak w całym pythonie - pierwszym elementem jest 0, natomiast koniec zakresu nie jest uwzględniany w nowym podzbiorze. Dlatego loc[8:10,:] i iloc[8:10,:] dadzą inne wyniki."
   ]
  },
  {
   "cell_type": "code",
   "execution_count": 28,
   "metadata": {
    "collapsed": false
   },
   "outputs": [
    {
     "data": {
      "text/html": [
       "<div>\n",
       "<table border=\"1\" class=\"dataframe\">\n",
       "  <thead>\n",
       "    <tr style=\"text-align: right;\">\n",
       "      <th></th>\n",
       "      <th>Płeć</th>\n",
       "      <th>Pochodzenie</th>\n",
       "      <th>Wzrost</th>\n",
       "    </tr>\n",
       "  </thead>\n",
       "  <tbody>\n",
       "    <tr>\n",
       "      <th>8</th>\n",
       "      <td>Mężczyzna</td>\n",
       "      <td>Hollywood</td>\n",
       "      <td>193</td>\n",
       "    </tr>\n",
       "    <tr>\n",
       "      <th>9</th>\n",
       "      <td>Mężczyzna</td>\n",
       "      <td>Hollywood</td>\n",
       "      <td>182</td>\n",
       "    </tr>\n",
       "    <tr>\n",
       "      <th>10</th>\n",
       "      <td>Mężczyzna</td>\n",
       "      <td>Hollywood</td>\n",
       "      <td>185</td>\n",
       "    </tr>\n",
       "  </tbody>\n",
       "</table>\n",
       "</div>"
      ],
      "text/plain": [
       "         Płeć Pochodzenie  Wzrost\n",
       "8   Mężczyzna   Hollywood     193\n",
       "9   Mężczyzna   Hollywood     182\n",
       "10  Mężczyzna   Hollywood     185"
      ]
     },
     "execution_count": 28,
     "metadata": {},
     "output_type": "execute_result"
    }
   ],
   "source": [
    "dane.loc[8:10,:]"
   ]
  },
  {
   "cell_type": "code",
   "execution_count": 29,
   "metadata": {
    "collapsed": false
   },
   "outputs": [
    {
     "data": {
      "text/html": [
       "<div>\n",
       "<table border=\"1\" class=\"dataframe\">\n",
       "  <thead>\n",
       "    <tr style=\"text-align: right;\">\n",
       "      <th></th>\n",
       "      <th>Płeć</th>\n",
       "      <th>Pochodzenie</th>\n",
       "      <th>Wzrost</th>\n",
       "    </tr>\n",
       "  </thead>\n",
       "  <tbody>\n",
       "    <tr>\n",
       "      <th>8</th>\n",
       "      <td>Mężczyzna</td>\n",
       "      <td>Hollywood</td>\n",
       "      <td>193</td>\n",
       "    </tr>\n",
       "    <tr>\n",
       "      <th>9</th>\n",
       "      <td>Mężczyzna</td>\n",
       "      <td>Hollywood</td>\n",
       "      <td>182</td>\n",
       "    </tr>\n",
       "  </tbody>\n",
       "</table>\n",
       "</div>"
      ],
      "text/plain": [
       "        Płeć Pochodzenie  Wzrost\n",
       "8  Mężczyzna   Hollywood     193\n",
       "9  Mężczyzna   Hollywood     182"
      ]
     },
     "execution_count": 29,
     "metadata": {},
     "output_type": "execute_result"
    }
   ],
   "source": [
    "dane.iloc[8:10,:]"
   ]
  },
  {
   "cell_type": "markdown",
   "metadata": {},
   "source": [
    "Etykiety zachowują się tu całkiem podobnie do zakresów liczbowych - możemy wybrać od której do której nazwy kolumny chcemy wybrać podzbiór i pandas wybierze dla nas wskazane kolumny i wszystkie, które znajdują się pomiędzy nimi."
   ]
  },
  {
   "cell_type": "code",
   "execution_count": 33,
   "metadata": {
    "collapsed": false
   },
   "outputs": [
    {
     "data": {
      "text/html": [
       "<div>\n",
       "<table border=\"1\" class=\"dataframe\">\n",
       "  <thead>\n",
       "    <tr style=\"text-align: right;\">\n",
       "      <th></th>\n",
       "      <th>Płeć</th>\n",
       "      <th>Pochodzenie</th>\n",
       "    </tr>\n",
       "  </thead>\n",
       "  <tbody>\n",
       "    <tr>\n",
       "      <th>8</th>\n",
       "      <td>Mężczyzna</td>\n",
       "      <td>Hollywood</td>\n",
       "    </tr>\n",
       "    <tr>\n",
       "      <th>9</th>\n",
       "      <td>Mężczyzna</td>\n",
       "      <td>Hollywood</td>\n",
       "    </tr>\n",
       "    <tr>\n",
       "      <th>10</th>\n",
       "      <td>Mężczyzna</td>\n",
       "      <td>Hollywood</td>\n",
       "    </tr>\n",
       "  </tbody>\n",
       "</table>\n",
       "</div>"
      ],
      "text/plain": [
       "         Płeć Pochodzenie\n",
       "8   Mężczyzna   Hollywood\n",
       "9   Mężczyzna   Hollywood\n",
       "10  Mężczyzna   Hollywood"
      ]
     },
     "execution_count": 33,
     "metadata": {},
     "output_type": "execute_result"
    }
   ],
   "source": [
    "dane.loc[8:10,'Płeć':'Pochodzenie']"
   ]
  },
  {
   "cell_type": "markdown",
   "metadata": {},
   "source": [
    "Podobnie jak przy filtrowaniu elementów listy, możemy tutaj dołożyć trzeci argument, który wskaże wielkość kroku - np. wybieranie co drugiego czy co trzeciego elementu."
   ]
  },
  {
   "cell_type": "code",
   "execution_count": 34,
   "metadata": {
    "collapsed": false
   },
   "outputs": [
    {
     "data": {
      "text/html": [
       "<div>\n",
       "<table border=\"1\" class=\"dataframe\">\n",
       "  <thead>\n",
       "    <tr style=\"text-align: right;\">\n",
       "      <th></th>\n",
       "      <th>Płeć</th>\n",
       "      <th>Pochodzenie</th>\n",
       "      <th>Wzrost</th>\n",
       "    </tr>\n",
       "  </thead>\n",
       "  <tbody>\n",
       "    <tr>\n",
       "      <th>5</th>\n",
       "      <td>Mężczyzna</td>\n",
       "      <td>Hollywood</td>\n",
       "      <td>189</td>\n",
       "    </tr>\n",
       "    <tr>\n",
       "      <th>9</th>\n",
       "      <td>Mężczyzna</td>\n",
       "      <td>Hollywood</td>\n",
       "      <td>182</td>\n",
       "    </tr>\n",
       "    <tr>\n",
       "      <th>13</th>\n",
       "      <td>Mężczyzna</td>\n",
       "      <td>Hollywood</td>\n",
       "      <td>178</td>\n",
       "    </tr>\n",
       "    <tr>\n",
       "      <th>17</th>\n",
       "      <td>Mężczyzna</td>\n",
       "      <td>Hollywood</td>\n",
       "      <td>178</td>\n",
       "    </tr>\n",
       "    <tr>\n",
       "      <th>21</th>\n",
       "      <td>Mężczyzna</td>\n",
       "      <td>Hollywood</td>\n",
       "      <td>180</td>\n",
       "    </tr>\n",
       "    <tr>\n",
       "      <th>25</th>\n",
       "      <td>Mężczyzna</td>\n",
       "      <td>Hollywood</td>\n",
       "      <td>193</td>\n",
       "    </tr>\n",
       "  </tbody>\n",
       "</table>\n",
       "</div>"
      ],
      "text/plain": [
       "         Płeć Pochodzenie  Wzrost\n",
       "5   Mężczyzna   Hollywood     189\n",
       "9   Mężczyzna   Hollywood     182\n",
       "13  Mężczyzna   Hollywood     178\n",
       "17  Mężczyzna   Hollywood     178\n",
       "21  Mężczyzna   Hollywood     180\n",
       "25  Mężczyzna   Hollywood     193"
      ]
     },
     "execution_count": 34,
     "metadata": {},
     "output_type": "execute_result"
    }
   ],
   "source": [
    "dane.loc[5:25:4,:]"
   ]
  },
  {
   "cell_type": "markdown",
   "metadata": {},
   "source": [
    " "
   ]
  },
  {
   "cell_type": "markdown",
   "metadata": {},
   "source": [
    "Część pierwsza zawierała już przykłady wybierania elementów kolumn na podstawie warunków logicznych.  \n",
    "Tutaj jednak powtórzymy to sobie i poszerzymy trochę tamte wiadomości."
   ]
  },
  {
   "cell_type": "markdown",
   "metadata": {},
   "source": [
    "Możemy dowolnie wybierać podzbiory kolumn czy wierszy na podstawie wartości zawartych w poszczególnych komórkach.  \n",
    "Dla przykładu, możemy chcieć wybrać podzbiór składający się wyłącznie z danych kobiet. W tym celu musimy przefiltrować kolumnę płeć."
   ]
  },
  {
   "cell_type": "code",
   "execution_count": 38,
   "metadata": {
    "collapsed": false,
    "scrolled": true
   },
   "outputs": [
    {
     "data": {
      "text/plain": [
       "0      False\n",
       "1      False\n",
       "2      False\n",
       "3      False\n",
       "4      False\n",
       "5      False\n",
       "6      False\n",
       "7      False\n",
       "8      False\n",
       "9      False\n",
       "10     False\n",
       "11     False\n",
       "12     False\n",
       "13     False\n",
       "14     False\n",
       "15     False\n",
       "16     False\n",
       "17     False\n",
       "18     False\n",
       "19     False\n",
       "20     False\n",
       "21     False\n",
       "22     False\n",
       "23     False\n",
       "24     False\n",
       "25     False\n",
       "26     False\n",
       "27     False\n",
       "28     False\n",
       "29     False\n",
       "       ...  \n",
       "90      True\n",
       "91      True\n",
       "92      True\n",
       "93      True\n",
       "94      True\n",
       "95      True\n",
       "96      True\n",
       "97      True\n",
       "98      True\n",
       "99      True\n",
       "100     True\n",
       "101     True\n",
       "102     True\n",
       "103     True\n",
       "104     True\n",
       "105     True\n",
       "106     True\n",
       "107     True\n",
       "108     True\n",
       "109     True\n",
       "110     True\n",
       "111     True\n",
       "112     True\n",
       "113     True\n",
       "114     True\n",
       "115     True\n",
       "116     True\n",
       "117     True\n",
       "118     True\n",
       "119     True\n",
       "Name: Płeć, dtype: bool"
      ]
     },
     "execution_count": 38,
     "metadata": {},
     "output_type": "execute_result"
    }
   ],
   "source": [
    "dane['Płeć'] == 'Kobieta'"
   ]
  },
  {
   "cell_type": "markdown",
   "metadata": {},
   "source": [
    "Otrzymujemy serię wartości boolowskich, które identyfikują czy w danej komórce wartość płci jest równa kobiecie. Teraz możemy użyć tych danych, żeby wyświetlić tylko te wiersze, dla których jest to prawda. Możemy tej maski użyć zamiast wartości dla wierszy w metodzie loc."
   ]
  },
  {
   "cell_type": "code",
   "execution_count": 41,
   "metadata": {
    "collapsed": false,
    "scrolled": true
   },
   "outputs": [
    {
     "data": {
      "text/html": [
       "<div>\n",
       "<table border=\"1\" class=\"dataframe\">\n",
       "  <thead>\n",
       "    <tr style=\"text-align: right;\">\n",
       "      <th></th>\n",
       "      <th>Płeć</th>\n",
       "      <th>Pochodzenie</th>\n",
       "      <th>Wzrost</th>\n",
       "    </tr>\n",
       "  </thead>\n",
       "  <tbody>\n",
       "    <tr>\n",
       "      <th>30</th>\n",
       "      <td>Kobieta</td>\n",
       "      <td>Hollywood</td>\n",
       "      <td>168</td>\n",
       "    </tr>\n",
       "    <tr>\n",
       "      <th>31</th>\n",
       "      <td>Kobieta</td>\n",
       "      <td>Hollywood</td>\n",
       "      <td>157</td>\n",
       "    </tr>\n",
       "    <tr>\n",
       "      <th>32</th>\n",
       "      <td>Kobieta</td>\n",
       "      <td>Hollywood</td>\n",
       "      <td>160</td>\n",
       "    </tr>\n",
       "    <tr>\n",
       "      <th>33</th>\n",
       "      <td>Kobieta</td>\n",
       "      <td>Hollywood</td>\n",
       "      <td>177</td>\n",
       "    </tr>\n",
       "    <tr>\n",
       "      <th>34</th>\n",
       "      <td>Kobieta</td>\n",
       "      <td>Hollywood</td>\n",
       "      <td>169</td>\n",
       "    </tr>\n",
       "    <tr>\n",
       "      <th>35</th>\n",
       "      <td>Kobieta</td>\n",
       "      <td>Hollywood</td>\n",
       "      <td>174</td>\n",
       "    </tr>\n",
       "    <tr>\n",
       "      <th>36</th>\n",
       "      <td>Kobieta</td>\n",
       "      <td>Hollywood</td>\n",
       "      <td>175</td>\n",
       "    </tr>\n",
       "    <tr>\n",
       "      <th>37</th>\n",
       "      <td>Kobieta</td>\n",
       "      <td>Hollywood</td>\n",
       "      <td>168</td>\n",
       "    </tr>\n",
       "    <tr>\n",
       "      <th>38</th>\n",
       "      <td>Kobieta</td>\n",
       "      <td>Hollywood</td>\n",
       "      <td>169</td>\n",
       "    </tr>\n",
       "    <tr>\n",
       "      <th>39</th>\n",
       "      <td>Kobieta</td>\n",
       "      <td>Hollywood</td>\n",
       "      <td>171</td>\n",
       "    </tr>\n",
       "    <tr>\n",
       "      <th>40</th>\n",
       "      <td>Kobieta</td>\n",
       "      <td>Hollywood</td>\n",
       "      <td>165</td>\n",
       "    </tr>\n",
       "    <tr>\n",
       "      <th>41</th>\n",
       "      <td>Kobieta</td>\n",
       "      <td>Hollywood</td>\n",
       "      <td>173</td>\n",
       "    </tr>\n",
       "    <tr>\n",
       "      <th>42</th>\n",
       "      <td>Kobieta</td>\n",
       "      <td>Hollywood</td>\n",
       "      <td>168</td>\n",
       "    </tr>\n",
       "    <tr>\n",
       "      <th>43</th>\n",
       "      <td>Kobieta</td>\n",
       "      <td>Hollywood</td>\n",
       "      <td>168</td>\n",
       "    </tr>\n",
       "    <tr>\n",
       "      <th>44</th>\n",
       "      <td>Kobieta</td>\n",
       "      <td>Hollywood</td>\n",
       "      <td>170</td>\n",
       "    </tr>\n",
       "    <tr>\n",
       "      <th>45</th>\n",
       "      <td>Kobieta</td>\n",
       "      <td>Hollywood</td>\n",
       "      <td>161</td>\n",
       "    </tr>\n",
       "    <tr>\n",
       "      <th>46</th>\n",
       "      <td>Kobieta</td>\n",
       "      <td>Hollywood</td>\n",
       "      <td>163</td>\n",
       "    </tr>\n",
       "    <tr>\n",
       "      <th>47</th>\n",
       "      <td>Kobieta</td>\n",
       "      <td>Hollywood</td>\n",
       "      <td>170</td>\n",
       "    </tr>\n",
       "    <tr>\n",
       "      <th>48</th>\n",
       "      <td>Kobieta</td>\n",
       "      <td>Hollywood</td>\n",
       "      <td>170</td>\n",
       "    </tr>\n",
       "    <tr>\n",
       "      <th>49</th>\n",
       "      <td>Kobieta</td>\n",
       "      <td>Hollywood</td>\n",
       "      <td>165</td>\n",
       "    </tr>\n",
       "    <tr>\n",
       "      <th>50</th>\n",
       "      <td>Kobieta</td>\n",
       "      <td>Hollywood</td>\n",
       "      <td>171</td>\n",
       "    </tr>\n",
       "    <tr>\n",
       "      <th>51</th>\n",
       "      <td>Kobieta</td>\n",
       "      <td>Hollywood</td>\n",
       "      <td>163</td>\n",
       "    </tr>\n",
       "    <tr>\n",
       "      <th>52</th>\n",
       "      <td>Kobieta</td>\n",
       "      <td>Hollywood</td>\n",
       "      <td>169</td>\n",
       "    </tr>\n",
       "    <tr>\n",
       "      <th>53</th>\n",
       "      <td>Kobieta</td>\n",
       "      <td>Hollywood</td>\n",
       "      <td>161</td>\n",
       "    </tr>\n",
       "    <tr>\n",
       "      <th>54</th>\n",
       "      <td>Kobieta</td>\n",
       "      <td>Hollywood</td>\n",
       "      <td>180</td>\n",
       "    </tr>\n",
       "    <tr>\n",
       "      <th>55</th>\n",
       "      <td>Kobieta</td>\n",
       "      <td>Hollywood</td>\n",
       "      <td>175</td>\n",
       "    </tr>\n",
       "    <tr>\n",
       "      <th>56</th>\n",
       "      <td>Kobieta</td>\n",
       "      <td>Hollywood</td>\n",
       "      <td>180</td>\n",
       "    </tr>\n",
       "    <tr>\n",
       "      <th>57</th>\n",
       "      <td>Kobieta</td>\n",
       "      <td>Hollywood</td>\n",
       "      <td>160</td>\n",
       "    </tr>\n",
       "    <tr>\n",
       "      <th>58</th>\n",
       "      <td>Kobieta</td>\n",
       "      <td>Hollywood</td>\n",
       "      <td>164</td>\n",
       "    </tr>\n",
       "    <tr>\n",
       "      <th>59</th>\n",
       "      <td>Kobieta</td>\n",
       "      <td>Hollywood</td>\n",
       "      <td>178</td>\n",
       "    </tr>\n",
       "    <tr>\n",
       "      <th>90</th>\n",
       "      <td>Kobieta</td>\n",
       "      <td>Polska</td>\n",
       "      <td>162</td>\n",
       "    </tr>\n",
       "    <tr>\n",
       "      <th>91</th>\n",
       "      <td>Kobieta</td>\n",
       "      <td>Polska</td>\n",
       "      <td>178</td>\n",
       "    </tr>\n",
       "    <tr>\n",
       "      <th>92</th>\n",
       "      <td>Kobieta</td>\n",
       "      <td>Polska</td>\n",
       "      <td>171</td>\n",
       "    </tr>\n",
       "    <tr>\n",
       "      <th>93</th>\n",
       "      <td>Kobieta</td>\n",
       "      <td>Polska</td>\n",
       "      <td>179</td>\n",
       "    </tr>\n",
       "    <tr>\n",
       "      <th>94</th>\n",
       "      <td>Kobieta</td>\n",
       "      <td>Polska</td>\n",
       "      <td>174</td>\n",
       "    </tr>\n",
       "    <tr>\n",
       "      <th>95</th>\n",
       "      <td>Kobieta</td>\n",
       "      <td>Polska</td>\n",
       "      <td>175</td>\n",
       "    </tr>\n",
       "    <tr>\n",
       "      <th>96</th>\n",
       "      <td>Kobieta</td>\n",
       "      <td>Polska</td>\n",
       "      <td>173</td>\n",
       "    </tr>\n",
       "    <tr>\n",
       "      <th>97</th>\n",
       "      <td>Kobieta</td>\n",
       "      <td>Polska</td>\n",
       "      <td>165</td>\n",
       "    </tr>\n",
       "    <tr>\n",
       "      <th>98</th>\n",
       "      <td>Kobieta</td>\n",
       "      <td>Polska</td>\n",
       "      <td>153</td>\n",
       "    </tr>\n",
       "    <tr>\n",
       "      <th>99</th>\n",
       "      <td>Kobieta</td>\n",
       "      <td>Polska</td>\n",
       "      <td>160</td>\n",
       "    </tr>\n",
       "    <tr>\n",
       "      <th>100</th>\n",
       "      <td>Kobieta</td>\n",
       "      <td>Polska</td>\n",
       "      <td>158</td>\n",
       "    </tr>\n",
       "    <tr>\n",
       "      <th>101</th>\n",
       "      <td>Kobieta</td>\n",
       "      <td>Polska</td>\n",
       "      <td>165</td>\n",
       "    </tr>\n",
       "    <tr>\n",
       "      <th>102</th>\n",
       "      <td>Kobieta</td>\n",
       "      <td>Polska</td>\n",
       "      <td>158</td>\n",
       "    </tr>\n",
       "    <tr>\n",
       "      <th>103</th>\n",
       "      <td>Kobieta</td>\n",
       "      <td>Polska</td>\n",
       "      <td>177</td>\n",
       "    </tr>\n",
       "    <tr>\n",
       "      <th>104</th>\n",
       "      <td>Kobieta</td>\n",
       "      <td>Polska</td>\n",
       "      <td>175</td>\n",
       "    </tr>\n",
       "    <tr>\n",
       "      <th>105</th>\n",
       "      <td>Kobieta</td>\n",
       "      <td>Polska</td>\n",
       "      <td>168</td>\n",
       "    </tr>\n",
       "    <tr>\n",
       "      <th>106</th>\n",
       "      <td>Kobieta</td>\n",
       "      <td>Polska</td>\n",
       "      <td>167</td>\n",
       "    </tr>\n",
       "    <tr>\n",
       "      <th>107</th>\n",
       "      <td>Kobieta</td>\n",
       "      <td>Polska</td>\n",
       "      <td>148</td>\n",
       "    </tr>\n",
       "    <tr>\n",
       "      <th>108</th>\n",
       "      <td>Kobieta</td>\n",
       "      <td>Polska</td>\n",
       "      <td>160</td>\n",
       "    </tr>\n",
       "    <tr>\n",
       "      <th>109</th>\n",
       "      <td>Kobieta</td>\n",
       "      <td>Polska</td>\n",
       "      <td>169</td>\n",
       "    </tr>\n",
       "    <tr>\n",
       "      <th>110</th>\n",
       "      <td>Kobieta</td>\n",
       "      <td>Polska</td>\n",
       "      <td>163</td>\n",
       "    </tr>\n",
       "    <tr>\n",
       "      <th>111</th>\n",
       "      <td>Kobieta</td>\n",
       "      <td>Polska</td>\n",
       "      <td>176</td>\n",
       "    </tr>\n",
       "    <tr>\n",
       "      <th>112</th>\n",
       "      <td>Kobieta</td>\n",
       "      <td>Polska</td>\n",
       "      <td>161</td>\n",
       "    </tr>\n",
       "    <tr>\n",
       "      <th>113</th>\n",
       "      <td>Kobieta</td>\n",
       "      <td>Polska</td>\n",
       "      <td>157</td>\n",
       "    </tr>\n",
       "    <tr>\n",
       "      <th>114</th>\n",
       "      <td>Kobieta</td>\n",
       "      <td>Polska</td>\n",
       "      <td>165</td>\n",
       "    </tr>\n",
       "    <tr>\n",
       "      <th>115</th>\n",
       "      <td>Kobieta</td>\n",
       "      <td>Polska</td>\n",
       "      <td>170</td>\n",
       "    </tr>\n",
       "    <tr>\n",
       "      <th>116</th>\n",
       "      <td>Kobieta</td>\n",
       "      <td>Polska</td>\n",
       "      <td>174</td>\n",
       "    </tr>\n",
       "    <tr>\n",
       "      <th>117</th>\n",
       "      <td>Kobieta</td>\n",
       "      <td>Polska</td>\n",
       "      <td>164</td>\n",
       "    </tr>\n",
       "    <tr>\n",
       "      <th>118</th>\n",
       "      <td>Kobieta</td>\n",
       "      <td>Polska</td>\n",
       "      <td>158</td>\n",
       "    </tr>\n",
       "    <tr>\n",
       "      <th>119</th>\n",
       "      <td>Kobieta</td>\n",
       "      <td>Polska</td>\n",
       "      <td>151</td>\n",
       "    </tr>\n",
       "  </tbody>\n",
       "</table>\n",
       "</div>"
      ],
      "text/plain": [
       "        Płeć Pochodzenie  Wzrost\n",
       "30   Kobieta   Hollywood     168\n",
       "31   Kobieta   Hollywood     157\n",
       "32   Kobieta   Hollywood     160\n",
       "33   Kobieta   Hollywood     177\n",
       "34   Kobieta   Hollywood     169\n",
       "35   Kobieta   Hollywood     174\n",
       "36   Kobieta   Hollywood     175\n",
       "37   Kobieta   Hollywood     168\n",
       "38   Kobieta   Hollywood     169\n",
       "39   Kobieta   Hollywood     171\n",
       "40   Kobieta   Hollywood     165\n",
       "41   Kobieta   Hollywood     173\n",
       "42   Kobieta   Hollywood     168\n",
       "43   Kobieta   Hollywood     168\n",
       "44   Kobieta   Hollywood     170\n",
       "45   Kobieta   Hollywood     161\n",
       "46   Kobieta   Hollywood     163\n",
       "47   Kobieta   Hollywood     170\n",
       "48   Kobieta   Hollywood     170\n",
       "49   Kobieta   Hollywood     165\n",
       "50   Kobieta   Hollywood     171\n",
       "51   Kobieta   Hollywood     163\n",
       "52   Kobieta   Hollywood     169\n",
       "53   Kobieta   Hollywood     161\n",
       "54   Kobieta   Hollywood     180\n",
       "55   Kobieta   Hollywood     175\n",
       "56   Kobieta   Hollywood     180\n",
       "57   Kobieta   Hollywood     160\n",
       "58   Kobieta   Hollywood     164\n",
       "59   Kobieta   Hollywood     178\n",
       "90   Kobieta      Polska     162\n",
       "91   Kobieta      Polska     178\n",
       "92   Kobieta      Polska     171\n",
       "93   Kobieta      Polska     179\n",
       "94   Kobieta      Polska     174\n",
       "95   Kobieta      Polska     175\n",
       "96   Kobieta      Polska     173\n",
       "97   Kobieta      Polska     165\n",
       "98   Kobieta      Polska     153\n",
       "99   Kobieta      Polska     160\n",
       "100  Kobieta      Polska     158\n",
       "101  Kobieta      Polska     165\n",
       "102  Kobieta      Polska     158\n",
       "103  Kobieta      Polska     177\n",
       "104  Kobieta      Polska     175\n",
       "105  Kobieta      Polska     168\n",
       "106  Kobieta      Polska     167\n",
       "107  Kobieta      Polska     148\n",
       "108  Kobieta      Polska     160\n",
       "109  Kobieta      Polska     169\n",
       "110  Kobieta      Polska     163\n",
       "111  Kobieta      Polska     176\n",
       "112  Kobieta      Polska     161\n",
       "113  Kobieta      Polska     157\n",
       "114  Kobieta      Polska     165\n",
       "115  Kobieta      Polska     170\n",
       "116  Kobieta      Polska     174\n",
       "117  Kobieta      Polska     164\n",
       "118  Kobieta      Polska     158\n",
       "119  Kobieta      Polska     151"
      ]
     },
     "execution_count": 41,
     "metadata": {},
     "output_type": "execute_result"
    }
   ],
   "source": [
    "dane.loc[dane['Płeć'] == 'Kobieta',:]"
   ]
  },
  {
   "cell_type": "markdown",
   "metadata": {},
   "source": [
    "W identyczny sposób możemy wybrać np. wszystkie obserwacje, w których mężczyźni mają poniżej 175 cm wzrostu.  \n",
    "Najpierw stworzymy zmienną zawierającą naszą maskę z wartościami boolowskimi, a potem użyjemy jej do odfiltrowania danych."
   ]
  },
  {
   "cell_type": "code",
   "execution_count": 46,
   "metadata": {
    "collapsed": false,
    "scrolled": true
   },
   "outputs": [
    {
     "data": {
      "text/plain": [
       "0       True\n",
       "1       True\n",
       "2      False\n",
       "3      False\n",
       "4      False\n",
       "5      False\n",
       "6      False\n",
       "7      False\n",
       "8      False\n",
       "9      False\n",
       "10     False\n",
       "11     False\n",
       "12     False\n",
       "13     False\n",
       "14     False\n",
       "15     False\n",
       "16     False\n",
       "17     False\n",
       "18     False\n",
       "19     False\n",
       "20     False\n",
       "21     False\n",
       "22     False\n",
       "23     False\n",
       "24     False\n",
       "25     False\n",
       "26     False\n",
       "27     False\n",
       "28      True\n",
       "29     False\n",
       "       ...  \n",
       "90     False\n",
       "91     False\n",
       "92     False\n",
       "93     False\n",
       "94     False\n",
       "95     False\n",
       "96     False\n",
       "97     False\n",
       "98     False\n",
       "99     False\n",
       "100    False\n",
       "101    False\n",
       "102    False\n",
       "103    False\n",
       "104    False\n",
       "105    False\n",
       "106    False\n",
       "107    False\n",
       "108    False\n",
       "109    False\n",
       "110    False\n",
       "111    False\n",
       "112    False\n",
       "113    False\n",
       "114    False\n",
       "115    False\n",
       "116    False\n",
       "117    False\n",
       "118    False\n",
       "119    False\n",
       "dtype: bool"
      ]
     },
     "execution_count": 46,
     "metadata": {},
     "output_type": "execute_result"
    }
   ],
   "source": [
    "maska = (dane['Płeć'] == 'Mężczyzna') & (dane['Wzrost'] < 175)\n",
    "maska"
   ]
  },
  {
   "cell_type": "code",
   "execution_count": 47,
   "metadata": {
    "collapsed": false
   },
   "outputs": [
    {
     "data": {
      "text/html": [
       "<div>\n",
       "<table border=\"1\" class=\"dataframe\">\n",
       "  <thead>\n",
       "    <tr style=\"text-align: right;\">\n",
       "      <th></th>\n",
       "      <th>Płeć</th>\n",
       "      <th>Pochodzenie</th>\n",
       "      <th>Wzrost</th>\n",
       "    </tr>\n",
       "  </thead>\n",
       "  <tbody>\n",
       "    <tr>\n",
       "      <th>0</th>\n",
       "      <td>Mężczyzna</td>\n",
       "      <td>Hollywood</td>\n",
       "      <td>174</td>\n",
       "    </tr>\n",
       "    <tr>\n",
       "      <th>1</th>\n",
       "      <td>Mężczyzna</td>\n",
       "      <td>Hollywood</td>\n",
       "      <td>170</td>\n",
       "    </tr>\n",
       "    <tr>\n",
       "      <th>28</th>\n",
       "      <td>Mężczyzna</td>\n",
       "      <td>Hollywood</td>\n",
       "      <td>170</td>\n",
       "    </tr>\n",
       "    <tr>\n",
       "      <th>63</th>\n",
       "      <td>Mężczyzna</td>\n",
       "      <td>Polska</td>\n",
       "      <td>164</td>\n",
       "    </tr>\n",
       "    <tr>\n",
       "      <th>64</th>\n",
       "      <td>Mężczyzna</td>\n",
       "      <td>Polska</td>\n",
       "      <td>172</td>\n",
       "    </tr>\n",
       "    <tr>\n",
       "      <th>67</th>\n",
       "      <td>Mężczyzna</td>\n",
       "      <td>Polska</td>\n",
       "      <td>169</td>\n",
       "    </tr>\n",
       "    <tr>\n",
       "      <th>70</th>\n",
       "      <td>Mężczyzna</td>\n",
       "      <td>Polska</td>\n",
       "      <td>159</td>\n",
       "    </tr>\n",
       "    <tr>\n",
       "      <th>71</th>\n",
       "      <td>Mężczyzna</td>\n",
       "      <td>Polska</td>\n",
       "      <td>166</td>\n",
       "    </tr>\n",
       "    <tr>\n",
       "      <th>72</th>\n",
       "      <td>Mężczyzna</td>\n",
       "      <td>Polska</td>\n",
       "      <td>174</td>\n",
       "    </tr>\n",
       "    <tr>\n",
       "      <th>73</th>\n",
       "      <td>Mężczyzna</td>\n",
       "      <td>Polska</td>\n",
       "      <td>171</td>\n",
       "    </tr>\n",
       "    <tr>\n",
       "      <th>79</th>\n",
       "      <td>Mężczyzna</td>\n",
       "      <td>Polska</td>\n",
       "      <td>167</td>\n",
       "    </tr>\n",
       "    <tr>\n",
       "      <th>80</th>\n",
       "      <td>Mężczyzna</td>\n",
       "      <td>Polska</td>\n",
       "      <td>167</td>\n",
       "    </tr>\n",
       "    <tr>\n",
       "      <th>84</th>\n",
       "      <td>Mężczyzna</td>\n",
       "      <td>Polska</td>\n",
       "      <td>170</td>\n",
       "    </tr>\n",
       "    <tr>\n",
       "      <th>86</th>\n",
       "      <td>Mężczyzna</td>\n",
       "      <td>Polska</td>\n",
       "      <td>171</td>\n",
       "    </tr>\n",
       "  </tbody>\n",
       "</table>\n",
       "</div>"
      ],
      "text/plain": [
       "         Płeć Pochodzenie  Wzrost\n",
       "0   Mężczyzna   Hollywood     174\n",
       "1   Mężczyzna   Hollywood     170\n",
       "28  Mężczyzna   Hollywood     170\n",
       "63  Mężczyzna      Polska     164\n",
       "64  Mężczyzna      Polska     172\n",
       "67  Mężczyzna      Polska     169\n",
       "70  Mężczyzna      Polska     159\n",
       "71  Mężczyzna      Polska     166\n",
       "72  Mężczyzna      Polska     174\n",
       "73  Mężczyzna      Polska     171\n",
       "79  Mężczyzna      Polska     167\n",
       "80  Mężczyzna      Polska     167\n",
       "84  Mężczyzna      Polska     170\n",
       "86  Mężczyzna      Polska     171"
      ]
     },
     "execution_count": 47,
     "metadata": {},
     "output_type": "execute_result"
    }
   ],
   "source": [
    "dane.loc[maska,:]"
   ]
  },
  {
   "cell_type": "markdown",
   "metadata": {},
   "source": [
    "Kolejnym sposobem filtrowania treści jest wybieranie wierszy/kolumn na podstawie zawartości elementów z wcześniej wskazanego zbioru. Służy do tego metoda <b>.isin( )</b>. Spróbujemy za jej pomocą wybrać tylko te wiersze, które zawierają konkretne wartości wzrostu osób badanych."
   ]
  },
  {
   "cell_type": "code",
   "execution_count": 49,
   "metadata": {
    "collapsed": false
   },
   "outputs": [
    {
     "data": {
      "text/html": [
       "<div>\n",
       "<table border=\"1\" class=\"dataframe\">\n",
       "  <thead>\n",
       "    <tr style=\"text-align: right;\">\n",
       "      <th></th>\n",
       "      <th>Płeć</th>\n",
       "      <th>Pochodzenie</th>\n",
       "      <th>Wzrost</th>\n",
       "    </tr>\n",
       "  </thead>\n",
       "  <tbody>\n",
       "    <tr>\n",
       "      <th>4</th>\n",
       "      <td>Mężczyzna</td>\n",
       "      <td>Hollywood</td>\n",
       "      <td>178</td>\n",
       "    </tr>\n",
       "    <tr>\n",
       "      <th>10</th>\n",
       "      <td>Mężczyzna</td>\n",
       "      <td>Hollywood</td>\n",
       "      <td>185</td>\n",
       "    </tr>\n",
       "    <tr>\n",
       "      <th>13</th>\n",
       "      <td>Mężczyzna</td>\n",
       "      <td>Hollywood</td>\n",
       "      <td>178</td>\n",
       "    </tr>\n",
       "    <tr>\n",
       "      <th>14</th>\n",
       "      <td>Mężczyzna</td>\n",
       "      <td>Hollywood</td>\n",
       "      <td>185</td>\n",
       "    </tr>\n",
       "    <tr>\n",
       "      <th>17</th>\n",
       "      <td>Mężczyzna</td>\n",
       "      <td>Hollywood</td>\n",
       "      <td>178</td>\n",
       "    </tr>\n",
       "    <tr>\n",
       "      <th>23</th>\n",
       "      <td>Mężczyzna</td>\n",
       "      <td>Hollywood</td>\n",
       "      <td>185</td>\n",
       "    </tr>\n",
       "    <tr>\n",
       "      <th>26</th>\n",
       "      <td>Mężczyzna</td>\n",
       "      <td>Hollywood</td>\n",
       "      <td>178</td>\n",
       "    </tr>\n",
       "    <tr>\n",
       "      <th>59</th>\n",
       "      <td>Kobieta</td>\n",
       "      <td>Hollywood</td>\n",
       "      <td>178</td>\n",
       "    </tr>\n",
       "    <tr>\n",
       "      <th>66</th>\n",
       "      <td>Mężczyzna</td>\n",
       "      <td>Polska</td>\n",
       "      <td>185</td>\n",
       "    </tr>\n",
       "    <tr>\n",
       "      <th>68</th>\n",
       "      <td>Mężczyzna</td>\n",
       "      <td>Polska</td>\n",
       "      <td>185</td>\n",
       "    </tr>\n",
       "    <tr>\n",
       "      <th>70</th>\n",
       "      <td>Mężczyzna</td>\n",
       "      <td>Polska</td>\n",
       "      <td>159</td>\n",
       "    </tr>\n",
       "    <tr>\n",
       "      <th>75</th>\n",
       "      <td>Mężczyzna</td>\n",
       "      <td>Polska</td>\n",
       "      <td>178</td>\n",
       "    </tr>\n",
       "    <tr>\n",
       "      <th>91</th>\n",
       "      <td>Kobieta</td>\n",
       "      <td>Polska</td>\n",
       "      <td>178</td>\n",
       "    </tr>\n",
       "  </tbody>\n",
       "</table>\n",
       "</div>"
      ],
      "text/plain": [
       "         Płeć Pochodzenie  Wzrost\n",
       "4   Mężczyzna   Hollywood     178\n",
       "10  Mężczyzna   Hollywood     185\n",
       "13  Mężczyzna   Hollywood     178\n",
       "14  Mężczyzna   Hollywood     185\n",
       "17  Mężczyzna   Hollywood     178\n",
       "23  Mężczyzna   Hollywood     185\n",
       "26  Mężczyzna   Hollywood     178\n",
       "59    Kobieta   Hollywood     178\n",
       "66  Mężczyzna      Polska     185\n",
       "68  Mężczyzna      Polska     185\n",
       "70  Mężczyzna      Polska     159\n",
       "75  Mężczyzna      Polska     178\n",
       "91    Kobieta      Polska     178"
      ]
     },
     "execution_count": 49,
     "metadata": {},
     "output_type": "execute_result"
    }
   ],
   "source": [
    "lista = [178, 185, 159]\n",
    "dane.loc[dane['Wzrost'].isin(lista),:]"
   ]
  },
  {
   "cell_type": "markdown",
   "metadata": {},
   "source": [
    "<a href='#top' style='float: right; font-size: 13px;'>Do początku</a>"
   ]
  },
  {
   "cell_type": "markdown",
   "metadata": {},
   "source": [
    " "
   ]
  },
  {
   "cell_type": "markdown",
   "metadata": {},
   "source": [
    " "
   ]
  },
  {
   "cell_type": "markdown",
   "metadata": {},
   "source": [
    "## Grupowanie danych"
   ]
  },
  {
   "cell_type": "markdown",
   "metadata": {},
   "source": [
    "Podstawowym narzędziem do grupowania danych będzie metoda <b>.groupby( )</b>, która posortuje dane względem wskazanej zmiennej. Co istotne, sama funkcja nie tworzy nowych zbiorów danych, a jedynie pozwala wykonać wybrane operacje na podgrupach. To, co dostajemy na końcu to wynik tych operacji dla każdej wyróżnionej podgrupy."
   ]
  },
  {
   "cell_type": "markdown",
   "metadata": {},
   "source": [
    "Spróbujmy na początek podzielić nasze dane ze względu na płeć. Żeby to zrobić, przekazujemy metodzie groupby nazwę kolumny, która zawiera kategorie płci."
   ]
  },
  {
   "cell_type": "code",
   "execution_count": 29,
   "metadata": {
    "collapsed": false
   },
   "outputs": [
    {
     "data": {
      "text/plain": [
       "<pandas.core.groupby.DataFrameGroupBy object at 0x000001B1A6DB6C18>"
      ]
     },
     "execution_count": 29,
     "metadata": {},
     "output_type": "execute_result"
    }
   ],
   "source": [
    "dane.groupby('Płeć')"
   ]
  },
  {
   "cell_type": "markdown",
   "metadata": {},
   "source": [
    "Metoda ta zwraca nam obiekt grupujący - instrukcję, które wiersze należą do której grupy. Teraz możemy wykonać na nim odpowiednie operacje. Spróbujmy policzyć średnią dla każdej podgrupy."
   ]
  },
  {
   "cell_type": "code",
   "execution_count": 30,
   "metadata": {
    "collapsed": false
   },
   "outputs": [
    {
     "data": {
      "text/html": [
       "<div>\n",
       "<table border=\"1\" class=\"dataframe\">\n",
       "  <thead>\n",
       "    <tr style=\"text-align: right;\">\n",
       "      <th></th>\n",
       "      <th>Wzrost</th>\n",
       "    </tr>\n",
       "    <tr>\n",
       "      <th>Płeć</th>\n",
       "      <th></th>\n",
       "    </tr>\n",
       "  </thead>\n",
       "  <tbody>\n",
       "    <tr>\n",
       "      <th>Kobieta</th>\n",
       "      <td>167.266667</td>\n",
       "    </tr>\n",
       "    <tr>\n",
       "      <th>Mężczyzna</th>\n",
       "      <td>180.116667</td>\n",
       "    </tr>\n",
       "  </tbody>\n",
       "</table>\n",
       "</div>"
      ],
      "text/plain": [
       "               Wzrost\n",
       "Płeć                 \n",
       "Kobieta    167.266667\n",
       "Mężczyzna  180.116667"
      ]
     },
     "execution_count": 30,
     "metadata": {},
     "output_type": "execute_result"
    }
   ],
   "source": [
    "dane.groupby('Płeć').mean()"
   ]
  },
  {
   "cell_type": "markdown",
   "metadata": {},
   "source": [
    "Otrzymujemy średnią dla każdej podgrupy, a skoro mamy tylko dwie, to dostajemy dwie wartości. Warto pamiętać, że tym sposobem uzyskamy średnie ze wszystkich kolumn zawierających dane numeryczne. Nie dostaliśmy średniej z kolumny 'Pochodzenie', ponieważ jest kategorialna."
   ]
  },
  {
   "cell_type": "markdown",
   "metadata": {},
   "source": [
    "Wykorzystajmy ją jednak to dalszego podziału naszych danych na mniejsze grupy. Metoda groupby przyjmuje wprawdzie tylko jeden argument, ale może on być też listą kolumn, wedle których chcemy zgrupować nasze dane. Kolejność wyboru kolumn określi też kolejność podziału.  \n",
    "Poniżej możemy zobaczyć podział na 4 podgrupy, na których użyjemy metody **describe()**."
   ]
  },
  {
   "cell_type": "code",
   "execution_count": 43,
   "metadata": {
    "collapsed": false
   },
   "outputs": [
    {
     "data": {
      "text/html": [
       "<div>\n",
       "<table border=\"1\" class=\"dataframe\">\n",
       "  <thead>\n",
       "    <tr>\n",
       "      <th></th>\n",
       "      <th></th>\n",
       "      <th colspan=\"8\" halign=\"left\">Wzrost</th>\n",
       "    </tr>\n",
       "    <tr>\n",
       "      <th></th>\n",
       "      <th></th>\n",
       "      <th>count</th>\n",
       "      <th>mean</th>\n",
       "      <th>std</th>\n",
       "      <th>min</th>\n",
       "      <th>25%</th>\n",
       "      <th>50%</th>\n",
       "      <th>75%</th>\n",
       "      <th>max</th>\n",
       "    </tr>\n",
       "    <tr>\n",
       "      <th>Pochodzenie</th>\n",
       "      <th>Płeć</th>\n",
       "      <th></th>\n",
       "      <th></th>\n",
       "      <th></th>\n",
       "      <th></th>\n",
       "      <th></th>\n",
       "      <th></th>\n",
       "      <th></th>\n",
       "      <th></th>\n",
       "    </tr>\n",
       "  </thead>\n",
       "  <tbody>\n",
       "    <tr>\n",
       "      <th rowspan=\"2\" valign=\"top\">Hollywood</th>\n",
       "      <th>Kobieta</th>\n",
       "      <td>30.0</td>\n",
       "      <td>168.733333</td>\n",
       "      <td>6.090883</td>\n",
       "      <td>157.0</td>\n",
       "      <td>164.25</td>\n",
       "      <td>169.0</td>\n",
       "      <td>172.50</td>\n",
       "      <td>180.0</td>\n",
       "    </tr>\n",
       "    <tr>\n",
       "      <th>Mężczyzna</th>\n",
       "      <td>30.0</td>\n",
       "      <td>182.100000</td>\n",
       "      <td>5.961659</td>\n",
       "      <td>170.0</td>\n",
       "      <td>178.00</td>\n",
       "      <td>183.0</td>\n",
       "      <td>185.00</td>\n",
       "      <td>193.0</td>\n",
       "    </tr>\n",
       "    <tr>\n",
       "      <th rowspan=\"2\" valign=\"top\">Polska</th>\n",
       "      <th>Kobieta</th>\n",
       "      <td>30.0</td>\n",
       "      <td>165.800000</td>\n",
       "      <td>8.401149</td>\n",
       "      <td>148.0</td>\n",
       "      <td>160.00</td>\n",
       "      <td>165.0</td>\n",
       "      <td>173.75</td>\n",
       "      <td>179.0</td>\n",
       "    </tr>\n",
       "    <tr>\n",
       "      <th>Mężczyzna</th>\n",
       "      <td>30.0</td>\n",
       "      <td>178.133333</td>\n",
       "      <td>10.102008</td>\n",
       "      <td>159.0</td>\n",
       "      <td>171.00</td>\n",
       "      <td>177.0</td>\n",
       "      <td>185.00</td>\n",
       "      <td>206.0</td>\n",
       "    </tr>\n",
       "  </tbody>\n",
       "</table>\n",
       "</div>"
      ],
      "text/plain": [
       "                      Wzrost                                               \\\n",
       "                       count        mean        std    min     25%    50%   \n",
       "Pochodzenie Płeć                                                            \n",
       "Hollywood   Kobieta     30.0  168.733333   6.090883  157.0  164.25  169.0   \n",
       "            Mężczyzna   30.0  182.100000   5.961659  170.0  178.00  183.0   \n",
       "Polska      Kobieta     30.0  165.800000   8.401149  148.0  160.00  165.0   \n",
       "            Mężczyzna   30.0  178.133333  10.102008  159.0  171.00  177.0   \n",
       "\n",
       "                                      \n",
       "                          75%    max  \n",
       "Pochodzenie Płeć                      \n",
       "Hollywood   Kobieta    172.50  180.0  \n",
       "            Mężczyzna  185.00  193.0  \n",
       "Polska      Kobieta    173.75  179.0  \n",
       "            Mężczyzna  185.00  206.0  "
      ]
     },
     "execution_count": 43,
     "metadata": {},
     "output_type": "execute_result"
    }
   ],
   "source": [
    "dane.groupby(['Pochodzenie','Płeć']).describe().unstack()"
   ]
  },
  {
   "cell_type": "markdown",
   "metadata": {},
   "source": [
    "Metoda **unstack()** pozwala zamienić kolumny w rzędy. W naszym przypadku przenosimy do rzędu kolumnę ze statystykiami podanymi przez desribe. Jeśli podamy do unstack nazwę kolumny jako argument, to będziemy mogli wybrać kolumnę do przeniesienia (albo grupę kolumn). Bez podania argumentu, metoda wybierze pierwszą dostępną kolumnę."
   ]
  },
  {
   "cell_type": "code",
   "execution_count": 45,
   "metadata": {
    "collapsed": false
   },
   "outputs": [
    {
     "data": {
      "text/html": [
       "<div>\n",
       "<table border=\"1\" class=\"dataframe\">\n",
       "  <thead>\n",
       "    <tr>\n",
       "      <th></th>\n",
       "      <th colspan=\"4\" halign=\"left\">Wzrost</th>\n",
       "    </tr>\n",
       "    <tr>\n",
       "      <th>Pochodzenie</th>\n",
       "      <th colspan=\"2\" halign=\"left\">Hollywood</th>\n",
       "      <th colspan=\"2\" halign=\"left\">Polska</th>\n",
       "    </tr>\n",
       "    <tr>\n",
       "      <th>Płeć</th>\n",
       "      <th>Kobieta</th>\n",
       "      <th>Mężczyzna</th>\n",
       "      <th>Kobieta</th>\n",
       "      <th>Mężczyzna</th>\n",
       "    </tr>\n",
       "  </thead>\n",
       "  <tbody>\n",
       "    <tr>\n",
       "      <th>count</th>\n",
       "      <td>30.000000</td>\n",
       "      <td>30.000000</td>\n",
       "      <td>30.000000</td>\n",
       "      <td>30.000000</td>\n",
       "    </tr>\n",
       "    <tr>\n",
       "      <th>mean</th>\n",
       "      <td>168.733333</td>\n",
       "      <td>182.100000</td>\n",
       "      <td>165.800000</td>\n",
       "      <td>178.133333</td>\n",
       "    </tr>\n",
       "    <tr>\n",
       "      <th>std</th>\n",
       "      <td>6.090883</td>\n",
       "      <td>5.961659</td>\n",
       "      <td>8.401149</td>\n",
       "      <td>10.102008</td>\n",
       "    </tr>\n",
       "    <tr>\n",
       "      <th>min</th>\n",
       "      <td>157.000000</td>\n",
       "      <td>170.000000</td>\n",
       "      <td>148.000000</td>\n",
       "      <td>159.000000</td>\n",
       "    </tr>\n",
       "    <tr>\n",
       "      <th>25%</th>\n",
       "      <td>164.250000</td>\n",
       "      <td>178.000000</td>\n",
       "      <td>160.000000</td>\n",
       "      <td>171.000000</td>\n",
       "    </tr>\n",
       "    <tr>\n",
       "      <th>50%</th>\n",
       "      <td>169.000000</td>\n",
       "      <td>183.000000</td>\n",
       "      <td>165.000000</td>\n",
       "      <td>177.000000</td>\n",
       "    </tr>\n",
       "    <tr>\n",
       "      <th>75%</th>\n",
       "      <td>172.500000</td>\n",
       "      <td>185.000000</td>\n",
       "      <td>173.750000</td>\n",
       "      <td>185.000000</td>\n",
       "    </tr>\n",
       "    <tr>\n",
       "      <th>max</th>\n",
       "      <td>180.000000</td>\n",
       "      <td>193.000000</td>\n",
       "      <td>179.000000</td>\n",
       "      <td>206.000000</td>\n",
       "    </tr>\n",
       "  </tbody>\n",
       "</table>\n",
       "</div>"
      ],
      "text/plain": [
       "                 Wzrost                                    \n",
       "Pochodzenie   Hollywood                  Polska            \n",
       "Płeć            Kobieta   Mężczyzna     Kobieta   Mężczyzna\n",
       "count         30.000000   30.000000   30.000000   30.000000\n",
       "mean         168.733333  182.100000  165.800000  178.133333\n",
       "std            6.090883    5.961659    8.401149   10.102008\n",
       "min          157.000000  170.000000  148.000000  159.000000\n",
       "25%          164.250000  178.000000  160.000000  171.000000\n",
       "50%          169.000000  183.000000  165.000000  177.000000\n",
       "75%          172.500000  185.000000  173.750000  185.000000\n",
       "max          180.000000  193.000000  179.000000  206.000000"
      ]
     },
     "execution_count": 45,
     "metadata": {},
     "output_type": "execute_result"
    }
   ],
   "source": [
    "dane.groupby(['Pochodzenie','Płeć']).describe().unstack(['Pochodzenie', 'Płeć'])"
   ]
  },
  {
   "cell_type": "markdown",
   "metadata": {},
   "source": [
    "Zwizualizujmy sobie poszczególne grupy za pomocą histogramu. Będziemy do tego potrzebowali surowych danych i każdej podgrupy w osobnej kolumnie. Zobaczmy raz jeszcze, jak wyglądają same dane."
   ]
  },
  {
   "cell_type": "code",
   "execution_count": 105,
   "metadata": {
    "collapsed": false
   },
   "outputs": [
    {
     "data": {
      "text/html": [
       "<div>\n",
       "<table border=\"1\" class=\"dataframe\">\n",
       "  <thead>\n",
       "    <tr style=\"text-align: right;\">\n",
       "      <th></th>\n",
       "      <th>Płeć</th>\n",
       "      <th>Pochodzenie</th>\n",
       "      <th>Wzrost</th>\n",
       "    </tr>\n",
       "  </thead>\n",
       "  <tbody>\n",
       "    <tr>\n",
       "      <th>0</th>\n",
       "      <td>Mężczyzna</td>\n",
       "      <td>Hollywood</td>\n",
       "      <td>174</td>\n",
       "    </tr>\n",
       "    <tr>\n",
       "      <th>1</th>\n",
       "      <td>Mężczyzna</td>\n",
       "      <td>Hollywood</td>\n",
       "      <td>170</td>\n",
       "    </tr>\n",
       "    <tr>\n",
       "      <th>2</th>\n",
       "      <td>Mężczyzna</td>\n",
       "      <td>Hollywood</td>\n",
       "      <td>177</td>\n",
       "    </tr>\n",
       "    <tr>\n",
       "      <th>3</th>\n",
       "      <td>Mężczyzna</td>\n",
       "      <td>Hollywood</td>\n",
       "      <td>177</td>\n",
       "    </tr>\n",
       "    <tr>\n",
       "      <th>4</th>\n",
       "      <td>Mężczyzna</td>\n",
       "      <td>Hollywood</td>\n",
       "      <td>178</td>\n",
       "    </tr>\n",
       "  </tbody>\n",
       "</table>\n",
       "</div>"
      ],
      "text/plain": [
       "        Płeć Pochodzenie  Wzrost\n",
       "0  Mężczyzna   Hollywood     174\n",
       "1  Mężczyzna   Hollywood     170\n",
       "2  Mężczyzna   Hollywood     177\n",
       "3  Mężczyzna   Hollywood     177\n",
       "4  Mężczyzna   Hollywood     178"
      ]
     },
     "execution_count": 105,
     "metadata": {},
     "output_type": "execute_result"
    }
   ],
   "source": [
    "dane.head()"
   ]
  },
  {
   "cell_type": "markdown",
   "metadata": {},
   "source": [
    "Żeby to osiągnąć będziemy musieli stworzyć nowy indeks dla danych. Chcemy podzielić dane na 4 grupy, jednak nie ma niczego, co mogłoby pomóc pandas zgrupować kilka wartości w jednym rzędzie. Dlatego przekażemy jako indeks czterokrotnie powieloną listę indeksów (w naszym przypadku od 0 do 29). Nie jest to najbardziej eleganckie rozwiązanie, ale na chwilę obecną pozwoli nam nie wychodzić poza pandas."
   ]
  },
  {
   "cell_type": "code",
   "execution_count": 228,
   "metadata": {
    "collapsed": false
   },
   "outputs": [
    {
     "data": {
      "text/html": [
       "<div>\n",
       "<table border=\"1\" class=\"dataframe\">\n",
       "  <thead>\n",
       "    <tr>\n",
       "      <th>Płeć</th>\n",
       "      <th>Mężczyzna</th>\n",
       "      <th>Kobieta</th>\n",
       "      <th>Mężczyzna</th>\n",
       "      <th>Kobieta</th>\n",
       "    </tr>\n",
       "    <tr>\n",
       "      <th>Pochodzenie</th>\n",
       "      <th>Hollywood</th>\n",
       "      <th>Hollywood</th>\n",
       "      <th>Polska</th>\n",
       "      <th>Polska</th>\n",
       "    </tr>\n",
       "  </thead>\n",
       "  <tbody>\n",
       "    <tr>\n",
       "      <th>0</th>\n",
       "      <td>174</td>\n",
       "      <td>168</td>\n",
       "      <td>177</td>\n",
       "      <td>162</td>\n",
       "    </tr>\n",
       "    <tr>\n",
       "      <th>1</th>\n",
       "      <td>170</td>\n",
       "      <td>157</td>\n",
       "      <td>188</td>\n",
       "      <td>178</td>\n",
       "    </tr>\n",
       "    <tr>\n",
       "      <th>2</th>\n",
       "      <td>177</td>\n",
       "      <td>160</td>\n",
       "      <td>177</td>\n",
       "      <td>171</td>\n",
       "    </tr>\n",
       "    <tr>\n",
       "      <th>3</th>\n",
       "      <td>177</td>\n",
       "      <td>177</td>\n",
       "      <td>164</td>\n",
       "      <td>179</td>\n",
       "    </tr>\n",
       "    <tr>\n",
       "      <th>4</th>\n",
       "      <td>178</td>\n",
       "      <td>169</td>\n",
       "      <td>172</td>\n",
       "      <td>174</td>\n",
       "    </tr>\n",
       "  </tbody>\n",
       "</table>\n",
       "</div>"
      ],
      "text/plain": [
       "Płeć        Mężczyzna   Kobieta Mężczyzna Kobieta\n",
       "Pochodzenie Hollywood Hollywood    Polska  Polska\n",
       "0                 174       168       177     162\n",
       "1                 170       157       188     178\n",
       "2                 177       160       177     171\n",
       "3                 177       177       164     179\n",
       "4                 178       169       172     174"
      ]
     },
     "execution_count": 228,
     "metadata": {},
     "output_type": "execute_result"
    },
    {
     "data": {
      "image/png": "[encoded data removed]",
      "text/plain": [
       "<matplotlib.figure.Figure at 0x1b1aac8d320>"
      ]
     },
     "metadata": {},
     "output_type": "display_data"
    }
   ],
   "source": [
    "index = list(range(30))*4\n",
    "x = dane.set_index([index,dane.Płeć, dane.Pochodzenie])['Wzrost'].unstack(['Płeć', 'Pochodzenie'])\n",
    "x.plot.hist(figsize=(10,14), bins=8, alpha=0.7, subplots=True);\n",
    "x.head()"
   ]
  },
  {
   "cell_type": "code",
   "execution_count": 227,
   "metadata": {
    "collapsed": false
   },
   "outputs": [
    {
     "data": {
      "image/png": "[encoded data removed]",
      "text/plain": [
       "<matplotlib.figure.Figure at 0x1b1ab0ee160>"
      ]
     },
     "metadata": {},
     "output_type": "display_data"
    }
   ],
   "source": [
    "x.plot.kde(figsize=(10,8));"
   ]
  },
  {
   "cell_type": "markdown",
   "metadata": {
    "collapsed": true
   },
   "source": [
    " "
   ]
  },
  {
   "cell_type": "markdown",
   "metadata": {
    "collapsed": true
   },
   "source": [
    "Wyciągnięcie poszczególnych grup jest możliwe poprzez użycie metody <b>.get_group( )</b>.  \n",
    "Ważne jest by zapamiętać, że przy grupowaniu więcej niż jedną zmienną, musimy też podać tyle samo wartości, co mamy grup. W poniższym przykładzie nie możemy wyłącznie wyświetlić grupy 'Kobieta', ponieważ jest ona podzielona na dwie podgrupy zgodnie z pochodzeniem. Jeśli przekazujemy do get_group więcej niż jeden argument, musimy to zrobić w krotce (okrągłe nawiasy), gdzie kolejność ma znaczenie (jeśli pierwszą zmienną kategoryzacyjną jest 'Płeć', to 'Kobieta' musi się pojawić jako pierwsza w krotce)."
   ]
  },
  {
   "cell_type": "code",
   "execution_count": 55,
   "metadata": {
    "collapsed": false,
    "scrolled": true
   },
   "outputs": [
    {
     "data": {
      "text/html": [
       "<div>\n",
       "<table border=\"1\" class=\"dataframe\">\n",
       "  <thead>\n",
       "    <tr style=\"text-align: right;\">\n",
       "      <th></th>\n",
       "      <th>Płeć</th>\n",
       "      <th>Pochodzenie</th>\n",
       "      <th>Wzrost</th>\n",
       "    </tr>\n",
       "  </thead>\n",
       "  <tbody>\n",
       "    <tr>\n",
       "      <th>90</th>\n",
       "      <td>Kobieta</td>\n",
       "      <td>Polska</td>\n",
       "      <td>162</td>\n",
       "    </tr>\n",
       "    <tr>\n",
       "      <th>91</th>\n",
       "      <td>Kobieta</td>\n",
       "      <td>Polska</td>\n",
       "      <td>178</td>\n",
       "    </tr>\n",
       "    <tr>\n",
       "      <th>92</th>\n",
       "      <td>Kobieta</td>\n",
       "      <td>Polska</td>\n",
       "      <td>171</td>\n",
       "    </tr>\n",
       "    <tr>\n",
       "      <th>93</th>\n",
       "      <td>Kobieta</td>\n",
       "      <td>Polska</td>\n",
       "      <td>179</td>\n",
       "    </tr>\n",
       "    <tr>\n",
       "      <th>94</th>\n",
       "      <td>Kobieta</td>\n",
       "      <td>Polska</td>\n",
       "      <td>174</td>\n",
       "    </tr>\n",
       "    <tr>\n",
       "      <th>95</th>\n",
       "      <td>Kobieta</td>\n",
       "      <td>Polska</td>\n",
       "      <td>175</td>\n",
       "    </tr>\n",
       "    <tr>\n",
       "      <th>96</th>\n",
       "      <td>Kobieta</td>\n",
       "      <td>Polska</td>\n",
       "      <td>173</td>\n",
       "    </tr>\n",
       "    <tr>\n",
       "      <th>97</th>\n",
       "      <td>Kobieta</td>\n",
       "      <td>Polska</td>\n",
       "      <td>165</td>\n",
       "    </tr>\n",
       "    <tr>\n",
       "      <th>98</th>\n",
       "      <td>Kobieta</td>\n",
       "      <td>Polska</td>\n",
       "      <td>153</td>\n",
       "    </tr>\n",
       "    <tr>\n",
       "      <th>99</th>\n",
       "      <td>Kobieta</td>\n",
       "      <td>Polska</td>\n",
       "      <td>160</td>\n",
       "    </tr>\n",
       "    <tr>\n",
       "      <th>100</th>\n",
       "      <td>Kobieta</td>\n",
       "      <td>Polska</td>\n",
       "      <td>158</td>\n",
       "    </tr>\n",
       "    <tr>\n",
       "      <th>101</th>\n",
       "      <td>Kobieta</td>\n",
       "      <td>Polska</td>\n",
       "      <td>165</td>\n",
       "    </tr>\n",
       "    <tr>\n",
       "      <th>102</th>\n",
       "      <td>Kobieta</td>\n",
       "      <td>Polska</td>\n",
       "      <td>158</td>\n",
       "    </tr>\n",
       "    <tr>\n",
       "      <th>103</th>\n",
       "      <td>Kobieta</td>\n",
       "      <td>Polska</td>\n",
       "      <td>177</td>\n",
       "    </tr>\n",
       "    <tr>\n",
       "      <th>104</th>\n",
       "      <td>Kobieta</td>\n",
       "      <td>Polska</td>\n",
       "      <td>175</td>\n",
       "    </tr>\n",
       "    <tr>\n",
       "      <th>105</th>\n",
       "      <td>Kobieta</td>\n",
       "      <td>Polska</td>\n",
       "      <td>168</td>\n",
       "    </tr>\n",
       "    <tr>\n",
       "      <th>106</th>\n",
       "      <td>Kobieta</td>\n",
       "      <td>Polska</td>\n",
       "      <td>167</td>\n",
       "    </tr>\n",
       "    <tr>\n",
       "      <th>107</th>\n",
       "      <td>Kobieta</td>\n",
       "      <td>Polska</td>\n",
       "      <td>148</td>\n",
       "    </tr>\n",
       "    <tr>\n",
       "      <th>108</th>\n",
       "      <td>Kobieta</td>\n",
       "      <td>Polska</td>\n",
       "      <td>160</td>\n",
       "    </tr>\n",
       "    <tr>\n",
       "      <th>109</th>\n",
       "      <td>Kobieta</td>\n",
       "      <td>Polska</td>\n",
       "      <td>169</td>\n",
       "    </tr>\n",
       "    <tr>\n",
       "      <th>110</th>\n",
       "      <td>Kobieta</td>\n",
       "      <td>Polska</td>\n",
       "      <td>163</td>\n",
       "    </tr>\n",
       "    <tr>\n",
       "      <th>111</th>\n",
       "      <td>Kobieta</td>\n",
       "      <td>Polska</td>\n",
       "      <td>176</td>\n",
       "    </tr>\n",
       "    <tr>\n",
       "      <th>112</th>\n",
       "      <td>Kobieta</td>\n",
       "      <td>Polska</td>\n",
       "      <td>161</td>\n",
       "    </tr>\n",
       "    <tr>\n",
       "      <th>113</th>\n",
       "      <td>Kobieta</td>\n",
       "      <td>Polska</td>\n",
       "      <td>157</td>\n",
       "    </tr>\n",
       "    <tr>\n",
       "      <th>114</th>\n",
       "      <td>Kobieta</td>\n",
       "      <td>Polska</td>\n",
       "      <td>165</td>\n",
       "    </tr>\n",
       "    <tr>\n",
       "      <th>115</th>\n",
       "      <td>Kobieta</td>\n",
       "      <td>Polska</td>\n",
       "      <td>170</td>\n",
       "    </tr>\n",
       "    <tr>\n",
       "      <th>116</th>\n",
       "      <td>Kobieta</td>\n",
       "      <td>Polska</td>\n",
       "      <td>174</td>\n",
       "    </tr>\n",
       "    <tr>\n",
       "      <th>117</th>\n",
       "      <td>Kobieta</td>\n",
       "      <td>Polska</td>\n",
       "      <td>164</td>\n",
       "    </tr>\n",
       "    <tr>\n",
       "      <th>118</th>\n",
       "      <td>Kobieta</td>\n",
       "      <td>Polska</td>\n",
       "      <td>158</td>\n",
       "    </tr>\n",
       "    <tr>\n",
       "      <th>119</th>\n",
       "      <td>Kobieta</td>\n",
       "      <td>Polska</td>\n",
       "      <td>151</td>\n",
       "    </tr>\n",
       "  </tbody>\n",
       "</table>\n",
       "</div>"
      ],
      "text/plain": [
       "        Płeć Pochodzenie  Wzrost\n",
       "90   Kobieta      Polska     162\n",
       "91   Kobieta      Polska     178\n",
       "92   Kobieta      Polska     171\n",
       "93   Kobieta      Polska     179\n",
       "94   Kobieta      Polska     174\n",
       "95   Kobieta      Polska     175\n",
       "96   Kobieta      Polska     173\n",
       "97   Kobieta      Polska     165\n",
       "98   Kobieta      Polska     153\n",
       "99   Kobieta      Polska     160\n",
       "100  Kobieta      Polska     158\n",
       "101  Kobieta      Polska     165\n",
       "102  Kobieta      Polska     158\n",
       "103  Kobieta      Polska     177\n",
       "104  Kobieta      Polska     175\n",
       "105  Kobieta      Polska     168\n",
       "106  Kobieta      Polska     167\n",
       "107  Kobieta      Polska     148\n",
       "108  Kobieta      Polska     160\n",
       "109  Kobieta      Polska     169\n",
       "110  Kobieta      Polska     163\n",
       "111  Kobieta      Polska     176\n",
       "112  Kobieta      Polska     161\n",
       "113  Kobieta      Polska     157\n",
       "114  Kobieta      Polska     165\n",
       "115  Kobieta      Polska     170\n",
       "116  Kobieta      Polska     174\n",
       "117  Kobieta      Polska     164\n",
       "118  Kobieta      Polska     158\n",
       "119  Kobieta      Polska     151"
      ]
     },
     "execution_count": 55,
     "metadata": {},
     "output_type": "execute_result"
    }
   ],
   "source": [
    "dane.groupby(['Płeć','Pochodzenie']).get_group(('Kobieta', 'Polska'))"
   ]
  },
  {
   "cell_type": "markdown",
   "metadata": {
    "collapsed": true
   },
   "source": [
    " "
   ]
  },
  {
   "cell_type": "markdown",
   "metadata": {
    "collapsed": true
   },
   "source": [
    "Wracając jeszcze na chwilę do możliwości wykonywania operacji na pogrupowanych obiektach.  \n",
    "Powyżej widzieliśmy zastosowanie metody **.mean( )**, ale dostępne są też różne inne metody, np. sumowanie, wyliczanie odchylenia standardowego, minimalnych i maksymalnych elementów itd. Ich pełną listę można znaleźć w dokumentacji pandas. Poniżej przykład podliczania ilości elementów."
   ]
  },
  {
   "cell_type": "code",
   "execution_count": 56,
   "metadata": {
    "collapsed": false
   },
   "outputs": [
    {
     "data": {
      "text/html": [
       "<div>\n",
       "<table border=\"1\" class=\"dataframe\">\n",
       "  <thead>\n",
       "    <tr style=\"text-align: right;\">\n",
       "      <th></th>\n",
       "      <th></th>\n",
       "      <th>Wzrost</th>\n",
       "    </tr>\n",
       "    <tr>\n",
       "      <th>Płeć</th>\n",
       "      <th>Pochodzenie</th>\n",
       "      <th></th>\n",
       "    </tr>\n",
       "  </thead>\n",
       "  <tbody>\n",
       "    <tr>\n",
       "      <th rowspan=\"2\" valign=\"top\">Kobieta</th>\n",
       "      <th>Hollywood</th>\n",
       "      <td>30</td>\n",
       "    </tr>\n",
       "    <tr>\n",
       "      <th>Polska</th>\n",
       "      <td>30</td>\n",
       "    </tr>\n",
       "    <tr>\n",
       "      <th rowspan=\"2\" valign=\"top\">Mężczyzna</th>\n",
       "      <th>Hollywood</th>\n",
       "      <td>30</td>\n",
       "    </tr>\n",
       "    <tr>\n",
       "      <th>Polska</th>\n",
       "      <td>30</td>\n",
       "    </tr>\n",
       "  </tbody>\n",
       "</table>\n",
       "</div>"
      ],
      "text/plain": [
       "                       Wzrost\n",
       "Płeć      Pochodzenie        \n",
       "Kobieta   Hollywood        30\n",
       "          Polska           30\n",
       "Mężczyzna Hollywood        30\n",
       "          Polska           30"
      ]
     },
     "execution_count": 56,
     "metadata": {},
     "output_type": "execute_result"
    }
   ],
   "source": [
    "dane.groupby(['Płeć','Pochodzenie']).count()"
   ]
  },
  {
   "cell_type": "markdown",
   "metadata": {
    "collapsed": true
   },
   "source": [
    "W tym kontekście użyteczna jest metoda <b>.aggregate( )</b> lub w wersji skróconej <b>.agg( )</b>. Jeśli przekażemy im jeden argument, efekt będzie bardzo podobny do powyższego z tą różnicą, że możemy tu użyć dowolnej funkcji dostępnej w pythonie, która poradzi sobie ze zbiorem danych.\n",
    "Poniżej widzimy działanie funkcji **max** z pakietu Numpy, która wyświetla największy argument w danym zbiorze."
   ]
  },
  {
   "cell_type": "code",
   "execution_count": 58,
   "metadata": {
    "collapsed": false
   },
   "outputs": [
    {
     "data": {
      "text/html": [
       "<div>\n",
       "<table border=\"1\" class=\"dataframe\">\n",
       "  <thead>\n",
       "    <tr style=\"text-align: right;\">\n",
       "      <th></th>\n",
       "      <th></th>\n",
       "      <th>Wzrost</th>\n",
       "    </tr>\n",
       "    <tr>\n",
       "      <th>Płeć</th>\n",
       "      <th>Pochodzenie</th>\n",
       "      <th></th>\n",
       "    </tr>\n",
       "  </thead>\n",
       "  <tbody>\n",
       "    <tr>\n",
       "      <th rowspan=\"2\" valign=\"top\">Kobieta</th>\n",
       "      <th>Hollywood</th>\n",
       "      <td>180</td>\n",
       "    </tr>\n",
       "    <tr>\n",
       "      <th>Polska</th>\n",
       "      <td>179</td>\n",
       "    </tr>\n",
       "    <tr>\n",
       "      <th rowspan=\"2\" valign=\"top\">Mężczyzna</th>\n",
       "      <th>Hollywood</th>\n",
       "      <td>193</td>\n",
       "    </tr>\n",
       "    <tr>\n",
       "      <th>Polska</th>\n",
       "      <td>206</td>\n",
       "    </tr>\n",
       "  </tbody>\n",
       "</table>\n",
       "</div>"
      ],
      "text/plain": [
       "                       Wzrost\n",
       "Płeć      Pochodzenie        \n",
       "Kobieta   Hollywood       180\n",
       "          Polska          179\n",
       "Mężczyzna Hollywood       193\n",
       "          Polska          206"
      ]
     },
     "execution_count": 58,
     "metadata": {},
     "output_type": "execute_result"
    }
   ],
   "source": [
    "dane.groupby(['Płeć','Pochodzenie']).aggregate(np.max)"
   ]
  },
  {
   "cell_type": "markdown",
   "metadata": {
    "collapsed": true
   },
   "source": [
    "Nie musimy się jednak ograniczać tylko do jednej funkcji, możemy przekazać ich kilka w liście."
   ]
  },
  {
   "cell_type": "code",
   "execution_count": 63,
   "metadata": {
    "collapsed": false
   },
   "outputs": [
    {
     "data": {
      "text/html": [
       "<div>\n",
       "<table border=\"1\" class=\"dataframe\">\n",
       "  <thead>\n",
       "    <tr>\n",
       "      <th></th>\n",
       "      <th></th>\n",
       "      <th colspan=\"3\" halign=\"left\">Wzrost</th>\n",
       "    </tr>\n",
       "    <tr>\n",
       "      <th></th>\n",
       "      <th></th>\n",
       "      <th>amax</th>\n",
       "      <th>amin</th>\n",
       "      <th>median</th>\n",
       "    </tr>\n",
       "    <tr>\n",
       "      <th>Płeć</th>\n",
       "      <th>Pochodzenie</th>\n",
       "      <th></th>\n",
       "      <th></th>\n",
       "      <th></th>\n",
       "    </tr>\n",
       "  </thead>\n",
       "  <tbody>\n",
       "    <tr>\n",
       "      <th rowspan=\"2\" valign=\"top\">Kobieta</th>\n",
       "      <th>Hollywood</th>\n",
       "      <td>180</td>\n",
       "      <td>157</td>\n",
       "      <td>169</td>\n",
       "    </tr>\n",
       "    <tr>\n",
       "      <th>Polska</th>\n",
       "      <td>179</td>\n",
       "      <td>148</td>\n",
       "      <td>165</td>\n",
       "    </tr>\n",
       "    <tr>\n",
       "      <th rowspan=\"2\" valign=\"top\">Mężczyzna</th>\n",
       "      <th>Hollywood</th>\n",
       "      <td>193</td>\n",
       "      <td>170</td>\n",
       "      <td>183</td>\n",
       "    </tr>\n",
       "    <tr>\n",
       "      <th>Polska</th>\n",
       "      <td>206</td>\n",
       "      <td>159</td>\n",
       "      <td>177</td>\n",
       "    </tr>\n",
       "  </tbody>\n",
       "</table>\n",
       "</div>"
      ],
      "text/plain": [
       "                      Wzrost            \n",
       "                        amax amin median\n",
       "Płeć      Pochodzenie                   \n",
       "Kobieta   Hollywood      180  157    169\n",
       "          Polska         179  148    165\n",
       "Mężczyzna Hollywood      193  170    183\n",
       "          Polska         206  159    177"
      ]
     },
     "execution_count": 63,
     "metadata": {},
     "output_type": "execute_result"
    }
   ],
   "source": [
    "dane.groupby(['Płeć','Pochodzenie']).aggregate([np.max, np.min, np.median])"
   ]
  },
  {
   "cell_type": "markdown",
   "metadata": {},
   "source": [
    "<a href='#top' style='float: right; font-size: 13px;'>Do początku</a>"
   ]
  },
  {
   "cell_type": "markdown",
   "metadata": {
    "collapsed": true
   },
   "source": [
    " "
   ]
  },
  {
   "cell_type": "markdown",
   "metadata": {
    "collapsed": true
   },
   "source": [
    " "
   ]
  },
  {
   "cell_type": "markdown",
   "metadata": {
    "collapsed": true
   },
   "source": [
    "## Podstawowe analizy"
   ]
  },
  {
   "cell_type": "markdown",
   "metadata": {
    "collapsed": true
   },
   "source": [
    "Pakiet pandas służy przede wszystkim do organizacji i manipulowania danymi tabularycznymi. Posiada trochę podstawowych funkcji wizualizacyjnych czy statystycznych, jeśli jednak chcemy wykonać nawet podstawowe testy, musimy skorzystać z innych pakietów.  \n",
    "Jednym z takich pakietów jest SciPy, biblioteka przeznaczona do różnych zastosowań naukowych. My skorzystamy z modułu stats."
   ]
  },
  {
   "cell_type": "code",
   "execution_count": 65,
   "metadata": {
    "collapsed": true
   },
   "outputs": [],
   "source": [
    "import scipy.stats as st"
   ]
  },
  {
   "cell_type": "markdown",
   "metadata": {
    "collapsed": true
   },
   "source": [
    "Najbardziej popularnym testem statystycznym jest niewątpliwie **test t**, dzięki któremu możemy oszacować prawdopodobieństwo, z jakim dwie próby pochodzą z tej samej populacji. Nasze dane pozwalają na kilka prostych porównań, dlatego spróbujemy zobaczyć czy możemy uznać, że różne nasze podgrupy są od siebie różne czy nie."
   ]
  },
  {
   "cell_type": "markdown",
   "metadata": {
    "collapsed": true
   },
   "source": [
    "Spróbujmy najpierw zobaczyć czy kobiety i mężczyźni różnią się wzrostem. Zacznijmy od wyboru odpowiednich grup."
   ]
  },
  {
   "cell_type": "code",
   "execution_count": 99,
   "metadata": {
    "collapsed": false
   },
   "outputs": [],
   "source": [
    "test = pd.DataFrame({'mezczyzni':dane.loc[dane['Płeć']=='Mężczyzna','Wzrost'].values})\n",
    "test['kobiety'] = dane.loc[dane['Płeć']=='Kobieta','Wzrost'].values"
   ]
  },
  {
   "cell_type": "code",
   "execution_count": 100,
   "metadata": {
    "collapsed": false,
    "scrolled": true
   },
   "outputs": [
    {
     "data": {
      "text/html": [
       "<div>\n",
       "<table border=\"1\" class=\"dataframe\">\n",
       "  <thead>\n",
       "    <tr style=\"text-align: right;\">\n",
       "      <th></th>\n",
       "      <th>mezczyzni</th>\n",
       "      <th>kobiety</th>\n",
       "    </tr>\n",
       "  </thead>\n",
       "  <tbody>\n",
       "    <tr>\n",
       "      <th>0</th>\n",
       "      <td>174</td>\n",
       "      <td>168</td>\n",
       "    </tr>\n",
       "    <tr>\n",
       "      <th>1</th>\n",
       "      <td>170</td>\n",
       "      <td>157</td>\n",
       "    </tr>\n",
       "    <tr>\n",
       "      <th>2</th>\n",
       "      <td>177</td>\n",
       "      <td>160</td>\n",
       "    </tr>\n",
       "    <tr>\n",
       "      <th>3</th>\n",
       "      <td>177</td>\n",
       "      <td>177</td>\n",
       "    </tr>\n",
       "    <tr>\n",
       "      <th>4</th>\n",
       "      <td>178</td>\n",
       "      <td>169</td>\n",
       "    </tr>\n",
       "    <tr>\n",
       "      <th>5</th>\n",
       "      <td>189</td>\n",
       "      <td>174</td>\n",
       "    </tr>\n",
       "    <tr>\n",
       "      <th>6</th>\n",
       "      <td>183</td>\n",
       "      <td>175</td>\n",
       "    </tr>\n",
       "    <tr>\n",
       "      <th>7</th>\n",
       "      <td>183</td>\n",
       "      <td>168</td>\n",
       "    </tr>\n",
       "    <tr>\n",
       "      <th>8</th>\n",
       "      <td>193</td>\n",
       "      <td>169</td>\n",
       "    </tr>\n",
       "    <tr>\n",
       "      <th>9</th>\n",
       "      <td>182</td>\n",
       "      <td>171</td>\n",
       "    </tr>\n",
       "    <tr>\n",
       "      <th>10</th>\n",
       "      <td>185</td>\n",
       "      <td>165</td>\n",
       "    </tr>\n",
       "    <tr>\n",
       "      <th>11</th>\n",
       "      <td>175</td>\n",
       "      <td>173</td>\n",
       "    </tr>\n",
       "    <tr>\n",
       "      <th>12</th>\n",
       "      <td>183</td>\n",
       "      <td>168</td>\n",
       "    </tr>\n",
       "    <tr>\n",
       "      <th>13</th>\n",
       "      <td>178</td>\n",
       "      <td>168</td>\n",
       "    </tr>\n",
       "    <tr>\n",
       "      <th>14</th>\n",
       "      <td>185</td>\n",
       "      <td>170</td>\n",
       "    </tr>\n",
       "    <tr>\n",
       "      <th>15</th>\n",
       "      <td>184</td>\n",
       "      <td>161</td>\n",
       "    </tr>\n",
       "    <tr>\n",
       "      <th>16</th>\n",
       "      <td>179</td>\n",
       "      <td>163</td>\n",
       "    </tr>\n",
       "    <tr>\n",
       "      <th>17</th>\n",
       "      <td>178</td>\n",
       "      <td>170</td>\n",
       "    </tr>\n",
       "    <tr>\n",
       "      <th>18</th>\n",
       "      <td>183</td>\n",
       "      <td>170</td>\n",
       "    </tr>\n",
       "    <tr>\n",
       "      <th>19</th>\n",
       "      <td>187</td>\n",
       "      <td>165</td>\n",
       "    </tr>\n",
       "    <tr>\n",
       "      <th>20</th>\n",
       "      <td>183</td>\n",
       "      <td>171</td>\n",
       "    </tr>\n",
       "    <tr>\n",
       "      <th>21</th>\n",
       "      <td>180</td>\n",
       "      <td>163</td>\n",
       "    </tr>\n",
       "    <tr>\n",
       "      <th>22</th>\n",
       "      <td>189</td>\n",
       "      <td>169</td>\n",
       "    </tr>\n",
       "    <tr>\n",
       "      <th>23</th>\n",
       "      <td>185</td>\n",
       "      <td>161</td>\n",
       "    </tr>\n",
       "    <tr>\n",
       "      <th>24</th>\n",
       "      <td>189</td>\n",
       "      <td>180</td>\n",
       "    </tr>\n",
       "    <tr>\n",
       "      <th>25</th>\n",
       "      <td>193</td>\n",
       "      <td>175</td>\n",
       "    </tr>\n",
       "    <tr>\n",
       "      <th>26</th>\n",
       "      <td>178</td>\n",
       "      <td>180</td>\n",
       "    </tr>\n",
       "    <tr>\n",
       "      <th>27</th>\n",
       "      <td>184</td>\n",
       "      <td>160</td>\n",
       "    </tr>\n",
       "    <tr>\n",
       "      <th>28</th>\n",
       "      <td>170</td>\n",
       "      <td>164</td>\n",
       "    </tr>\n",
       "    <tr>\n",
       "      <th>29</th>\n",
       "      <td>189</td>\n",
       "      <td>178</td>\n",
       "    </tr>\n",
       "    <tr>\n",
       "      <th>30</th>\n",
       "      <td>177</td>\n",
       "      <td>162</td>\n",
       "    </tr>\n",
       "    <tr>\n",
       "      <th>31</th>\n",
       "      <td>188</td>\n",
       "      <td>178</td>\n",
       "    </tr>\n",
       "    <tr>\n",
       "      <th>32</th>\n",
       "      <td>177</td>\n",
       "      <td>171</td>\n",
       "    </tr>\n",
       "    <tr>\n",
       "      <th>33</th>\n",
       "      <td>164</td>\n",
       "      <td>179</td>\n",
       "    </tr>\n",
       "    <tr>\n",
       "      <th>34</th>\n",
       "      <td>172</td>\n",
       "      <td>174</td>\n",
       "    </tr>\n",
       "    <tr>\n",
       "      <th>35</th>\n",
       "      <td>177</td>\n",
       "      <td>175</td>\n",
       "    </tr>\n",
       "    <tr>\n",
       "      <th>36</th>\n",
       "      <td>185</td>\n",
       "      <td>173</td>\n",
       "    </tr>\n",
       "    <tr>\n",
       "      <th>37</th>\n",
       "      <td>169</td>\n",
       "      <td>165</td>\n",
       "    </tr>\n",
       "    <tr>\n",
       "      <th>38</th>\n",
       "      <td>185</td>\n",
       "      <td>153</td>\n",
       "    </tr>\n",
       "    <tr>\n",
       "      <th>39</th>\n",
       "      <td>188</td>\n",
       "      <td>160</td>\n",
       "    </tr>\n",
       "    <tr>\n",
       "      <th>40</th>\n",
       "      <td>159</td>\n",
       "      <td>158</td>\n",
       "    </tr>\n",
       "    <tr>\n",
       "      <th>41</th>\n",
       "      <td>166</td>\n",
       "      <td>165</td>\n",
       "    </tr>\n",
       "    <tr>\n",
       "      <th>42</th>\n",
       "      <td>174</td>\n",
       "      <td>158</td>\n",
       "    </tr>\n",
       "    <tr>\n",
       "      <th>43</th>\n",
       "      <td>171</td>\n",
       "      <td>177</td>\n",
       "    </tr>\n",
       "    <tr>\n",
       "      <th>44</th>\n",
       "      <td>180</td>\n",
       "      <td>175</td>\n",
       "    </tr>\n",
       "    <tr>\n",
       "      <th>45</th>\n",
       "      <td>178</td>\n",
       "      <td>168</td>\n",
       "    </tr>\n",
       "    <tr>\n",
       "      <th>46</th>\n",
       "      <td>188</td>\n",
       "      <td>167</td>\n",
       "    </tr>\n",
       "    <tr>\n",
       "      <th>47</th>\n",
       "      <td>190</td>\n",
       "      <td>148</td>\n",
       "    </tr>\n",
       "    <tr>\n",
       "      <th>48</th>\n",
       "      <td>177</td>\n",
       "      <td>160</td>\n",
       "    </tr>\n",
       "    <tr>\n",
       "      <th>49</th>\n",
       "      <td>167</td>\n",
       "      <td>169</td>\n",
       "    </tr>\n",
       "    <tr>\n",
       "      <th>50</th>\n",
       "      <td>167</td>\n",
       "      <td>163</td>\n",
       "    </tr>\n",
       "    <tr>\n",
       "      <th>51</th>\n",
       "      <td>181</td>\n",
       "      <td>176</td>\n",
       "    </tr>\n",
       "    <tr>\n",
       "      <th>52</th>\n",
       "      <td>177</td>\n",
       "      <td>161</td>\n",
       "    </tr>\n",
       "    <tr>\n",
       "      <th>53</th>\n",
       "      <td>176</td>\n",
       "      <td>157</td>\n",
       "    </tr>\n",
       "    <tr>\n",
       "      <th>54</th>\n",
       "      <td>170</td>\n",
       "      <td>165</td>\n",
       "    </tr>\n",
       "    <tr>\n",
       "      <th>55</th>\n",
       "      <td>192</td>\n",
       "      <td>170</td>\n",
       "    </tr>\n",
       "    <tr>\n",
       "      <th>56</th>\n",
       "      <td>171</td>\n",
       "      <td>174</td>\n",
       "    </tr>\n",
       "    <tr>\n",
       "      <th>57</th>\n",
       "      <td>206</td>\n",
       "      <td>164</td>\n",
       "    </tr>\n",
       "    <tr>\n",
       "      <th>58</th>\n",
       "      <td>191</td>\n",
       "      <td>158</td>\n",
       "    </tr>\n",
       "    <tr>\n",
       "      <th>59</th>\n",
       "      <td>181</td>\n",
       "      <td>151</td>\n",
       "    </tr>\n",
       "  </tbody>\n",
       "</table>\n",
       "</div>"
      ],
      "text/plain": [
       "    mezczyzni  kobiety\n",
       "0         174      168\n",
       "1         170      157\n",
       "2         177      160\n",
       "3         177      177\n",
       "4         178      169\n",
       "5         189      174\n",
       "6         183      175\n",
       "7         183      168\n",
       "8         193      169\n",
       "9         182      171\n",
       "10        185      165\n",
       "11        175      173\n",
       "12        183      168\n",
       "13        178      168\n",
       "14        185      170\n",
       "15        184      161\n",
       "16        179      163\n",
       "17        178      170\n",
       "18        183      170\n",
       "19        187      165\n",
       "20        183      171\n",
       "21        180      163\n",
       "22        189      169\n",
       "23        185      161\n",
       "24        189      180\n",
       "25        193      175\n",
       "26        178      180\n",
       "27        184      160\n",
       "28        170      164\n",
       "29        189      178\n",
       "30        177      162\n",
       "31        188      178\n",
       "32        177      171\n",
       "33        164      179\n",
       "34        172      174\n",
       "35        177      175\n",
       "36        185      173\n",
       "37        169      165\n",
       "38        185      153\n",
       "39        188      160\n",
       "40        159      158\n",
       "41        166      165\n",
       "42        174      158\n",
       "43        171      177\n",
       "44        180      175\n",
       "45        178      168\n",
       "46        188      167\n",
       "47        190      148\n",
       "48        177      160\n",
       "49        167      169\n",
       "50        167      163\n",
       "51        181      176\n",
       "52        177      161\n",
       "53        176      157\n",
       "54        170      165\n",
       "55        192      170\n",
       "56        171      174\n",
       "57        206      164\n",
       "58        191      158\n",
       "59        181      151"
      ]
     },
     "execution_count": 100,
     "metadata": {},
     "output_type": "execute_result"
    }
   ],
   "source": [
    "test"
   ]
  },
  {
   "cell_type": "code",
   "execution_count": 101,
   "metadata": {
    "collapsed": false
   },
   "outputs": [
    {
     "data": {
      "text/plain": [
       "<matplotlib.axes._subplots.AxesSubplot at 0x1f391b16908>"
      ]
     },
     "execution_count": 101,
     "metadata": {},
     "output_type": "execute_result"
    },
    {
     "data": {
      "image/png": "[encoded data removed]",
      "text/plain": [
       "<matplotlib.figure.Figure at 0x1f391b165c0>"
      ]
     },
     "metadata": {},
     "output_type": "display_data"
    }
   ],
   "source": [
    "test.boxplot()"
   ]
  },
  {
   "cell_type": "markdown",
   "metadata": {
    "collapsed": true
   },
   "source": [
    "Odpowiedni dla naszej sytuacji jest test t dla próbek indywidualnych. Właściwa funkcja użyta jest poniżej.  \n",
    "Jedyne, co musimy jej przekazać to zmienne zawierające poszczególne grupy, które chcemy porównać."
   ]
  },
  {
   "cell_type": "code",
   "execution_count": 102,
   "metadata": {
    "collapsed": false
   },
   "outputs": [
    {
     "data": {
      "text/plain": [
       "Ttest_indResult(statistic=8.8412658187732376, pvalue=1.0853094112898635e-14)"
      ]
     },
     "execution_count": 102,
     "metadata": {},
     "output_type": "execute_result"
    }
   ],
   "source": [
    "st.ttest_ind(test.mezczyzni,test.kobiety)"
   ]
  },
  {
   "cell_type": "markdown",
   "metadata": {
    "collapsed": true
   },
   "source": []
  },
  {
   "cell_type": "markdown",
   "metadata": {
    "collapsed": true
   },
   "source": []
  },
  {
   "cell_type": "code",
   "execution_count": 103,
   "metadata": {
    "collapsed": true
   },
   "outputs": [],
   "source": [
    "from statsmodels.formula.api import ols\n",
    "from statsmodels.stats.anova import anova_lm"
   ]
  },
  {
   "cell_type": "code",
   "execution_count": 104,
   "metadata": {
    "collapsed": true
   },
   "outputs": [],
   "source": [
    "formula = 'Wzrost ~ C(Płeć) + C(Pochodzenie) + C(Płeć):C(Pochodzenie)'\n",
    "model = ols(formula, dane).fit()\n",
    "aov_table = anova_lm(model, typ=2)"
   ]
  },
  {
   "cell_type": "code",
   "execution_count": 105,
   "metadata": {
    "collapsed": false
   },
   "outputs": [
    {
     "name": "stdout",
     "output_type": "stream",
     "text": [
      "                             sum_sq     df          F        PR(>F)\n",
      "C(Płeć)                 4953.675000    1.0  80.787258  5.542497e-15\n",
      "C(Pochodzenie)           357.075000    1.0   5.823376  1.738007e-02\n",
      "C(Płeć):C(Pochodzenie)     8.008333    1.0   0.130604  7.184637e-01\n",
      "Residual                7112.833333  116.0        NaN           NaN\n"
     ]
    }
   ],
   "source": [
    "print(aov_table)"
   ]
  },
  {
   "cell_type": "code",
   "execution_count": 108,
   "metadata": {
    "collapsed": true
   },
   "outputs": [],
   "source": [
    "import statsmodels.api as sm"
   ]
  },
  {
   "cell_type": "code",
   "execution_count": 113,
   "metadata": {
    "collapsed": false
   },
   "outputs": [
    {
     "data": {
      "image/png": "[encoded data removed]",
      "text/plain": [
       "<matplotlib.figure.Figure at 0x1f39229a438>"
      ]
     },
     "metadata": {},
     "output_type": "display_data"
    }
   ],
   "source": [
    "res = model.resid\n",
    "fig = sm.qqplot(res, line='s')"
   ]
  },
  {
   "cell_type": "markdown",
   "metadata": {
    "collapsed": true
   },
   "source": []
  },
  {
   "cell_type": "markdown",
   "metadata": {
    "collapsed": true
   },
   "source": []
  },
  {
   "cell_type": "markdown",
   "metadata": {
    "collapsed": true
   },
   "source": []
  },
  {
   "cell_type": "markdown",
   "metadata": {
    "collapsed": true
   },
   "source": []
  },
  {
   "cell_type": "markdown",
   "metadata": {
    "collapsed": true
   },
   "source": []
  },
  {
   "cell_type": "markdown",
   "metadata": {
    "collapsed": true
   },
   "source": []
  },
  {
   "cell_type": "markdown",
   "metadata": {
    "collapsed": true
   },
   "source": []
  },
  {
   "cell_type": "markdown",
   "metadata": {
    "collapsed": true
   },
   "source": []
  },
  {
   "cell_type": "markdown",
   "metadata": {
    "collapsed": true
   },
   "source": []
  },
  {
   "cell_type": "markdown",
   "metadata": {
    "collapsed": true
   },
   "source": []
  },
  {
   "cell_type": "markdown",
   "metadata": {
    "collapsed": true
   },
   "source": []
  },
  {
   "cell_type": "markdown",
   "metadata": {
    "collapsed": true
   },
   "source": []
  },
  {
   "cell_type": "markdown",
   "metadata": {},
   "source": [
    "<a href='#top' style='float: right; font-size: 13px;'>Do początku</a>"
   ]
  },
  {
   "cell_type": "markdown",
   "metadata": {},
   "source": [
    " "
   ]
  },
  {
   "cell_type": "markdown",
   "metadata": {
    "collapsed": true
   },
   "source": [
    " "
   ]
  },
  {
   "cell_type": "markdown",
   "metadata": {},
   "source": [
    "## Materiały do dalszej nauki"
   ]
  },
  {
   "cell_type": "markdown",
   "metadata": {},
   "source": [
    "Pakiet pandas dysponuje dużo większymi możliwościami, niż przedstawione tutaj. Poniżej zebrałem kilka zasobów internetowych, które są dla mnie najbardziej przydatne przy pracy z tym pakietem."
   ]
  },
  {
   "cell_type": "markdown",
   "metadata": {},
   "source": [
    " "
   ]
  },
  {
   "cell_type": "markdown",
   "metadata": {},
   "source": [
    "Najważniejszym źródłem informacji zawsze jest <a href=\"http://pandas.pydata.org/pandas-docs/stable/index.html\">**Oficjalna dokumentacja**</a>, a pakiet pandas jest bardzo dobrze opisany.  \n",
    "Szczególnie przydatny jest szybki przegląd najważniejszych funkcji pandas <a href=\"http://pandas.pydata.org/pandas-docs/stable/10min.html\">**na tej podstronie**</a>. W innych zakładkach najdziecie też bardziej rozbudowane przeglądy, tutoriale, zbiory gotowych \"przepisów\" na osiągnięcie konkretnych, bardziej złożonych rezultatów.\n",
    "\n",
    "Podstawowe informacje o tym, jak wykonywać bazowe operacje można mieć zawsze pod ręką w postaci tzw. cheatsheet'a.  \n",
    "Tutaj znajdziecie <a href=\"https://github.com/pandas-dev/pandas/raw/master/doc/cheatsheet/Pandas_Cheat_Sheet.pdf\">**ten oficjalny**</a>.  \n",
    "Tutaj natomiast wersja przygotowana przez <a href=\"https://assets.datacamp.com/blog_assets/PandasPythonForDataScience.pdf\">**portal DataCamp**</a>."
   ]
  },
  {
   "cell_type": "markdown",
   "metadata": {},
   "source": [
    " "
   ]
  },
  {
   "cell_type": "markdown",
   "metadata": {},
   "source": [
    "### Filmy tutorialowe"
   ]
  },
  {
   "cell_type": "markdown",
   "metadata": {},
   "source": [
    "Osobiście jestem wielkim fanem tutoriali w formie wideo, których sporo można znaleźć na Youtube. Z każdym rokiem pojawia się ich coraz więcej, bo bardzo często są elementem konrefencji poświęconych Pythonowi czy analizie danych. Bez problemu można je wyszukać w samym serwisie, poniżej jednak wrzucę Wam kilka linków do moich ulubionych."
   ]
  },
  {
   "cell_type": "markdown",
   "metadata": {},
   "source": [
    "Bardzo dobrze prowadzony <a href=\"https://youtu.be/5JnMutdy6Fw\">**tutorial Brandona Rhodesa**</a> z 2015 roku. Z tego powodu nie ma w nim nowych funkcji, ale podstawowe operacje są ciągle aktualne i dokładnie wytłumaczone. W opisie nagrania są linki do materiałów użytych w tutorialu (tak będzie też dla prawie wszystkich materiałów wideo poniżej)."
   ]
  },
  {
   "cell_type": "markdown",
   "metadata": {},
   "source": [
    "<a href=\"https://youtu.be/6ohWS7J1hVA\">**Tutorial Johnatana Rochera**</a> z 2016 roku ma trochę szybsze tempo i porusza więcej kwestii, niemniej ciągle jest skierowany do początkujących, więc nie powinniście mieć problemu ze śledzeniem akcji."
   ]
  },
  {
   "cell_type": "markdown",
   "metadata": {},
   "source": [
    "Najnowszy <a href=\"https://youtu.be/dye7rDktJ2E\">**tutorial Daniela Chena**</a> jest trochę krótszy niż poprzednie i odwołuje się do prawie najnowszej wersji pandas."
   ]
  },
  {
   "cell_type": "markdown",
   "metadata": {},
   "source": [
    "Dla osób, które będą się czuć w pandas bardziej swobodnie, warty obejrzenia jest <a href=\"https://youtu.be/7vuO9QXDN50\">**tutorial Toma Augspurgera**</a>. Choć zaczyna się dość podstawowo, poziom skomplikowania dość szybko rośnie, dzięki czemu można zobaczyć bardziej zaawansowane rzeczy, które można zrobić w tym pakiecie."
   ]
  },
  {
   "cell_type": "markdown",
   "metadata": {},
   "source": [
    " "
   ]
  },
  {
   "cell_type": "markdown",
   "metadata": {},
   "source": [
    "### Tutoriale pisane"
   ]
  },
  {
   "cell_type": "markdown",
   "metadata": {},
   "source": [
    "Podobnie ma się sytuacja z materiałami pisanymi. Pojawia się coraz więcej przewodników po pandas, dlatego też zostawię tutaj tylko kilka przykładów, z których albo korzystałem sam, albo wydały mi się dobre na początek przygody z tym pakietem."
   ]
  },
  {
   "cell_type": "markdown",
   "metadata": {},
   "source": [
    "Dwuczęściowy tutorial autorstwa Vika Paruchuri:  \n",
    "<a href=\"https://www.dataquest.io/blog/pandas-python-tutorial/\">**Część 1**</a>,\n",
    "<a href=\"https://www.dataquest.io/blog/pandas-tutorial-python-2/\">**Część 2**</a>."
   ]
  },
  {
   "cell_type": "markdown",
   "metadata": {},
   "source": [
    "Bardzo rozbudowany <a href=\"http://nbviewer.jupyter.org/github/fonnesbeck/Bios8366/tree/master/notebooks/\">**tutorial Chrisa Fonnesbecka**</a> powiązany z kursem zaawansowanego przetwarzania danych w pythonie. Notatniki z sekcji drugiej dotyczą różnych aspektów obsługi pakietu pandas i zawierają sporo materiałów wykraczających poza treści omawiane tutaj. "
   ]
  },
  {
   "cell_type": "markdown",
   "metadata": {},
   "source": [
    "Całkiem rozbudowany <a href=\"http://tomaugspurger.github.io/modern-1.html\">**tutorial**</a> wspomnianego wcześniej Toma Augspurgera. Tutaj również znajdziecie trochę bardziej zaawansowanych materiałów."
   ]
  },
  {
   "cell_type": "markdown",
   "metadata": {},
   "source": [
    "<a href='#top' style='float: right; font-size: 13px;'>Do początku</a>"
   ]
  },
  {
   "cell_type": "markdown",
   "metadata": {},
   "source": [
    " "
   ]
  },
  {
   "cell_type": "code",
   "execution_count": 64,
   "metadata": {
    "collapsed": false
   },
   "outputs": [
    {
     "data": {
      "text/html": [
       "<style>\n",
       "@import url(http://fonts.googleapis.com/css?family=Titillium+Web:400,700,800,400italic&subset=latin-ext,latin);\n",
       "@import url(http://fonts.googleapis.com/css?family=Anonymous+Pro:400,700,800,400italic&subset=latin-ext,latin);\n",
       "\n",
       ".filename {\n",
       "    font-family: Titillium Web;\n",
       "    font-variant: small-caps;\n",
       "    letter-spacing: 0.1em;\n",
       "}\n",
       "\n",
       "b {\n",
       "    color: #cc0000;\n",
       "}\n",
       "\n",
       "em {\n",
       "    color:#0000cc;\n",
       "}\n",
       "\n",
       "ul {\n",
       "\tlist-style-type: square !important;\n",
       "}\n",
       "\n",
       ".rendered_html ul li {\n",
       "\tfont-size: 8px;\n",
       "}\n",
       "\n",
       "li span {\n",
       "\tfont-size: 14px;\n",
       "}\n",
       "\n",
       "/* tekst w markdown */\n",
       ".rendered_html {\n",
       "    font-family: Titillium Web, serif;\n",
       "    }\n",
       "\n",
       ".rendered_html p {\n",
       "    font-size: 16px;\n",
       "    text-align: justify;\n",
       "    text-decoration: none;\n",
       "    }\n",
       "\n",
       ".rendered_html :link {\n",
       "    text-decoration: none;\n",
       "    }\n",
       "\n",
       ".rendered_html :visited {\n",
       "    text-decoration: none;\n",
       "    }\n",
       "    \n",
       "/* tekst w code cell */\n",
       ".code_cell {\n",
       "    font-family: Anonymous Pro, monospace;\n",
       "    font-size: 14px;\n",
       "    }\n",
       "\n",
       "code, pre, .CodeMirror {\n",
       "    font-family: Anonymous Pro, monospace;\n",
       "    font-size: 14px;\n",
       "}\n",
       "\n",
       "</style>"
      ],
      "text/plain": [
       "<IPython.core.display.HTML object>"
      ]
     },
     "execution_count": 64,
     "metadata": {},
     "output_type": "execute_result"
    }
   ],
   "source": [
    "from IPython.core.display import HTML\n",
    "from urllib.request import urlopen\n",
    "HTML(urlopen(\"https://raw.githubusercontent.com/mkoculak/hello_world/nowa/ipython.css\").read().decode(\"utf-8\"))"
   ]
  }
 ],
 "metadata": {
  "anaconda-cloud": {},
  "kernelspec": {
   "display_name": "Python [conda root]",
   "language": "python",
   "name": "conda-root-py"
  },
  "language_info": {
   "codemirror_mode": {
    "name": "ipython",
    "version": 3
   },
   "file_extension": ".py",
   "mimetype": "text/x-python",
   "name": "python",
   "nbconvert_exporter": "python",
   "pygments_lexer": "ipython3",
   "version": "3.5.2"
  },
  "latex_envs": {
   "bibliofile": "biblio.bib",
   "cite_by": "apalike",
   "current_citInitial": 1,
   "eqLabelWithNumbers": true,
   "eqNumInitial": 0
  }
 },
 "nbformat": 4,
 "nbformat_minor": 2
}

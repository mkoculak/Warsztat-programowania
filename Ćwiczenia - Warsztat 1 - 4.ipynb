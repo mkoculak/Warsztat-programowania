{
 "cells": [
  {
   "cell_type": "markdown",
   "metadata": {},
   "source": [
    "## Warsztat 1"
   ]
  },
  {
   "cell_type": "markdown",
   "metadata": {},
   "source": [
    " "
   ]
  },
  {
   "cell_type": "markdown",
   "metadata": {},
   "source": [
    "#### Hello World"
   ]
  },
  {
   "cell_type": "markdown",
   "metadata": {},
   "source": [
    "Wypisz na konsoli poniższy tekst zachowując jego strukturę:  \n",
    "Błyszniało – szlisgich hopuch świr  \n",
    "&emsp;&emsp;Tęczując w kałdach świtrzem wre,  \n",
    "&emsp;&emsp;Mizgłupny był borolągw hyr,  \n",
    "&emsp;&emsp;Chrząszczury wlizły młe.  \n",
    "&emsp;&emsp;&emsp;&emsp;(Żabrołak, tłum. Janusz Korwin-Mikke)\n"
   ]
  },
  {
   "cell_type": "code",
   "execution_count": null,
   "metadata": {
    "collapsed": true
   },
   "outputs": [],
   "source": []
  },
  {
   "cell_type": "markdown",
   "metadata": {},
   "source": [
    " "
   ]
  },
  {
   "cell_type": "markdown",
   "metadata": {},
   "source": [
    "Wypisz na konsoli wersję pythona, z której aktualnie korzystasz. (istnieje specjalna komenda -> google search)"
   ]
  },
  {
   "cell_type": "code",
   "execution_count": null,
   "metadata": {
    "collapsed": true
   },
   "outputs": [],
   "source": []
  },
  {
   "cell_type": "markdown",
   "metadata": {},
   "source": [
    " "
   ]
  },
  {
   "cell_type": "markdown",
   "metadata": {},
   "source": [
    " "
   ]
  },
  {
   "cell_type": "markdown",
   "metadata": {
    "collapsed": true
   },
   "source": [
    "#### Kalkulator"
   ]
  },
  {
   "cell_type": "markdown",
   "metadata": {
    "collapsed": true
   },
   "source": [
    "Wisła Kraków otrzymała 32784 orzeszki ziemne w prezencie od brazylijskiego potentata. Zarząd postanowił obdzielić nimi po równo 22 piłkarzy i 9-osobowy skład trenerski. Resztę orzeszków otrzymają klubowe świnki morskie, przy czym każda może otrzymać jedynie 2 sztuki.  \n",
    "Ile świnek morskich otrzyma orzeszki w prezencie?"
   ]
  },
  {
   "cell_type": "code",
   "execution_count": null,
   "metadata": {
    "collapsed": true
   },
   "outputs": [],
   "source": []
  },
  {
   "cell_type": "markdown",
   "metadata": {},
   "source": [
    " "
   ]
  },
  {
   "cell_type": "markdown",
   "metadata": {},
   "source": [
    "Napisz program, który przyjmuje promień koła i wypisuje jego powierzchnię.  \n",
    "*Przykładowe rozwiązanie:*  \n",
    "r = 5.0  \n",
    "pole = 78.53981633974483"
   ]
  },
  {
   "cell_type": "code",
   "execution_count": null,
   "metadata": {
    "collapsed": false
   },
   "outputs": [],
   "source": []
  },
  {
   "cell_type": "markdown",
   "metadata": {},
   "source": [
    " "
   ]
  },
  {
   "cell_type": "markdown",
   "metadata": {},
   "source": [
    "Niech <b>n</b> będzie dowolną cyfrą większą od 0. Napisz program, który po podaniu n wypisze wynik następującego działania n+nn+nnn.  \n",
    "*Przykładowy wynik dla n=6:* 738\n"
   ]
  },
  {
   "cell_type": "code",
   "execution_count": null,
   "metadata": {
    "collapsed": false
   },
   "outputs": [],
   "source": []
  },
  {
   "cell_type": "markdown",
   "metadata": {},
   "source": [
    " "
   ]
  },
  {
   "cell_type": "markdown",
   "metadata": {},
   "source": [
    "Napisz program, który przyjmuje dowolną liczbę całkowitą i liczy jej odległość od liczby 23.  \n",
    "*Podpowiedź: interesuje nas wartość **absolutna** *"
   ]
  },
  {
   "cell_type": "code",
   "execution_count": null,
   "metadata": {
    "collapsed": false
   },
   "outputs": [],
   "source": []
  },
  {
   "cell_type": "markdown",
   "metadata": {},
   "source": [
    " "
   ]
  },
  {
   "cell_type": "markdown",
   "metadata": {},
   "source": [
    " "
   ]
  },
  {
   "cell_type": "markdown",
   "metadata": {
    "collapsed": true
   },
   "source": [
    "#### Zmienne"
   ]
  },
  {
   "cell_type": "markdown",
   "metadata": {
    "collapsed": true
   },
   "source": [
    "Stwórz tekstową zmienną 'nazwa', do której przypisz imię swojego trójkąta (może być Przemek, ale nie musi).  \n",
    "Następnie utwórz trzy zmienne liczbowe 'a' , 'b' oraz 'c', do których przypisz wartości całkowite charakteryzujące długość boków tego trójkąta.  \n",
    "Wypisz na konsoli zdanie: Mój trójkąt nazywa się /####/, jego wymiary to ## - ## - ##.  \n",
    "Utwórz zmienną logiczną 'pit', która przyjmie wartość True, jeśli trójkąt jest prostokątny."
   ]
  },
  {
   "cell_type": "code",
   "execution_count": null,
   "metadata": {
    "collapsed": true
   },
   "outputs": [],
   "source": []
  },
  {
   "cell_type": "markdown",
   "metadata": {},
   "source": [
    " "
   ]
  },
  {
   "cell_type": "markdown",
   "metadata": {},
   "source": [
    "Zadeklaruj dwie zmienne, a i b, przypisując im dowolną cyfrę. Następnie modyfikuj ich wartość tak, żeby obie równały się 37."
   ]
  },
  {
   "cell_type": "code",
   "execution_count": null,
   "metadata": {
    "collapsed": true
   },
   "outputs": [],
   "source": []
  },
  {
   "cell_type": "markdown",
   "metadata": {},
   "source": [
    " "
   ]
  },
  {
   "cell_type": "markdown",
   "metadata": {},
   "source": [
    "d Cohena to popularna miara wielkości efektu obserwowanego w ekperymentach. W zależności od schematu badawczego liczy się je w inny sposób.  \n",
    "Wyobraźmy sobie, że interesuje nas obliczenie d dla testu t w manipulacji wewnątrzgrupowej. Wiedząc, że wzór na d wygląda następująco:\n",
    "\n",
    "$$ d_{s}=t\\sqrt[]{\\frac{1}{n_{1}}+\\frac{1}{n_{2}}} $$\n",
    "\n",
    "Wykorzystaj dane zawarte poniżej i policz d."
   ]
  },
  {
   "cell_type": "code",
   "execution_count": null,
   "metadata": {
    "collapsed": true
   },
   "outputs": [],
   "source": [
    "t = 4.5\n",
    "n1 = 22\n",
    "n2 = 25"
   ]
  },
  {
   "cell_type": "markdown",
   "metadata": {},
   "source": [
    " "
   ]
  },
  {
   "cell_type": "markdown",
   "metadata": {},
   "source": [
    " "
   ]
  },
  {
   "cell_type": "markdown",
   "metadata": {},
   "source": [
    "#### Komentowanie"
   ]
  },
  {
   "cell_type": "markdown",
   "metadata": {},
   "source": [
    "Stwórz trzy zmienne odpowiadające wymiarom prostopadłościanu oraz czwartą, będącą objętością figury.  \n",
    "Każdą operację opatrz komentarzem w tej samej linijce kodu."
   ]
  },
  {
   "cell_type": "code",
   "execution_count": null,
   "metadata": {
    "collapsed": true
   },
   "outputs": [],
   "source": []
  },
  {
   "cell_type": "markdown",
   "metadata": {},
   "source": [
    " "
   ]
  },
  {
   "cell_type": "markdown",
   "metadata": {},
   "source": [
    "Do kodu z powyższego zadania dopisz wstępny opis działania całego kodu używając komentarza wielolinijkowoego."
   ]
  },
  {
   "cell_type": "code",
   "execution_count": null,
   "metadata": {
    "collapsed": true
   },
   "outputs": [],
   "source": []
  },
  {
   "cell_type": "markdown",
   "metadata": {},
   "source": [
    " "
   ]
  },
  {
   "cell_type": "markdown",
   "metadata": {},
   "source": [
    " "
   ]
  },
  {
   "cell_type": "markdown",
   "metadata": {},
   "source": [
    "#### Import"
   ]
  },
  {
   "cell_type": "markdown",
   "metadata": {},
   "source": [
    "Wypisz na konsoli miesięczny kalendarz wskazanego miesiąca.<br>\n",
    "*Podpowiedź:* wykorzystaj moduł 'calendar'"
   ]
  },
  {
   "cell_type": "code",
   "execution_count": null,
   "metadata": {
    "collapsed": true
   },
   "outputs": [],
   "source": []
  },
  {
   "cell_type": "markdown",
   "metadata": {},
   "source": [
    " "
   ]
  },
  {
   "cell_type": "markdown",
   "metadata": {},
   "source": [
    "Zaimportuj moduł matematyczny na co najmniej 2 sposoby i wypisz na konsolę wartość stałej *e*."
   ]
  },
  {
   "cell_type": "code",
   "execution_count": null,
   "metadata": {
    "collapsed": true
   },
   "outputs": [],
   "source": []
  },
  {
   "cell_type": "markdown",
   "metadata": {},
   "source": [
    " "
   ]
  },
  {
   "cell_type": "markdown",
   "metadata": {},
   "source": [
    " "
   ]
  },
  {
   "cell_type": "markdown",
   "metadata": {},
   "source": [
    " "
   ]
  },
  {
   "cell_type": "markdown",
   "metadata": {
    "collapsed": true
   },
   "source": [
    "Ciąg dalszy nastapi..."
   ]
  },
  {
   "cell_type": "markdown",
   "metadata": {},
   "source": [
    " "
   ]
  },
  {
   "cell_type": "markdown",
   "metadata": {},
   "source": [
    " "
   ]
  },
  {
   "cell_type": "code",
   "execution_count": 1,
   "metadata": {
    "collapsed": false
   },
   "outputs": [
    {
     "data": {
      "text/html": [
       "<style>\n",
       "@import url(http://fonts.googleapis.com/css?family=Titillium+Web:400,700,800,400italic&subset=latin-ext,latin);\n",
       "@import url(http://fonts.googleapis.com/css?family=Anonymous+Pro:400,700,800,400italic&subset=latin-ext,latin);\n",
       "\n",
       ".filename {\n",
       "    font-family: Titillium Web;\n",
       "    font-variant: small-caps;\n",
       "    letter-spacing: 0.1em;\n",
       "}\n",
       "\n",
       "b {\n",
       "    color: #cc0000;\n",
       "}\n",
       "\n",
       "em {\n",
       "    color:#0000cc;\n",
       "}\n",
       "\n",
       "ul {\n",
       "\tlist-style-type: square !important;\n",
       "}\n",
       "\n",
       ".rendered_html ul li {\n",
       "\tfont-size: 8px;\n",
       "}\n",
       "\n",
       "li span {\n",
       "\tfont-size: 14px;\n",
       "}\n",
       "\n",
       "/* tekst w markdown */\n",
       ".rendered_html {\n",
       "    font-family: Titillium Web, serif;\n",
       "    }\n",
       "\n",
       ".rendered_html p {\n",
       "    font-size: 16px;\n",
       "    text-align: justify;\n",
       "    text-decoration: none;\n",
       "    }\n",
       "\n",
       ".rendered_html :link {\n",
       "    text-decoration: none;\n",
       "    }\n",
       "\n",
       ".rendered_html :visited {\n",
       "    text-decoration: none;\n",
       "    }\n",
       "    \n",
       "/* tekst w code cell */\n",
       ".code_cell {\n",
       "    font-family: Anonymous Pro, monospace;\n",
       "    font-size: 14px;\n",
       "    }\n",
       "\n",
       "code, pre, .CodeMirror {\n",
       "    font-family: Anonymous Pro, monospace;\n",
       "    font-size: 14px;\n",
       "}\n",
       "\n",
       "</style>"
      ],
      "text/plain": [
       "<IPython.core.display.HTML object>"
      ]
     },
     "execution_count": 1,
     "metadata": {},
     "output_type": "execute_result"
    }
   ],
   "source": [
    "from IPython.core.display import HTML\n",
    "from urllib.request import urlopen\n",
    "HTML(urlopen(\"https://raw.githubusercontent.com/mkoculak/hello_world/nowa/ipython.css\").read().decode(\"utf-8\"))"
   ]
  }
 ],
 "metadata": {
  "anaconda-cloud": {},
  "kernelspec": {
   "display_name": "Python [conda root]",
   "language": "python",
   "name": "conda-root-py"
  },
  "language_info": {
   "codemirror_mode": {
    "name": "ipython",
    "version": 3
   },
   "file_extension": ".py",
   "mimetype": "text/x-python",
   "name": "python",
   "nbconvert_exporter": "python",
   "pygments_lexer": "ipython3",
   "version": "3.5.2"
  }
 },
 "nbformat": 4,
 "nbformat_minor": 0
}

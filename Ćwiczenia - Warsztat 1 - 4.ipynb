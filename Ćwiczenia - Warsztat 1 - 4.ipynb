{
 "cells": [
  {
   "cell_type": "markdown",
   "metadata": {},
   "source": [
    "## Warsztat 1"
   ]
  },
  {
   "cell_type": "markdown",
   "metadata": {},
   "source": [
    " "
   ]
  },
  {
   "cell_type": "markdown",
   "metadata": {},
   "source": [
    "#### Hello World"
   ]
  },
  {
   "cell_type": "markdown",
   "metadata": {},
   "source": [
    "Wypisz na konsoli poniższy tekst zachowując jego strukturę:<br><br>\n",
    "Błyszniało – szlisgich hopuch świr<br>\n",
    "&emsp;&emsp;Tęczując w kałdach świtrzem wre,<br>\n",
    "&emsp;&emsp;Mizgłupny był borolągw hyr,<br>\n",
    "&emsp;&emsp;Chrząszczury wlizły młe.<br>\n",
    "&emsp;&emsp;&emsp;&emsp;(Żabrołak, tłum. Janusz Korwin-Mikke)\n"
   ]
  },
  {
   "cell_type": "code",
   "execution_count": null,
   "metadata": {
    "collapsed": true
   },
   "outputs": [],
   "source": []
  },
  {
   "cell_type": "markdown",
   "metadata": {},
   "source": [
    "Wypisz na konsoli wersję pythona, z której aktualnie korzystasz. (istnieje specjalna komenda -> google search)"
   ]
  },
  {
   "cell_type": "code",
   "execution_count": null,
   "metadata": {
    "collapsed": true
   },
   "outputs": [],
   "source": []
  },
  {
   "cell_type": "markdown",
   "metadata": {},
   "source": [
    " "
   ]
  },
  {
   "cell_type": "markdown",
   "metadata": {},
   "source": [
    " "
   ]
  },
  {
   "cell_type": "markdown",
   "metadata": {
    "collapsed": true
   },
   "source": [
    "#### Kalkulator"
   ]
  },
  {
   "cell_type": "markdown",
   "metadata": {
    "collapsed": true
   },
   "source": [
    "Wisła Kraków otrzymała 32784 orzeszki ziemne w prezencie od brazylijskiego potentata. Zarząd postanowił obdzielić nimi po równo 22 piłkarzy i 9-osobowy skład trenerski. Resztę orzeszków otrzymają klubowe świnki morskie, przy czym każda może otrzymać jedynie 2 sztuki.<br>\n",
    "Ile świnek morskich otrzyma orzeszki w prezencie?"
   ]
  },
  {
   "cell_type": "code",
   "execution_count": null,
   "metadata": {
    "collapsed": true
   },
   "outputs": [],
   "source": []
  },
  {
   "cell_type": "markdown",
   "metadata": {},
   "source": [
    "Napisz program, który przyjmuje promień koła i wypisuje jego powierzchnię.<br>\n",
    "*Przykładowe rozwiązanie:*<br>\n",
    "r = 5.0<br>\n",
    "pole = 78.53981633974483"
   ]
  },
  {
   "cell_type": "code",
   "execution_count": null,
   "metadata": {
    "collapsed": false
   },
   "outputs": [],
   "source": []
  },
  {
   "cell_type": "markdown",
   "metadata": {},
   "source": [
    "Niech <b>n</b> będzie dowolną cyfrą większą od 0. Napisz program, który po podaniu n wypisze wynik następującego działania n+nn+nnn.<br>\n",
    "*Przykładowy wynik dla n=6:* 738\n"
   ]
  },
  {
   "cell_type": "code",
   "execution_count": null,
   "metadata": {
    "collapsed": false
   },
   "outputs": [],
   "source": []
  },
  {
   "cell_type": "markdown",
   "metadata": {},
   "source": [
    "Napisz program, który przyjmuje dowolną liczbę całkowitą i liczy jej odległość od liczby 23.<br>\n",
    "*Podpowiedź: interesuje nas wartość **absolutna** *"
   ]
  },
  {
   "cell_type": "code",
   "execution_count": null,
   "metadata": {
    "collapsed": false
   },
   "outputs": [],
   "source": []
  },
  {
   "cell_type": "markdown",
   "metadata": {},
   "source": [
    " "
   ]
  },
  {
   "cell_type": "markdown",
   "metadata": {},
   "source": [
    " "
   ]
  },
  {
   "cell_type": "markdown",
   "metadata": {
    "collapsed": true
   },
   "source": [
    "#### Zmienne"
   ]
  },
  {
   "cell_type": "markdown",
   "metadata": {
    "collapsed": true
   },
   "source": [
    "Stwórz tekstową zmienną 'nazwa', do której przypisz imię swojego trójkąta (może być Przemek, ale nie musi).<br>\n",
    "Następnie utwórz trzy zmienne liczbowe 'a' , 'b' oraz 'c', do których przypisz wartości całkowite charakteryzujące długość boków tego trójkąta.<br>\n",
    "Wypisz na konsoli zdanie: Mój trójkąt nazywa się /####/, jego wymiary to ## - ## - ##.<br>\n",
    "Utwórz zmienną logiczną 'pit', która przyjmie wartość True, jeśli trójkąt jest prostokątny."
   ]
  },
  {
   "cell_type": "code",
   "execution_count": null,
   "metadata": {
    "collapsed": true
   },
   "outputs": [],
   "source": []
  },
  {
   "cell_type": "markdown",
   "metadata": {},
   "source": [
    "Zadeklaruj dwie zmienne, a i b, przypisując im dowolną cyfrę. Następnie modyfikuj ich wartość tak, żeby obie równały się 37."
   ]
  },
  {
   "cell_type": "code",
   "execution_count": null,
   "metadata": {
    "collapsed": true
   },
   "outputs": [],
   "source": []
  },
  {
   "cell_type": "markdown",
   "metadata": {},
   "source": [
    " "
   ]
  },
  {
   "cell_type": "markdown",
   "metadata": {},
   "source": [
    " "
   ]
  },
  {
   "cell_type": "markdown",
   "metadata": {},
   "source": [
    "#### Komentowanie"
   ]
  },
  {
   "cell_type": "markdown",
   "metadata": {},
   "source": [
    "Stwórz trzy zmienne odpowiadające wymiarom prostopadłościanu oraz czwartą, będącą objętością figury. Każdą operację opatrz komentarzem w tej samej linijce kodu."
   ]
  },
  {
   "cell_type": "code",
   "execution_count": null,
   "metadata": {
    "collapsed": true
   },
   "outputs": [],
   "source": []
  },
  {
   "cell_type": "markdown",
   "metadata": {},
   "source": [
    "Do kodu z powyższego zadania dopisz wstępny opis działania całego kodu używając komentarza wielolinijkowoego."
   ]
  },
  {
   "cell_type": "code",
   "execution_count": null,
   "metadata": {
    "collapsed": true
   },
   "outputs": [],
   "source": []
  },
  {
   "cell_type": "markdown",
   "metadata": {},
   "source": [
    " "
   ]
  },
  {
   "cell_type": "markdown",
   "metadata": {},
   "source": [
    " "
   ]
  },
  {
   "cell_type": "markdown",
   "metadata": {},
   "source": [
    "#### Import"
   ]
  },
  {
   "cell_type": "markdown",
   "metadata": {},
   "source": [
    "Wypisz na konsoli miesięczny kalendarz wskazanego miesiąca.<br>\n",
    "*Podpowiedź:* wykorzystaj moduł 'calendar'"
   ]
  },
  {
   "cell_type": "code",
   "execution_count": null,
   "metadata": {
    "collapsed": true
   },
   "outputs": [],
   "source": []
  },
  {
   "cell_type": "markdown",
   "metadata": {},
   "source": [
    "Zaimportuj moduł matematyczny na co najmniej 2 sposoby i wypisz na konsolę wartość stałej *e*."
   ]
  },
  {
   "cell_type": "code",
   "execution_count": null,
   "metadata": {
    "collapsed": true
   },
   "outputs": [],
   "source": []
  },
  {
   "cell_type": "markdown",
   "metadata": {},
   "source": [
    " "
   ]
  },
  {
   "cell_type": "markdown",
   "metadata": {},
   "source": [
    " "
   ]
  },
  {
   "cell_type": "markdown",
   "metadata": {},
   "source": [
    "## Warsztat 2 "
   ]
  },
  {
   "cell_type": "markdown",
   "metadata": {},
   "source": [
    " "
   ]
  },
  {
   "cell_type": "markdown",
   "metadata": {},
   "source": [
    "#### Typy danych"
   ]
  },
  {
   "cell_type": "markdown",
   "metadata": {},
   "source": []
  },
  {
   "cell_type": "code",
   "execution_count": null,
   "metadata": {
    "collapsed": true
   },
   "outputs": [],
   "source": []
  },
  {
   "cell_type": "markdown",
   "metadata": {},
   "source": [
    " "
   ]
  },
  {
   "cell_type": "markdown",
   "metadata": {},
   "source": [
    " "
   ]
  },
  {
   "cell_type": "markdown",
   "metadata": {},
   "source": [
    "#### Struktury danych "
   ]
  },
  {
   "cell_type": "code",
   "execution_count": null,
   "metadata": {
    "collapsed": true
   },
   "outputs": [],
   "source": []
  },
  {
   "cell_type": "code",
   "execution_count": null,
   "metadata": {
    "collapsed": true
   },
   "outputs": [],
   "source": []
  },
  {
   "cell_type": "markdown",
   "metadata": {},
   "source": [
    " "
   ]
  },
  {
   "cell_type": "markdown",
   "metadata": {},
   "source": [
    " "
   ]
  },
  {
   "cell_type": "code",
   "execution_count": 36,
   "metadata": {
    "collapsed": false
   },
   "outputs": [
    {
     "data": {
      "text/html": [
       "<style>\n",
       "@import url(http://fonts.googleapis.com/css?family=Titillium+Web:400,700,800,400italic&subset=latin-ext,latin);\n",
       "@import url(http://fonts.googleapis.com/css?family=Anonymous+Pro:400,700,800,400italic&subset=latin-ext,latin);\n",
       "\n",
       ".filename {\n",
       "    font-family: Titillium Web;\n",
       "    font-variant: small-caps;\n",
       "    letter-spacing: 0.1em;\n",
       "}\n",
       "\n",
       "b {\n",
       "    color: #cc0000;\n",
       "}\n",
       "\n",
       "em {\n",
       "    color:#0000cc;\n",
       "}\n",
       "\n",
       "/* tekst w markdown */\n",
       ".rendered_html {\n",
       "    font-family: Titillium Web, serif;\n",
       "    }\n",
       "\n",
       ".rendered_html p {\n",
       "    font-size: 16px;\n",
       "    text-align: justify;\n",
       "    text-decoration: none;\n",
       "    }\n",
       "\n",
       ".rendered_html :link {\n",
       "    text-decoration: none;\n",
       "    }\n",
       "\n",
       ".rendered_html :visited {\n",
       "    text-decoration: none;\n",
       "    }\n",
       "    \n",
       "/* tekst w code cell */\n",
       ".code_cell {\n",
       "    font-family: Anonymous Pro, monospace;\n",
       "    font-size: 14px;\n",
       "    }\n",
       "\n",
       "code, pre, .CodeMirror {\n",
       "    font-family: Anonymous Pro, monospace;\n",
       "    font-size: 14px;\n",
       "}\n",
       "\n",
       "</style>"
      ],
      "text/plain": [
       "<IPython.core.display.HTML object>"
      ]
     },
     "execution_count": 36,
     "metadata": {},
     "output_type": "execute_result"
    }
   ],
   "source": [
    "from IPython.core.display import HTML\n",
    "import urllib\n",
    "HTML(urllib.urlopen(\"https://raw.githubusercontent.com/mkoculak/hello_world/nowa/ipython.css\").read())"
   ]
  }
 ],
 "metadata": {
  "kernelspec": {
   "display_name": "Python 2",
   "language": "python",
   "name": "python2"
  },
  "language_info": {
   "codemirror_mode": {
    "name": "ipython",
    "version": 2
   },
   "file_extension": ".py",
   "mimetype": "text/x-python",
   "name": "python",
   "nbconvert_exporter": "python",
   "pygments_lexer": "ipython2",
   "version": "2.7.10"
  }
 },
 "nbformat": 4,
 "nbformat_minor": 0
}

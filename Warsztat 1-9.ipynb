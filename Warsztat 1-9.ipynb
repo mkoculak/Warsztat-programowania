{
 "cells": [
  {
   "cell_type": "markdown",
   "metadata": {},
   "source": [
    "# Warsztat 9 – Pandas - wprowadzenie<a id=top></a>"
   ]
  },
  {
   "cell_type": "markdown",
   "metadata": {},
   "source": [
    "<font size=2>Przed pracą z notatnikiem polecam wykonać kod w ostatniej komórce (zawiera html i css), dzięki czemu całość będzie bardziej estetyczna :)</font>"
   ]
  },
  {
   "cell_type": "markdown",
   "metadata": {},
   "source": [
    "<a href='#Warsztat-91---Pandas---wprowadzenie'>Warsztat 9</a>\n",
    "<ul>\n",
    "<li><a href='#'><span></span></a></li>\n",
    "<li><a href='#'><span></span></a></li>\n",
    "<li><a href='#'><span></span></a></li>\n",
    "<li><a href='#'><span></span></a></li>\n",
    "</ul>"
   ]
  },
  {
   "cell_type": "markdown",
   "metadata": {},
   "source": [
    " "
   ]
  },
  {
   "cell_type": "markdown",
   "metadata": {},
   "source": [
    "<img src=\"http://pandas.pydata.org/_static/pandas_logo.png\" width=40% height=40%>"
   ]
  },
  {
   "cell_type": "markdown",
   "metadata": {},
   "source": [
    "## Pakiet Pandas"
   ]
  },
  {
   "cell_type": "code",
   "execution_count": 2,
   "metadata": {
    "collapsed": true
   },
   "outputs": [],
   "source": [
    "import pandas as pd\n",
    "import numpy as np\n",
    "import matplotlib.pyplot as plt"
   ]
  },
  {
   "cell_type": "markdown",
   "metadata": {},
   "source": [
    "<a href='#top' style='float: right; font-size: 13px;'>Do początku</a>  "
   ]
  },
  {
   "cell_type": "markdown",
   "metadata": {},
   "source": [
    " "
   ]
  },
  {
   "cell_type": "markdown",
   "metadata": {},
   "source": [
    "### Wczytanie danych"
   ]
  },
  {
   "cell_type": "markdown",
   "metadata": {},
   "source": [
    "Najczęściej będziemy posługiwać się plikami **.csv** oraz **.xlsx**, z których będziemy wczytywać uprzednio wydobyte dane oraz do których będziemy zapisywać wyniki naszej pracy.  \n",
    "Składnia dla obu typów plików jest analogiczna i sprowadza się do użycia funkcji <b>read_csv( )</b> oraz <b>read_excel( )</b>."
   ]
  },
  {
   "cell_type": "code",
   "execution_count": 21,
   "metadata": {
    "collapsed": false
   },
   "outputs": [],
   "source": [
    "dane =pd.read_csv('pandas_data.csv')"
   ]
  },
  {
   "cell_type": "markdown",
   "metadata": {},
   "source": [
    "Najwygodniejszym sposobem podglądu danych będzie użycie metod <b>.head( )</b> i <b>.tail( )</b>, które pokażą nam odpowiednio początek i koniec naszej ramki."
   ]
  },
  {
   "cell_type": "code",
   "execution_count": null,
   "metadata": {
    "collapsed": false
   },
   "outputs": [],
   "source": [
    "dane.head()"
   ]
  },
  {
   "cell_type": "code",
   "execution_count": null,
   "metadata": {
    "collapsed": true
   },
   "outputs": [],
   "source": [
    "dane.tail(10)"
   ]
  },
  {
   "cell_type": "markdown",
   "metadata": {},
   "source": [
    "Dane wczytały się bez problemu, jednak mamy jedną niepotrzebną kolumnę na samym początku ramki. Zostały w niej zapisane indeksy poszczególnych wierszy arkusza danych. Możemy się go łatwo pozbyć, używając komendy <b>index_col=</b> i wskazując numer kolumny, w której zapisane są indeksy wierszy."
   ]
  },
  {
   "cell_type": "code",
   "execution_count": 24,
   "metadata": {
    "collapsed": false
   },
   "outputs": [],
   "source": [
    "dane =pd.read_csv('pandas_data.csv', index_col=0)"
   ]
  },
  {
   "cell_type": "code",
   "execution_count": 25,
   "metadata": {
    "collapsed": false
   },
   "outputs": [
    {
     "data": {
      "text/html": [
       "<div>\n",
       "<table border=\"1\" class=\"dataframe\">\n",
       "  <thead>\n",
       "    <tr style=\"text-align: right;\">\n",
       "      <th></th>\n",
       "      <th>ID</th>\n",
       "      <th>task</th>\n",
       "      <th>block</th>\n",
       "      <th>trial</th>\n",
       "      <th>fiksacja3</th>\n",
       "      <th>fiksacja3_dur</th>\n",
       "      <th>fiksacja</th>\n",
       "      <th>fiksacja_dur</th>\n",
       "      <th>stimulus_type</th>\n",
       "      <th>stimulus</th>\n",
       "      <th>...</th>\n",
       "      <th>fiksacja2_dur</th>\n",
       "      <th>beh_response</th>\n",
       "      <th>response_dur</th>\n",
       "      <th>button</th>\n",
       "      <th>accuracy</th>\n",
       "      <th>accuracy_RT</th>\n",
       "      <th>pas_response</th>\n",
       "      <th>pas_response_dur</th>\n",
       "      <th>PAS</th>\n",
       "      <th>PAS_RT</th>\n",
       "    </tr>\n",
       "  </thead>\n",
       "  <tbody>\n",
       "    <tr>\n",
       "      <th>0</th>\n",
       "      <td>dc1_01</td>\n",
       "      <td>low</td>\n",
       "      <td>1</td>\n",
       "      <td>2</td>\n",
       "      <td>12.0558</td>\n",
       "      <td>3.0095</td>\n",
       "      <td>15.0653</td>\n",
       "      <td>1.7399</td>\n",
       "      <td>sn3</td>\n",
       "      <td>16.8052</td>\n",
       "      <td>...</td>\n",
       "      <td>2.0102</td>\n",
       "      <td>19.1211</td>\n",
       "      <td>1.5165</td>\n",
       "      <td>54</td>\n",
       "      <td>0</td>\n",
       "      <td>262.4</td>\n",
       "      <td>20.6494</td>\n",
       "      <td>1.4459</td>\n",
       "      <td>4</td>\n",
       "      <td>499.2</td>\n",
       "    </tr>\n",
       "    <tr>\n",
       "      <th>1</th>\n",
       "      <td>dc1_01</td>\n",
       "      <td>low</td>\n",
       "      <td>1</td>\n",
       "      <td>4</td>\n",
       "      <td>31.1591</td>\n",
       "      <td>2.0103</td>\n",
       "      <td>33.1694</td>\n",
       "      <td>1.7399</td>\n",
       "      <td>mn7</td>\n",
       "      <td>34.9093</td>\n",
       "      <td>...</td>\n",
       "      <td>2.0103</td>\n",
       "      <td>37.1899</td>\n",
       "      <td>1.5165</td>\n",
       "      <td>54</td>\n",
       "      <td>0</td>\n",
       "      <td>510.0</td>\n",
       "      <td>38.7182</td>\n",
       "      <td>1.4812</td>\n",
       "      <td>4</td>\n",
       "      <td>397.6</td>\n",
       "    </tr>\n",
       "    <tr>\n",
       "      <th>2</th>\n",
       "      <td>dc1_01</td>\n",
       "      <td>low</td>\n",
       "      <td>1</td>\n",
       "      <td>5</td>\n",
       "      <td>40.2112</td>\n",
       "      <td>2.0102</td>\n",
       "      <td>42.2214</td>\n",
       "      <td>1.7399</td>\n",
       "      <td>sc1</td>\n",
       "      <td>43.9613</td>\n",
       "      <td>...</td>\n",
       "      <td>2.0103</td>\n",
       "      <td>46.2772</td>\n",
       "      <td>1.5165</td>\n",
       "      <td>44</td>\n",
       "      <td>1</td>\n",
       "      <td>457.1</td>\n",
       "      <td>47.8055</td>\n",
       "      <td>1.4460</td>\n",
       "      <td>4</td>\n",
       "      <td>479.4</td>\n",
       "    </tr>\n",
       "    <tr>\n",
       "      <th>3</th>\n",
       "      <td>dc1_01</td>\n",
       "      <td>low</td>\n",
       "      <td>1</td>\n",
       "      <td>6</td>\n",
       "      <td>49.2632</td>\n",
       "      <td>1.0110</td>\n",
       "      <td>50.2742</td>\n",
       "      <td>1.7399</td>\n",
       "      <td>mn7</td>\n",
       "      <td>52.0141</td>\n",
       "      <td>...</td>\n",
       "      <td>6.0073</td>\n",
       "      <td>58.3270</td>\n",
       "      <td>1.5165</td>\n",
       "      <td>54</td>\n",
       "      <td>0</td>\n",
       "      <td>1453.6</td>\n",
       "      <td>59.8553</td>\n",
       "      <td>1.4460</td>\n",
       "      <td>4</td>\n",
       "      <td>1358.9</td>\n",
       "    </tr>\n",
       "    <tr>\n",
       "      <th>4</th>\n",
       "      <td>dc1_01</td>\n",
       "      <td>low</td>\n",
       "      <td>1</td>\n",
       "      <td>7</td>\n",
       "      <td>61.3130</td>\n",
       "      <td>1.0110</td>\n",
       "      <td>62.3240</td>\n",
       "      <td>1.7399</td>\n",
       "      <td>mc1</td>\n",
       "      <td>64.0639</td>\n",
       "      <td>...</td>\n",
       "      <td>2.0102</td>\n",
       "      <td>66.4151</td>\n",
       "      <td>1.5165</td>\n",
       "      <td>54</td>\n",
       "      <td>1</td>\n",
       "      <td>1153.3</td>\n",
       "      <td>67.9433</td>\n",
       "      <td>1.4108</td>\n",
       "      <td>4</td>\n",
       "      <td>195.3</td>\n",
       "    </tr>\n",
       "  </tbody>\n",
       "</table>\n",
       "<p>5 rows × 25 columns</p>\n",
       "</div>"
      ],
      "text/plain": [
       "       ID task  block  trial  fiksacja3  fiksacja3_dur  fiksacja  \\\n",
       "0  dc1_01  low      1      2    12.0558         3.0095   15.0653   \n",
       "1  dc1_01  low      1      4    31.1591         2.0103   33.1694   \n",
       "2  dc1_01  low      1      5    40.2112         2.0102   42.2214   \n",
       "3  dc1_01  low      1      6    49.2632         1.0110   50.2742   \n",
       "4  dc1_01  low      1      7    61.3130         1.0110   62.3240   \n",
       "\n",
       "   fiksacja_dur stimulus_type  stimulus   ...   fiksacja2_dur  beh_response  \\\n",
       "0        1.7399           sn3   16.8052   ...          2.0102       19.1211   \n",
       "1        1.7399           mn7   34.9093   ...          2.0103       37.1899   \n",
       "2        1.7399           sc1   43.9613   ...          2.0103       46.2772   \n",
       "3        1.7399           mn7   52.0141   ...          6.0073       58.3270   \n",
       "4        1.7399           mc1   64.0639   ...          2.0102       66.4151   \n",
       "\n",
       "   response_dur  button  accuracy  accuracy_RT  pas_response  \\\n",
       "0        1.5165      54         0        262.4       20.6494   \n",
       "1        1.5165      54         0        510.0       38.7182   \n",
       "2        1.5165      44         1        457.1       47.8055   \n",
       "3        1.5165      54         0       1453.6       59.8553   \n",
       "4        1.5165      54         1       1153.3       67.9433   \n",
       "\n",
       "   pas_response_dur  PAS  PAS_RT  \n",
       "0            1.4459    4   499.2  \n",
       "1            1.4812    4   397.6  \n",
       "2            1.4460    4   479.4  \n",
       "3            1.4460    4  1358.9  \n",
       "4            1.4108    4   195.3  \n",
       "\n",
       "[5 rows x 25 columns]"
      ]
     },
     "execution_count": 25,
     "metadata": {},
     "output_type": "execute_result"
    }
   ],
   "source": [
    "dane.head()"
   ]
  },
  {
   "cell_type": "markdown",
   "metadata": {},
   "source": [
    "Gdyby jednak niechciana kolumna zawierała zupełnie nieprzydatne dane, możemy posłużyć się slicingiem kolumn po indeksach, wykorzystując metodę <b>.ix</b>, aby móc operować na indeksach a nie nazwach kolumn.  \n",
    "Do wybierania elementów ramki będziemy używać nawiasów kwadratowych (podobnie jak w listach czy tablicach numpy)."
   ]
  },
  {
   "cell_type": "code",
   "execution_count": 23,
   "metadata": {
    "collapsed": false
   },
   "outputs": [
    {
     "data": {
      "text/html": [
       "<div>\n",
       "<table border=\"1\" class=\"dataframe\">\n",
       "  <thead>\n",
       "    <tr style=\"text-align: right;\">\n",
       "      <th></th>\n",
       "      <th>task</th>\n",
       "      <th>block</th>\n",
       "      <th>trial</th>\n",
       "      <th>fiksacja3</th>\n",
       "      <th>fiksacja3_dur</th>\n",
       "      <th>fiksacja</th>\n",
       "      <th>fiksacja_dur</th>\n",
       "      <th>stimulus_type</th>\n",
       "      <th>stimulus</th>\n",
       "      <th>duration_type</th>\n",
       "      <th>...</th>\n",
       "      <th>fiksacja2_dur</th>\n",
       "      <th>beh_response</th>\n",
       "      <th>response_dur</th>\n",
       "      <th>button</th>\n",
       "      <th>accuracy</th>\n",
       "      <th>accuracy_RT</th>\n",
       "      <th>pas_response</th>\n",
       "      <th>pas_response_dur</th>\n",
       "      <th>PAS</th>\n",
       "      <th>PAS_RT</th>\n",
       "    </tr>\n",
       "  </thead>\n",
       "  <tbody>\n",
       "    <tr>\n",
       "      <th>0</th>\n",
       "      <td>low</td>\n",
       "      <td>1</td>\n",
       "      <td>2</td>\n",
       "      <td>12.0558</td>\n",
       "      <td>3.0095</td>\n",
       "      <td>15.0653</td>\n",
       "      <td>1.7399</td>\n",
       "      <td>sn3</td>\n",
       "      <td>16.8052</td>\n",
       "      <td>dur2</td>\n",
       "      <td>...</td>\n",
       "      <td>2.0102</td>\n",
       "      <td>19.1211</td>\n",
       "      <td>1.5165</td>\n",
       "      <td>54</td>\n",
       "      <td>0</td>\n",
       "      <td>262.4</td>\n",
       "      <td>20.6494</td>\n",
       "      <td>1.4459</td>\n",
       "      <td>4</td>\n",
       "      <td>499.2</td>\n",
       "    </tr>\n",
       "    <tr>\n",
       "      <th>1</th>\n",
       "      <td>low</td>\n",
       "      <td>1</td>\n",
       "      <td>4</td>\n",
       "      <td>31.1591</td>\n",
       "      <td>2.0103</td>\n",
       "      <td>33.1694</td>\n",
       "      <td>1.7399</td>\n",
       "      <td>mn7</td>\n",
       "      <td>34.9093</td>\n",
       "      <td>dur1</td>\n",
       "      <td>...</td>\n",
       "      <td>2.0103</td>\n",
       "      <td>37.1899</td>\n",
       "      <td>1.5165</td>\n",
       "      <td>54</td>\n",
       "      <td>0</td>\n",
       "      <td>510.0</td>\n",
       "      <td>38.7182</td>\n",
       "      <td>1.4812</td>\n",
       "      <td>4</td>\n",
       "      <td>397.6</td>\n",
       "    </tr>\n",
       "    <tr>\n",
       "      <th>2</th>\n",
       "      <td>low</td>\n",
       "      <td>1</td>\n",
       "      <td>5</td>\n",
       "      <td>40.2112</td>\n",
       "      <td>2.0102</td>\n",
       "      <td>42.2214</td>\n",
       "      <td>1.7399</td>\n",
       "      <td>sc1</td>\n",
       "      <td>43.9613</td>\n",
       "      <td>dur2</td>\n",
       "      <td>...</td>\n",
       "      <td>2.0103</td>\n",
       "      <td>46.2772</td>\n",
       "      <td>1.5165</td>\n",
       "      <td>44</td>\n",
       "      <td>1</td>\n",
       "      <td>457.1</td>\n",
       "      <td>47.8055</td>\n",
       "      <td>1.4460</td>\n",
       "      <td>4</td>\n",
       "      <td>479.4</td>\n",
       "    </tr>\n",
       "    <tr>\n",
       "      <th>3</th>\n",
       "      <td>low</td>\n",
       "      <td>1</td>\n",
       "      <td>6</td>\n",
       "      <td>49.2632</td>\n",
       "      <td>1.0110</td>\n",
       "      <td>50.2742</td>\n",
       "      <td>1.7399</td>\n",
       "      <td>mn7</td>\n",
       "      <td>52.0141</td>\n",
       "      <td>dur2</td>\n",
       "      <td>...</td>\n",
       "      <td>6.0073</td>\n",
       "      <td>58.3270</td>\n",
       "      <td>1.5165</td>\n",
       "      <td>54</td>\n",
       "      <td>0</td>\n",
       "      <td>1453.6</td>\n",
       "      <td>59.8553</td>\n",
       "      <td>1.4460</td>\n",
       "      <td>4</td>\n",
       "      <td>1358.9</td>\n",
       "    </tr>\n",
       "    <tr>\n",
       "      <th>4</th>\n",
       "      <td>low</td>\n",
       "      <td>1</td>\n",
       "      <td>7</td>\n",
       "      <td>61.3130</td>\n",
       "      <td>1.0110</td>\n",
       "      <td>62.3240</td>\n",
       "      <td>1.7399</td>\n",
       "      <td>mc1</td>\n",
       "      <td>64.0639</td>\n",
       "      <td>dur3</td>\n",
       "      <td>...</td>\n",
       "      <td>2.0102</td>\n",
       "      <td>66.4151</td>\n",
       "      <td>1.5165</td>\n",
       "      <td>54</td>\n",
       "      <td>1</td>\n",
       "      <td>1153.3</td>\n",
       "      <td>67.9433</td>\n",
       "      <td>1.4108</td>\n",
       "      <td>4</td>\n",
       "      <td>195.3</td>\n",
       "    </tr>\n",
       "  </tbody>\n",
       "</table>\n",
       "<p>5 rows × 24 columns</p>\n",
       "</div>"
      ],
      "text/plain": [
       "  task  block  trial  fiksacja3  fiksacja3_dur  fiksacja  fiksacja_dur  \\\n",
       "0  low      1      2    12.0558         3.0095   15.0653        1.7399   \n",
       "1  low      1      4    31.1591         2.0103   33.1694        1.7399   \n",
       "2  low      1      5    40.2112         2.0102   42.2214        1.7399   \n",
       "3  low      1      6    49.2632         1.0110   50.2742        1.7399   \n",
       "4  low      1      7    61.3130         1.0110   62.3240        1.7399   \n",
       "\n",
       "  stimulus_type  stimulus duration_type   ...    fiksacja2_dur  beh_response  \\\n",
       "0           sn3   16.8052          dur2   ...           2.0102       19.1211   \n",
       "1           mn7   34.9093          dur1   ...           2.0103       37.1899   \n",
       "2           sc1   43.9613          dur2   ...           2.0103       46.2772   \n",
       "3           mn7   52.0141          dur2   ...           6.0073       58.3270   \n",
       "4           mc1   64.0639          dur3   ...           2.0102       66.4151   \n",
       "\n",
       "   response_dur  button  accuracy  accuracy_RT  pas_response  \\\n",
       "0        1.5165      54         0        262.4       20.6494   \n",
       "1        1.5165      54         0        510.0       38.7182   \n",
       "2        1.5165      44         1        457.1       47.8055   \n",
       "3        1.5165      54         0       1453.6       59.8553   \n",
       "4        1.5165      54         1       1153.3       67.9433   \n",
       "\n",
       "   pas_response_dur  PAS  PAS_RT  \n",
       "0            1.4459    4   499.2  \n",
       "1            1.4812    4   397.6  \n",
       "2            1.4460    4   479.4  \n",
       "3            1.4460    4  1358.9  \n",
       "4            1.4108    4   195.3  \n",
       "\n",
       "[5 rows x 24 columns]"
      ]
     },
     "execution_count": 23,
     "metadata": {},
     "output_type": "execute_result"
    }
   ],
   "source": [
    "dane.ix[:,1:].head()"
   ]
  },
  {
   "cell_type": "markdown",
   "metadata": {},
   "source": [
    " "
   ]
  },
  {
   "cell_type": "markdown",
   "metadata": {},
   "source": [
    "### Wybieranie danych "
   ]
  },
  {
   "cell_type": "markdown",
   "metadata": {},
   "source": [
    "Ramka zawiera bardzo wiele danych zebranych w trakcie eksperymentu. Zacznijmy od wybrania tylko tych, które mogą okazać się przydatne w analizie wyników. Najpierw wylistujemy sobie wszystkie nazwy kolumn, a następnie za ich pomocą stworzymy nową ramkę z mniejszą ilością danych."
   ]
  },
  {
   "cell_type": "code",
   "execution_count": 30,
   "metadata": {
    "collapsed": false
   },
   "outputs": [
    {
     "data": {
      "text/plain": [
       "array(['ID', 'task', 'block', 'trial', 'fiksacja3', 'fiksacja3_dur',\n",
       "       'fiksacja', 'fiksacja_dur', 'stimulus_type', 'stimulus',\n",
       "       'duration_type', 'duration', 'maska', 'maska_dur', 'fiksacja2',\n",
       "       'fiksacja2_dur', 'beh_response', 'response_dur', 'button',\n",
       "       'accuracy', 'accuracy_RT', 'pas_response', 'pas_response_dur',\n",
       "       'PAS', 'PAS_RT'], dtype=object)"
      ]
     },
     "execution_count": 30,
     "metadata": {},
     "output_type": "execute_result"
    }
   ],
   "source": [
    "dane.columns.values"
   ]
  },
  {
   "cell_type": "code",
   "execution_count": 31,
   "metadata": {
    "collapsed": true
   },
   "outputs": [],
   "source": [
    "dane_small = dane[['ID','task','duration_type','accuracy','accuracy_RT','PAS','PAS_RT']]"
   ]
  },
  {
   "cell_type": "code",
   "execution_count": 32,
   "metadata": {
    "collapsed": false
   },
   "outputs": [
    {
     "data": {
      "text/html": [
       "<div>\n",
       "<table border=\"1\" class=\"dataframe\">\n",
       "  <thead>\n",
       "    <tr style=\"text-align: right;\">\n",
       "      <th></th>\n",
       "      <th>ID</th>\n",
       "      <th>task</th>\n",
       "      <th>duration_type</th>\n",
       "      <th>accuracy</th>\n",
       "      <th>accuracy_RT</th>\n",
       "      <th>PAS</th>\n",
       "      <th>PAS_RT</th>\n",
       "    </tr>\n",
       "  </thead>\n",
       "  <tbody>\n",
       "    <tr>\n",
       "      <th>0</th>\n",
       "      <td>dc1_01</td>\n",
       "      <td>low</td>\n",
       "      <td>dur2</td>\n",
       "      <td>0</td>\n",
       "      <td>262.4</td>\n",
       "      <td>4</td>\n",
       "      <td>499.2</td>\n",
       "    </tr>\n",
       "    <tr>\n",
       "      <th>1</th>\n",
       "      <td>dc1_01</td>\n",
       "      <td>low</td>\n",
       "      <td>dur1</td>\n",
       "      <td>0</td>\n",
       "      <td>510.0</td>\n",
       "      <td>4</td>\n",
       "      <td>397.6</td>\n",
       "    </tr>\n",
       "    <tr>\n",
       "      <th>2</th>\n",
       "      <td>dc1_01</td>\n",
       "      <td>low</td>\n",
       "      <td>dur2</td>\n",
       "      <td>1</td>\n",
       "      <td>457.1</td>\n",
       "      <td>4</td>\n",
       "      <td>479.4</td>\n",
       "    </tr>\n",
       "    <tr>\n",
       "      <th>3</th>\n",
       "      <td>dc1_01</td>\n",
       "      <td>low</td>\n",
       "      <td>dur2</td>\n",
       "      <td>0</td>\n",
       "      <td>1453.6</td>\n",
       "      <td>4</td>\n",
       "      <td>1358.9</td>\n",
       "    </tr>\n",
       "    <tr>\n",
       "      <th>4</th>\n",
       "      <td>dc1_01</td>\n",
       "      <td>low</td>\n",
       "      <td>dur3</td>\n",
       "      <td>1</td>\n",
       "      <td>1153.3</td>\n",
       "      <td>4</td>\n",
       "      <td>195.3</td>\n",
       "    </tr>\n",
       "  </tbody>\n",
       "</table>\n",
       "</div>"
      ],
      "text/plain": [
       "       ID task duration_type  accuracy  accuracy_RT  PAS  PAS_RT\n",
       "0  dc1_01  low          dur2         0        262.4    4   499.2\n",
       "1  dc1_01  low          dur1         0        510.0    4   397.6\n",
       "2  dc1_01  low          dur2         1        457.1    4   479.4\n",
       "3  dc1_01  low          dur2         0       1453.6    4  1358.9\n",
       "4  dc1_01  low          dur3         1       1153.3    4   195.3"
      ]
     },
     "execution_count": 32,
     "metadata": {},
     "output_type": "execute_result"
    }
   ],
   "source": [
    "dane_small.head()"
   ]
  },
  {
   "cell_type": "markdown",
   "metadata": {},
   "source": [
    "Zanim zaczniemy pracować z całym zbiorem, wybierzmy dane dla jednej osoby badanej, na której będziemy testować kolejne kroki analizy danych.  \n",
    "Sprawdźmy najpierw, jakie osoby badane mamy dostępne."
   ]
  },
  {
   "cell_type": "code",
   "execution_count": 34,
   "metadata": {
    "collapsed": false
   },
   "outputs": [
    {
     "data": {
      "text/plain": [
       "array(['dc1_01', 'dc1_03', 'dc1_04', 'dc1_05', 'dc1_06', 'dc1_07',\n",
       "       'dc1_09', 'dc1_10', 'dc1_11', 'dc1_12', 'dc1_14', 'dc1_16',\n",
       "       'dc1_17', 'dc1_18', 'dc1_19', 'dc1_20', 'dc1_21', 'dc1_22',\n",
       "       'dc1_23', 'dc1_24', 'dc1_25', 'dc1_26', 'dc1_27', 'dc1_28',\n",
       "       'dc1_29', 'dc1_30'], dtype=object)"
      ]
     },
     "execution_count": 34,
     "metadata": {},
     "output_type": "execute_result"
    }
   ],
   "source": [
    "dane_small.ID.unique()"
   ]
  },
  {
   "cell_type": "code",
   "execution_count": 36,
   "metadata": {
    "collapsed": false
   },
   "outputs": [],
   "source": [
    "d19 = dane_small[dane_small.ID == 'dc1_19']"
   ]
  },
  {
   "cell_type": "code",
   "execution_count": 37,
   "metadata": {
    "collapsed": false
   },
   "outputs": [
    {
     "data": {
      "text/html": [
       "<div>\n",
       "<table border=\"1\" class=\"dataframe\">\n",
       "  <thead>\n",
       "    <tr style=\"text-align: right;\">\n",
       "      <th></th>\n",
       "      <th>ID</th>\n",
       "      <th>task</th>\n",
       "      <th>duration_type</th>\n",
       "      <th>accuracy</th>\n",
       "      <th>accuracy_RT</th>\n",
       "      <th>PAS</th>\n",
       "      <th>PAS_RT</th>\n",
       "    </tr>\n",
       "  </thead>\n",
       "  <tbody>\n",
       "    <tr>\n",
       "      <th>3429</th>\n",
       "      <td>dc1_19</td>\n",
       "      <td>low</td>\n",
       "      <td>dur1</td>\n",
       "      <td>0</td>\n",
       "      <td>565.8</td>\n",
       "      <td>1</td>\n",
       "      <td>845.8</td>\n",
       "    </tr>\n",
       "    <tr>\n",
       "      <th>3430</th>\n",
       "      <td>dc1_19</td>\n",
       "      <td>low</td>\n",
       "      <td>dur2</td>\n",
       "      <td>1</td>\n",
       "      <td>600.6</td>\n",
       "      <td>2</td>\n",
       "      <td>300.6</td>\n",
       "    </tr>\n",
       "    <tr>\n",
       "      <th>3431</th>\n",
       "      <td>dc1_19</td>\n",
       "      <td>low</td>\n",
       "      <td>dur1</td>\n",
       "      <td>1</td>\n",
       "      <td>402.3</td>\n",
       "      <td>1</td>\n",
       "      <td>363.8</td>\n",
       "    </tr>\n",
       "    <tr>\n",
       "      <th>3432</th>\n",
       "      <td>dc1_19</td>\n",
       "      <td>low</td>\n",
       "      <td>dur2</td>\n",
       "      <td>1</td>\n",
       "      <td>548.6</td>\n",
       "      <td>3</td>\n",
       "      <td>389.4</td>\n",
       "    </tr>\n",
       "    <tr>\n",
       "      <th>3433</th>\n",
       "      <td>dc1_19</td>\n",
       "      <td>low</td>\n",
       "      <td>dur2</td>\n",
       "      <td>1</td>\n",
       "      <td>389.3</td>\n",
       "      <td>3</td>\n",
       "      <td>1013.7</td>\n",
       "    </tr>\n",
       "  </tbody>\n",
       "</table>\n",
       "</div>"
      ],
      "text/plain": [
       "          ID task duration_type  accuracy  accuracy_RT  PAS  PAS_RT\n",
       "3429  dc1_19  low          dur1         0        565.8    1   845.8\n",
       "3430  dc1_19  low          dur2         1        600.6    2   300.6\n",
       "3431  dc1_19  low          dur1         1        402.3    1   363.8\n",
       "3432  dc1_19  low          dur2         1        548.6    3   389.4\n",
       "3433  dc1_19  low          dur2         1        389.3    3  1013.7"
      ]
     },
     "execution_count": 37,
     "metadata": {},
     "output_type": "execute_result"
    }
   ],
   "source": [
    "d19.head()"
   ]
  },
  {
   "cell_type": "markdown",
   "metadata": {},
   "source": [
    " "
   ]
  },
  {
   "cell_type": "markdown",
   "metadata": {},
   "source": [
    "<a href='#top' style='float: right; font-size: 13px;'>Do początku</a>  "
   ]
  },
  {
   "cell_type": "markdown",
   "metadata": {},
   "source": [
    "<a href='#top' style='float: right; font-size: 13px;'>Do początku</a>  "
   ]
  },
  {
   "cell_type": "markdown",
   "metadata": {},
   "source": [
    " "
   ]
  },
  {
   "cell_type": "markdown",
   "metadata": {},
   "source": [
    "<a href='#top' style='float: right; font-size: 13px;'>Do początku</a>  "
   ]
  },
  {
   "cell_type": "markdown",
   "metadata": {},
   "source": [
    " "
   ]
  },
  {
   "cell_type": "markdown",
   "metadata": {},
   "source": [
    "<a href='#top' style='float: right; font-size: 13px;'>Do początku</a>  "
   ]
  },
  {
   "cell_type": "markdown",
   "metadata": {},
   "source": [
    " "
   ]
  },
  {
   "cell_type": "markdown",
   "metadata": {},
   "source": [
    " "
   ]
  },
  {
   "cell_type": "markdown",
   "metadata": {},
   "source": [
    " "
   ]
  },
  {
   "cell_type": "code",
   "execution_count": 1,
   "metadata": {
    "collapsed": false
   },
   "outputs": [
    {
     "data": {
      "text/html": [
       "<style>\n",
       "@import url(http://fonts.googleapis.com/css?family=Titillium+Web:400,700,800,400italic&subset=latin-ext,latin);\n",
       "@import url(http://fonts.googleapis.com/css?family=Anonymous+Pro:400,700,800,400italic&subset=latin-ext,latin);\n",
       "\n",
       ".filename {\n",
       "    font-family: Titillium Web;\n",
       "    font-variant: small-caps;\n",
       "    letter-spacing: 0.1em;\n",
       "}\n",
       "\n",
       "b {\n",
       "    color: #cc0000;\n",
       "}\n",
       "\n",
       "em {\n",
       "    color:#0000cc;\n",
       "}\n",
       "\n",
       "ul {\n",
       "\tlist-style-type: square !important;\n",
       "}\n",
       "\n",
       ".rendered_html ul li {\n",
       "\tfont-size: 8px;\n",
       "}\n",
       "\n",
       "li span {\n",
       "\tfont-size: 14px;\n",
       "}\n",
       "\n",
       "/* tekst w markdown */\n",
       ".rendered_html {\n",
       "    font-family: Titillium Web, serif;\n",
       "    }\n",
       "\n",
       ".rendered_html p {\n",
       "    font-size: 16px;\n",
       "    text-align: justify;\n",
       "    text-decoration: none;\n",
       "    }\n",
       "\n",
       ".rendered_html :link {\n",
       "    text-decoration: none;\n",
       "    }\n",
       "\n",
       ".rendered_html :visited {\n",
       "    text-decoration: none;\n",
       "    }\n",
       "    \n",
       "/* tekst w code cell */\n",
       ".code_cell {\n",
       "    font-family: Anonymous Pro, monospace;\n",
       "    font-size: 14px;\n",
       "    }\n",
       "\n",
       "code, pre, .CodeMirror {\n",
       "    font-family: Anonymous Pro, monospace;\n",
       "    font-size: 14px;\n",
       "}\n",
       "\n",
       "</style>"
      ],
      "text/plain": [
       "<IPython.core.display.HTML object>"
      ]
     },
     "execution_count": 1,
     "metadata": {},
     "output_type": "execute_result"
    }
   ],
   "source": [
    "from IPython.core.display import HTML\n",
    "import urllib\n",
    "HTML(urllib.urlopen(\"https://raw.githubusercontent.com/mkoculak/hello_world/nowa/ipython.css\").read())"
   ]
  }
 ],
 "metadata": {
  "kernelspec": {
   "display_name": "Python 2",
   "language": "python",
   "name": "python2"
  },
  "language_info": {
   "codemirror_mode": {
    "name": "ipython",
    "version": 2
   },
   "file_extension": ".py",
   "mimetype": "text/x-python",
   "name": "python",
   "nbconvert_exporter": "python",
   "pygments_lexer": "ipython2",
   "version": "2.7.11"
  }
 },
 "nbformat": 4,
 "nbformat_minor": 0
}

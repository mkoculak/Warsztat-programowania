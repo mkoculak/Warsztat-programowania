{
 "cells": [
  {
   "cell_type": "markdown",
   "metadata": {},
   "source": [
    "# Warsztat 9 – Pandas - wprowadzenie<a id=top></a>"
   ]
  },
  {
   "cell_type": "markdown",
   "metadata": {},
   "source": [
    "<font size=2>Przed pracą z notatnikiem polecam wykonać kod w ostatniej komórce (zawiera html i css), dzięki czemu całość będzie bardziej estetyczna :)</font>"
   ]
  },
  {
   "cell_type": "markdown",
   "metadata": {},
   "source": [
    "<a href='#Warsztat-91---Pandas---wprowadzenie'>Warsztat 9</a>\n",
    "<ul>\n",
    "<li><a href='#'><span></span></a></li>\n",
    "<li><a href='#'><span></span></a></li>\n",
    "<li><a href='#'><span></span></a></li>\n",
    "<li><a href='#'><span></span></a></li>\n",
    "</ul>"
   ]
  },
  {
   "cell_type": "markdown",
   "metadata": {},
   "source": [
    " "
   ]
  },
  {
   "cell_type": "markdown",
   "metadata": {},
   "source": [
    "<img src=\"http://pandas.pydata.org/_static/pandas_logo.png\" width=40% height=40%>"
   ]
  },
  {
   "cell_type": "markdown",
   "metadata": {},
   "source": [
    "## Pakiet Pandas"
   ]
  },
  {
   "cell_type": "code",
   "execution_count": null,
   "metadata": {
    "collapsed": true
   },
   "outputs": [],
   "source": [
    "import pandas as pd\n",
    "import numpy as np\n",
    "import matplotlib.pyplot as plt\n",
    "plt.style.use('ggplot')\n",
    "%matplotlib inline"
   ]
  },
  {
   "cell_type": "markdown",
   "metadata": {},
   "source": [
    "<a href='#top' style='float: right; font-size: 13px;'>Do początku</a>  "
   ]
  },
  {
   "cell_type": "markdown",
   "metadata": {},
   "source": [
    " "
   ]
  },
  {
   "cell_type": "markdown",
   "metadata": {},
   "source": [
    "### Wczytanie danych"
   ]
  },
  {
   "cell_type": "markdown",
   "metadata": {},
   "source": [
    "Najczęściej będziemy posługiwać się plikami **.csv** oraz **.xlsx**, z których będziemy wczytywać uprzednio wydobyte dane oraz do których będziemy zapisywać wyniki naszej pracy.  \n",
    "Składnia dla obu typów plików jest analogiczna i sprowadza się do użycia funkcji <b>read_csv( )</b> oraz <b>read_excel( )</b>."
   ]
  },
  {
   "cell_type": "code",
   "execution_count": null,
   "metadata": {
    "collapsed": false
   },
   "outputs": [],
   "source": [
    "dane = pd.read_csv('pandas_data.csv')"
   ]
  },
  {
   "cell_type": "markdown",
   "metadata": {},
   "source": [
    "Najwygodniejszym sposobem podglądu danych będzie użycie metod <b>.head( )</b> i <b>.tail( )</b>, które pokażą nam odpowiednio początek i koniec naszej ramki."
   ]
  },
  {
   "cell_type": "code",
   "execution_count": null,
   "metadata": {
    "collapsed": false
   },
   "outputs": [],
   "source": [
    "dane.head()"
   ]
  },
  {
   "cell_type": "code",
   "execution_count": null,
   "metadata": {
    "collapsed": false
   },
   "outputs": [],
   "source": [
    "dane.tail(10)"
   ]
  },
  {
   "cell_type": "markdown",
   "metadata": {},
   "source": [
    "Dane wczytały się bez problemu, jednak mamy jedną niepotrzebną kolumnę na samym początku ramki. Zostały w niej zapisane indeksy poszczególnych wierszy arkusza danych. Możemy się go łatwo pozbyć, używając komendy <b>index_col=</b> i wskazując numer kolumny, w której zapisane są indeksy wierszy."
   ]
  },
  {
   "cell_type": "code",
   "execution_count": null,
   "metadata": {
    "collapsed": false
   },
   "outputs": [],
   "source": [
    "dane = pd.read_csv('pandas_data.csv', index_col=0)"
   ]
  },
  {
   "cell_type": "code",
   "execution_count": null,
   "metadata": {
    "collapsed": false
   },
   "outputs": [],
   "source": [
    "dane.head()"
   ]
  },
  {
   "cell_type": "markdown",
   "metadata": {},
   "source": [
    "Gdyby jednak niechciana kolumna zawierała zupełnie nieprzydatne dane, możemy posłużyć się slicingiem kolumn po indeksach, wykorzystując metodę <b>.ix</b>, aby móc operować na indeksach a nie nazwach kolumn.  \n",
    "Do wybierania elementów ramki będziemy używać nawiasów kwadratowych (podobnie jak w listach czy tablicach numpy)."
   ]
  },
  {
   "cell_type": "code",
   "execution_count": null,
   "metadata": {
    "collapsed": false
   },
   "outputs": [],
   "source": [
    "dane.ix[:,1:].head()"
   ]
  },
  {
   "cell_type": "markdown",
   "metadata": {},
   "source": [
    "<a href='#top' style='float: right; font-size: 13px;'>Do początku</a>  "
   ]
  },
  {
   "cell_type": "markdown",
   "metadata": {},
   "source": [
    " "
   ]
  },
  {
   "cell_type": "markdown",
   "metadata": {},
   "source": [
    "### Wybieranie danych "
   ]
  },
  {
   "cell_type": "markdown",
   "metadata": {},
   "source": [
    "Ramka zawiera bardzo wiele danych zebranych w trakcie eksperymentu. Zacznijmy od wybrania tylko tych, które mogą okazać się przydatne w analizie wyników. Najpierw wylistujemy sobie wszystkie nazwy kolumn, a następnie za ich pomocą stworzymy nową ramkę z mniejszą ilością danych."
   ]
  },
  {
   "cell_type": "code",
   "execution_count": null,
   "metadata": {
    "collapsed": false
   },
   "outputs": [],
   "source": [
    "dane.columns.values"
   ]
  },
  {
   "cell_type": "code",
   "execution_count": null,
   "metadata": {
    "collapsed": true
   },
   "outputs": [],
   "source": [
    "dane_small = dane[['ID','task','duration_type','accuracy','accuracy_RT','PAS','PAS_RT']]"
   ]
  },
  {
   "cell_type": "code",
   "execution_count": null,
   "metadata": {
    "collapsed": false
   },
   "outputs": [],
   "source": [
    "dane_small.head()"
   ]
  },
  {
   "cell_type": "markdown",
   "metadata": {},
   "source": [
    "Zanim zaczniemy pracować z całym zbiorem, wybierzmy dane dla jednej osoby badanej, na której będziemy testować kolejne kroki analizy danych.  \n",
    "Sprawdźmy najpierw, jakie osoby badane mamy dostępne."
   ]
  },
  {
   "cell_type": "code",
   "execution_count": null,
   "metadata": {
    "collapsed": false
   },
   "outputs": [],
   "source": [
    "osoby=dane_small.ID.unique()"
   ]
  },
  {
   "cell_type": "code",
   "execution_count": null,
   "metadata": {
    "collapsed": false
   },
   "outputs": [],
   "source": [
    "d19 = dane_small[dane_small.ID == 'dc1_19']"
   ]
  },
  {
   "cell_type": "code",
   "execution_count": null,
   "metadata": {
    "collapsed": false
   },
   "outputs": [],
   "source": [
    "d19.head()"
   ]
  },
  {
   "cell_type": "markdown",
   "metadata": {},
   "source": [
    "Spójrzmy najpierw na poprawność osoby nr 19. W tym celu wybierzmy z danych jedynie interesujące nas zmienne niezależne (typ zadania i czas prezentacji bodźca) oraz zmienną zależną (poprawność).  \n",
    "Następnym krokiem powinno być wyliczenie średniej poprawności dla każdej możliwej kombinacji zmiennych zależnych. Możemy to uzyskać grupując dane właśnie według zadania oraz czasu prezentacji bodźca. Posłuży nam do tego metoda <b>groupby( )</b>, której argumentem będzie kolumna (albo lista kolumn), wedle których nasze dane mają być pogrupowane."
   ]
  },
  {
   "cell_type": "code",
   "execution_count": null,
   "metadata": {
    "collapsed": false
   },
   "outputs": [],
   "source": [
    "d19[['task','duration_type','accuracy']].groupby(['task','duration_type'])"
   ]
  },
  {
   "cell_type": "markdown",
   "metadata": {},
   "source": [
    "Efektem działania tej metody jest specjalny obiekt, który przechowuje pogrupowane dane, jednak Python nie wie jeszcze, co ma z nimi zrobić. Żeby otrzymać sensowny wynik, musimy zaaplikować do danych interesującą nas funkcję. Pandas posiada sporo możliwych do użycia opcji, my wybieramy średnią (<b>.mean( )</b>)."
   ]
  },
  {
   "cell_type": "code",
   "execution_count": null,
   "metadata": {
    "collapsed": false
   },
   "outputs": [],
   "source": [
    "acc19 = d19[['task','duration_type','accuracy']].groupby(['task','duration_type']).mean()\n",
    "acc19"
   ]
  },
  {
   "cell_type": "markdown",
   "metadata": {},
   "source": [
    "Następnym krokiem będzie prosta wizualizacja wyników na wykresie liniowym. Pandas posiada interfejs do szybkiego tworzenia wykresów za pomocą biblioteki **matplotlib**, którą zaimportowaliśmy na samym początku tego warsztatu. Składnia jest bardzo prosta - na interesjącej nas ramce używamy metody <b>.plot()</b>."
   ]
  },
  {
   "cell_type": "code",
   "execution_count": null,
   "metadata": {
    "collapsed": false
   },
   "outputs": [],
   "source": [
    "acc19.plot()"
   ]
  },
  {
   "cell_type": "markdown",
   "metadata": {},
   "source": [
    "Otrzymujemy wykres zgodny z danymi, jednak taka wizualizacja nie może być satysfakcjonująca. Uczy nas jednak ważnej rzeczy, Pandas traktuje pojedynczą kolumnę jako jedną serię danych. My potrzebujemy osobnych linii dla każdego warunku zadania.  \n",
    "Zadanie zakodowane jest w indeksie danych. Żeby transponować je do kolumny, użyjemy metody <b>.unstack( )</b>, której argumentem będzie nazwa zmiennej indeksującej, którą chcemy przenieść."
   ]
  },
  {
   "cell_type": "code",
   "execution_count": null,
   "metadata": {
    "collapsed": false
   },
   "outputs": [],
   "source": [
    "acc19.stack().unstack('task')"
   ]
  },
  {
   "cell_type": "code",
   "execution_count": null,
   "metadata": {
    "collapsed": false
   },
   "outputs": [],
   "source": [
    "acc19.unstack('task').plot()"
   ]
  },
  {
   "cell_type": "markdown",
   "metadata": {},
   "source": [
    "Efekt jest zgodny z oczekiwanym.  \n",
    "Spróbujmy zwiększyć informacyjność wykresu wzbogacając go o słupki błędów. Jako miarę wybierzemy błąd standardowy, który obliczamy zgodnie ze wzorem: $$SE=\\frac{STD}{\\sqrt{N}}$$ gdzie:  \n",
    "SE = błąd standardowy  \n",
    "STD = odchylenie standardowe  \n",
    "N = ilość obserwacji"
   ]
  },
  {
   "cell_type": "markdown",
   "metadata": {},
   "source": [
    "Odchylenie standarodwe możemy obliczyć identycznym sposobem jak średnią."
   ]
  },
  {
   "cell_type": "code",
   "execution_count": null,
   "metadata": {
    "collapsed": true
   },
   "outputs": [],
   "source": [
    "std19 = d19[['task','duration_type','accuracy']].groupby(['task','duration_type']).std()"
   ]
  },
  {
   "cell_type": "markdown",
   "metadata": {},
   "source": [
    "Podobnie jest z liczbą obserwacji, którą uzyskamy dzięki metodzie **.count()**."
   ]
  },
  {
   "cell_type": "code",
   "execution_count": null,
   "metadata": {
    "collapsed": false
   },
   "outputs": [],
   "source": [
    "n19 = d19[['task','duration_type','accuracy']].groupby(['task','duration_type']).count()"
   ]
  },
  {
   "cell_type": "markdown",
   "metadata": {},
   "source": [
    "Teraz możemy już wyliczyć błąd standardowy według wzoru."
   ]
  },
  {
   "cell_type": "code",
   "execution_count": null,
   "metadata": {
    "collapsed": false
   },
   "outputs": [],
   "source": [
    "err19 = std19 / np.sqrt(n19)\n",
    "err19 = err19.unstack('task')"
   ]
  },
  {
   "cell_type": "code",
   "execution_count": null,
   "metadata": {
    "collapsed": false
   },
   "outputs": [],
   "source": [
    "err19"
   ]
  },
  {
   "cell_type": "markdown",
   "metadata": {},
   "source": [
    "Dane wprowadzamy na wykres jako parametr metody **.plot()**. Należy przy tym pamiętać, że wymiary ramek (w naszym przypadku średniej i błędu standardowego) powinny być ze sobą zgodne, jeśli całość ma nie doprowadzić do błędu."
   ]
  },
  {
   "cell_type": "code",
   "execution_count": null,
   "metadata": {
    "collapsed": false
   },
   "outputs": [],
   "source": [
    "acc19.unstack('task').plot(yerr=err19)"
   ]
  },
  {
   "cell_type": "markdown",
   "metadata": {},
   "source": [
    " "
   ]
  },
  {
   "cell_type": "markdown",
   "metadata": {},
   "source": [
    "Ostatnim krokiem będzie wykorzystanie opcji interaktywnych Jupytera do automatyzacji procesu inspekcji danych poszczególnych osób.  \n",
    "Będziemy chcieli stworzyć wykres, który pozwoli nam przejrzeć wyniki każdej osoby bez potrzeby pisania nowego kodu czy zmiany tego już istniejącego. Najpierw wybierzmy mniejszą ramkę z danymi o poprawności dla wszystkich osób badanych."
   ]
  },
  {
   "cell_type": "code",
   "execution_count": null,
   "metadata": {
    "collapsed": false
   },
   "outputs": [],
   "source": [
    "graph = dane_small[['ID','task','duration_type','accuracy']]"
   ]
  },
  {
   "cell_type": "markdown",
   "metadata": {},
   "source": [
    "Następnie tworzymy funkcję, która będzie dla nas rysować wykres poprawności dla każdej długości bodźca i warunku zadania. Funkcja ta niech przyjmuje jeden argument - kod osoby badanej."
   ]
  },
  {
   "cell_type": "code",
   "execution_count": null,
   "metadata": {
    "collapsed": false
   },
   "outputs": [],
   "source": [
    "def func(k):\n",
    "    subset = graph[graph.ID == k]\n",
    "    mean = subset.groupby(['task','duration_type']).mean()\n",
    "    err = subset.groupby(['task','duration_type']).std() / np.sqrt(subset.groupby(['task','duration_type']).count())\n",
    "    wykres = mean.stack().unstack('task').plot(yerr = err.stack().unstack('task'))\n",
    "    \n",
    "    #trochę ustawień poprawiających estetykę\n",
    "    wykres.set_title('Poprawnosc wykonania zadania')\n",
    "    wykres.set_xlim(-0.25,3.25)\n",
    "    wykres.set_xlabel(\"Dlugosc bodzca\")\n",
    "    wykres.set_xticklabels(('','12 ms','','50 ms','','82 ms','','153 ms'))\n",
    "    wykres.set_ylabel(\"Srednia poprawnosc\")"
   ]
  },
  {
   "cell_type": "markdown",
   "metadata": {},
   "source": [
    "Przetestujmy, czy funkcja spełnia powierzone jej zadanie."
   ]
  },
  {
   "cell_type": "code",
   "execution_count": null,
   "metadata": {
    "collapsed": false
   },
   "outputs": [],
   "source": [
    "func('dc1_19')"
   ]
  },
  {
   "cell_type": "markdown",
   "metadata": {},
   "source": [
    "Następnie musimy zaimportować funkcję <b>interact</b> ze zbioru widget'ów IPythona. Następnie użyjemy tej funkcji podając jej dwa argumenty: funkcję rysującą wykres oraz listę wszystkich kodów osób badanych."
   ]
  },
  {
   "cell_type": "code",
   "execution_count": null,
   "metadata": {
    "collapsed": true
   },
   "outputs": [],
   "source": [
    "from ipywidgets import interact"
   ]
  },
  {
   "cell_type": "code",
   "execution_count": null,
   "metadata": {
    "collapsed": false
   },
   "outputs": [],
   "source": [
    "interact(func,k=list(osoby))"
   ]
  },
  {
   "cell_type": "markdown",
   "metadata": {},
   "source": [
    "Jak widzimy, otrzymujemy interaktywne okno z rozwijaną listą, z której możemy wybrać osobę badaną a Jupyter sam przeliczy dane i wyświetli nam wynik dla tej konkretnej osoby."
   ]
  },
  {
   "cell_type": "markdown",
   "metadata": {},
   "source": [
    "<a href='#top' style='float: right; font-size: 13px;'>Do początku</a>  "
   ]
  },
  {
   "cell_type": "markdown",
   "metadata": {},
   "source": [
    " "
   ]
  },
  {
   "cell_type": "markdown",
   "metadata": {},
   "source": [
    "## Analiza grupowa"
   ]
  },
  {
   "cell_type": "markdown",
   "metadata": {},
   "source": [
    "Skoro mamy już pewne pojęcie o manipulacji danymi w ramkach, możemy przejść do analizowania całego zbioru danych.  \n",
    "Pierwszym krokiem niech będzie przejrzenie wyników poszczególnych osób badanych w celu wyłapania przypadków odstających."
   ]
  },
  {
   "cell_type": "code",
   "execution_count": null,
   "metadata": {
    "collapsed": false
   },
   "outputs": [],
   "source": [
    "acc_sort = dane[[\"ID\",\"accuracy\"]].groupby(\"ID\").mean().sort_values('accuracy').reset_index().reset_index()\n",
    "acc_sort.plot(kind='scatter',x=\"index\", y='accuracy', figsize=(15,5))\n",
    "plt.tight_layout"
   ]
  },
  {
   "cell_type": "markdown",
   "metadata": {},
   "source": [
    "To samo możemy przeprowadzić dla oceny na skali PAS."
   ]
  },
  {
   "cell_type": "code",
   "execution_count": null,
   "metadata": {
    "collapsed": false,
    "scrolled": true
   },
   "outputs": [],
   "source": [
    "pas_sort = dane[[\"ID\",\"PAS\"]].groupby(\"ID\").mean().sort_values('PAS').reset_index().reset_index()\n",
    "pas_sort.plot(kind='scatter',x=\"index\", y='PAS', figsize=(15,5))\n",
    "plt.tight_layout"
   ]
  },
  {
   "cell_type": "markdown",
   "metadata": {},
   "source": [
    "Spróbujmy dołożyć do tego miarę **d'**."
   ]
  },
  {
   "cell_type": "code",
   "execution_count": null,
   "metadata": {
    "collapsed": true
   },
   "outputs": [],
   "source": [
    "def mojdprime(row):\n",
    "    return dprime_mAFC(row,2)\n",
    "\n",
    "acc_sort['dprime']=0\n",
    "acc_sort['dprime']=acc_sort['accuracy'].apply(mojdprime)"
   ]
  },
  {
   "cell_type": "code",
   "execution_count": null,
   "metadata": {
    "collapsed": false
   },
   "outputs": [],
   "source": [
    "acc_sort"
   ]
  },
  {
   "cell_type": "code",
   "execution_count": null,
   "metadata": {
    "collapsed": false
   },
   "outputs": [],
   "source": [
    "acc_sort.plot(kind='scatter',x=\"index\", y='dprime', figsize=(15,5))\n",
    "plt.tight_layout"
   ]
  },
  {
   "cell_type": "markdown",
   "metadata": {},
   "source": [
    "<a href='#top' style='float: right; font-size: 13px;'>Do początku</a>  "
   ]
  },
  {
   "cell_type": "markdown",
   "metadata": {},
   "source": [
    " "
   ]
  },
  {
   "cell_type": "markdown",
   "metadata": {},
   "source": [
    "### Wykresy grupowe"
   ]
  },
  {
   "cell_type": "markdown",
   "metadata": {},
   "source": [
    "Przyjrzyjmy się rozkładom odpowiedzi PAS w zależności od zadania i długości prezentacji bodźca (warto to sprawdzić, żeby wiedzieć, czy osoby badane mają wystarczająco dużo prób w każdym warunku aby można było przeprowadzić analizę na danych EEG czy fMRI)."
   ]
  },
  {
   "cell_type": "code",
   "execution_count": null,
   "metadata": {
    "collapsed": false
   },
   "outputs": [],
   "source": [
    "def tabela_pas(n):\n",
    "    nowa=dane[dane.accuracy==1].groupby(['ID','PAS','task'])['PAS'].count()\n",
    "    return nowa[nowa>=n].unstack().unstack().fillna('')\n",
    "interact(tabela_pas, n=(2,50))"
   ]
  },
  {
   "cell_type": "markdown",
   "metadata": {},
   "source": [
    "### Wykres Accuracy / Duration"
   ]
  },
  {
   "cell_type": "code",
   "execution_count": null,
   "metadata": {
    "collapsed": false
   },
   "outputs": [],
   "source": [
    "dane1 = dane_small[['ID','task','duration_type','accuracy']]\n",
    "print dane1.groupby(['ID','task','duration_type']).mean().unstack(['task','duration_type']).mean().unstack('task')\n",
    "\n",
    "acc_std=dane1.groupby(['ID','task','duration_type']).mean().unstack(['task','duration_type']).std().unstack('task')\n",
    "acc_n1=(dane1.groupby(['ID','task','duration_type']).mean().unstack(['task','duration_type']).count().unstack('task')+1).apply(np.sqrt)\n",
    "acc_se=acc_std/acc_n1\n",
    "print acc_se\n",
    "\n",
    "acc_plot=dane1.groupby(['ID','task','duration_type']).mean().unstack(['task','duration_type']).mean().unstack('task').plot(yerr=acc_se, figsize=(15,10))\n",
    "acc_plot.set_xlim(-0.25,3.25)\n",
    "acc_plot.set_xticks([0,1,2,3])\n",
    "acc_plot.set_xticklabels(('12 ms','50 ms','82 ms','153 ms'))\n",
    "acc_plot.tick_params(axis='both', which='major', labelsize=12)\n",
    "acc_plot.set_xlabel('Duration', fontsize=16)\n",
    "acc_plot.set_ylabel('Accuracy', fontsize=16)\n",
    "#plt.savefig('new_pic/acc_clean_group.png')"
   ]
  },
  {
   "cell_type": "markdown",
   "metadata": {},
   "source": [
    "### Wykres PAS / Duration"
   ]
  },
  {
   "cell_type": "code",
   "execution_count": null,
   "metadata": {
    "collapsed": false
   },
   "outputs": [],
   "source": [
    "dane2 = dane_small[['ID','task','duration_type','PAS']]\n",
    "print dane2.groupby(['ID','task','duration_type']).mean().unstack(['task','duration_type']).mean().unstack('task')\n",
    "\n",
    "acc_std=dane2.groupby(['ID','task','duration_type']).mean().unstack(['task','duration_type']).std().unstack('task')\n",
    "acc_n1=(dane2.groupby(['ID','task','duration_type']).mean().unstack(['task','duration_type']).count().unstack('task')+1).apply(np.sqrt)\n",
    "acc_se=acc_std/acc_n1\n",
    "print acc_se\n",
    "\n",
    "acc_plot=dane2.groupby(['ID','task','duration_type']).mean().unstack(['task','duration_type']).mean().unstack('task').plot(yerr=acc_se, figsize=(15,10))\n",
    "acc_plot.set_xlim(-0.25,3.25)\n",
    "acc_plot.set_xticks([0,1,2,3])\n",
    "acc_plot.set_xticklabels(('12 ms','50 ms','82 ms','153 ms'))\n",
    "acc_plot.tick_params(axis='both', which='major', labelsize=12)\n",
    "acc_plot.set_xlabel('Duration', fontsize=16)\n",
    "acc_plot.set_ylabel('Accuracy', fontsize=16)\n",
    "#plt.savefig('new_pic/acc_clean_group.png')"
   ]
  },
  {
   "cell_type": "markdown",
   "metadata": {},
   "source": [
    "<a href='#top' style='float: right; font-size: 13px;'>Do początku</a>  "
   ]
  },
  {
   "cell_type": "markdown",
   "metadata": {},
   "source": [
    " "
   ]
  },
  {
   "cell_type": "markdown",
   "metadata": {},
   "source": [
    " "
   ]
  },
  {
   "cell_type": "markdown",
   "metadata": {},
   "source": [
    " "
   ]
  },
  {
   "cell_type": "code",
   "execution_count": null,
   "metadata": {
    "collapsed": true
   },
   "outputs": [],
   "source": [
    "from scipy.stats import norm\n",
    "from scipy.integrate import quad\n",
    "from scipy.special import erf, erfinv\n",
    "from scipy import Inf\n",
    "import numpy, scipy\n",
    "from numpy import exp, log, log10, sign, sqrt\n",
    "#from numpy.lib.scimath import logn #log with arbitrary base\n",
    "\n",
    "\n",
    "\n",
    "\n",
    "def dprime_mAFC(Pc, m):\n",
    "    \"\"\"\n",
    "    Compute d' corresponding to a certain proportion of correct\n",
    "    responses in m-AFC tasks.\n",
    "    Parameters\n",
    "    ----------\n",
    "    Pc : float\n",
    "        Proportion of correct responses.\n",
    "    m : int\n",
    "        Number of alternatives.\n",
    "    Returns\n",
    "    -------\n",
    "    dprime : float\n",
    "        d' value\n",
    "    Examples\n",
    "    --------\n",
    "    >>> dp = dprime_mAFC(0.7, 3)\n",
    "    \"\"\"\n",
    "\n",
    "    if Pc < 0 or Pc > 1:\n",
    "        raise ValueError(\"Pc must be between 0 and 1\")\n",
    "    if isinstance(m, int) == False:\n",
    "        raise TypeError(\"m must be an int\")\n",
    "    \n",
    "    def est_dp(dp):\n",
    "\n",
    "        def pr(x):\n",
    "            return (norm.pdf(x-dp) * (norm.cdf(x)**(m-1)))\n",
    "        \n",
    "        return (Pc - quad(pr, -Inf, Inf)[0])\n",
    "    try:\n",
    "        dprime = scipy.optimize.brentq(est_dp, -10, 10)#scipy.optimize.newton(est_dp, 1)\n",
    "    except:\n",
    "        dprime = numpy.nan\n",
    "    \n",
    "    return dprime"
   ]
  },
  {
   "cell_type": "code",
   "execution_count": 1,
   "metadata": {
    "collapsed": false
   },
   "outputs": [
    {
     "data": {
      "text/html": [
       "<style>\n",
       "@import url(http://fonts.googleapis.com/css?family=Titillium+Web:400,700,800,400italic&subset=latin-ext,latin);\n",
       "@import url(http://fonts.googleapis.com/css?family=Anonymous+Pro:400,700,800,400italic&subset=latin-ext,latin);\n",
       "\n",
       ".filename {\n",
       "    font-family: Titillium Web;\n",
       "    font-variant: small-caps;\n",
       "    letter-spacing: 0.1em;\n",
       "}\n",
       "\n",
       "b {\n",
       "    color: #cc0000;\n",
       "}\n",
       "\n",
       "em {\n",
       "    color:#0000cc;\n",
       "}\n",
       "\n",
       "ul {\n",
       "\tlist-style-type: square !important;\n",
       "}\n",
       "\n",
       ".rendered_html ul li {\n",
       "\tfont-size: 8px;\n",
       "}\n",
       "\n",
       "li span {\n",
       "\tfont-size: 14px;\n",
       "}\n",
       "\n",
       "/* tekst w markdown */\n",
       ".rendered_html {\n",
       "    font-family: Titillium Web, serif;\n",
       "    }\n",
       "\n",
       ".rendered_html p {\n",
       "    font-size: 16px;\n",
       "    text-align: justify;\n",
       "    text-decoration: none;\n",
       "    }\n",
       "\n",
       ".rendered_html :link {\n",
       "    text-decoration: none;\n",
       "    }\n",
       "\n",
       ".rendered_html :visited {\n",
       "    text-decoration: none;\n",
       "    }\n",
       "    \n",
       "/* tekst w code cell */\n",
       ".code_cell {\n",
       "    font-family: Anonymous Pro, monospace;\n",
       "    font-size: 14px;\n",
       "    }\n",
       "\n",
       "code, pre, .CodeMirror {\n",
       "    font-family: Anonymous Pro, monospace;\n",
       "    font-size: 14px;\n",
       "}\n",
       "\n",
       "</style>"
      ],
      "text/plain": [
       "<IPython.core.display.HTML object>"
      ]
     },
     "execution_count": 1,
     "metadata": {},
     "output_type": "execute_result"
    }
   ],
   "source": [
    "from IPython.core.display import HTML\n",
    "import urllib\n",
    "HTML(urllib.urlopen(\"https://raw.githubusercontent.com/mkoculak/hello_world/nowa/ipython.css\").read())"
   ]
  }
 ],
 "metadata": {
  "kernelspec": {
   "display_name": "Python 2",
   "language": "python",
   "name": "python2"
  },
  "language_info": {
   "codemirror_mode": {
    "name": "ipython",
    "version": 2
   },
   "file_extension": ".py",
   "mimetype": "text/x-python",
   "name": "python",
   "nbconvert_exporter": "python",
   "pygments_lexer": "ipython2",
   "version": "2.7.11"
  }
 },
 "nbformat": 4,
 "nbformat_minor": 0
}
